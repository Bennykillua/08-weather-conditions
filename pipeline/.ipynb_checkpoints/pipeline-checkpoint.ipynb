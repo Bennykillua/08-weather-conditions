{
 "cells": [
  {
   "cell_type": "markdown",
   "metadata": {},
   "source": [
    "# This pipeline is meant to be run on a kubernetes cluster only, Do not run on your local machine directly to avoid causing complications in your development environment"
   ]
  },
  {
   "cell_type": "markdown",
   "metadata": {},
   "source": [
    "# Import the needed libraries"
   ]
  },
  {
   "cell_type": "markdown",
   "metadata": {},
   "source": [
    "### Run this notebook on  a kubernetes cluster  using minikube, multipass virutal machine with microk8s installed (on laptop or personal computer)  or a cloud native kubernetes engine"
   ]
  },
  {
   "cell_type": "code",
   "execution_count": 1,
   "metadata": {
    "ExecuteTime": {
     "end_time": "2020-10-15T15:03:57.269432Z",
     "start_time": "2020-10-15T15:03:57.250427Z"
    }
   },
   "outputs": [],
   "source": [
    "!python -m pip install --user --upgrade pip\n",
    "\n",
    "!pip3 install pandas==0.24.2 matplotlib==3.2.2 scipy==1.4.1 statsmodels==0.12.0 scikit-learn==0.23.1 tensorflow==2.1.0 keras==2.3.1 --user"
   ]
  },
  {
   "cell_type": "code",
   "execution_count": null,
   "metadata": {},
   "outputs": [],
   "source": [
    "!pip3 install kfp --upgrade --user"
   ]
  },
  {
   "cell_type": "code",
   "execution_count": 7,
   "metadata": {
    "ExecuteTime": {
     "end_time": "2020-10-15T15:35:58.834213Z",
     "start_time": "2020-10-15T15:35:58.825201Z"
    }
   },
   "outputs": [],
   "source": [
    "#Check if the install was successful\n",
    "\n",
    "!which dsl-compile"
   ]
  },
  {
   "cell_type": "markdown",
   "metadata": {},
   "source": [
    "# Build the components"
   ]
  },
  {
   "cell_type": "code",
   "execution_count": 1,
   "metadata": {
    "ExecuteTime": {
     "end_time": "2020-10-16T19:34:15.338689Z",
     "start_time": "2020-10-16T19:33:41.456997Z"
    }
   },
   "outputs": [],
   "source": [
    "# Import Kubeflow SDK\n",
    "import kfp\n",
    "import kfp.dsl as dsl\n",
    "import kfp.components as comp\n",
    "\n",
    "# where the outputs are stored\n",
    "data_path = \"pipe_data\""
   ]
  },
  {
   "cell_type": "markdown",
   "metadata": {},
   "source": [
    "# Data Injestion"
   ]
  },
  {
   "cell_type": "code",
   "execution_count": 6,
   "metadata": {
    "ExecuteTime": {
     "end_time": "2020-10-16T19:43:56.222397Z",
     "start_time": "2020-10-16T19:43:56.160404Z"
    }
   },
   "outputs": [],
   "source": [
    "def data_injestion(data_path):\n",
    "    import pickle\n",
    "    import sys, subprocess;\n",
    "    subprocess.run([sys.executable, '-m', 'pip', 'install', 'pandas==0.24.2'])\n",
    "\n",
    "    import pandas as pd\n",
    "    \n",
    "    df_weather = pd.read_csv(\"https://raw.githubusercontent.com/Chizzy-codes/08-weather-conditions/master/data/Cleanedweathersummary.csv\")\n",
    "  \n",
    "    #Save the injested data as a pickle file to be used by the data tranformation component.\n",
    "    with open(f'{data_path}/inj_data', 'wb') as f:\n",
    "        pickle.dump(df_weather, f)"
   ]
  },
  {
   "cell_type": "code",
   "execution_count": 7,
   "metadata": {
    "ExecuteTime": {
     "end_time": "2020-10-16T19:44:14.996331Z",
     "start_time": "2020-10-16T19:43:57.578757Z"
    }
   },
   "outputs": [
    {
     "name": "stderr",
     "output_type": "stream",
     "text": [
      "C:\\Users\\Chizurum_Olorondu\\AppData\\Roaming\\Python\\Python37\\site-packages\\IPython\\core\\interactiveshell.py:3249: DtypeWarning: Columns (0,2,6) have mixed types. Specify dtype option on import or set low_memory=False.\n",
      "  if (await self.run_code(code, result,  async_=asy)):\n"
     ]
    }
   ],
   "source": [
    "idata = data_injestion(data_path)"
   ]
  },
  {
   "cell_type": "markdown",
   "metadata": {},
   "source": [
    "# Data Transformation"
   ]
  },
  {
   "cell_type": "code",
   "execution_count": 8,
   "metadata": {
    "ExecuteTime": {
     "end_time": "2020-10-16T19:44:50.510124Z",
     "start_time": "2020-10-16T19:44:50.448628Z"
    },
    "scrolled": true
   },
   "outputs": [],
   "source": [
    "def data_transformation(data_path):\n",
    "    \n",
    "    import sys, subprocess;\n",
    "    subprocess.run([sys.executable, '-m', 'pip', 'install', 'pandas==0.24.2'])\n",
    "    subprocess.run([sys.executable, '-m', 'pip', 'install', 'scikit-learn==0.23.1'])\n",
    "    \n",
    "    from math import sqrt\n",
    "    from numpy import concatenate\n",
    "    from pandas import read_csv, DataFrame, concat\n",
    "    from sklearn.preprocessing import MinMaxScaler, LabelEncoder\n",
    "    from sklearn.metrics import mean_squared_error\n",
    "\n",
    "    import pandas as pd\n",
    "    import numpy as np\n",
    "    \n",
    "    import pickle\n",
    "\n",
    "    \n",
    "    # Load and unpack the test_data\n",
    "    with open(f'{data_path}/inj_data','rb') as f:\n",
    "        data = pickle.load(f)\n",
    "    df_weather = data\n",
    "    df_weather.drop(['YR','MO','DA'], axis=1,inplace = True)\n",
    "\n",
    "    from datetime import datetime\n",
    "    df_weather['datetime'] = pd.to_datetime(df_weather['Date'])\n",
    "    # setting STA as the index to select APAPA weather station \n",
    "    df_weather = df_weather.set_index('STA')\n",
    "    df_weather.drop(['Date'], axis=1, inplace=True)\n",
    "\n",
    "    df_weather = df_weather.loc['30001']\n",
    "    df_weather = df_weather.set_index('datetime')\n",
    "\n",
    "    df_weather.drop(['Snowfall','PoorWeather','Precip'], axis=1,inplace = True)\n",
    "\n",
    "    n_obs = 7\n",
    "    X_train, X_test = df_weather[0:-n_obs], df_weather[-n_obs:]\n",
    "    # Check size\n",
    "    print(X_train.shape)\n",
    "    print(X_test.shape)\n",
    "\n",
    "\n",
    "    # convert series to supervised learning\n",
    "    def series_to_supervised(data, n_in=1, n_out=1, dropnan=True):\n",
    "        n_vars = 1 if type(data) is list else data.shape[1]\n",
    "        df = DataFrame(data)\n",
    "        cols, names = list(), list()\n",
    "        # input sequence (t-n, ... t-1)\n",
    "        for i in range(n_in, 0, -1):\n",
    "            cols.append(df.shift(i))\n",
    "            names += [('var%d(t-%d)' % (j+1, i)) for j in range(n_vars)]\n",
    "        # forecast sequence (t, t+1, ... t+n)\n",
    "        for i in range(0, n_out):\n",
    "            cols.append(df.shift(-i))\n",
    "            if i == 0:\n",
    "                names += [('var%d(t)' % (j+1)) for j in range(n_vars)]\n",
    "            else:\n",
    "                names += [('var%d(t+%d)' % (j+1, i)) for j in range(n_vars)]\n",
    "        # put it all together\n",
    "        agg = concat(cols, axis=1)\n",
    "        agg.columns = names\n",
    "        # drop rows with NaN values\n",
    "        if dropnan:\n",
    "            agg.dropna(inplace=True)\n",
    "        return agg\n",
    "\n",
    "\n",
    "    values = df_weather.values\n",
    "    values = values.astype(\"float32\")\n",
    "\n",
    "    # normalize features\n",
    "    scaler = MinMaxScaler(feature_range=(0, 1))\n",
    "    scaled = scaler.fit_transform(values)\n",
    "\n",
    "    # frame as supervised learning\n",
    "    reframed = series_to_supervised(scaled, 1, 1)\n",
    "\n",
    "    #Splitting values into train and test sets \n",
    "    n_obs1=14\n",
    "    n_obs=7\n",
    "    values_r = reframed.values\n",
    "    train = values_r[:-n_obs1,:]\n",
    "    val =values_r[-n_obs1:-n_obs,:]\n",
    "    test =values_r[-n_obs:,:]\n",
    "\n",
    "    # split into input and outputs\n",
    "    train_X, train_y = train[:, :-3], train[:, -3:]\n",
    "    val_X, val_y = val[:, :-3], val[:, -3:]\n",
    "    test_X, test_y = test[:, :-3], test[:, -3:]\n",
    "\n",
    "    # reshape input to be 3D [samples, timesteps, features] for LSTM algorithms \n",
    "    train_X = train_X.reshape((train_X.shape[0], 1, train_X.shape[1]))\n",
    "    test_X = test_X.reshape((test_X.shape[0], 1, test_X.shape[1]))\n",
    "    val_X = val_X.reshape((val_X.shape[0], 1, val_X.shape[1]))\n",
    "    print(train_X.shape, train_y.shape, test_X.shape, test_y.shape,val_X.shape,val_y.shape)\n",
    "    \n",
    "    \n",
    "    #Save the preprocessed data as a pickle file to be used by the model component.\n",
    "    with open(f'{data_path}/preprocessed_data', 'wb') as f:\n",
    "        pickle.dump((train_X, train_y, test_X, test_y, val_X, val_y, values, X_test), f)"
   ]
  },
  {
   "cell_type": "code",
   "execution_count": 9,
   "metadata": {
    "ExecuteTime": {
     "end_time": "2020-10-16T19:44:52.154513Z",
     "start_time": "2020-10-16T19:44:51.611162Z"
    }
   },
   "outputs": [
    {
     "name": "stdout",
     "output_type": "stream",
     "text": [
      "(515, 3)\n",
      "(7, 3)\n",
      "(507, 1, 3) (507, 3) (7, 1, 3) (7, 3) (7, 1, 3) (7, 3)\n"
     ]
    }
   ],
   "source": [
    "new_data = data_transformation(data_path)"
   ]
  },
  {
   "cell_type": "markdown",
   "metadata": {},
   "source": [
    "# Model Building and Training"
   ]
  },
  {
   "cell_type": "code",
   "execution_count": 10,
   "metadata": {
    "ExecuteTime": {
     "end_time": "2020-10-16T19:44:54.261847Z",
     "start_time": "2020-10-16T19:44:54.215842Z"
    }
   },
   "outputs": [],
   "source": [
    "def train(data_path):\n",
    "    import sys, subprocess;\n",
    "    subprocess.run([sys.executable, '-m', 'pip', 'install', 'pandas==0.24.2'])\n",
    "    subprocess.run([sys.executable, '-m', 'pip', 'install', 'scikit-learn==0.23.1'])\n",
    "    subprocess.run([sys.executable, '-m', 'pip', 'install', 'keras==2.3.1'])\n",
    "    \n",
    "    import pickle\n",
    "    import pandas as pd\n",
    "    from math import sqrt\n",
    "    from numpy import concatenate\n",
    "    from pandas import read_csv, DataFrame, concat\n",
    "    from sklearn.preprocessing import MinMaxScaler, LabelEncoder\n",
    "\n",
    "    from keras.models import Sequential\n",
    "    from keras.layers import Dense, LSTM, Bidirectional, Dropout\n",
    "    \n",
    "    with open(f'{data_path}/preprocessed_data','rb') as f:\n",
    "        data = pickle.load(f)\n",
    "        \n",
    "    train_X, train_y, test_X, test_y, val_X, val_y, values, X_test = data\n",
    "    \n",
    "    #model creation\n",
    "    model = Sequential()\n",
    "    model.add(Bidirectional(LSTM(50, input_shape=(train_X.shape[1], train_X.shape[2]))))\n",
    "    model.add(Dropout(rate=0.5))\n",
    "    model.add(Dense(3))\n",
    "    model.compile(loss='mae', optimizer='adam')\n",
    "    \n",
    "    #Fitting the model\n",
    "    history = model.fit(train_X, train_y, epochs=50, batch_size=30, validation_data=(val_X, val_y), verbose=2, shuffle=False)\n",
    "    \n",
    "    #Save the model to the designated \n",
    "    model.save(f'{data_path}/model')\n",
    "    \n",
    "    # make a prediction\n",
    "    forecast = model.predict(test_X)\n",
    "    \n",
    "    # invert scaling for forecast\n",
    "    test_X = test_X.reshape((test_X.shape[0], test_X.shape[2]))\n",
    "    \n",
    "    scaler = MinMaxScaler(feature_range=(0, 1))\n",
    "    scaler.fit(values)\n",
    "    \n",
    "    inv_forecast = scaler.inverse_transform(forecast)\n",
    "    forecast_df= pd.DataFrame(inv_forecast,columns=[\"MaxTemp\",\"MinTemp\",\"MeanTemp\"])\n",
    "    forecast_df.set_index(X_test.index,inplace=True)\n",
    "    \n",
    "    true_values= scaler.inverse_transform(test_y)\n",
    "    true_df= pd.DataFrame(true_values,columns=[\"MaxTemp\",\"MinTemp\",\"MeanTemp\"])\n",
    "    true_df.set_index(X_test.index,inplace=True)\n",
    "    \n",
    "    with open(f'{data_path}/final_data', 'wb') as f:\n",
    "        pickle.dump((forecast_df, true_df), f)"
   ]
  },
  {
   "cell_type": "code",
   "execution_count": 11,
   "metadata": {
    "ExecuteTime": {
     "end_time": "2020-10-16T19:45:43.321331Z",
     "start_time": "2020-10-16T19:44:56.027689Z"
    },
    "scrolled": true
   },
   "outputs": [
    {
     "name": "stdout",
     "output_type": "stream",
     "text": [
      "Train on 507 samples, validate on 7 samples\n",
      "Epoch 1/50\n",
      " - 7s - loss: 0.4694 - val_loss: 0.4844\n",
      "Epoch 2/50\n",
      " - 0s - loss: 0.3345 - val_loss: 0.3031\n",
      "Epoch 3/50\n",
      " - 0s - loss: 0.1877 - val_loss: 0.1350\n",
      "Epoch 4/50\n",
      " - 0s - loss: 0.1297 - val_loss: 0.1185\n",
      "Epoch 5/50\n",
      " - 0s - loss: 0.1236 - val_loss: 0.1136\n",
      "Epoch 6/50\n",
      " - 0s - loss: 0.1232 - val_loss: 0.1080\n",
      "Epoch 7/50\n",
      " - 0s - loss: 0.1275 - val_loss: 0.1071\n",
      "Epoch 8/50\n",
      " - 0s - loss: 0.1271 - val_loss: 0.1097\n",
      "Epoch 9/50\n",
      " - 0s - loss: 0.1183 - val_loss: 0.1076\n",
      "Epoch 10/50\n",
      " - 0s - loss: 0.1207 - val_loss: 0.1097\n",
      "Epoch 11/50\n",
      " - 0s - loss: 0.1164 - val_loss: 0.1070\n",
      "Epoch 12/50\n",
      " - 0s - loss: 0.1193 - val_loss: 0.1059\n",
      "Epoch 13/50\n",
      " - 0s - loss: 0.1195 - val_loss: 0.1061\n",
      "Epoch 14/50\n",
      " - 0s - loss: 0.1163 - val_loss: 0.1059\n",
      "Epoch 15/50\n",
      " - 0s - loss: 0.1178 - val_loss: 0.1061\n",
      "Epoch 16/50\n",
      " - 0s - loss: 0.1181 - val_loss: 0.1096\n",
      "Epoch 17/50\n",
      " - 0s - loss: 0.1164 - val_loss: 0.1072\n",
      "Epoch 18/50\n",
      " - 0s - loss: 0.1143 - val_loss: 0.1055\n",
      "Epoch 19/50\n",
      " - 0s - loss: 0.1172 - val_loss: 0.1047\n",
      "Epoch 20/50\n",
      " - 0s - loss: 0.1153 - val_loss: 0.1050\n",
      "Epoch 21/50\n",
      " - 0s - loss: 0.1148 - val_loss: 0.1039\n",
      "Epoch 22/50\n",
      " - 0s - loss: 0.1138 - val_loss: 0.1048\n",
      "Epoch 23/50\n",
      " - 0s - loss: 0.1099 - val_loss: 0.1056\n",
      "Epoch 24/50\n",
      " - 0s - loss: 0.1104 - val_loss: 0.1028\n",
      "Epoch 25/50\n",
      " - 0s - loss: 0.1104 - val_loss: 0.1009\n",
      "Epoch 26/50\n",
      " - 0s - loss: 0.1119 - val_loss: 0.1020\n",
      "Epoch 27/50\n",
      " - 0s - loss: 0.1106 - val_loss: 0.1052\n",
      "Epoch 28/50\n",
      " - 0s - loss: 0.1098 - val_loss: 0.1043\n",
      "Epoch 29/50\n",
      " - 0s - loss: 0.1105 - val_loss: 0.1012\n",
      "Epoch 30/50\n",
      " - 0s - loss: 0.1077 - val_loss: 0.1021\n",
      "Epoch 31/50\n",
      " - 0s - loss: 0.1108 - val_loss: 0.1004\n",
      "Epoch 32/50\n",
      " - 0s - loss: 0.1097 - val_loss: 0.1026\n",
      "Epoch 33/50\n",
      " - 0s - loss: 0.1104 - val_loss: 0.1045\n",
      "Epoch 34/50\n",
      " - 0s - loss: 0.1056 - val_loss: 0.0988\n",
      "Epoch 35/50\n",
      " - 0s - loss: 0.1053 - val_loss: 0.0977\n",
      "Epoch 36/50\n",
      " - 0s - loss: 0.1091 - val_loss: 0.0999\n",
      "Epoch 37/50\n",
      " - 0s - loss: 0.1085 - val_loss: 0.1003\n",
      "Epoch 38/50\n",
      " - 0s - loss: 0.1089 - val_loss: 0.0980\n",
      "Epoch 39/50\n",
      " - 0s - loss: 0.1078 - val_loss: 0.0997\n",
      "Epoch 40/50\n",
      " - 0s - loss: 0.1081 - val_loss: 0.0990\n",
      "Epoch 41/50\n",
      " - 0s - loss: 0.1070 - val_loss: 0.1016\n",
      "Epoch 42/50\n",
      " - 0s - loss: 0.1099 - val_loss: 0.0995\n",
      "Epoch 43/50\n",
      " - 0s - loss: 0.1071 - val_loss: 0.0986\n",
      "Epoch 44/50\n",
      " - 0s - loss: 0.1079 - val_loss: 0.1022\n",
      "Epoch 45/50\n",
      " - 0s - loss: 0.1065 - val_loss: 0.0984\n",
      "Epoch 46/50\n",
      " - 0s - loss: 0.1050 - val_loss: 0.1008\n",
      "Epoch 47/50\n",
      " - 0s - loss: 0.1071 - val_loss: 0.1006\n",
      "Epoch 48/50\n",
      " - 0s - loss: 0.1063 - val_loss: 0.0970\n",
      "Epoch 49/50\n",
      " - 0s - loss: 0.1033 - val_loss: 0.1004\n",
      "Epoch 50/50\n",
      " - 0s - loss: 0.1064 - val_loss: 0.0980\n"
     ]
    }
   ],
   "source": [
    "built = train(data_path)"
   ]
  },
  {
   "cell_type": "markdown",
   "metadata": {},
   "source": [
    "# Model Validation"
   ]
  },
  {
   "cell_type": "code",
   "execution_count": 13,
   "metadata": {
    "ExecuteTime": {
     "end_time": "2020-10-16T19:47:49.620326Z",
     "start_time": "2020-10-16T19:47:49.557335Z"
    }
   },
   "outputs": [],
   "source": [
    "def validate(data_path):\n",
    "    import sys, subprocess;\n",
    "    subprocess.run([sys.executable, '-m', 'pip', 'install', 'pandas==0.24.2'])\n",
    "    import pandas as pd\n",
    "    from math import sqrt\n",
    "    import numpy as np\n",
    "    import pickle\n",
    "    \n",
    "    with open(f'{data_path}/final_data','rb') as f:\n",
    "        data = pickle.load(f)\n",
    "    forecast_df, true_df = data\n",
    "    \n",
    "    evaluation = []\n",
    "    for forecast, actual in [(forecast_df['MaxTemp'].values, true_df['MaxTemp']), (forecast_df['MinTemp'].values, true_df['MinTemp']), (forecast_df['MeanTemp'].values, true_df['MeanTemp'])]:\n",
    "    \n",
    "        mape = np.mean(np.abs(forecast - actual)/np.abs(actual)) *100  # MAPE\n",
    "        me = np.mean(forecast - actual)             # ME\n",
    "        mae = np.mean(np.abs(forecast - actual))    # MAE\n",
    "        mpe = np.mean((forecast - actual)/actual)   # MPE\n",
    "        rmse = np.mean((forecast - actual)**2)**.5  # RMSE\n",
    "        corr = np.corrcoef(forecast, actual)[0,1]   # corr\n",
    "        mins = np.amin(np.hstack([forecast[:,None], \n",
    "                                  actual[:,None]]), axis=1)\n",
    "        maxs = np.amax(np.hstack([forecast[:,None], \n",
    "                                  actual[:,None]]), axis=1)\n",
    "        minmax = 1 - np.mean(mins/maxs)             # minmax\n",
    "        display = {'mape':mape, 'me':me, 'mae': mae, \n",
    "                'mpe': mpe, 'rmse':rmse, 'corr':corr, 'minmax':minmax}\n",
    "        \n",
    "        evaluation.append(display)\n",
    "        \n",
    "        \n",
    "    with open(f'{data_path}/result.txt', 'w') as f:\n",
    "        f.write(\" Evaluation: {}\".format(evaluation))\n",
    "    \n",
    "    print('Successfully!')"
   ]
  },
  {
   "cell_type": "code",
   "execution_count": 14,
   "metadata": {
    "ExecuteTime": {
     "end_time": "2020-10-16T19:47:53.587754Z",
     "start_time": "2020-10-16T19:47:53.243762Z"
    },
    "scrolled": true
   },
   "outputs": [
    {
     "name": "stdout",
     "output_type": "stream",
     "text": [
      "[{'mape': 2.803053893148899, 'me': -0.6685578, 'mae': 0.8615728, 'mpe': -0.02160792, 'rmse': 0.9583256278903064, 'corr': 0.5207246156110829, 'minmax': 0.027966201305389404}]\n",
      "[{'mape': 2.803053893148899, 'me': -0.6685578, 'mae': 0.8615728, 'mpe': -0.02160792, 'rmse': 0.9583256278903064, 'corr': 0.5207246156110829, 'minmax': 0.027966201305389404}, {'mape': 4.561843723058701, 'me': 0.18935367, 'mae': 1.0652953, 'mpe': 0.011268819, 'rmse': 1.4280704880208481, 'corr': 0.16666835849435638, 'minmax': 0.044041335582733154}]\n",
      "[{'mape': 2.803053893148899, 'me': -0.6685578, 'mae': 0.8615728, 'mpe': -0.02160792, 'rmse': 0.9583256278903064, 'corr': 0.5207246156110829, 'minmax': 0.027966201305389404}, {'mape': 4.561843723058701, 'me': 0.18935367, 'mae': 1.0652953, 'mpe': 0.011268819, 'rmse': 1.4280704880208481, 'corr': 0.16666835849435638, 'minmax': 0.044041335582733154}, {'mape': 1.9842369481921196, 'me': -0.28008762, 'mae': 0.5449333, 'mpe': -0.009974812, 'rmse': 0.7521124732870128, 'corr': 0.4809803789705797, 'minmax': 0.01977670192718506}]\n",
      "Successfully!\n"
     ]
    }
   ],
   "source": [
    "result = validate(data_path)"
   ]
  },
  {
   "cell_type": "code",
   "execution_count": null,
   "metadata": {},
   "outputs": [],
   "source": [
    "# Create components.\n",
    "inj_op = comp.func_to_container_op(data_injestion , base_image = \"tensorflow/tensorflow:latest-gpu-py3\")\n",
    "transformation_op = comp.func_to_container_op(data_transformation, base_image = \"tensorflow/tensorflow:latest-gpu-py3\")\n",
    "train_op = comp.func_to_container_op(train, base_image = \"tensorflow/tensorflow:latest-gpu-py3\")\n",
    "validate_op = comp.func_to_container_op(validate, base_image = \"tensorflow/tensorflow:latest-gpu-py3\")\n"
   ]
  },
  {
   "cell_type": "markdown",
   "metadata": {},
   "source": [
    "# Build Kubeflow Pipelines"
   ]
  },
  {
   "cell_type": "code",
   "execution_count": 81,
   "metadata": {
    "ExecuteTime": {
     "end_time": "2020-10-16T05:56:24.906882Z",
     "start_time": "2020-10-16T05:56:24.882926Z"
    }
   },
   "outputs": [],
   "source": [
    "#Create a client to enable communication with the Pipelines API server.\n",
    "client = kfp.Client()"
   ]
  },
  {
   "cell_type": "code",
   "execution_count": null,
   "metadata": {},
   "outputs": [],
   "source": [
    "# Define the pipeline\n",
    "@dsl.pipeline(\n",
    "    name='Weather Conditions Pipeline',\n",
    "    description=\n",
    "    'An ML pipeline that builds and validates a model for the weather conditions dataset.'\n",
    ")\n",
    "# Define parameters to be fed into pipeline\n",
    "def weather_conditions_pipeline(data_path: str):\n",
    "\n",
    "    # Define volume to share data between components.\n",
    "    vop = dsl.VolumeOp(name=\"create_volume\",\n",
    "                       resource_name=\"data-volume\",\n",
    "                       size=\"1Gi\",\n",
    "                       modes=dsl.VOLUME_MODE_RWO)\n",
    "\n",
    "    # Create data injestion component.\n",
    "    injestion_container = inj_op(data_path) \\\n",
    "                                    .add_pvolumes({data_path: vop.volume})\n",
    "\n",
    "    # Create data transformation component.\n",
    "    transformation_container = transformation_op(data_path) \\\n",
    "                                    .add_pvolumes({data_path: injestion_container.pvolume})\n",
    "    # Create model training component.\n",
    "    train_container = train_op(data_path) \\\n",
    "                                    .add_pvolumes({data_path: transformation_container.pvolume})\n",
    "    \n",
    "    # Create model validation component.\n",
    "    validate_container = validate_op(data_path) \\\n",
    "                                    .add_pvolumes({data_path: train_container.pvolume})\n",
    "    \n",
    "\n",
    "    # Print the result of the prediction\n",
    "    validation_result_container = dsl.ContainerOp(\n",
    "        name=\"print_validation_result\",\n",
    "        image='library/bash:4.4.23',\n",
    "        pvolumes={data_path: validate_container.pvolume},\n",
    "        arguments=['cat', f'{data_path}/result.txt'])"
   ]
  },
  {
   "cell_type": "code",
   "execution_count": null,
   "metadata": {},
   "outputs": [],
   "source": [
    "DATA_PATH = data_path\n",
    "\n",
    "pipeline_func = weather_conditions_pipeline"
   ]
  },
  {
   "cell_type": "code",
   "execution_count": null,
   "metadata": {},
   "outputs": [],
   "source": [
    "experiment_name = 'weather_conditions_kubeflow'\n",
    "run_name = pipeline_func.__name__ + ' run'\n",
    "\n",
    "arguments = {\"data_path\":DATA_PATH}\n",
    "\n",
    "# Compile pipeline to generate compressed YAML definition of the pipeline.\n",
    "kfp.compiler.Compiler().compile(pipeline_func,  \n",
    "  '{}.zip'.format(experiment_name))\n",
    "\n",
    "# Submit pipeline directly from pipeline function\n",
    "run_result = client.create_run_from_pipeline_func(pipeline_func, \n",
    "                                                  experiment_name=experiment_name, \n",
    "                                                  run_name=run_name, \n",
    "                                                  arguments=arguments)"
   ]
  }
 ],
 "metadata": {
  "kernelspec": {
   "display_name": "Python [conda env:tf_gpu]",
   "language": "python",
   "name": "conda-env-tf_gpu-py"
  },
  "language_info": {
   "codemirror_mode": {
    "name": "ipython",
    "version": 3
   },
   "file_extension": ".py",
   "mimetype": "text/x-python",
   "name": "python",
   "nbconvert_exporter": "python",
   "pygments_lexer": "ipython3",
   "version": "3.7.8"
  },
  "toc": {
   "base_numbering": 1,
   "nav_menu": {},
   "number_sections": true,
   "sideBar": true,
   "skip_h1_title": false,
   "title_cell": "Table of Contents",
   "title_sidebar": "Contents",
   "toc_cell": false,
   "toc_position": {},
   "toc_section_display": true,
   "toc_window_display": false
  },
  "varInspector": {
   "cols": {
    "lenName": 16,
    "lenType": 16,
    "lenVar": 40
   },
   "kernels_config": {
    "python": {
     "delete_cmd_postfix": "",
     "delete_cmd_prefix": "del ",
     "library": "var_list.py",
     "varRefreshCmd": "print(var_dic_list())"
    },
    "r": {
     "delete_cmd_postfix": ") ",
     "delete_cmd_prefix": "rm(",
     "library": "var_list.r",
     "varRefreshCmd": "cat(var_dic_list()) "
    }
   },
   "types_to_exclude": [
    "module",
    "function",
    "builtin_function_or_method",
    "instance",
    "_Feature"
   ],
   "window_display": false
  }
 },
 "nbformat": 4,
 "nbformat_minor": 4
}
