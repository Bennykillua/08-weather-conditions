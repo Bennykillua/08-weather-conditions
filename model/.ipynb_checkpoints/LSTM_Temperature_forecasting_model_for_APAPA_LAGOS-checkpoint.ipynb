{
 "cells": [
  {
   "cell_type": "markdown",
   "metadata": {
    "colab_type": "text",
    "id": "view-in-github"
   },
   "source": [
    "<a href=\"https://colab.research.google.com/github/Hab-eeb/08-weather-conditions/blob/master/model/LSTM_Temperature_forecasting_model_for_APAPA_LAGOS.ipynb\" target=\"_parent\"><img src=\"https://colab.research.google.com/assets/colab-badge.svg\" alt=\"Open In Colab\"/></a>"
   ]
  },
  {
   "cell_type": "code",
   "execution_count": 1,
   "metadata": {
    "colab": {
     "base_uri": "https://localhost:8080/",
     "height": 51
    },
    "id": "3qYeZg-eQhLu",
    "outputId": "097583ec-87ab-488f-93ce-cde1168daeb2"
   },
   "outputs": [
    {
     "name": "stderr",
     "output_type": "stream",
     "text": [
      "/usr/local/lib/python3.6/dist-packages/statsmodels/tools/_testing.py:19: FutureWarning: pandas.util.testing is deprecated. Use the functions in the public API at pandas.testing instead.\n",
      "  import pandas.util.testing as tm\n"
     ]
    }
   ],
   "source": [
    "import pandas as pd\n",
    "import numpy as np\n",
    "import matplotlib.pyplot as plt\n",
    "%matplotlib inline\n",
    "\n",
    "# Import Statsmodels\n",
    "from statsmodels.graphics.tsaplots import plot_acf\n",
    "from statsmodels.graphics.tsaplots import plot_pacf\n",
    "from statsmodels.tsa.api import VAR\n",
    "from statsmodels.tsa.stattools import adfuller\n",
    "from statsmodels.tools.eval_measures import rmse, aic"
   ]
  },
  {
   "cell_type": "code",
   "execution_count": 2,
   "metadata": {
    "colab": {
     "base_uri": "https://localhost:8080/",
     "height": 204
    },
    "id": "aPIjHJZWRkrT",
    "outputId": "8d8f6dcf-15ca-473f-c747-11955eecce93"
   },
   "outputs": [
    {
     "data": {
      "text/html": [
       "<div>\n",
       "<style scoped>\n",
       "    .dataframe tbody tr th:only-of-type {\n",
       "        vertical-align: middle;\n",
       "    }\n",
       "\n",
       "    .dataframe tbody tr th {\n",
       "        vertical-align: top;\n",
       "    }\n",
       "\n",
       "    .dataframe thead th {\n",
       "        text-align: right;\n",
       "    }\n",
       "</style>\n",
       "<table border=\"1\" class=\"dataframe\">\n",
       "  <thead>\n",
       "    <tr style=\"text-align: right;\">\n",
       "      <th></th>\n",
       "      <th>WBAN</th>\n",
       "      <th>NAME</th>\n",
       "      <th>STATE/COUNTRY ID</th>\n",
       "      <th>LAT</th>\n",
       "      <th>LON</th>\n",
       "      <th>ELEV</th>\n",
       "      <th>Latitude</th>\n",
       "      <th>Longitude</th>\n",
       "    </tr>\n",
       "  </thead>\n",
       "  <tbody>\n",
       "    <tr>\n",
       "      <th>0</th>\n",
       "      <td>33013</td>\n",
       "      <td>AIN EL</td>\n",
       "      <td>AL</td>\n",
       "      <td>3623N</td>\n",
       "      <td>00637E</td>\n",
       "      <td>611</td>\n",
       "      <td>36.383333</td>\n",
       "      <td>6.650000</td>\n",
       "    </tr>\n",
       "    <tr>\n",
       "      <th>1</th>\n",
       "      <td>33031</td>\n",
       "      <td>LA SENIA</td>\n",
       "      <td>AL</td>\n",
       "      <td>3537N</td>\n",
       "      <td>00037E</td>\n",
       "      <td>88</td>\n",
       "      <td>35.616667</td>\n",
       "      <td>0.583333</td>\n",
       "    </tr>\n",
       "    <tr>\n",
       "      <th>2</th>\n",
       "      <td>33023</td>\n",
       "      <td>MAISON BLANCHE</td>\n",
       "      <td>AL</td>\n",
       "      <td>3643N</td>\n",
       "      <td>00314E</td>\n",
       "      <td>23</td>\n",
       "      <td>36.716667</td>\n",
       "      <td>3.216667</td>\n",
       "    </tr>\n",
       "    <tr>\n",
       "      <th>3</th>\n",
       "      <td>33044</td>\n",
       "      <td>TELERGMA</td>\n",
       "      <td>AL</td>\n",
       "      <td>3607N</td>\n",
       "      <td>00621E</td>\n",
       "      <td>754</td>\n",
       "      <td>36.116667</td>\n",
       "      <td>6.416667</td>\n",
       "    </tr>\n",
       "    <tr>\n",
       "      <th>4</th>\n",
       "      <td>12001</td>\n",
       "      <td>TINDOUF</td>\n",
       "      <td>AL</td>\n",
       "      <td>2741N</td>\n",
       "      <td>00809W</td>\n",
       "      <td>443</td>\n",
       "      <td>27.683333</td>\n",
       "      <td>-8.083333</td>\n",
       "    </tr>\n",
       "  </tbody>\n",
       "</table>\n",
       "</div>"
      ],
      "text/plain": [
       "    WBAN            NAME STATE/COUNTRY ID  ... ELEV   Latitude  Longitude\n",
       "0  33013          AIN EL               AL  ...  611  36.383333   6.650000\n",
       "1  33031        LA SENIA               AL  ...   88  35.616667   0.583333\n",
       "2  33023  MAISON BLANCHE               AL  ...   23  36.716667   3.216667\n",
       "3  33044        TELERGMA               AL  ...  754  36.116667   6.416667\n",
       "4  12001         TINDOUF               AL  ...  443  27.683333  -8.083333\n",
       "\n",
       "[5 rows x 8 columns]"
      ]
     },
     "execution_count": 2,
     "metadata": {
      "tags": []
     },
     "output_type": "execute_result"
    }
   ],
   "source": [
    "df_station = pd.read_csv('https://raw.githubusercontent.com/HamoyeHQ/08-weather-conditions/master/data/Cleanedstationlocation.csv')\n",
    "df_station.head()"
   ]
  },
  {
   "cell_type": "code",
   "execution_count": 3,
   "metadata": {
    "colab": {
     "base_uri": "https://localhost:8080/",
     "height": 238
    },
    "id": "Mf7hLGThRv3w",
    "outputId": "385899f7-5137-484e-8087-8b8ccc52f2d7"
   },
   "outputs": [
    {
     "name": "stderr",
     "output_type": "stream",
     "text": [
      "/usr/local/lib/python3.6/dist-packages/IPython/core/interactiveshell.py:2718: DtypeWarning: Columns (0,2,6) have mixed types.Specify dtype option on import or set low_memory=False.\n",
      "  interactivity=interactivity, compiler=compiler, result=result)\n"
     ]
    },
    {
     "data": {
      "text/html": [
       "<div>\n",
       "<style scoped>\n",
       "    .dataframe tbody tr th:only-of-type {\n",
       "        vertical-align: middle;\n",
       "    }\n",
       "\n",
       "    .dataframe tbody tr th {\n",
       "        vertical-align: top;\n",
       "    }\n",
       "\n",
       "    .dataframe thead th {\n",
       "        text-align: right;\n",
       "    }\n",
       "</style>\n",
       "<table border=\"1\" class=\"dataframe\">\n",
       "  <thead>\n",
       "    <tr style=\"text-align: right;\">\n",
       "      <th></th>\n",
       "      <th>STA</th>\n",
       "      <th>Date</th>\n",
       "      <th>Precip</th>\n",
       "      <th>MaxTemp</th>\n",
       "      <th>MinTemp</th>\n",
       "      <th>MeanTemp</th>\n",
       "      <th>Snowfall</th>\n",
       "      <th>PoorWeather</th>\n",
       "      <th>YR</th>\n",
       "      <th>MO</th>\n",
       "      <th>DA</th>\n",
       "    </tr>\n",
       "  </thead>\n",
       "  <tbody>\n",
       "    <tr>\n",
       "      <th>0</th>\n",
       "      <td>&lt;&lt;&lt;&lt;&lt;&lt;&lt; HEAD</td>\n",
       "      <td>NaN</td>\n",
       "      <td>NaN</td>\n",
       "      <td>NaN</td>\n",
       "      <td>NaN</td>\n",
       "      <td>NaN</td>\n",
       "      <td>NaN</td>\n",
       "      <td>NaN</td>\n",
       "      <td>NaN</td>\n",
       "      <td>NaN</td>\n",
       "      <td>NaN</td>\n",
       "    </tr>\n",
       "    <tr>\n",
       "      <th>1</th>\n",
       "      <td>10001</td>\n",
       "      <td>1942-7-1</td>\n",
       "      <td>1.016</td>\n",
       "      <td>25.555556</td>\n",
       "      <td>22.222222</td>\n",
       "      <td>23.888889</td>\n",
       "      <td>0.0</td>\n",
       "      <td>0.0</td>\n",
       "      <td>42.0</td>\n",
       "      <td>7.0</td>\n",
       "      <td>1.0</td>\n",
       "    </tr>\n",
       "    <tr>\n",
       "      <th>2</th>\n",
       "      <td>10001</td>\n",
       "      <td>1942-7-2</td>\n",
       "      <td>0</td>\n",
       "      <td>28.888889</td>\n",
       "      <td>21.666667</td>\n",
       "      <td>25.555556</td>\n",
       "      <td>0.0</td>\n",
       "      <td>0.0</td>\n",
       "      <td>42.0</td>\n",
       "      <td>7.0</td>\n",
       "      <td>2.0</td>\n",
       "    </tr>\n",
       "    <tr>\n",
       "      <th>3</th>\n",
       "      <td>10001</td>\n",
       "      <td>1942-7-3</td>\n",
       "      <td>2.54</td>\n",
       "      <td>26.111111</td>\n",
       "      <td>22.222222</td>\n",
       "      <td>24.444444</td>\n",
       "      <td>0.0</td>\n",
       "      <td>0.0</td>\n",
       "      <td>42.0</td>\n",
       "      <td>7.0</td>\n",
       "      <td>3.0</td>\n",
       "    </tr>\n",
       "    <tr>\n",
       "      <th>4</th>\n",
       "      <td>10001</td>\n",
       "      <td>1942-7-4</td>\n",
       "      <td>2.54</td>\n",
       "      <td>26.666667</td>\n",
       "      <td>22.222222</td>\n",
       "      <td>24.444444</td>\n",
       "      <td>0.0</td>\n",
       "      <td>0.0</td>\n",
       "      <td>42.0</td>\n",
       "      <td>7.0</td>\n",
       "      <td>4.0</td>\n",
       "    </tr>\n",
       "  </tbody>\n",
       "</table>\n",
       "</div>"
      ],
      "text/plain": [
       "            STA      Date Precip    MaxTemp  ...  PoorWeather    YR   MO   DA\n",
       "0  <<<<<<< HEAD       NaN    NaN        NaN  ...          NaN   NaN  NaN  NaN\n",
       "1         10001  1942-7-1  1.016  25.555556  ...          0.0  42.0  7.0  1.0\n",
       "2         10001  1942-7-2      0  28.888889  ...          0.0  42.0  7.0  2.0\n",
       "3         10001  1942-7-3   2.54  26.111111  ...          0.0  42.0  7.0  3.0\n",
       "4         10001  1942-7-4   2.54  26.666667  ...          0.0  42.0  7.0  4.0\n",
       "\n",
       "[5 rows x 11 columns]"
      ]
     },
     "execution_count": 3,
     "metadata": {
      "tags": []
     },
     "output_type": "execute_result"
    }
   ],
   "source": [
    "df_weather = pd.read_csv('https://raw.githubusercontent.com/HamoyeHQ/08-weather-conditions/master/data/Cleanedweathersummary.csv')\n",
    "df_weather.head()"
   ]
  },
  {
   "cell_type": "code",
   "execution_count": 4,
   "metadata": {
    "id": "R0JsoDs7SBjB"
   },
   "outputs": [],
   "source": [
    "df_weather.drop(['YR','MO','DA'], axis=1,inplace = True)"
   ]
  },
  {
   "cell_type": "code",
   "execution_count": 5,
   "metadata": {
    "colab": {
     "base_uri": "https://localhost:8080/",
     "height": 235
    },
    "id": "RBl2SyGsSBf5",
    "outputId": "927b19ec-a0d7-4b86-8bde-bcac0bf529e9"
   },
   "outputs": [
    {
     "data": {
      "text/html": [
       "<div>\n",
       "<style scoped>\n",
       "    .dataframe tbody tr th:only-of-type {\n",
       "        vertical-align: middle;\n",
       "    }\n",
       "\n",
       "    .dataframe tbody tr th {\n",
       "        vertical-align: top;\n",
       "    }\n",
       "\n",
       "    .dataframe thead th {\n",
       "        text-align: right;\n",
       "    }\n",
       "</style>\n",
       "<table border=\"1\" class=\"dataframe\">\n",
       "  <thead>\n",
       "    <tr style=\"text-align: right;\">\n",
       "      <th></th>\n",
       "      <th>Precip</th>\n",
       "      <th>MaxTemp</th>\n",
       "      <th>MinTemp</th>\n",
       "      <th>MeanTemp</th>\n",
       "      <th>Snowfall</th>\n",
       "      <th>PoorWeather</th>\n",
       "      <th>datetime</th>\n",
       "    </tr>\n",
       "    <tr>\n",
       "      <th>STA</th>\n",
       "      <th></th>\n",
       "      <th></th>\n",
       "      <th></th>\n",
       "      <th></th>\n",
       "      <th></th>\n",
       "      <th></th>\n",
       "      <th></th>\n",
       "    </tr>\n",
       "  </thead>\n",
       "  <tbody>\n",
       "    <tr>\n",
       "      <th>&lt;&lt;&lt;&lt;&lt;&lt;&lt; HEAD</th>\n",
       "      <td>NaN</td>\n",
       "      <td>NaN</td>\n",
       "      <td>NaN</td>\n",
       "      <td>NaN</td>\n",
       "      <td>NaN</td>\n",
       "      <td>NaN</td>\n",
       "      <td>NaT</td>\n",
       "    </tr>\n",
       "    <tr>\n",
       "      <th>10001</th>\n",
       "      <td>1.016</td>\n",
       "      <td>25.555556</td>\n",
       "      <td>22.222222</td>\n",
       "      <td>23.888889</td>\n",
       "      <td>0.0</td>\n",
       "      <td>0.0</td>\n",
       "      <td>1942-07-01</td>\n",
       "    </tr>\n",
       "    <tr>\n",
       "      <th>10001</th>\n",
       "      <td>0</td>\n",
       "      <td>28.888889</td>\n",
       "      <td>21.666667</td>\n",
       "      <td>25.555556</td>\n",
       "      <td>0.0</td>\n",
       "      <td>0.0</td>\n",
       "      <td>1942-07-02</td>\n",
       "    </tr>\n",
       "    <tr>\n",
       "      <th>10001</th>\n",
       "      <td>2.54</td>\n",
       "      <td>26.111111</td>\n",
       "      <td>22.222222</td>\n",
       "      <td>24.444444</td>\n",
       "      <td>0.0</td>\n",
       "      <td>0.0</td>\n",
       "      <td>1942-07-03</td>\n",
       "    </tr>\n",
       "    <tr>\n",
       "      <th>10001</th>\n",
       "      <td>2.54</td>\n",
       "      <td>26.666667</td>\n",
       "      <td>22.222222</td>\n",
       "      <td>24.444444</td>\n",
       "      <td>0.0</td>\n",
       "      <td>0.0</td>\n",
       "      <td>1942-07-04</td>\n",
       "    </tr>\n",
       "  </tbody>\n",
       "</table>\n",
       "</div>"
      ],
      "text/plain": [
       "             Precip    MaxTemp    MinTemp  ...  Snowfall PoorWeather   datetime\n",
       "STA                                        ...                                 \n",
       "<<<<<<< HEAD    NaN        NaN        NaN  ...       NaN         NaN        NaT\n",
       "10001         1.016  25.555556  22.222222  ...       0.0         0.0 1942-07-01\n",
       "10001             0  28.888889  21.666667  ...       0.0         0.0 1942-07-02\n",
       "10001          2.54  26.111111  22.222222  ...       0.0         0.0 1942-07-03\n",
       "10001          2.54  26.666667  22.222222  ...       0.0         0.0 1942-07-04\n",
       "\n",
       "[5 rows x 7 columns]"
      ]
     },
     "execution_count": 5,
     "metadata": {
      "tags": []
     },
     "output_type": "execute_result"
    }
   ],
   "source": [
    "from datetime import datetime\n",
    "df_weather['datetime'] = pd.to_datetime(df_weather['Date'])\n",
    "# setting STA as the index to select APAPA weather station \n",
    "df_weather = df_weather.set_index('STA')\n",
    "df_weather.drop(['Date'], axis=1, inplace=True)\n",
    "df_weather.head()"
   ]
  },
  {
   "cell_type": "code",
   "execution_count": 6,
   "metadata": {
    "colab": {
     "base_uri": "https://localhost:8080/",
     "height": 235
    },
    "id": "0i5CWoa8SMSx",
    "outputId": "df3c992c-c1d4-43b9-e6a4-732677d9e4cf"
   },
   "outputs": [
    {
     "data": {
      "text/html": [
       "<div>\n",
       "<style scoped>\n",
       "    .dataframe tbody tr th:only-of-type {\n",
       "        vertical-align: middle;\n",
       "    }\n",
       "\n",
       "    .dataframe tbody tr th {\n",
       "        vertical-align: top;\n",
       "    }\n",
       "\n",
       "    .dataframe thead th {\n",
       "        text-align: right;\n",
       "    }\n",
       "</style>\n",
       "<table border=\"1\" class=\"dataframe\">\n",
       "  <thead>\n",
       "    <tr style=\"text-align: right;\">\n",
       "      <th></th>\n",
       "      <th>Precip</th>\n",
       "      <th>MaxTemp</th>\n",
       "      <th>MinTemp</th>\n",
       "      <th>MeanTemp</th>\n",
       "      <th>Snowfall</th>\n",
       "      <th>PoorWeather</th>\n",
       "    </tr>\n",
       "    <tr>\n",
       "      <th>datetime</th>\n",
       "      <th></th>\n",
       "      <th></th>\n",
       "      <th></th>\n",
       "      <th></th>\n",
       "      <th></th>\n",
       "      <th></th>\n",
       "    </tr>\n",
       "  </thead>\n",
       "  <tbody>\n",
       "    <tr>\n",
       "      <th>1943-06-09</th>\n",
       "      <td>23.368</td>\n",
       "      <td>28.888889</td>\n",
       "      <td>22.222222</td>\n",
       "      <td>25.555556</td>\n",
       "      <td>0</td>\n",
       "      <td>1.0</td>\n",
       "    </tr>\n",
       "    <tr>\n",
       "      <th>1943-06-10</th>\n",
       "      <td>19.812</td>\n",
       "      <td>27.222222</td>\n",
       "      <td>20.555556</td>\n",
       "      <td>23.888889</td>\n",
       "      <td>0</td>\n",
       "      <td>1.0</td>\n",
       "    </tr>\n",
       "    <tr>\n",
       "      <th>1943-06-11</th>\n",
       "      <td>0</td>\n",
       "      <td>28.333333</td>\n",
       "      <td>21.111111</td>\n",
       "      <td>24.444444</td>\n",
       "      <td>0</td>\n",
       "      <td>1.0</td>\n",
       "    </tr>\n",
       "    <tr>\n",
       "      <th>1943-06-12</th>\n",
       "      <td>T</td>\n",
       "      <td>28.888889</td>\n",
       "      <td>22.222222</td>\n",
       "      <td>25.555556</td>\n",
       "      <td>0</td>\n",
       "      <td>1.0</td>\n",
       "    </tr>\n",
       "    <tr>\n",
       "      <th>1943-06-13</th>\n",
       "      <td>0.508</td>\n",
       "      <td>29.444444</td>\n",
       "      <td>25.555556</td>\n",
       "      <td>27.777778</td>\n",
       "      <td>0</td>\n",
       "      <td>1.0</td>\n",
       "    </tr>\n",
       "  </tbody>\n",
       "</table>\n",
       "</div>"
      ],
      "text/plain": [
       "            Precip    MaxTemp    MinTemp   MeanTemp Snowfall  PoorWeather\n",
       "datetime                                                                 \n",
       "1943-06-09  23.368  28.888889  22.222222  25.555556        0          1.0\n",
       "1943-06-10  19.812  27.222222  20.555556  23.888889        0          1.0\n",
       "1943-06-11       0  28.333333  21.111111  24.444444        0          1.0\n",
       "1943-06-12       T  28.888889  22.222222  25.555556        0          1.0\n",
       "1943-06-13   0.508  29.444444  25.555556  27.777778        0          1.0"
      ]
     },
     "execution_count": 6,
     "metadata": {
      "tags": []
     },
     "output_type": "execute_result"
    }
   ],
   "source": [
    "df_weather = df_weather.loc['30001']\n",
    "df_weather = df_weather.set_index('datetime')\n",
    "df_weather.head()"
   ]
  },
  {
   "cell_type": "code",
   "execution_count": 7,
   "metadata": {
    "id": "Lb-s7McMSm_k"
   },
   "outputs": [],
   "source": [
    "df_weather.drop(['Snowfall','PoorWeather','Precip'], axis=1,inplace = True)"
   ]
  },
  {
   "cell_type": "code",
   "execution_count": 8,
   "metadata": {
    "id": "jNwGbN3QS4mc"
   },
   "outputs": [],
   "source": [
    "# save to file\n",
    "df_weather.to_csv('weather.csv')"
   ]
  },
  {
   "cell_type": "code",
   "execution_count": 9,
   "metadata": {
    "colab": {
     "base_uri": "https://localhost:8080/",
     "height": 297
    },
    "id": "Nfx-Kx8xTAsc",
    "outputId": "a5d17c6b-4d0b-4075-94b5-4688493ff4be"
   },
   "outputs": [
    {
     "data": {
      "text/html": [
       "<div>\n",
       "<style scoped>\n",
       "    .dataframe tbody tr th:only-of-type {\n",
       "        vertical-align: middle;\n",
       "    }\n",
       "\n",
       "    .dataframe tbody tr th {\n",
       "        vertical-align: top;\n",
       "    }\n",
       "\n",
       "    .dataframe thead th {\n",
       "        text-align: right;\n",
       "    }\n",
       "</style>\n",
       "<table border=\"1\" class=\"dataframe\">\n",
       "  <thead>\n",
       "    <tr style=\"text-align: right;\">\n",
       "      <th></th>\n",
       "      <th>MaxTemp</th>\n",
       "      <th>MinTemp</th>\n",
       "      <th>MeanTemp</th>\n",
       "    </tr>\n",
       "  </thead>\n",
       "  <tbody>\n",
       "    <tr>\n",
       "      <th>count</th>\n",
       "      <td>522.000000</td>\n",
       "      <td>522.000000</td>\n",
       "      <td>522.000000</td>\n",
       "    </tr>\n",
       "    <tr>\n",
       "      <th>mean</th>\n",
       "      <td>28.920817</td>\n",
       "      <td>23.131120</td>\n",
       "      <td>26.027033</td>\n",
       "    </tr>\n",
       "    <tr>\n",
       "      <th>std</th>\n",
       "      <td>1.703453</td>\n",
       "      <td>1.547193</td>\n",
       "      <td>1.402639</td>\n",
       "    </tr>\n",
       "    <tr>\n",
       "      <th>min</th>\n",
       "      <td>23.888889</td>\n",
       "      <td>16.666667</td>\n",
       "      <td>22.222222</td>\n",
       "    </tr>\n",
       "    <tr>\n",
       "      <th>25%</th>\n",
       "      <td>27.777778</td>\n",
       "      <td>22.222222</td>\n",
       "      <td>25.000000</td>\n",
       "    </tr>\n",
       "    <tr>\n",
       "      <th>50%</th>\n",
       "      <td>28.888889</td>\n",
       "      <td>22.777778</td>\n",
       "      <td>25.555556</td>\n",
       "    </tr>\n",
       "    <tr>\n",
       "      <th>75%</th>\n",
       "      <td>30.555556</td>\n",
       "      <td>23.888889</td>\n",
       "      <td>26.666667</td>\n",
       "    </tr>\n",
       "    <tr>\n",
       "      <th>max</th>\n",
       "      <td>32.222222</td>\n",
       "      <td>28.333333</td>\n",
       "      <td>30.000000</td>\n",
       "    </tr>\n",
       "  </tbody>\n",
       "</table>\n",
       "</div>"
      ],
      "text/plain": [
       "          MaxTemp     MinTemp    MeanTemp\n",
       "count  522.000000  522.000000  522.000000\n",
       "mean    28.920817   23.131120   26.027033\n",
       "std      1.703453    1.547193    1.402639\n",
       "min     23.888889   16.666667   22.222222\n",
       "25%     27.777778   22.222222   25.000000\n",
       "50%     28.888889   22.777778   25.555556\n",
       "75%     30.555556   23.888889   26.666667\n",
       "max     32.222222   28.333333   30.000000"
      ]
     },
     "execution_count": 9,
     "metadata": {
      "tags": []
     },
     "output_type": "execute_result"
    }
   ],
   "source": [
    "df_weather.describe()"
   ]
  },
  {
   "cell_type": "code",
   "execution_count": 10,
   "metadata": {
    "colab": {
     "base_uri": "https://localhost:8080/",
     "height": 724
    },
    "id": "YCno2wpATFIe",
    "outputId": "f89429ab-7e20-4893-b3f5-e0b6591dfa66"
   },
   "outputs": [
    {
     "data": {
      "image/png": "[encoded data removed]",
      "text/plain": [
       "<Figure size 1200x720 with 3 Axes>"
      ]
     },
     "metadata": {
      "needs_background": "light",
      "tags": []
     },
     "output_type": "display_data"
    }
   ],
   "source": [
    "#Visualize the Time Series\n",
    "# Plot\n",
    "fig, axes = plt.subplots(nrows=3, ncols=1, dpi=120, figsize=(10,6))\n",
    "for i, ax in enumerate(axes.flatten()):\n",
    "    data = df_weather[df_weather.columns[i]]\n",
    "    ax.plot(data, color='red', linewidth=1)\n",
    "    # Decorations\n",
    "    ax.set_title(df_weather.columns[i])\n",
    "    ax.xaxis.set_ticks_position('none')\n",
    "    ax.yaxis.set_ticks_position('none')\n",
    "    ax.spines[\"top\"].set_alpha(0)\n",
    "    ax.tick_params(labelsize=6)\n",
    "\n",
    "plt.tight_layout();"
   ]
  },
  {
   "cell_type": "code",
   "execution_count": 11,
   "metadata": {
    "colab": {
     "base_uri": "https://localhost:8080/",
     "height": 51
    },
    "id": "XxrbxKxQWWte",
    "outputId": "a1859e43-4cb6-4cbc-c844-82550f2cf67b"
   },
   "outputs": [
    {
     "name": "stdout",
     "output_type": "stream",
     "text": [
      "(515, 3)\n",
      "(7, 3)\n"
     ]
    }
   ],
   "source": [
    "# Split the Series into Training and Testing Data, I will hold back the last 7 days\n",
    "n_obs = 7\n",
    "X_train, X_test = df_weather[0:-n_obs], df_weather[-n_obs:]\n",
    "# Check size\n",
    "print(X_train.shape)\n",
    "print(X_test.shape)"
   ]
  },
  {
   "cell_type": "code",
   "execution_count": 12,
   "metadata": {
    "colab": {
     "base_uri": "https://localhost:8080/",
     "height": 235
    },
    "id": "nKF51rGLwhWf",
    "outputId": "e833c86b-d0b9-416a-9d5f-d358b4efdf03"
   },
   "outputs": [
    {
     "data": {
      "text/html": [
       "<div>\n",
       "<style scoped>\n",
       "    .dataframe tbody tr th:only-of-type {\n",
       "        vertical-align: middle;\n",
       "    }\n",
       "\n",
       "    .dataframe tbody tr th {\n",
       "        vertical-align: top;\n",
       "    }\n",
       "\n",
       "    .dataframe thead th {\n",
       "        text-align: right;\n",
       "    }\n",
       "</style>\n",
       "<table border=\"1\" class=\"dataframe\">\n",
       "  <thead>\n",
       "    <tr style=\"text-align: right;\">\n",
       "      <th></th>\n",
       "      <th>MaxTemp</th>\n",
       "      <th>MinTemp</th>\n",
       "      <th>MeanTemp</th>\n",
       "    </tr>\n",
       "    <tr>\n",
       "      <th>datetime</th>\n",
       "      <th></th>\n",
       "      <th></th>\n",
       "      <th></th>\n",
       "    </tr>\n",
       "  </thead>\n",
       "  <tbody>\n",
       "    <tr>\n",
       "      <th>1943-06-09</th>\n",
       "      <td>28.888889</td>\n",
       "      <td>22.222222</td>\n",
       "      <td>25.555556</td>\n",
       "    </tr>\n",
       "    <tr>\n",
       "      <th>1943-06-10</th>\n",
       "      <td>27.222222</td>\n",
       "      <td>20.555556</td>\n",
       "      <td>23.888889</td>\n",
       "    </tr>\n",
       "    <tr>\n",
       "      <th>1943-06-11</th>\n",
       "      <td>28.333333</td>\n",
       "      <td>21.111111</td>\n",
       "      <td>24.444444</td>\n",
       "    </tr>\n",
       "    <tr>\n",
       "      <th>1943-06-12</th>\n",
       "      <td>28.888889</td>\n",
       "      <td>22.222222</td>\n",
       "      <td>25.555556</td>\n",
       "    </tr>\n",
       "    <tr>\n",
       "      <th>1943-06-13</th>\n",
       "      <td>29.444444</td>\n",
       "      <td>25.555556</td>\n",
       "      <td>27.777778</td>\n",
       "    </tr>\n",
       "  </tbody>\n",
       "</table>\n",
       "</div>"
      ],
      "text/plain": [
       "              MaxTemp    MinTemp   MeanTemp\n",
       "datetime                                   \n",
       "1943-06-09  28.888889  22.222222  25.555556\n",
       "1943-06-10  27.222222  20.555556  23.888889\n",
       "1943-06-11  28.333333  21.111111  24.444444\n",
       "1943-06-12  28.888889  22.222222  25.555556\n",
       "1943-06-13  29.444444  25.555556  27.777778"
      ]
     },
     "execution_count": 12,
     "metadata": {
      "tags": []
     },
     "output_type": "execute_result"
    }
   ],
   "source": [
    "df_weather.head(5)"
   ]
  },
  {
   "cell_type": "code",
   "execution_count": 13,
   "metadata": {
    "id": "Ewty1ktJwhZJ"
   },
   "outputs": [],
   "source": [
    "\n",
    "from math import sqrt\n",
    "from numpy import concatenate\n",
    "from matplotlib import pyplot\n",
    "from pandas import read_csv\n",
    "from pandas import DataFrame\n",
    "from pandas import concat\n",
    "from sklearn.preprocessing import MinMaxScaler\n",
    "from sklearn.preprocessing import LabelEncoder\n",
    "from sklearn.metrics import mean_squared_error\n",
    "from keras.models import Sequential\n",
    "from keras.layers import Dense\n",
    "from keras.layers import LSTM\n",
    "from keras.layers import Bidirectional\n",
    "from keras.layers import Dropout"
   ]
  },
  {
   "cell_type": "code",
   "execution_count": 14,
   "metadata": {
    "id": "2lH6U5GMwhsL"
   },
   "outputs": [],
   "source": [
    "# convert series to supervised learning\n",
    "def series_to_supervised(data, n_in=1, n_out=1, dropnan=True):\n",
    "\tn_vars = 1 if type(data) is list else data.shape[1]\n",
    "\tdf = DataFrame(data)\n",
    "\tcols, names = list(), list()\n",
    "\t# input sequence (t-n, ... t-1)\n",
    "\tfor i in range(n_in, 0, -1):\n",
    "\t\tcols.append(df.shift(i))\n",
    "\t\tnames += [('var%d(t-%d)' % (j+1, i)) for j in range(n_vars)]\n",
    "\t# forecast sequence (t, t+1, ... t+n)\n",
    "\tfor i in range(0, n_out):\n",
    "\t\tcols.append(df.shift(-i))\n",
    "\t\tif i == 0:\n",
    "\t\t\tnames += [('var%d(t)' % (j+1)) for j in range(n_vars)]\n",
    "\t\telse:\n",
    "\t\t\tnames += [('var%d(t+%d)' % (j+1, i)) for j in range(n_vars)]\n",
    "\t# put it all together\n",
    "\tagg = concat(cols, axis=1)\n",
    "\tagg.columns = names\n",
    "\t# drop rows with NaN values\n",
    "\tif dropnan:\n",
    "\t\tagg.dropna(inplace=True)\n",
    "\treturn agg"
   ]
  },
  {
   "cell_type": "code",
   "execution_count": 15,
   "metadata": {
    "id": "MWpmmlucwiCr"
   },
   "outputs": [],
   "source": [
    "values = df_weather.values\n",
    "values = values.astype(\"float32\")"
   ]
  },
  {
   "cell_type": "code",
   "execution_count": 16,
   "metadata": {
    "id": "UwlNwdftwiJz"
   },
   "outputs": [],
   "source": [
    "# normalize features\n",
    "scaler = MinMaxScaler(feature_range=(0, 1))\n",
    "scaled = scaler.fit_transform(values)"
   ]
  },
  {
   "cell_type": "code",
   "execution_count": 17,
   "metadata": {
    "id": "eC5B7m49wiG4"
   },
   "outputs": [],
   "source": [
    "# frame as supervised learning\n",
    "reframed = series_to_supervised(scaled, 1, 1)"
   ]
  },
  {
   "cell_type": "code",
   "execution_count": 18,
   "metadata": {
    "colab": {
     "base_uri": "https://localhost:8080/",
     "height": 204
    },
    "id": "ymEZK2dmwhwo",
    "outputId": "4d7afdbf-cfa2-42f6-b947-9305652c8983"
   },
   "outputs": [
    {
     "data": {
      "text/html": [
       "<div>\n",
       "<style scoped>\n",
       "    .dataframe tbody tr th:only-of-type {\n",
       "        vertical-align: middle;\n",
       "    }\n",
       "\n",
       "    .dataframe tbody tr th {\n",
       "        vertical-align: top;\n",
       "    }\n",
       "\n",
       "    .dataframe thead th {\n",
       "        text-align: right;\n",
       "    }\n",
       "</style>\n",
       "<table border=\"1\" class=\"dataframe\">\n",
       "  <thead>\n",
       "    <tr style=\"text-align: right;\">\n",
       "      <th></th>\n",
       "      <th>var1(t-1)</th>\n",
       "      <th>var2(t-1)</th>\n",
       "      <th>var3(t-1)</th>\n",
       "      <th>var1(t)</th>\n",
       "      <th>var2(t)</th>\n",
       "      <th>var3(t)</th>\n",
       "    </tr>\n",
       "  </thead>\n",
       "  <tbody>\n",
       "    <tr>\n",
       "      <th>1</th>\n",
       "      <td>0.600000</td>\n",
       "      <td>0.476190</td>\n",
       "      <td>0.428571</td>\n",
       "      <td>0.400000</td>\n",
       "      <td>0.333333</td>\n",
       "      <td>0.214286</td>\n",
       "    </tr>\n",
       "    <tr>\n",
       "      <th>2</th>\n",
       "      <td>0.400000</td>\n",
       "      <td>0.333333</td>\n",
       "      <td>0.214286</td>\n",
       "      <td>0.533333</td>\n",
       "      <td>0.380952</td>\n",
       "      <td>0.285714</td>\n",
       "    </tr>\n",
       "    <tr>\n",
       "      <th>3</th>\n",
       "      <td>0.533333</td>\n",
       "      <td>0.380952</td>\n",
       "      <td>0.285714</td>\n",
       "      <td>0.600000</td>\n",
       "      <td>0.476190</td>\n",
       "      <td>0.428571</td>\n",
       "    </tr>\n",
       "    <tr>\n",
       "      <th>4</th>\n",
       "      <td>0.600000</td>\n",
       "      <td>0.476190</td>\n",
       "      <td>0.428571</td>\n",
       "      <td>0.666667</td>\n",
       "      <td>0.761905</td>\n",
       "      <td>0.714286</td>\n",
       "    </tr>\n",
       "    <tr>\n",
       "      <th>5</th>\n",
       "      <td>0.666667</td>\n",
       "      <td>0.761905</td>\n",
       "      <td>0.714286</td>\n",
       "      <td>0.333333</td>\n",
       "      <td>0.666667</td>\n",
       "      <td>0.428571</td>\n",
       "    </tr>\n",
       "  </tbody>\n",
       "</table>\n",
       "</div>"
      ],
      "text/plain": [
       "   var1(t-1)  var2(t-1)  var3(t-1)   var1(t)   var2(t)   var3(t)\n",
       "1   0.600000   0.476190   0.428571  0.400000  0.333333  0.214286\n",
       "2   0.400000   0.333333   0.214286  0.533333  0.380952  0.285714\n",
       "3   0.533333   0.380952   0.285714  0.600000  0.476190  0.428571\n",
       "4   0.600000   0.476190   0.428571  0.666667  0.761905  0.714286\n",
       "5   0.666667   0.761905   0.714286  0.333333  0.666667  0.428571"
      ]
     },
     "execution_count": 18,
     "metadata": {
      "tags": []
     },
     "output_type": "execute_result"
    }
   ],
   "source": [
    "reframed.head(5)"
   ]
  },
  {
   "cell_type": "code",
   "execution_count": 19,
   "metadata": {
    "id": "KRd5asxOwheW"
   },
   "outputs": [],
   "source": [
    "#Splitting values into train and test sets \n",
    "n_obs1=14\n",
    "n_obs=7\n",
    "values_r = reframed.values\n",
    "train = values_r[:-n_obs1,:]\n",
    "val =values_r[-n_obs1:-n_obs,:]\n",
    "test =values_r[-n_obs:,:]"
   ]
  },
  {
   "cell_type": "code",
   "execution_count": 20,
   "metadata": {
    "id": "YdjWdXELwhLX"
   },
   "outputs": [],
   "source": [
    "# split into input and outputs\n",
    "train_X, train_y = train[:, :-3], train[:, -3:]\n",
    "val_X, val_y = val[:, :-3], val[:, -3:]\n",
    "test_X, test_y = test[:, :-3], test[:, -3:]"
   ]
  },
  {
   "cell_type": "code",
   "execution_count": 21,
   "metadata": {
    "colab": {
     "base_uri": "https://localhost:8080/",
     "height": 34
    },
    "id": "GHLf_jur9Lmj",
    "outputId": "96c80ee7-9370-43e7-d1b7-b8007e779f9e"
   },
   "outputs": [
    {
     "name": "stdout",
     "output_type": "stream",
     "text": [
      "(507, 1, 3) (507, 3) (7, 1, 3) (7, 3) (7, 1, 3) (7, 3)\n"
     ]
    }
   ],
   "source": [
    "# reshape input to be 3D [samples, timesteps, features] for LSTM algorithms \n",
    "train_X = train_X.reshape((train_X.shape[0], 1, train_X.shape[1]))\n",
    "test_X = test_X.reshape((test_X.shape[0], 1, test_X.shape[1]))\n",
    "val_X = val_X.reshape((val_X.shape[0], 1, val_X.shape[1]))\n",
    "print(train_X.shape, train_y.shape, test_X.shape, test_y.shape,val_X.shape,val_y.shape)"
   ]
  },
  {
   "cell_type": "code",
   "execution_count": 22,
   "metadata": {
    "id": "9ewtdCtt9VVj"
   },
   "outputs": [],
   "source": [
    "#model creation\n",
    "model = Sequential()\n",
    "model.add(Bidirectional(LSTM(50, input_shape=(train_X.shape[1], train_X.shape[2]))))\n",
    "model.add(Dropout(rate=0.5))\n",
    "model.add(Dense(3))\n",
    "model.compile(loss='mae', optimizer='adam')"
   ]
  },
  {
   "cell_type": "code",
   "execution_count": 23,
   "metadata": {
    "colab": {
     "base_uri": "https://localhost:8080/",
     "height": 1000
    },
    "id": "Sk5fUaBy_Vtc",
    "outputId": "4faf13b4-eaa5-4f00-9f73-23bc6e75c65b"
   },
   "outputs": [
    {
     "name": "stdout",
     "output_type": "stream",
     "text": [
      "Epoch 1/50\n",
      "17/17 - 1s - loss: 0.5181 - val_loss: 0.5521\n",
      "Epoch 2/50\n",
      "17/17 - 0s - loss: 0.3826 - val_loss: 0.3761\n",
      "Epoch 3/50\n",
      "17/17 - 0s - loss: 0.2271 - val_loss: 0.1898\n",
      "Epoch 4/50\n",
      "17/17 - 0s - loss: 0.1355 - val_loss: 0.1192\n",
      "Epoch 5/50\n",
      "17/17 - 0s - loss: 0.1305 - val_loss: 0.1053\n",
      "Epoch 6/50\n",
      "17/17 - 0s - loss: 0.1291 - val_loss: 0.1146\n",
      "Epoch 7/50\n",
      "17/17 - 0s - loss: 0.1265 - val_loss: 0.1147\n",
      "Epoch 8/50\n",
      "17/17 - 0s - loss: 0.1253 - val_loss: 0.1135\n",
      "Epoch 9/50\n",
      "17/17 - 0s - loss: 0.1233 - val_loss: 0.1112\n",
      "Epoch 10/50\n",
      "17/17 - 0s - loss: 0.1244 - val_loss: 0.1111\n",
      "Epoch 11/50\n",
      "17/17 - 0s - loss: 0.1249 - val_loss: 0.1115\n",
      "Epoch 12/50\n",
      "17/17 - 0s - loss: 0.1203 - val_loss: 0.1089\n",
      "Epoch 13/50\n",
      "17/17 - 0s - loss: 0.1188 - val_loss: 0.1095\n",
      "Epoch 14/50\n",
      "17/17 - 0s - loss: 0.1206 - val_loss: 0.1079\n",
      "Epoch 15/50\n",
      "17/17 - 0s - loss: 0.1199 - val_loss: 0.1073\n",
      "Epoch 16/50\n",
      "17/17 - 0s - loss: 0.1185 - val_loss: 0.1106\n",
      "Epoch 17/50\n",
      "17/17 - 0s - loss: 0.1160 - val_loss: 0.1085\n",
      "Epoch 18/50\n",
      "17/17 - 0s - loss: 0.1189 - val_loss: 0.1095\n",
      "Epoch 19/50\n",
      "17/17 - 0s - loss: 0.1147 - val_loss: 0.1068\n",
      "Epoch 20/50\n",
      "17/17 - 0s - loss: 0.1150 - val_loss: 0.1060\n",
      "Epoch 21/50\n",
      "17/17 - 0s - loss: 0.1154 - val_loss: 0.1082\n",
      "Epoch 22/50\n",
      "17/17 - 0s - loss: 0.1181 - val_loss: 0.1097\n",
      "Epoch 23/50\n",
      "17/17 - 0s - loss: 0.1139 - val_loss: 0.1080\n",
      "Epoch 24/50\n",
      "17/17 - 0s - loss: 0.1149 - val_loss: 0.1066\n",
      "Epoch 25/50\n",
      "17/17 - 0s - loss: 0.1154 - val_loss: 0.1029\n",
      "Epoch 26/50\n",
      "17/17 - 0s - loss: 0.1141 - val_loss: 0.1035\n",
      "Epoch 27/50\n",
      "17/17 - 0s - loss: 0.1106 - val_loss: 0.1076\n",
      "Epoch 28/50\n",
      "17/17 - 0s - loss: 0.1085 - val_loss: 0.1034\n",
      "Epoch 29/50\n",
      "17/17 - 0s - loss: 0.1090 - val_loss: 0.1047\n",
      "Epoch 30/50\n",
      "17/17 - 0s - loss: 0.1103 - val_loss: 0.1043\n",
      "Epoch 31/50\n",
      "17/17 - 0s - loss: 0.1095 - val_loss: 0.1004\n",
      "Epoch 32/50\n",
      "17/17 - 0s - loss: 0.1116 - val_loss: 0.1020\n",
      "Epoch 33/50\n",
      "17/17 - 0s - loss: 0.1140 - val_loss: 0.1019\n",
      "Epoch 34/50\n",
      "17/17 - 0s - loss: 0.1095 - val_loss: 0.1013\n",
      "Epoch 35/50\n",
      "17/17 - 0s - loss: 0.1104 - val_loss: 0.1013\n",
      "Epoch 36/50\n",
      "17/17 - 0s - loss: 0.1127 - val_loss: 0.1018\n",
      "Epoch 37/50\n",
      "17/17 - 0s - loss: 0.1079 - val_loss: 0.1018\n",
      "Epoch 38/50\n",
      "17/17 - 0s - loss: 0.1097 - val_loss: 0.1033\n",
      "Epoch 39/50\n",
      "17/17 - 0s - loss: 0.1094 - val_loss: 0.1002\n",
      "Epoch 40/50\n",
      "17/17 - 0s - loss: 0.1095 - val_loss: 0.1015\n",
      "Epoch 41/50\n",
      "17/17 - 0s - loss: 0.1093 - val_loss: 0.1004\n",
      "Epoch 42/50\n",
      "17/17 - 0s - loss: 0.1050 - val_loss: 0.1006\n",
      "Epoch 43/50\n",
      "17/17 - 0s - loss: 0.1078 - val_loss: 0.0994\n",
      "Epoch 44/50\n",
      "17/17 - 0s - loss: 0.1072 - val_loss: 0.1025\n",
      "Epoch 45/50\n",
      "17/17 - 0s - loss: 0.1056 - val_loss: 0.1007\n",
      "Epoch 46/50\n",
      "17/17 - 0s - loss: 0.1056 - val_loss: 0.0999\n",
      "Epoch 47/50\n",
      "17/17 - 0s - loss: 0.1053 - val_loss: 0.1008\n",
      "Epoch 48/50\n",
      "17/17 - 0s - loss: 0.1077 - val_loss: 0.0983\n",
      "Epoch 49/50\n",
      "17/17 - 0s - loss: 0.1093 - val_loss: 0.1008\n",
      "Epoch 50/50\n",
      "17/17 - 0s - loss: 0.1081 - val_loss: 0.0984\n"
     ]
    }
   ],
   "source": [
    "#Fitting the model\n",
    "history = model.fit(train_X, train_y, epochs=50, batch_size=30, validation_data=(val_X, val_y), verbose=2, shuffle=False)"
   ]
  },
  {
   "cell_type": "code",
   "execution_count": 24,
   "metadata": {
    "colab": {
     "base_uri": "https://localhost:8080/",
     "height": 265
    },
    "id": "nDUOCoi0_4L7",
    "outputId": "7256735a-09d4-4189-8833-0658eac54aec"
   },
   "outputs": [
    {
     "data": {
      "image/png": "[encoded data removed]",
      "text/plain": [
       "<Figure size 432x288 with 1 Axes>"
      ]
     },
     "metadata": {
      "needs_background": "light",
      "tags": []
     },
     "output_type": "display_data"
    }
   ],
   "source": [
    "# plot history\n",
    "pyplot.plot(history.history['loss'], label='train')\n",
    "pyplot.plot(history.history['val_loss'], label='test')\n",
    "pyplot.legend()\n",
    "pyplot.show()"
   ]
  },
  {
   "cell_type": "code",
   "execution_count": 25,
   "metadata": {
    "id": "5n_-5kkvAMru"
   },
   "outputs": [],
   "source": [
    "# make a prediction\n",
    "forecast = model.predict(test_X)"
   ]
  },
  {
   "cell_type": "code",
   "execution_count": 26,
   "metadata": {
    "id": "kQByg2RFCxnl"
   },
   "outputs": [],
   "source": [
    "# invert scaling for forecast\n",
    "test_X = test_X.reshape((test_X.shape[0], test_X.shape[2]))"
   ]
  },
  {
   "cell_type": "code",
   "execution_count": 27,
   "metadata": {
    "id": "ZVJuMByjF31q"
   },
   "outputs": [],
   "source": [
    "inv_forecast = scaler.inverse_transform(forecast)"
   ]
  },
  {
   "cell_type": "code",
   "execution_count": 28,
   "metadata": {
    "colab": {
     "base_uri": "https://localhost:8080/",
     "height": 297
    },
    "id": "VvNubx3oIZsH",
    "outputId": "a800803a-81eb-47ab-b02c-9ec00a49767f"
   },
   "outputs": [
    {
     "data": {
      "text/html": [
       "<div>\n",
       "<style scoped>\n",
       "    .dataframe tbody tr th:only-of-type {\n",
       "        vertical-align: middle;\n",
       "    }\n",
       "\n",
       "    .dataframe tbody tr th {\n",
       "        vertical-align: top;\n",
       "    }\n",
       "\n",
       "    .dataframe thead th {\n",
       "        text-align: right;\n",
       "    }\n",
       "</style>\n",
       "<table border=\"1\" class=\"dataframe\">\n",
       "  <thead>\n",
       "    <tr style=\"text-align: right;\">\n",
       "      <th></th>\n",
       "      <th>MaxTemp</th>\n",
       "      <th>MinTemp</th>\n",
       "      <th>MeanTemp</th>\n",
       "    </tr>\n",
       "    <tr>\n",
       "      <th>datetime</th>\n",
       "      <th></th>\n",
       "      <th></th>\n",
       "      <th></th>\n",
       "    </tr>\n",
       "  </thead>\n",
       "  <tbody>\n",
       "    <tr>\n",
       "      <th>1944-11-06</th>\n",
       "      <td>28.653074</td>\n",
       "      <td>22.327436</td>\n",
       "      <td>25.597660</td>\n",
       "    </tr>\n",
       "    <tr>\n",
       "      <th>1944-11-07</th>\n",
       "      <td>29.428890</td>\n",
       "      <td>22.417931</td>\n",
       "      <td>26.078751</td>\n",
       "    </tr>\n",
       "    <tr>\n",
       "      <th>1944-11-08</th>\n",
       "      <td>30.479612</td>\n",
       "      <td>24.430525</td>\n",
       "      <td>27.296562</td>\n",
       "    </tr>\n",
       "    <tr>\n",
       "      <th>1944-11-09</th>\n",
       "      <td>30.624250</td>\n",
       "      <td>23.722315</td>\n",
       "      <td>27.161251</td>\n",
       "    </tr>\n",
       "    <tr>\n",
       "      <th>1944-11-10</th>\n",
       "      <td>31.139294</td>\n",
       "      <td>23.906128</td>\n",
       "      <td>27.533079</td>\n",
       "    </tr>\n",
       "    <tr>\n",
       "      <th>1944-11-11</th>\n",
       "      <td>30.624250</td>\n",
       "      <td>23.722315</td>\n",
       "      <td>27.161251</td>\n",
       "    </tr>\n",
       "    <tr>\n",
       "      <th>1944-11-12</th>\n",
       "      <td>29.800219</td>\n",
       "      <td>23.627550</td>\n",
       "      <td>26.645920</td>\n",
       "    </tr>\n",
       "  </tbody>\n",
       "</table>\n",
       "</div>"
      ],
      "text/plain": [
       "              MaxTemp    MinTemp   MeanTemp\n",
       "datetime                                   \n",
       "1944-11-06  28.653074  22.327436  25.597660\n",
       "1944-11-07  29.428890  22.417931  26.078751\n",
       "1944-11-08  30.479612  24.430525  27.296562\n",
       "1944-11-09  30.624250  23.722315  27.161251\n",
       "1944-11-10  31.139294  23.906128  27.533079\n",
       "1944-11-11  30.624250  23.722315  27.161251\n",
       "1944-11-12  29.800219  23.627550  26.645920"
      ]
     },
     "execution_count": 28,
     "metadata": {
      "tags": []
     },
     "output_type": "execute_result"
    }
   ],
   "source": [
    "forecast_df= pd.DataFrame(inv_forecast,columns=[\"MaxTemp\",\"MinTemp\",\"MeanTemp\"])\n",
    "forecast_df.set_index(X_test.index,inplace=True)\n",
    "forecast_df"
   ]
  },
  {
   "cell_type": "code",
   "execution_count": 29,
   "metadata": {
    "id": "iYjM30HEI9RP"
   },
   "outputs": [],
   "source": [
    "true_values= scaler.inverse_transform(test_y)"
   ]
  },
  {
   "cell_type": "code",
   "execution_count": 30,
   "metadata": {
    "colab": {
     "base_uri": "https://localhost:8080/",
     "height": 297
    },
    "id": "RLVjDwxWKGP_",
    "outputId": "5b7fa7f5-437e-4880-b56c-7d68540d073e"
   },
   "outputs": [
    {
     "data": {
      "text/html": [
       "<div>\n",
       "<style scoped>\n",
       "    .dataframe tbody tr th:only-of-type {\n",
       "        vertical-align: middle;\n",
       "    }\n",
       "\n",
       "    .dataframe tbody tr th {\n",
       "        vertical-align: top;\n",
       "    }\n",
       "\n",
       "    .dataframe thead th {\n",
       "        text-align: right;\n",
       "    }\n",
       "</style>\n",
       "<table border=\"1\" class=\"dataframe\">\n",
       "  <thead>\n",
       "    <tr style=\"text-align: right;\">\n",
       "      <th></th>\n",
       "      <th>MaxTemp</th>\n",
       "      <th>MinTemp</th>\n",
       "      <th>MeanTemp</th>\n",
       "    </tr>\n",
       "    <tr>\n",
       "      <th>datetime</th>\n",
       "      <th></th>\n",
       "      <th></th>\n",
       "      <th></th>\n",
       "    </tr>\n",
       "  </thead>\n",
       "  <tbody>\n",
       "    <tr>\n",
       "      <th>1944-11-06</th>\n",
       "      <td>30.000000</td>\n",
       "      <td>20.555555</td>\n",
       "      <td>25.555555</td>\n",
       "    </tr>\n",
       "    <tr>\n",
       "      <th>1944-11-07</th>\n",
       "      <td>30.555555</td>\n",
       "      <td>25.555557</td>\n",
       "      <td>27.777779</td>\n",
       "    </tr>\n",
       "    <tr>\n",
       "      <th>1944-11-08</th>\n",
       "      <td>31.111111</td>\n",
       "      <td>23.333334</td>\n",
       "      <td>27.222221</td>\n",
       "    </tr>\n",
       "    <tr>\n",
       "      <th>1944-11-09</th>\n",
       "      <td>31.666664</td>\n",
       "      <td>23.333334</td>\n",
       "      <td>27.777779</td>\n",
       "    </tr>\n",
       "    <tr>\n",
       "      <th>1944-11-10</th>\n",
       "      <td>31.111111</td>\n",
       "      <td>23.333334</td>\n",
       "      <td>27.222221</td>\n",
       "    </tr>\n",
       "    <tr>\n",
       "      <th>1944-11-11</th>\n",
       "      <td>30.000000</td>\n",
       "      <td>23.888891</td>\n",
       "      <td>26.666666</td>\n",
       "    </tr>\n",
       "    <tr>\n",
       "      <th>1944-11-12</th>\n",
       "      <td>31.111111</td>\n",
       "      <td>23.333334</td>\n",
       "      <td>27.222221</td>\n",
       "    </tr>\n",
       "  </tbody>\n",
       "</table>\n",
       "</div>"
      ],
      "text/plain": [
       "              MaxTemp    MinTemp   MeanTemp\n",
       "datetime                                   \n",
       "1944-11-06  30.000000  20.555555  25.555555\n",
       "1944-11-07  30.555555  25.555557  27.777779\n",
       "1944-11-08  31.111111  23.333334  27.222221\n",
       "1944-11-09  31.666664  23.333334  27.777779\n",
       "1944-11-10  31.111111  23.333334  27.222221\n",
       "1944-11-11  30.000000  23.888891  26.666666\n",
       "1944-11-12  31.111111  23.333334  27.222221"
      ]
     },
     "execution_count": 30,
     "metadata": {
      "tags": []
     },
     "output_type": "execute_result"
    }
   ],
   "source": [
    "true_df= pd.DataFrame(true_values,columns=[\"MaxTemp\",\"MinTemp\",\"MeanTemp\"])\n",
    "true_df.set_index(X_test.index,inplace=True)\n",
    "true_df"
   ]
  },
  {
   "cell_type": "code",
   "execution_count": 31,
   "metadata": {
    "colab": {
     "base_uri": "https://localhost:8080/",
     "height": 729
    },
    "id": "Qk84ml76LXtw",
    "outputId": "6ae83daf-0fda-4e3a-c5a6-258c53dc5f0f"
   },
   "outputs": [
    {
     "data": {
      "image/png": "[encoded data removed]",
      "text/plain": [
       "<Figure size 720x720 with 3 Axes>"
      ]
     },
     "metadata": {
      "needs_background": "light",
      "tags": []
     },
     "output_type": "display_data"
    }
   ],
   "source": [
    "fig, axes = plt.subplots(nrows=3,figsize=(10,10))\n",
    "for i,ax in enumerate(axes.flatten()):\n",
    "  data1= true_df[true_df.columns[i]]\n",
    "  data2= forecast_df[forecast_df.columns[i]]\n",
    "  ax.plot(data1,color=\"blue\",label=\"True values\")\n",
    "  ax.plot(data2,color=\"red\",label=\"Forecast Values\")\n",
    "  fontdict={\"fontsize\":19}\n",
    "  ax.set_title(\"Forecast Vs True values of \"+ true_df.columns[i],fontdict=fontdict)\n",
    "  ax.legend(loc=2)\n",
    "\n",
    "plt.tight_layout()"
   ]
  },
  {
   "cell_type": "code",
   "execution_count": 32,
   "metadata": {
    "id": "ItazF36GNNDb"
   },
   "outputs": [],
   "source": [
    "\n",
    "def forecast_accuracy(forecast, actual):\n",
    "    mape = np.mean(np.abs(forecast - actual)/np.abs(actual)) *100  # MAPE\n",
    "    me = np.mean(forecast - actual)             # ME\n",
    "    mae = np.mean(np.abs(forecast - actual))    # MAE\n",
    "    mpe = np.mean((forecast - actual)/actual)   # MPE\n",
    "    rmse = np.mean((forecast - actual)**2)**.5  # RMSE\n",
    "    corr = np.corrcoef(forecast, actual)[0,1]   # corr\n",
    "    mins = np.amin(np.hstack([forecast[:,None], \n",
    "                              actual[:,None]]), axis=1)\n",
    "    maxs = np.amax(np.hstack([forecast[:,None], \n",
    "                              actual[:,None]]), axis=1)\n",
    "    minmax = 1 - np.mean(mins/maxs)             # minmax\n",
    "    return({'mape':mape, 'me':me, 'mae': mae, \n",
    "            'mpe': mpe, 'rmse':rmse, 'corr':corr, 'minmax':minmax})"
   ]
  },
  {
   "cell_type": "code",
   "execution_count": 33,
   "metadata": {
    "colab": {
     "base_uri": "https://localhost:8080/",
     "height": 513
    },
    "id": "jRyGSRLxNOpS",
    "outputId": "dfb495a7-a3d1-48c9-954f-e25087b43539"
   },
   "outputs": [
    {
     "name": "stdout",
     "output_type": "stream",
     "text": [
      "Forecast Accuracy of: MaxTemp\n",
      "mape :  2.8405\n",
      "me :  -0.6866\n",
      "mae :  0.873\n",
      "mpe :  -0.0222\n",
      "rmse :  0.9767\n",
      "corr :  0.5263\n",
      "minmax :  0.0283\n",
      "Forecast Accuracy of: MinTemp\n",
      "mape :  4.5257\n",
      "me :  0.1173\n",
      "mae :  1.0613\n",
      "mpe :  0.0082\n",
      "rmse :  1.4532\n",
      "corr :  0.1414\n",
      "minmax :  0.0438\n",
      "Forecast Accuracy of: MeanTemp\n",
      "mape :  1.9839\n",
      "me :  -0.2814\n",
      "mae :  0.5448\n",
      "mpe :  -0.01\n",
      "rmse :  0.7509\n",
      "corr :  0.4841\n",
      "minmax :  0.0198\n"
     ]
    },
    {
     "name": "stderr",
     "output_type": "stream",
     "text": [
      "/usr/local/lib/python3.6/dist-packages/ipykernel_launcher.py:10: FutureWarning: Support for multi-dimensional indexing (e.g. `obj[:, None]`) is deprecated and will be removed in a future version.  Convert to a numpy array before indexing instead.\n",
      "  # Remove the CWD from sys.path while we load stuff.\n",
      "/usr/local/lib/python3.6/dist-packages/ipykernel_launcher.py:12: FutureWarning: Support for multi-dimensional indexing (e.g. `obj[:, None]`) is deprecated and will be removed in a future version.  Convert to a numpy array before indexing instead.\n",
      "  if sys.path[0] == '':\n"
     ]
    }
   ],
   "source": [
    "print('Forecast Accuracy of: MaxTemp')\n",
    "accuracy_prod = forecast_accuracy(forecast_df['MaxTemp'].values, true_df['MaxTemp'])\n",
    "for k, v in accuracy_prod.items():\n",
    "    print((k), ': ', round(v,4))\n",
    "print('Forecast Accuracy of: MinTemp')\n",
    "accuracy_prod = forecast_accuracy(forecast_df['MinTemp'].values, true_df['MinTemp'])\n",
    "for k, v in accuracy_prod.items():\n",
    "    print((k), ': ', round(v,4))\n",
    "print('Forecast Accuracy of: MeanTemp')\n",
    "accuracy_prod = forecast_accuracy(forecast_df['MeanTemp'].values, true_df['MeanTemp'])\n",
    "for k, v in accuracy_prod.items():\n",
    "    print((k), ': ', round(v,4))"
   ]
  }
 ],
 "metadata": {
  "accelerator": "GPU",
  "colab": {
   "collapsed_sections": [],
   "include_colab_link": true,
   "name": "LSTM_Temperature_forecasting_model_for_APAPA_LAGOS.ipynb",
   "provenance": []
  },
  "kernelspec": {
   "display_name": "Python 3",
   "language": "python",
   "name": "python3"
  },
  "language_info": {
   "codemirror_mode": {
    "name": "ipython",
    "version": 3
   },
   "file_extension": ".py",
   "mimetype": "text/x-python",
   "name": "python",
   "nbconvert_exporter": "python",
   "pygments_lexer": "ipython3",
   "version": "3.8.3"
  },
  "toc": {
   "base_numbering": 1,
   "nav_menu": {},
   "number_sections": true,
   "sideBar": true,
   "skip_h1_title": false,
   "title_cell": "Table of Contents",
   "title_sidebar": "Contents",
   "toc_cell": false,
   "toc_position": {},
   "toc_section_display": true,
   "toc_window_display": false
  },
  "varInspector": {
   "cols": {
    "lenName": 16,
    "lenType": 16,
    "lenVar": 40
   },
   "kernels_config": {
    "python": {
     "delete_cmd_postfix": "",
     "delete_cmd_prefix": "del ",
     "library": "var_list.py",
     "varRefreshCmd": "print(var_dic_list())"
    },
    "r": {
     "delete_cmd_postfix": ") ",
     "delete_cmd_prefix": "rm(",
     "library": "var_list.r",
     "varRefreshCmd": "cat(var_dic_list()) "
    }
   },
   "types_to_exclude": [
    "module",
    "function",
    "builtin_function_or_method",
    "instance",
    "_Feature"
   ],
   "window_display": false
  }
 },
 "nbformat": 4,
 "nbformat_minor": 1
}
