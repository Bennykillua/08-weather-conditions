{
  "nbformat": 4,
  "nbformat_minor": 0,
  "metadata": {
    "colab": {
      "name": "VECM_Temperature_forecasting_model_for_APAPA_LAGOS.ipynb",
      "provenance": [],
      "include_colab_link": true
    },
    "kernelspec": {
      "name": "python3",
      "display_name": "Python 3"
    }
  },
  "cells": [
    {
      "cell_type": "markdown",
      "metadata": {
        "id": "view-in-github",
        "colab_type": "text"
      },
      "source": [
        "<a href=\"https://colab.research.google.com/github/Hab-eeb/08-weather-conditions/blob/master/model/VECM_Temperature_forecasting_model_for_APAPA_LAGOS.ipynb\" target=\"_parent\"><img src=\"https://colab.research.google.com/assets/colab-badge.svg\" alt=\"Open In Colab\"/></a>"
      ]
    },
    {
      "cell_type": "code",
      "metadata": {
        "id": "3qYeZg-eQhLu",
        "outputId": "4d124c56-a198-44ef-939e-c27c80f60c33",
        "colab": {
          "base_uri": "https://localhost:8080/",
          "height": 51
        }
      },
      "source": [
        "import pandas as pd\n",
        "import numpy as np\n",
        "import matplotlib.pyplot as plt\n",
        "%matplotlib inline\n",
        "\n",
        "# Import Statsmodels\n",
        "from statsmodels.graphics.tsaplots import plot_acf\n",
        "from statsmodels.graphics.tsaplots import plot_pacf\n",
        "from statsmodels.tsa.api import VAR\n",
        "from statsmodels.tsa.stattools import adfuller\n",
        "from statsmodels.tools.eval_measures import rmse, aic"
      ],
      "execution_count": 2,
      "outputs": [
        {
          "output_type": "stream",
          "text": [
            "/usr/local/lib/python3.6/dist-packages/statsmodels/tools/_testing.py:19: FutureWarning: pandas.util.testing is deprecated. Use the functions in the public API at pandas.testing instead.\n",
            "  import pandas.util.testing as tm\n"
          ],
          "name": "stderr"
        }
      ]
    },
    {
      "cell_type": "code",
      "metadata": {
        "id": "aPIjHJZWRkrT",
        "outputId": "f474c63e-71a8-41e5-b686-e9b6e3ff8a01",
        "colab": {
          "base_uri": "https://localhost:8080/",
          "height": 204
        }
      },
      "source": [
        "df_station = pd.read_csv('https://raw.githubusercontent.com/HamoyeHQ/08-weather-conditions/master/data/Cleanedstationlocation.csv')\n",
        "df_station.head()"
      ],
      "execution_count": 3,
      "outputs": [
        {
          "output_type": "execute_result",
          "data": {
            "text/html": [
              "<div>\n",
              "<style scoped>\n",
              "    .dataframe tbody tr th:only-of-type {\n",
              "        vertical-align: middle;\n",
              "    }\n",
              "\n",
              "    .dataframe tbody tr th {\n",
              "        vertical-align: top;\n",
              "    }\n",
              "\n",
              "    .dataframe thead th {\n",
              "        text-align: right;\n",
              "    }\n",
              "</style>\n",
              "<table border=\"1\" class=\"dataframe\">\n",
              "  <thead>\n",
              "    <tr style=\"text-align: right;\">\n",
              "      <th></th>\n",
              "      <th>WBAN</th>\n",
              "      <th>NAME</th>\n",
              "      <th>STATE/COUNTRY ID</th>\n",
              "      <th>LAT</th>\n",
              "      <th>LON</th>\n",
              "      <th>ELEV</th>\n",
              "      <th>Latitude</th>\n",
              "      <th>Longitude</th>\n",
              "    </tr>\n",
              "  </thead>\n",
              "  <tbody>\n",
              "    <tr>\n",
              "      <th>0</th>\n",
              "      <td>33013</td>\n",
              "      <td>AIN EL</td>\n",
              "      <td>AL</td>\n",
              "      <td>3623N</td>\n",
              "      <td>00637E</td>\n",
              "      <td>611</td>\n",
              "      <td>36.383333</td>\n",
              "      <td>6.650000</td>\n",
              "    </tr>\n",
              "    <tr>\n",
              "      <th>1</th>\n",
              "      <td>33031</td>\n",
              "      <td>LA SENIA</td>\n",
              "      <td>AL</td>\n",
              "      <td>3537N</td>\n",
              "      <td>00037E</td>\n",
              "      <td>88</td>\n",
              "      <td>35.616667</td>\n",
              "      <td>0.583333</td>\n",
              "    </tr>\n",
              "    <tr>\n",
              "      <th>2</th>\n",
              "      <td>33023</td>\n",
              "      <td>MAISON BLANCHE</td>\n",
              "      <td>AL</td>\n",
              "      <td>3643N</td>\n",
              "      <td>00314E</td>\n",
              "      <td>23</td>\n",
              "      <td>36.716667</td>\n",
              "      <td>3.216667</td>\n",
              "    </tr>\n",
              "    <tr>\n",
              "      <th>3</th>\n",
              "      <td>33044</td>\n",
              "      <td>TELERGMA</td>\n",
              "      <td>AL</td>\n",
              "      <td>3607N</td>\n",
              "      <td>00621E</td>\n",
              "      <td>754</td>\n",
              "      <td>36.116667</td>\n",
              "      <td>6.416667</td>\n",
              "    </tr>\n",
              "    <tr>\n",
              "      <th>4</th>\n",
              "      <td>12001</td>\n",
              "      <td>TINDOUF</td>\n",
              "      <td>AL</td>\n",
              "      <td>2741N</td>\n",
              "      <td>00809W</td>\n",
              "      <td>443</td>\n",
              "      <td>27.683333</td>\n",
              "      <td>-8.083333</td>\n",
              "    </tr>\n",
              "  </tbody>\n",
              "</table>\n",
              "</div>"
            ],
            "text/plain": [
              "    WBAN            NAME STATE/COUNTRY ID  ... ELEV   Latitude  Longitude\n",
              "0  33013          AIN EL               AL  ...  611  36.383333   6.650000\n",
              "1  33031        LA SENIA               AL  ...   88  35.616667   0.583333\n",
              "2  33023  MAISON BLANCHE               AL  ...   23  36.716667   3.216667\n",
              "3  33044        TELERGMA               AL  ...  754  36.116667   6.416667\n",
              "4  12001         TINDOUF               AL  ...  443  27.683333  -8.083333\n",
              "\n",
              "[5 rows x 8 columns]"
            ]
          },
          "metadata": {
            "tags": []
          },
          "execution_count": 3
        }
      ]
    },
    {
      "cell_type": "code",
      "metadata": {
        "id": "Mf7hLGThRv3w",
        "outputId": "5f92927d-8595-45ac-cba2-6aaf29838b1a",
        "colab": {
          "base_uri": "https://localhost:8080/",
          "height": 204
        }
      },
      "source": [
        "df_weather = pd.read_csv('https://raw.githubusercontent.com/HamoyeHQ/08-weather-conditions/master/data/Cleanedweathersummary.csv')\n",
        "df_weather.head()"
      ],
      "execution_count": 4,
      "outputs": [
        {
          "output_type": "execute_result",
          "data": {
            "text/html": [
              "<div>\n",
              "<style scoped>\n",
              "    .dataframe tbody tr th:only-of-type {\n",
              "        vertical-align: middle;\n",
              "    }\n",
              "\n",
              "    .dataframe tbody tr th {\n",
              "        vertical-align: top;\n",
              "    }\n",
              "\n",
              "    .dataframe thead th {\n",
              "        text-align: right;\n",
              "    }\n",
              "</style>\n",
              "<table border=\"1\" class=\"dataframe\">\n",
              "  <thead>\n",
              "    <tr style=\"text-align: right;\">\n",
              "      <th></th>\n",
              "      <th>STA</th>\n",
              "      <th>Date</th>\n",
              "      <th>Precip</th>\n",
              "      <th>MaxTemp</th>\n",
              "      <th>MinTemp</th>\n",
              "      <th>MeanTemp</th>\n",
              "      <th>Snowfall</th>\n",
              "      <th>PoorWeather</th>\n",
              "      <th>YR</th>\n",
              "      <th>MO</th>\n",
              "      <th>DA</th>\n",
              "    </tr>\n",
              "  </thead>\n",
              "  <tbody>\n",
              "    <tr>\n",
              "      <th>0</th>\n",
              "      <td>10001</td>\n",
              "      <td>1942-07-01</td>\n",
              "      <td>1</td>\n",
              "      <td>25</td>\n",
              "      <td>22</td>\n",
              "      <td>23</td>\n",
              "      <td>0</td>\n",
              "      <td>0</td>\n",
              "      <td>42</td>\n",
              "      <td>7</td>\n",
              "      <td>1</td>\n",
              "    </tr>\n",
              "    <tr>\n",
              "      <th>1</th>\n",
              "      <td>10001</td>\n",
              "      <td>1942-07-02</td>\n",
              "      <td>0</td>\n",
              "      <td>28</td>\n",
              "      <td>21</td>\n",
              "      <td>25</td>\n",
              "      <td>0</td>\n",
              "      <td>0</td>\n",
              "      <td>42</td>\n",
              "      <td>7</td>\n",
              "      <td>2</td>\n",
              "    </tr>\n",
              "    <tr>\n",
              "      <th>2</th>\n",
              "      <td>10001</td>\n",
              "      <td>1942-07-03</td>\n",
              "      <td>2</td>\n",
              "      <td>26</td>\n",
              "      <td>22</td>\n",
              "      <td>24</td>\n",
              "      <td>0</td>\n",
              "      <td>0</td>\n",
              "      <td>42</td>\n",
              "      <td>7</td>\n",
              "      <td>3</td>\n",
              "    </tr>\n",
              "    <tr>\n",
              "      <th>3</th>\n",
              "      <td>10001</td>\n",
              "      <td>1942-07-04</td>\n",
              "      <td>2</td>\n",
              "      <td>26</td>\n",
              "      <td>22</td>\n",
              "      <td>24</td>\n",
              "      <td>0</td>\n",
              "      <td>0</td>\n",
              "      <td>42</td>\n",
              "      <td>7</td>\n",
              "      <td>4</td>\n",
              "    </tr>\n",
              "    <tr>\n",
              "      <th>4</th>\n",
              "      <td>10001</td>\n",
              "      <td>1942-07-05</td>\n",
              "      <td>0</td>\n",
              "      <td>26</td>\n",
              "      <td>21</td>\n",
              "      <td>24</td>\n",
              "      <td>0</td>\n",
              "      <td>0</td>\n",
              "      <td>42</td>\n",
              "      <td>7</td>\n",
              "      <td>5</td>\n",
              "    </tr>\n",
              "  </tbody>\n",
              "</table>\n",
              "</div>"
            ],
            "text/plain": [
              "     STA        Date  Precip  MaxTemp  ...  PoorWeather  YR  MO  DA\n",
              "0  10001  1942-07-01       1       25  ...            0  42   7   1\n",
              "1  10001  1942-07-02       0       28  ...            0  42   7   2\n",
              "2  10001  1942-07-03       2       26  ...            0  42   7   3\n",
              "3  10001  1942-07-04       2       26  ...            0  42   7   4\n",
              "4  10001  1942-07-05       0       26  ...            0  42   7   5\n",
              "\n",
              "[5 rows x 11 columns]"
            ]
          },
          "metadata": {
            "tags": []
          },
          "execution_count": 4
        }
      ]
    },
    {
      "cell_type": "code",
      "metadata": {
        "id": "R0JsoDs7SBjB"
      },
      "source": [
        "df_weather.drop(['YR','MO','DA'], axis=1,inplace = True)"
      ],
      "execution_count": 5,
      "outputs": []
    },
    {
      "cell_type": "code",
      "metadata": {
        "id": "RBl2SyGsSBf5",
        "outputId": "4be04b03-14b4-4f56-97f0-31ec1553d503",
        "colab": {
          "base_uri": "https://localhost:8080/",
          "height": 235
        }
      },
      "source": [
        "from datetime import datetime\n",
        "df_weather['datetime'] = pd.to_datetime(df_weather['Date'])\n",
        "# setting STA as the index to select APAPA weather station \n",
        "df_weather = df_weather.set_index('STA')\n",
        "df_weather.drop(['Date'], axis=1, inplace=True)\n",
        "df_weather.head()"
      ],
      "execution_count": 6,
      "outputs": [
        {
          "output_type": "execute_result",
          "data": {
            "text/html": [
              "<div>\n",
              "<style scoped>\n",
              "    .dataframe tbody tr th:only-of-type {\n",
              "        vertical-align: middle;\n",
              "    }\n",
              "\n",
              "    .dataframe tbody tr th {\n",
              "        vertical-align: top;\n",
              "    }\n",
              "\n",
              "    .dataframe thead th {\n",
              "        text-align: right;\n",
              "    }\n",
              "</style>\n",
              "<table border=\"1\" class=\"dataframe\">\n",
              "  <thead>\n",
              "    <tr style=\"text-align: right;\">\n",
              "      <th></th>\n",
              "      <th>Precip</th>\n",
              "      <th>MaxTemp</th>\n",
              "      <th>MinTemp</th>\n",
              "      <th>MeanTemp</th>\n",
              "      <th>Snowfall</th>\n",
              "      <th>PoorWeather</th>\n",
              "      <th>datetime</th>\n",
              "    </tr>\n",
              "    <tr>\n",
              "      <th>STA</th>\n",
              "      <th></th>\n",
              "      <th></th>\n",
              "      <th></th>\n",
              "      <th></th>\n",
              "      <th></th>\n",
              "      <th></th>\n",
              "      <th></th>\n",
              "    </tr>\n",
              "  </thead>\n",
              "  <tbody>\n",
              "    <tr>\n",
              "      <th>10001</th>\n",
              "      <td>1</td>\n",
              "      <td>25</td>\n",
              "      <td>22</td>\n",
              "      <td>23</td>\n",
              "      <td>0</td>\n",
              "      <td>0</td>\n",
              "      <td>1942-07-01</td>\n",
              "    </tr>\n",
              "    <tr>\n",
              "      <th>10001</th>\n",
              "      <td>0</td>\n",
              "      <td>28</td>\n",
              "      <td>21</td>\n",
              "      <td>25</td>\n",
              "      <td>0</td>\n",
              "      <td>0</td>\n",
              "      <td>1942-07-02</td>\n",
              "    </tr>\n",
              "    <tr>\n",
              "      <th>10001</th>\n",
              "      <td>2</td>\n",
              "      <td>26</td>\n",
              "      <td>22</td>\n",
              "      <td>24</td>\n",
              "      <td>0</td>\n",
              "      <td>0</td>\n",
              "      <td>1942-07-03</td>\n",
              "    </tr>\n",
              "    <tr>\n",
              "      <th>10001</th>\n",
              "      <td>2</td>\n",
              "      <td>26</td>\n",
              "      <td>22</td>\n",
              "      <td>24</td>\n",
              "      <td>0</td>\n",
              "      <td>0</td>\n",
              "      <td>1942-07-04</td>\n",
              "    </tr>\n",
              "    <tr>\n",
              "      <th>10001</th>\n",
              "      <td>0</td>\n",
              "      <td>26</td>\n",
              "      <td>21</td>\n",
              "      <td>24</td>\n",
              "      <td>0</td>\n",
              "      <td>0</td>\n",
              "      <td>1942-07-05</td>\n",
              "    </tr>\n",
              "  </tbody>\n",
              "</table>\n",
              "</div>"
            ],
            "text/plain": [
              "       Precip  MaxTemp  MinTemp  MeanTemp  Snowfall  PoorWeather   datetime\n",
              "STA                                                                        \n",
              "10001       1       25       22        23         0            0 1942-07-01\n",
              "10001       0       28       21        25         0            0 1942-07-02\n",
              "10001       2       26       22        24         0            0 1942-07-03\n",
              "10001       2       26       22        24         0            0 1942-07-04\n",
              "10001       0       26       21        24         0            0 1942-07-05"
            ]
          },
          "metadata": {
            "tags": []
          },
          "execution_count": 6
        }
      ]
    },
    {
      "cell_type": "code",
      "metadata": {
        "id": "0i5CWoa8SMSx",
        "outputId": "d951464f-1721-4cef-d1fd-153e4b429f40",
        "colab": {
          "base_uri": "https://localhost:8080/",
          "height": 235
        }
      },
      "source": [
        "df_weather = df_weather.loc['30001']\n",
        "df_weather = df_weather.set_index('datetime')\n",
        "df_weather.head()"
      ],
      "execution_count": 7,
      "outputs": [
        {
          "output_type": "execute_result",
          "data": {
            "text/html": [
              "<div>\n",
              "<style scoped>\n",
              "    .dataframe tbody tr th:only-of-type {\n",
              "        vertical-align: middle;\n",
              "    }\n",
              "\n",
              "    .dataframe tbody tr th {\n",
              "        vertical-align: top;\n",
              "    }\n",
              "\n",
              "    .dataframe thead th {\n",
              "        text-align: right;\n",
              "    }\n",
              "</style>\n",
              "<table border=\"1\" class=\"dataframe\">\n",
              "  <thead>\n",
              "    <tr style=\"text-align: right;\">\n",
              "      <th></th>\n",
              "      <th>Precip</th>\n",
              "      <th>MaxTemp</th>\n",
              "      <th>MinTemp</th>\n",
              "      <th>MeanTemp</th>\n",
              "      <th>Snowfall</th>\n",
              "      <th>PoorWeather</th>\n",
              "    </tr>\n",
              "    <tr>\n",
              "      <th>datetime</th>\n",
              "      <th></th>\n",
              "      <th></th>\n",
              "      <th></th>\n",
              "      <th></th>\n",
              "      <th></th>\n",
              "      <th></th>\n",
              "    </tr>\n",
              "  </thead>\n",
              "  <tbody>\n",
              "    <tr>\n",
              "      <th>1943-06-09</th>\n",
              "      <td>23</td>\n",
              "      <td>28</td>\n",
              "      <td>22</td>\n",
              "      <td>25</td>\n",
              "      <td>0</td>\n",
              "      <td>1</td>\n",
              "    </tr>\n",
              "    <tr>\n",
              "      <th>1943-06-10</th>\n",
              "      <td>19</td>\n",
              "      <td>27</td>\n",
              "      <td>20</td>\n",
              "      <td>23</td>\n",
              "      <td>0</td>\n",
              "      <td>1</td>\n",
              "    </tr>\n",
              "    <tr>\n",
              "      <th>1943-06-11</th>\n",
              "      <td>0</td>\n",
              "      <td>28</td>\n",
              "      <td>21</td>\n",
              "      <td>24</td>\n",
              "      <td>0</td>\n",
              "      <td>1</td>\n",
              "    </tr>\n",
              "    <tr>\n",
              "      <th>1943-06-12</th>\n",
              "      <td>0</td>\n",
              "      <td>28</td>\n",
              "      <td>22</td>\n",
              "      <td>25</td>\n",
              "      <td>0</td>\n",
              "      <td>1</td>\n",
              "    </tr>\n",
              "    <tr>\n",
              "      <th>1943-06-13</th>\n",
              "      <td>0</td>\n",
              "      <td>29</td>\n",
              "      <td>25</td>\n",
              "      <td>27</td>\n",
              "      <td>0</td>\n",
              "      <td>1</td>\n",
              "    </tr>\n",
              "  </tbody>\n",
              "</table>\n",
              "</div>"
            ],
            "text/plain": [
              "            Precip  MaxTemp  MinTemp  MeanTemp  Snowfall  PoorWeather\n",
              "datetime                                                             \n",
              "1943-06-09      23       28       22        25         0            1\n",
              "1943-06-10      19       27       20        23         0            1\n",
              "1943-06-11       0       28       21        24         0            1\n",
              "1943-06-12       0       28       22        25         0            1\n",
              "1943-06-13       0       29       25        27         0            1"
            ]
          },
          "metadata": {
            "tags": []
          },
          "execution_count": 7
        }
      ]
    },
    {
      "cell_type": "code",
      "metadata": {
        "id": "Lb-s7McMSm_k"
      },
      "source": [
        "df_weather.drop(['Snowfall','PoorWeather','Precip'], axis=1,inplace = True)"
      ],
      "execution_count": 8,
      "outputs": []
    },
    {
      "cell_type": "code",
      "metadata": {
        "id": "jNwGbN3QS4mc"
      },
      "source": [
        "# save to file\n",
        "df_weather.to_csv('weather.csv')"
      ],
      "execution_count": 9,
      "outputs": []
    },
    {
      "cell_type": "code",
      "metadata": {
        "id": "Nfx-Kx8xTAsc",
        "outputId": "3d113e13-141e-438e-f973-b774902ba6b4",
        "colab": {
          "base_uri": "https://localhost:8080/",
          "height": 297
        }
      },
      "source": [
        "df_weather.describe()"
      ],
      "execution_count": 10,
      "outputs": [
        {
          "output_type": "execute_result",
          "data": {
            "text/html": [
              "<div>\n",
              "<style scoped>\n",
              "    .dataframe tbody tr th:only-of-type {\n",
              "        vertical-align: middle;\n",
              "    }\n",
              "\n",
              "    .dataframe tbody tr th {\n",
              "        vertical-align: top;\n",
              "    }\n",
              "\n",
              "    .dataframe thead th {\n",
              "        text-align: right;\n",
              "    }\n",
              "</style>\n",
              "<table border=\"1\" class=\"dataframe\">\n",
              "  <thead>\n",
              "    <tr style=\"text-align: right;\">\n",
              "      <th></th>\n",
              "      <th>MaxTemp</th>\n",
              "      <th>MinTemp</th>\n",
              "      <th>MeanTemp</th>\n",
              "    </tr>\n",
              "  </thead>\n",
              "  <tbody>\n",
              "    <tr>\n",
              "      <th>count</th>\n",
              "      <td>522.000000</td>\n",
              "      <td>522.000000</td>\n",
              "      <td>522.000000</td>\n",
              "    </tr>\n",
              "    <tr>\n",
              "      <th>mean</th>\n",
              "      <td>28.490421</td>\n",
              "      <td>22.662835</td>\n",
              "      <td>25.561303</td>\n",
              "    </tr>\n",
              "    <tr>\n",
              "      <th>std</th>\n",
              "      <td>1.771199</td>\n",
              "      <td>1.540658</td>\n",
              "      <td>1.353561</td>\n",
              "    </tr>\n",
              "    <tr>\n",
              "      <th>min</th>\n",
              "      <td>23.000000</td>\n",
              "      <td>16.000000</td>\n",
              "      <td>22.000000</td>\n",
              "    </tr>\n",
              "    <tr>\n",
              "      <th>25%</th>\n",
              "      <td>27.000000</td>\n",
              "      <td>22.000000</td>\n",
              "      <td>25.000000</td>\n",
              "    </tr>\n",
              "    <tr>\n",
              "      <th>50%</th>\n",
              "      <td>28.000000</td>\n",
              "      <td>22.000000</td>\n",
              "      <td>25.000000</td>\n",
              "    </tr>\n",
              "    <tr>\n",
              "      <th>75%</th>\n",
              "      <td>30.000000</td>\n",
              "      <td>23.000000</td>\n",
              "      <td>26.000000</td>\n",
              "    </tr>\n",
              "    <tr>\n",
              "      <th>max</th>\n",
              "      <td>32.000000</td>\n",
              "      <td>28.000000</td>\n",
              "      <td>30.000000</td>\n",
              "    </tr>\n",
              "  </tbody>\n",
              "</table>\n",
              "</div>"
            ],
            "text/plain": [
              "          MaxTemp     MinTemp    MeanTemp\n",
              "count  522.000000  522.000000  522.000000\n",
              "mean    28.490421   22.662835   25.561303\n",
              "std      1.771199    1.540658    1.353561\n",
              "min     23.000000   16.000000   22.000000\n",
              "25%     27.000000   22.000000   25.000000\n",
              "50%     28.000000   22.000000   25.000000\n",
              "75%     30.000000   23.000000   26.000000\n",
              "max     32.000000   28.000000   30.000000"
            ]
          },
          "metadata": {
            "tags": []
          },
          "execution_count": 10
        }
      ]
    },
    {
      "cell_type": "code",
      "metadata": {
        "id": "YCno2wpATFIe",
        "outputId": "cb43e870-104e-4d14-b70f-c4e474755ce3",
        "colab": {
          "base_uri": "https://localhost:8080/",
          "height": 724
        }
      },
      "source": [
        "#Visualize the Time Series\n",
        "# Plot\n",
        "fig, axes = plt.subplots(nrows=3, ncols=1, dpi=120, figsize=(10,6))\n",
        "for i, ax in enumerate(axes.flatten()):\n",
        "    data = df_weather[df_weather.columns[i]]\n",
        "    ax.plot(data, color='red', linewidth=1)\n",
        "    # Decorations\n",
        "    ax.set_title(df_weather.columns[i])\n",
        "    ax.xaxis.set_ticks_position('none')\n",
        "    ax.yaxis.set_ticks_position('none')\n",
        "    ax.spines[\"top\"].set_alpha(0)\n",
        "    ax.tick_params(labelsize=6)\n",
        "\n",
        "plt.tight_layout();"
      ],
      "execution_count": 11,
      "outputs": [
        {
          "output_type": "display_data",
          "data": {
            "image/png": "[encoded data removed]",
            "text/plain": [
              "<Figure size 1200x720 with 3 Axes>"
            ]
          },
          "metadata": {
            "tags": [],
            "needs_background": "light"
          }
        }
      ]
    },
    {
      "cell_type": "code",
      "metadata": {
        "id": "XxrbxKxQWWte",
        "outputId": "6218c118-44b2-4ec0-f30a-c4d46fd3a2e1",
        "colab": {
          "base_uri": "https://localhost:8080/",
          "height": 51
        }
      },
      "source": [
        "# Split the Series into Training and Testing Data, I will hold back the last 7 days\n",
        "n_obs = 7\n",
        "X_train, X_test = df_weather[0:-n_obs], df_weather[-n_obs:]\n",
        "# Check size\n",
        "print(X_train.shape)\n",
        "print(X_test.shape)"
      ],
      "execution_count": 12,
      "outputs": [
        {
          "output_type": "stream",
          "text": [
            "(515, 3)\n",
            "(7, 3)\n"
          ],
          "name": "stdout"
        }
      ]
    },
    {
      "cell_type": "markdown",
      "metadata": {
        "id": "XPKRe9D-aqtL"
      },
      "source": [
        "## Testing Causation using Granger’s Causality Test\n",
        "The basis behind Vector AutoRegression is that each of the time series in the system influences each other. That is, you can predict the series with past values of itself along with other series in the system.\n",
        "\n",
        "Using Granger’s Causality Test, it’s possible to test this relationship before even building the model.\n",
        "\n",
        "\n",
        "Granger’s causality tests the null hypothesis that the coefficients of past values in the regression equation is zero.\n",
        "\n",
        "In simpler terms, the past values of time series (X) do not cause the other series (Y). So, if the p-value obtained from the test is lesser than the significance level of 0.05, then, you can safely reject the null hypothesis."
      ]
    },
    {
      "cell_type": "code",
      "metadata": {
        "id": "isSB2Ftsb13Z",
        "outputId": "a27e3307-7077-4f2a-9060-3aa79ab825c2",
        "colab": {
          "base_uri": "https://localhost:8080/",
          "height": 381
        }
      },
      "source": [
        "# Import Statsmodels\n",
        "from statsmodels.tsa.api import VAR\n",
        "from statsmodels.tsa.stattools import adfuller\n",
        "from statsmodels.tools.eval_measures import rmse, aic\n",
        "model = VAR(df_weather)\n",
        "x = model.select_order(maxlags=12)\n",
        "x.summary()"
      ],
      "execution_count": 13,
      "outputs": [
        {
          "output_type": "stream",
          "text": [
            "/usr/local/lib/python3.6/dist-packages/statsmodels/tsa/base/tsa_model.py:219: ValueWarning: A date index has been provided, but it has no associated frequency information and so will be ignored when e.g. forecasting.\n",
            "  ' ignored when e.g. forecasting.', ValueWarning)\n"
          ],
          "name": "stderr"
        },
        {
          "output_type": "execute_result",
          "data": {
            "text/html": [
              "<table class=\"simpletable\">\n",
              "<caption>VAR Order Selection (* highlights the minimums)</caption>\n",
              "<tr>\n",
              "   <td></td>      <th>AIC</th>         <th>BIC</th>         <th>FPE</th>        <th>HQIC</th>    \n",
              "</tr>\n",
              "<tr>\n",
              "  <th>0</th>  <td>   -0.1262</td>  <td>   -0.1013</td>  <td>    0.8815</td>  <td>   -0.1164</td> \n",
              "</tr>\n",
              "<tr>\n",
              "  <th>1</th>  <td>    -1.181</td>  <td>    -1.082</td>  <td>    0.3068</td>  <td>    -1.142</td> \n",
              "</tr>\n",
              "<tr>\n",
              "  <th>2</th>  <td>    -1.275</td>  <td>    -1.101*</td> <td>    0.2794</td>  <td>    -1.207</td> \n",
              "</tr>\n",
              "<tr>\n",
              "  <th>3</th>  <td>    -1.314</td>  <td>    -1.065</td>  <td>    0.2688</td>  <td>    -1.216*</td>\n",
              "</tr>\n",
              "<tr>\n",
              "  <th>4</th>  <td>    -1.342</td>  <td>    -1.019</td>  <td>    0.2612</td>  <td>    -1.215</td> \n",
              "</tr>\n",
              "<tr>\n",
              "  <th>5</th>  <td>    -1.353</td>  <td>   -0.9549</td>  <td>    0.2584</td>  <td>    -1.197</td> \n",
              "</tr>\n",
              "<tr>\n",
              "  <th>6</th>  <td>    -1.352</td>  <td>   -0.8788</td>  <td>    0.2587</td>  <td>    -1.167</td> \n",
              "</tr>\n",
              "<tr>\n",
              "  <th>7</th>  <td>    -1.354*</td> <td>   -0.8063</td>  <td>    0.2582*</td> <td>    -1.139</td> \n",
              "</tr>\n",
              "<tr>\n",
              "  <th>8</th>  <td>    -1.351</td>  <td>   -0.7288</td>  <td>    0.2589</td>  <td>    -1.107</td> \n",
              "</tr>\n",
              "<tr>\n",
              "  <th>9</th>  <td>    -1.338</td>  <td>   -0.6410</td>  <td>    0.2623</td>  <td>    -1.065</td> \n",
              "</tr>\n",
              "<tr>\n",
              "  <th>10</th> <td>    -1.317</td>  <td>   -0.5447</td>  <td>    0.2681</td>  <td>    -1.014</td> \n",
              "</tr>\n",
              "<tr>\n",
              "  <th>11</th> <td>    -1.301</td>  <td>   -0.4545</td>  <td>    0.2723</td>  <td>   -0.9694</td> \n",
              "</tr>\n",
              "<tr>\n",
              "  <th>12</th> <td>    -1.291</td>  <td>   -0.3694</td>  <td>    0.2752</td>  <td>   -0.9296</td> \n",
              "</tr>\n",
              "</table>"
            ],
            "text/plain": [
              "<class 'statsmodels.iolib.table.SimpleTable'>"
            ]
          },
          "metadata": {
            "tags": []
          },
          "execution_count": 13
        }
      ]
    },
    {
      "cell_type": "markdown",
      "metadata": {
        "id": "SbULVYMHjWRg"
      },
      "source": [
        "\n",
        "I have implemented Akaike’s Information Criteria (AIC) through the VAR (p) to determine the lag order value. "
      ]
    },
    {
      "cell_type": "code",
      "metadata": {
        "id": "OJhnFhIeaIXu",
        "outputId": "25b209d6-c999-479b-92fa-bbf70086d9ca",
        "colab": {
          "base_uri": "https://localhost:8080/",
          "height": 142
        }
      },
      "source": [
        "#https://stackoverflow.com/questions/43443856/simple-granger-casuality-test-using-statsmodels-tsa-grangercausalitytests\n",
        "from statsmodels.tsa.stattools import grangercausalitytests\n",
        "maxlag= 7\n",
        "\n",
        "test = 'ssr-chi2test'\n",
        "\n",
        "def grangers_causality_matrix(data, variables, test = 'ssr_chi2test', verbose=False):\n",
        "\n",
        "    dataset = pd.DataFrame(np.zeros((len(variables), len(variables))), columns=variables, index=variables)\n",
        "\n",
        "    for c in dataset.columns:\n",
        "        for r in dataset.index:\n",
        "            test_result = grangercausalitytests(data[[r,c]], maxlag=maxlag, verbose=False)\n",
        "            p_values = [round(test_result[i+1][0][test][1],4) for i in range(maxlag)]\n",
        "            if verbose: print(f'Y = {r}, X = {c}, P Values = {p_values}')\n",
        "\n",
        "            min_p_value = np.min(p_values)\n",
        "            dataset.loc[r,c] = min_p_value\n",
        "\n",
        "    dataset.columns = [var + '_x' for var in variables]\n",
        "\n",
        "    dataset.index = [var + '_y' for var in variables]\n",
        "\n",
        "    return dataset\n",
        "\n",
        "grangers_causality_matrix(df_weather, variables = df_weather.columns)"
      ],
      "execution_count": 14,
      "outputs": [
        {
          "output_type": "execute_result",
          "data": {
            "text/html": [
              "<div>\n",
              "<style scoped>\n",
              "    .dataframe tbody tr th:only-of-type {\n",
              "        vertical-align: middle;\n",
              "    }\n",
              "\n",
              "    .dataframe tbody tr th {\n",
              "        vertical-align: top;\n",
              "    }\n",
              "\n",
              "    .dataframe thead th {\n",
              "        text-align: right;\n",
              "    }\n",
              "</style>\n",
              "<table border=\"1\" class=\"dataframe\">\n",
              "  <thead>\n",
              "    <tr style=\"text-align: right;\">\n",
              "      <th></th>\n",
              "      <th>MaxTemp_x</th>\n",
              "      <th>MinTemp_x</th>\n",
              "      <th>MeanTemp_x</th>\n",
              "    </tr>\n",
              "  </thead>\n",
              "  <tbody>\n",
              "    <tr>\n",
              "      <th>MaxTemp_y</th>\n",
              "      <td>1.0</td>\n",
              "      <td>0.3625</td>\n",
              "      <td>0.1008</td>\n",
              "    </tr>\n",
              "    <tr>\n",
              "      <th>MinTemp_y</th>\n",
              "      <td>0.0</td>\n",
              "      <td>1.0000</td>\n",
              "      <td>0.0000</td>\n",
              "    </tr>\n",
              "    <tr>\n",
              "      <th>MeanTemp_y</th>\n",
              "      <td>0.0</td>\n",
              "      <td>0.0009</td>\n",
              "      <td>1.0000</td>\n",
              "    </tr>\n",
              "  </tbody>\n",
              "</table>\n",
              "</div>"
            ],
            "text/plain": [
              "            MaxTemp_x  MinTemp_x  MeanTemp_x\n",
              "MaxTemp_y         1.0     0.3625      0.1008\n",
              "MinTemp_y         0.0     1.0000      0.0000\n",
              "MeanTemp_y        0.0     0.0009      1.0000"
            ]
          },
          "metadata": {
            "tags": []
          },
          "execution_count": 14
        }
      ]
    },
    {
      "cell_type": "markdown",
      "metadata": {
        "id": "k9f4H3iCfksN"
      },
      "source": [
        "# VECM modelling \n",
        "\n",
        "\n",
        "> VECM imposes additional restriction due to the existence of non-stationary but co-integrated data forms. It utilizes the co-integration restriction information into its specifications. After the cointegration is known then the next test process is done by using error correction method. \n",
        "\n"
      ]
    },
    {
      "cell_type": "code",
      "metadata": {
        "id": "tojq-ge0KYHw",
        "outputId": "e3436ac4-87f8-43af-8a1f-3f6f1af0ae7c",
        "colab": {
          "base_uri": "https://localhost:8080/",
          "height": 153
        }
      },
      "source": [
        "from statsmodels.tsa.vector_ar import vecm\n",
        "\n",
        "vec_rank_1 = vecm.select_coint_rank(X_train, det_order=-1,k_ar_diff=8,method=\"trace\",signif=0.01)\n",
        "print(vec_rank_1.summary())\n"
      ],
      "execution_count": 15,
      "outputs": [
        {
          "output_type": "stream",
          "text": [
            "Johansen cointegration test using trace test statistic with 1% significance level\n",
            "=====================================\n",
            "r_0 r_1 test statistic critical value\n",
            "-------------------------------------\n",
            "  0   3          59.34          29.51\n",
            "  1   3          17.57          16.36\n",
            "  2   3         0.1394          6.941\n",
            "-------------------------------------\n"
          ],
          "name": "stdout"
        }
      ]
    },
    {
      "cell_type": "code",
      "metadata": {
        "id": "rDUY2LByMYfw",
        "outputId": "2bb9dbc2-a10b-436b-aaf5-21c6391d6bf1",
        "colab": {
          "base_uri": "https://localhost:8080/",
          "height": 153
        }
      },
      "source": [
        "vec_rank_2 = vecm.select_coint_rank(X_train, det_order=-1,k_ar_diff=1,method=\"maxeig\",signif=0.01)\n",
        "print(vec_rank_2.summary())"
      ],
      "execution_count": 16,
      "outputs": [
        {
          "output_type": "stream",
          "text": [
            "Johansen cointegration test using maximum eigenvalue test statistic with 1% significance level\n",
            "=====================================\n",
            "r_0 r_1 test statistic critical value\n",
            "-------------------------------------\n",
            "  0   1          176.9          22.25\n",
            "  1   2          101.5          15.09\n",
            "  2   3        0.03214          6.941\n",
            "-------------------------------------\n"
          ],
          "name": "stdout"
        }
      ]
    },
    {
      "cell_type": "code",
      "metadata": {
        "id": "8ZowRKNKNU2q",
        "outputId": "25f4981a-b0a7-4cf1-fe43-64d0041bb33a",
        "colab": {
          "base_uri": "https://localhost:8080/",
          "height": 34
        }
      },
      "source": [
        "coint_check = vecm.coint_johansen(X_train,-1,1)\n",
        "print(coint_check.eig)"
      ],
      "execution_count": 17,
      "outputs": [
        {
          "output_type": "stream",
          "text": [
            "[2.91728139e-01 1.79475247e-01 6.26537140e-05]\n"
          ],
          "name": "stdout"
        }
      ]
    },
    {
      "cell_type": "markdown",
      "metadata": {
        "id": "8PCFav2QhDrJ"
      },
      "source": [
        "From the above code it can be said that the three columns are co-integrated because none of them have eig values above 1 "
      ]
    },
    {
      "cell_type": "code",
      "metadata": {
        "id": "JehqVR2zQnb4",
        "outputId": "6537bbfe-7e1b-4ec5-95f2-4ac9c7d3b335",
        "colab": {
          "base_uri": "https://localhost:8080/",
          "height": 51
        }
      },
      "source": [
        "model_vecm = vecm.VECM(X_train,k_ar_diff=8,coint_rank=3)\n",
        "vecm_fit =model_vecm.fit()"
      ],
      "execution_count": 18,
      "outputs": [
        {
          "output_type": "stream",
          "text": [
            "/usr/local/lib/python3.6/dist-packages/statsmodels/tsa/base/tsa_model.py:219: ValueWarning: A date index has been provided, but it has no associated frequency information and so will be ignored when e.g. forecasting.\n",
            "  ' ignored when e.g. forecasting.', ValueWarning)\n"
          ],
          "name": "stderr"
        }
      ]
    },
    {
      "cell_type": "code",
      "metadata": {
        "id": "PgZkeOgsROD2",
        "outputId": "ee431fd8-f32e-4cf2-d7d4-1ecb09a6e1c0",
        "colab": {
          "base_uri": "https://localhost:8080/",
          "height": 459
        }
      },
      "source": [
        "forecast,lower,upper = vecm_fit.predict(7,0.05)\n",
        "print(\"lower bounds of confidence intervals:\")\n",
        "print(lower.round(3))\n",
        "print(\"\\npoint forecasts:\")\n",
        "print(forecast.round(3))\n",
        "print(\"\\nupper bounds of confidence intervals:\")\n",
        "print(upper.round(3))"
      ],
      "execution_count": 19,
      "outputs": [
        {
          "output_type": "stream",
          "text": [
            "lower bounds of confidence intervals:\n",
            "[[27.643 19.671 24.044]\n",
            " [28.065 20.361 24.593]\n",
            " [27.976 20.467 24.568]\n",
            " [27.857 20.239 24.612]\n",
            " [27.794 19.945 24.354]\n",
            " [28.327 20.443 24.851]\n",
            " [27.967 20.505 24.663]]\n",
            "\n",
            "point forecasts:\n",
            "[[29.594 22.065 25.756]\n",
            " [30.111 22.969 26.42 ]\n",
            " [30.061 23.126 26.443]\n",
            " [29.977 22.918 26.512]\n",
            " [29.95  22.656 26.278]\n",
            " [30.518 23.25  26.828]\n",
            " [30.186 23.331 26.656]]\n",
            "\n",
            "upper bounds of confidence intervals:\n",
            "[[31.546 24.459 27.467]\n",
            " [32.157 25.578 28.247]\n",
            " [32.145 25.786 28.318]\n",
            " [32.097 25.596 28.413]\n",
            " [32.105 25.368 28.202]\n",
            " [32.709 26.058 28.804]\n",
            " [32.405 26.157 28.648]]\n"
          ],
          "name": "stdout"
        }
      ]
    },
    {
      "cell_type": "code",
      "metadata": {
        "id": "2hGrQ-RdRddd",
        "outputId": "6c19e4b2-ec64-4a14-97b3-2b9e34a0b018",
        "colab": {
          "base_uri": "https://localhost:8080/",
          "height": 297
        }
      },
      "source": [
        "#Converting the forecast into a Dataframe for easy manipulation\n",
        "forecast_df = forecast.copy()\n",
        "forecast_df= pd.DataFrame(forecast_df,columns=[\"MaxTemp\",\"MinTemp\",\"MeanTemp\"])\n",
        "forecast_df.set_index(X_test.index,inplace=True)\n",
        "forecast_df"
      ],
      "execution_count": 20,
      "outputs": [
        {
          "output_type": "execute_result",
          "data": {
            "text/html": [
              "<div>\n",
              "<style scoped>\n",
              "    .dataframe tbody tr th:only-of-type {\n",
              "        vertical-align: middle;\n",
              "    }\n",
              "\n",
              "    .dataframe tbody tr th {\n",
              "        vertical-align: top;\n",
              "    }\n",
              "\n",
              "    .dataframe thead th {\n",
              "        text-align: right;\n",
              "    }\n",
              "</style>\n",
              "<table border=\"1\" class=\"dataframe\">\n",
              "  <thead>\n",
              "    <tr style=\"text-align: right;\">\n",
              "      <th></th>\n",
              "      <th>MaxTemp</th>\n",
              "      <th>MinTemp</th>\n",
              "      <th>MeanTemp</th>\n",
              "    </tr>\n",
              "    <tr>\n",
              "      <th>datetime</th>\n",
              "      <th></th>\n",
              "      <th></th>\n",
              "      <th></th>\n",
              "    </tr>\n",
              "  </thead>\n",
              "  <tbody>\n",
              "    <tr>\n",
              "      <th>1944-11-06</th>\n",
              "      <td>29.594388</td>\n",
              "      <td>22.065338</td>\n",
              "      <td>25.755516</td>\n",
              "    </tr>\n",
              "    <tr>\n",
              "      <th>1944-11-07</th>\n",
              "      <td>30.111171</td>\n",
              "      <td>22.969314</td>\n",
              "      <td>26.419967</td>\n",
              "    </tr>\n",
              "    <tr>\n",
              "      <th>1944-11-08</th>\n",
              "      <td>30.060852</td>\n",
              "      <td>23.126216</td>\n",
              "      <td>26.442932</td>\n",
              "    </tr>\n",
              "    <tr>\n",
              "      <th>1944-11-09</th>\n",
              "      <td>29.977073</td>\n",
              "      <td>22.917776</td>\n",
              "      <td>26.512157</td>\n",
              "    </tr>\n",
              "    <tr>\n",
              "      <th>1944-11-10</th>\n",
              "      <td>29.949514</td>\n",
              "      <td>22.656045</td>\n",
              "      <td>26.278131</td>\n",
              "    </tr>\n",
              "    <tr>\n",
              "      <th>1944-11-11</th>\n",
              "      <td>30.518077</td>\n",
              "      <td>23.250414</td>\n",
              "      <td>26.827559</td>\n",
              "    </tr>\n",
              "    <tr>\n",
              "      <th>1944-11-12</th>\n",
              "      <td>30.185974</td>\n",
              "      <td>23.330925</td>\n",
              "      <td>26.655663</td>\n",
              "    </tr>\n",
              "  </tbody>\n",
              "</table>\n",
              "</div>"
            ],
            "text/plain": [
              "              MaxTemp    MinTemp   MeanTemp\n",
              "datetime                                   \n",
              "1944-11-06  29.594388  22.065338  25.755516\n",
              "1944-11-07  30.111171  22.969314  26.419967\n",
              "1944-11-08  30.060852  23.126216  26.442932\n",
              "1944-11-09  29.977073  22.917776  26.512157\n",
              "1944-11-10  29.949514  22.656045  26.278131\n",
              "1944-11-11  30.518077  23.250414  26.827559\n",
              "1944-11-12  30.185974  23.330925  26.655663"
            ]
          },
          "metadata": {
            "tags": []
          },
          "execution_count": 20
        }
      ]
    },
    {
      "cell_type": "code",
      "metadata": {
        "id": "SRAsRoi-Unap",
        "outputId": "f493a53c-d0eb-4a1c-bc0a-5a44f06523c6",
        "colab": {
          "base_uri": "https://localhost:8080/",
          "height": 729
        }
      },
      "source": [
        "fig, axes = plt.subplots(nrows=3,figsize=(10,10))\n",
        "for i,ax in enumerate(axes.flatten()):\n",
        "  data1= X_test[X_test.columns[i]]\n",
        "  data2= forecast_df[forecast_df.columns[i]]\n",
        "  ax.plot(data1,color=\"blue\",label=\"True values\")\n",
        "  ax.plot(data2,color=\"red\",label=\"Forecast Values\")\n",
        "  fontdict={\"fontsize\":19}\n",
        "  ax.set_title(\"Forecast Vs True values of \"+ X_test.columns[i],fontdict=fontdict)\n",
        "  ax.legend(loc=2)\n",
        "\n",
        "plt.tight_layout()"
      ],
      "execution_count": 25,
      "outputs": [
        {
          "output_type": "display_data",
          "data": {
            "image/png": "[encoded data removed]",
            "text/plain": [
              "<Figure size 720x720 with 3 Axes>"
            ]
          },
          "metadata": {
            "tags": [],
            "needs_background": "light"
          }
        }
      ]
    },
    {
      "cell_type": "code",
      "metadata": {
        "id": "Fd9BvLpzYVUF"
      },
      "source": [
        "from statsmodels.tsa.stattools import acf\n",
        "def forecast_accuracy(forecast, actual):\n",
        "    mape = np.mean(np.abs(forecast - actual)/np.abs(actual)) *100  # MAPE\n",
        "    me = np.mean(forecast - actual)             # ME\n",
        "    mae = np.mean(np.abs(forecast - actual))    # MAE\n",
        "    mpe = np.mean((forecast - actual)/actual)   # MPE\n",
        "    rmse = np.mean((forecast - actual)**2)**.5  # RMSE\n",
        "    corr = np.corrcoef(forecast, actual)[0,1]   # corr\n",
        "    mins = np.amin(np.hstack([forecast[:,None], \n",
        "                              actual[:,None]]), axis=1)\n",
        "    maxs = np.amax(np.hstack([forecast[:,None], \n",
        "                              actual[:,None]]), axis=1)\n",
        "    minmax = 1 - np.mean(mins/maxs)             # minmax\n",
        "    return({'mape':mape, 'me':me, 'mae': mae, \n",
        "            'mpe': mpe, 'rmse':rmse, 'corr':corr, 'minmax':minmax})"
      ],
      "execution_count": 22,
      "outputs": []
    },
    {
      "cell_type": "code",
      "metadata": {
        "id": "G8OWil3tYn-b",
        "outputId": "25f8973a-6af5-44a2-d713-e6271e5a2454",
        "colab": {
          "base_uri": "https://localhost:8080/",
          "height": 513
        }
      },
      "source": [
        "print('Forecast Accuracy of: MaxTemp')\n",
        "accuracy_prod = forecast_accuracy(forecast_df['MaxTemp'].values, X_test['MaxTemp'])\n",
        "for k, v in accuracy_prod.items():\n",
        "    print((k), ': ', round(v,4))\n",
        "print('Forecast Accuracy of: MinTemp')\n",
        "accuracy_prod = forecast_accuracy(forecast_df['MinTemp'].values, X_test['MinTemp'])\n",
        "for k, v in accuracy_prod.items():\n",
        "    print((k), ': ', round(v,4))\n",
        "print('Forecast Accuracy of: MeanTemp')\n",
        "accuracy_prod = forecast_accuracy(forecast_df['MeanTemp'].values, X_test['MeanTemp'])\n",
        "for k, v in accuracy_prod.items():\n",
        "    print((k), ': ', round(v,4))"
      ],
      "execution_count": 23,
      "outputs": [
        {
          "output_type": "stream",
          "text": [
            "Forecast Accuracy of: MaxTemp\n",
            "mape :  2.2562\n",
            "me :  -0.5147\n",
            "mae :  0.6945\n",
            "mpe :  -0.0166\n",
            "rmse :  0.769\n",
            "corr :  -0.0599\n",
            "minmax :  0.0225\n",
            "Forecast Accuracy of: MinTemp\n",
            "mape :  3.3398\n",
            "me :  0.0451\n",
            "mae :  0.7471\n",
            "mpe :  0.0049\n",
            "rmse :  1.115\n",
            "corr :  0.6967\n",
            "minmax :  0.032\n",
            "Forecast Accuracy of: MeanTemp\n",
            "mape :  2.3103\n",
            "me :  -0.1583\n",
            "mae :  0.6106\n",
            "mpe :  -0.0054\n",
            "rmse :  0.6302\n",
            "corr :  0.5619\n",
            "minmax :  0.0228\n"
          ],
          "name": "stdout"
        },
        {
          "output_type": "stream",
          "text": [
            "/usr/local/lib/python3.6/dist-packages/ipykernel_launcher.py:10: FutureWarning: Support for multi-dimensional indexing (e.g. `obj[:, None]`) is deprecated and will be removed in a future version.  Convert to a numpy array before indexing instead.\n",
            "  # Remove the CWD from sys.path while we load stuff.\n",
            "/usr/local/lib/python3.6/dist-packages/ipykernel_launcher.py:12: FutureWarning: Support for multi-dimensional indexing (e.g. `obj[:, None]`) is deprecated and will be removed in a future version.  Convert to a numpy array before indexing instead.\n",
            "  if sys.path[0] == '':\n"
          ],
          "name": "stderr"
        }
      ]
    }
  ]
}