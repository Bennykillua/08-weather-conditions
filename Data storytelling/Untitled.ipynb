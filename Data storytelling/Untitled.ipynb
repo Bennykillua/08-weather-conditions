{
 "cells": [
  {
   "cell_type": "markdown",
   "metadata": {},
   "source": [
    "# WEATHER CONDITIONS."
   ]
  },
  {
   "cell_type": "markdown",
   "metadata": {},
   "source": [
    "Weather as we all know is the state of atmosphere at a particular place and time. while temperature, atmospheric pressure, wind, humidity, precipitation, and cloudiness defines the weather condition at a particular time. If you are willingly to know more about weather, you can use this [link](https://www.nationalgeographic.org/encyclopedia/weather/)."
   ]
  },
  {
   "cell_type": "markdown",
   "metadata": {},
   "source": [
    "\"Weather has long played a vital role in human history. Kublai Khan’s attempted conquest of Japan was foiled when his invasion fleet was destroyed by a typhoon. Napoleon’s Grand Army perished during his ill-fated Russian campaign, laid low by the sweltering heat of summer and the frigid cold of winter. Even at Waterloo, torrential rains turned the battlefield into a quagmire and contributed to his final defeat.\n",
    "\n",
    "But the weather became even more important during the 20th century thanks to the invention of the airplane, tank, and modern ship. Bombers and other aircraft might be grounded by bad weather or their targets obscured by fog or clouds. Land offensives also depended on accurate predictions of the weather, and at sea convoys bearing vital supplies needed reliable forecasts to deliver their cargoes.\n",
    "\n",
    "Meteorologists of the 1940s lacked such modern devices as satellite imagery, depending instead on barometers and other traditional, time-honored tools. Even so, weathermen could make fairly accurate predictions up to 72 hours in advance.\" [source](https://warfarehistorynetwork.com/2018/12/11/the-weather-war-of-wwii/)"
   ]
  },
  {
   "cell_type": "markdown",
   "metadata": {},
   "source": [
    "The dataset we are exploring fits into the [world war II](https://www.britannica.com/event/World-War-II) era, and it was gathered that no public broadcasting of weather forecast was made until May 8th, 1945. Weather played a vital role during war as weather condition determines whether to launch attack or not. Although the dataset doesn't give information on the war activities that affected the weather, but we can gain insights into the weather conditions at different times."
   ]
  },
  {
   "cell_type": "code",
   "execution_count": 1,
   "metadata": {},
   "outputs": [],
   "source": [
    "import pandas as pd\n",
    "import plotly.express as px"
   ]
  },
  {
   "cell_type": "code",
   "execution_count": 2,
   "metadata": {},
   "outputs": [
    {
     "data": {
      "text/html": [
       "<div>\n",
       "<style scoped>\n",
       "    .dataframe tbody tr th:only-of-type {\n",
       "        vertical-align: middle;\n",
       "    }\n",
       "\n",
       "    .dataframe tbody tr th {\n",
       "        vertical-align: top;\n",
       "    }\n",
       "\n",
       "    .dataframe thead th {\n",
       "        text-align: right;\n",
       "    }\n",
       "</style>\n",
       "<table border=\"1\" class=\"dataframe\">\n",
       "  <thead>\n",
       "    <tr style=\"text-align: right;\">\n",
       "      <th></th>\n",
       "      <th>STA</th>\n",
       "      <th>Date</th>\n",
       "      <th>Precip</th>\n",
       "      <th>MaxTemp</th>\n",
       "      <th>MinTemp</th>\n",
       "      <th>MeanTemp</th>\n",
       "      <th>Snowfall</th>\n",
       "      <th>PoorWeather</th>\n",
       "      <th>YR</th>\n",
       "      <th>MO</th>\n",
       "      <th>DA</th>\n",
       "    </tr>\n",
       "  </thead>\n",
       "  <tbody>\n",
       "    <tr>\n",
       "      <th>0</th>\n",
       "      <td>10001</td>\n",
       "      <td>1942-07-01</td>\n",
       "      <td>1</td>\n",
       "      <td>25</td>\n",
       "      <td>22</td>\n",
       "      <td>23</td>\n",
       "      <td>0</td>\n",
       "      <td>0</td>\n",
       "      <td>42</td>\n",
       "      <td>7</td>\n",
       "      <td>1</td>\n",
       "    </tr>\n",
       "    <tr>\n",
       "      <th>1</th>\n",
       "      <td>10001</td>\n",
       "      <td>1942-07-02</td>\n",
       "      <td>0</td>\n",
       "      <td>28</td>\n",
       "      <td>21</td>\n",
       "      <td>25</td>\n",
       "      <td>0</td>\n",
       "      <td>0</td>\n",
       "      <td>42</td>\n",
       "      <td>7</td>\n",
       "      <td>2</td>\n",
       "    </tr>\n",
       "    <tr>\n",
       "      <th>2</th>\n",
       "      <td>10001</td>\n",
       "      <td>1942-07-03</td>\n",
       "      <td>2</td>\n",
       "      <td>26</td>\n",
       "      <td>22</td>\n",
       "      <td>24</td>\n",
       "      <td>0</td>\n",
       "      <td>0</td>\n",
       "      <td>42</td>\n",
       "      <td>7</td>\n",
       "      <td>3</td>\n",
       "    </tr>\n",
       "    <tr>\n",
       "      <th>3</th>\n",
       "      <td>10001</td>\n",
       "      <td>1942-07-04</td>\n",
       "      <td>2</td>\n",
       "      <td>26</td>\n",
       "      <td>22</td>\n",
       "      <td>24</td>\n",
       "      <td>0</td>\n",
       "      <td>0</td>\n",
       "      <td>42</td>\n",
       "      <td>7</td>\n",
       "      <td>4</td>\n",
       "    </tr>\n",
       "    <tr>\n",
       "      <th>4</th>\n",
       "      <td>10001</td>\n",
       "      <td>1942-07-05</td>\n",
       "      <td>0</td>\n",
       "      <td>26</td>\n",
       "      <td>21</td>\n",
       "      <td>24</td>\n",
       "      <td>0</td>\n",
       "      <td>0</td>\n",
       "      <td>42</td>\n",
       "      <td>7</td>\n",
       "      <td>5</td>\n",
       "    </tr>\n",
       "  </tbody>\n",
       "</table>\n",
       "</div>"
      ],
      "text/plain": [
       "     STA        Date  Precip  MaxTemp  MinTemp  MeanTemp  Snowfall  \\\n",
       "0  10001  1942-07-01       1       25       22        23         0   \n",
       "1  10001  1942-07-02       0       28       21        25         0   \n",
       "2  10001  1942-07-03       2       26       22        24         0   \n",
       "3  10001  1942-07-04       2       26       22        24         0   \n",
       "4  10001  1942-07-05       0       26       21        24         0   \n",
       "\n",
       "   PoorWeather  YR  MO  DA  \n",
       "0            0  42   7   1  \n",
       "1            0  42   7   2  \n",
       "2            0  42   7   3  \n",
       "3            0  42   7   4  \n",
       "4            0  42   7   5  "
      ]
     },
     "execution_count": 2,
     "metadata": {},
     "output_type": "execute_result"
    }
   ],
   "source": [
    "df1= pd.read_csv(\"../data/Cleanedweathersummary.csv\")\n",
    "df2= pd.read_csv(\"../data/Cleanedstationlocation.csv\")\n",
    "df1.head()"
   ]
  },
  {
   "cell_type": "code",
   "execution_count": 15,
   "metadata": {},
   "outputs": [
    {
     "data": {
      "text/html": [
       "<div>\n",
       "<style scoped>\n",
       "    .dataframe tbody tr th:only-of-type {\n",
       "        vertical-align: middle;\n",
       "    }\n",
       "\n",
       "    .dataframe tbody tr th {\n",
       "        vertical-align: top;\n",
       "    }\n",
       "\n",
       "    .dataframe thead th {\n",
       "        text-align: right;\n",
       "    }\n",
       "</style>\n",
       "<table border=\"1\" class=\"dataframe\">\n",
       "  <thead>\n",
       "    <tr style=\"text-align: right;\">\n",
       "      <th></th>\n",
       "      <th>WBAN</th>\n",
       "      <th>NAME</th>\n",
       "      <th>STATE/COUNTRY ID</th>\n",
       "      <th>LAT</th>\n",
       "      <th>LON</th>\n",
       "      <th>ELEV</th>\n",
       "      <th>Latitude</th>\n",
       "      <th>Longitude</th>\n",
       "    </tr>\n",
       "  </thead>\n",
       "  <tbody>\n",
       "    <tr>\n",
       "      <th>0</th>\n",
       "      <td>33013</td>\n",
       "      <td>AIN EL</td>\n",
       "      <td>AL</td>\n",
       "      <td>3623N</td>\n",
       "      <td>00637E</td>\n",
       "      <td>611</td>\n",
       "      <td>36.383333</td>\n",
       "      <td>6.650000</td>\n",
       "    </tr>\n",
       "    <tr>\n",
       "      <th>1</th>\n",
       "      <td>33031</td>\n",
       "      <td>LA SENIA</td>\n",
       "      <td>AL</td>\n",
       "      <td>3537N</td>\n",
       "      <td>00037E</td>\n",
       "      <td>88</td>\n",
       "      <td>35.616667</td>\n",
       "      <td>0.583333</td>\n",
       "    </tr>\n",
       "    <tr>\n",
       "      <th>2</th>\n",
       "      <td>33023</td>\n",
       "      <td>MAISON BLANCHE</td>\n",
       "      <td>AL</td>\n",
       "      <td>3643N</td>\n",
       "      <td>00314E</td>\n",
       "      <td>23</td>\n",
       "      <td>36.716667</td>\n",
       "      <td>3.216667</td>\n",
       "    </tr>\n",
       "    <tr>\n",
       "      <th>3</th>\n",
       "      <td>33044</td>\n",
       "      <td>TELERGMA</td>\n",
       "      <td>AL</td>\n",
       "      <td>3607N</td>\n",
       "      <td>00621E</td>\n",
       "      <td>754</td>\n",
       "      <td>36.116667</td>\n",
       "      <td>6.416667</td>\n",
       "    </tr>\n",
       "    <tr>\n",
       "      <th>4</th>\n",
       "      <td>12001</td>\n",
       "      <td>TINDOUF</td>\n",
       "      <td>AL</td>\n",
       "      <td>2741N</td>\n",
       "      <td>00809W</td>\n",
       "      <td>443</td>\n",
       "      <td>27.683333</td>\n",
       "      <td>-8.083333</td>\n",
       "    </tr>\n",
       "  </tbody>\n",
       "</table>\n",
       "</div>"
      ],
      "text/plain": [
       "    WBAN            NAME STATE/COUNTRY ID    LAT     LON  ELEV   Latitude  \\\n",
       "0  33013          AIN EL               AL  3623N  00637E   611  36.383333   \n",
       "1  33031        LA SENIA               AL  3537N  00037E    88  35.616667   \n",
       "2  33023  MAISON BLANCHE               AL  3643N  00314E    23  36.716667   \n",
       "3  33044        TELERGMA               AL  3607N  00621E   754  36.116667   \n",
       "4  12001         TINDOUF               AL  2741N  00809W   443  27.683333   \n",
       "\n",
       "   Longitude  \n",
       "0   6.650000  \n",
       "1   0.583333  \n",
       "2   3.216667  \n",
       "3   6.416667  \n",
       "4  -8.083333  "
      ]
     },
     "execution_count": 15,
     "metadata": {},
     "output_type": "execute_result"
    }
   ],
   "source": [
    "df2.head()"
   ]
  },
  {
   "cell_type": "code",
   "execution_count": 58,
   "metadata": {
    "scrolled": true
   },
   "outputs": [
    {
     "name": "stderr",
     "output_type": "stream",
     "text": [
      "<ipython-input-58-d52438675955>:1: FutureWarning:\n",
      "\n",
      "Indexing with multiple keys (implicitly converted to a tuple of keys) will be deprecated, use a list instead.\n",
      "\n"
     ]
    },
    {
     "data": {
      "text/html": [
       "<div>\n",
       "<style scoped>\n",
       "    .dataframe tbody tr th:only-of-type {\n",
       "        vertical-align: middle;\n",
       "    }\n",
       "\n",
       "    .dataframe tbody tr th {\n",
       "        vertical-align: top;\n",
       "    }\n",
       "\n",
       "    .dataframe thead th {\n",
       "        text-align: right;\n",
       "    }\n",
       "</style>\n",
       "<table border=\"1\" class=\"dataframe\">\n",
       "  <thead>\n",
       "    <tr style=\"text-align: right;\">\n",
       "      <th></th>\n",
       "      <th>STA</th>\n",
       "      <th>MaxTemp</th>\n",
       "      <th>MinTemp</th>\n",
       "    </tr>\n",
       "  </thead>\n",
       "  <tbody>\n",
       "    <tr>\n",
       "      <th>0</th>\n",
       "      <td>10001</td>\n",
       "      <td>30.056180</td>\n",
       "      <td>22.061366</td>\n",
       "    </tr>\n",
       "    <tr>\n",
       "      <th>1</th>\n",
       "      <td>10002</td>\n",
       "      <td>28.291979</td>\n",
       "      <td>23.065241</td>\n",
       "    </tr>\n",
       "    <tr>\n",
       "      <th>2</th>\n",
       "      <td>10101</td>\n",
       "      <td>29.552036</td>\n",
       "      <td>21.892911</td>\n",
       "    </tr>\n",
       "    <tr>\n",
       "      <th>3</th>\n",
       "      <td>10102</td>\n",
       "      <td>29.932283</td>\n",
       "      <td>21.737795</td>\n",
       "    </tr>\n",
       "    <tr>\n",
       "      <th>4</th>\n",
       "      <td>10502</td>\n",
       "      <td>30.459070</td>\n",
       "      <td>21.030124</td>\n",
       "    </tr>\n",
       "  </tbody>\n",
       "</table>\n",
       "</div>"
      ],
      "text/plain": [
       "     STA    MaxTemp    MinTemp\n",
       "0  10001  30.056180  22.061366\n",
       "1  10002  28.291979  23.065241\n",
       "2  10101  29.552036  21.892911\n",
       "3  10102  29.932283  21.737795\n",
       "4  10502  30.459070  21.030124"
      ]
     },
     "execution_count": 58,
     "metadata": {},
     "output_type": "execute_result"
    }
   ],
   "source": [
    "df_sta=df1.groupby([\"STA\"])[\"MaxTemp\", \"MinTemp\"].mean().reset_index()\n",
    "df_sta.head()"
   ]
  },
  {
   "cell_type": "code",
   "execution_count": 46,
   "metadata": {},
   "outputs": [
    {
     "data": {
      "application/vnd.plotly.v1+json": {
       "config": {
        "plotlyServerURL": "https://plot.ly"
       },
       "data": [
        {
         "customdata": [
          [
           10001
          ],
          [
           10002
          ],
          [
           10101
          ],
          [
           10102
          ],
          [
           10502
          ],
          [
           10505
          ],
          [
           10701
          ],
          [
           10703
          ],
          [
           10704
          ],
          [
           10705
          ],
          [
           10718
          ],
          [
           10802
          ],
          [
           10803
          ],
          [
           10804
          ],
          [
           10806
          ],
          [
           10807
          ],
          [
           11101
          ],
          [
           11103
          ],
          [
           11501
          ],
          [
           11601
          ],
          [
           11604
          ],
          [
           11606
          ],
          [
           11610
          ],
          [
           11615
          ],
          [
           11701
          ],
          [
           11704
          ],
          [
           11801
          ],
          [
           11901
          ],
          [
           11902
          ],
          [
           12001
          ],
          [
           12101
          ],
          [
           12701
          ],
          [
           12702
          ],
          [
           12706
          ],
          [
           12801
          ],
          [
           13002
          ],
          [
           13005
          ],
          [
           13007
          ],
          [
           13013
          ],
          [
           13201
          ],
          [
           13601
          ],
          [
           15027
          ],
          [
           16101
          ],
          [
           16201
          ],
          [
           16202
          ],
          [
           16405
          ],
          [
           16407
          ],
          [
           16504
          ],
          [
           20501
          ],
          [
           20602
          ],
          [
           21501
          ],
          [
           22502
          ],
          [
           22504
          ],
          [
           22507
          ],
          [
           22508
          ],
          [
           22509
          ],
          [
           30001
          ],
          [
           31001
          ],
          [
           31101
          ],
          [
           31302
          ],
          [
           31401
          ],
          [
           31501
          ],
          [
           31701
          ],
          [
           32301
          ],
          [
           32501
          ],
          [
           32503
          ],
          [
           32504
          ],
          [
           32601
          ],
          [
           32602
          ],
          [
           32603
          ],
          [
           32701
          ],
          [
           32702
          ],
          [
           32801
          ],
          [
           32803
          ],
          [
           32805
          ],
          [
           32812
          ],
          [
           32815
          ],
          [
           32904
          ],
          [
           32906
          ],
          [
           32907
          ],
          [
           33003
          ],
          [
           33013
          ],
          [
           33014
          ],
          [
           33019
          ],
          [
           33023
          ],
          [
           33031
          ],
          [
           33044
          ],
          [
           33109
          ],
          [
           33111
          ],
          [
           33117
          ],
          [
           33121
          ],
          [
           33123
          ],
          [
           33205
          ],
          [
           33206
          ],
          [
           33303
          ],
          [
           33305
          ],
          [
           33307
          ],
          [
           33401
          ],
          [
           33405
          ],
          [
           33406
          ],
          [
           33501
          ],
          [
           34002
          ],
          [
           34003
          ],
          [
           34005
          ],
          [
           34012
          ],
          [
           34013
          ],
          [
           34017
          ],
          [
           34018
          ],
          [
           34022
          ],
          [
           34101
          ],
          [
           34104
          ],
          [
           34105
          ],
          [
           34109
          ],
          [
           34111
          ],
          [
           34113
          ],
          [
           34123
          ],
          [
           34139
          ],
          [
           34147
          ],
          [
           34150
          ],
          [
           40601
          ],
          [
           41204
          ],
          [
           41207
          ],
          [
           42204
          ],
          [
           42206
          ],
          [
           42401
          ],
          [
           43201
          ],
          [
           43302
          ],
          [
           43305
          ],
          [
           43307
          ],
          [
           44401
          ],
          [
           50301
          ],
          [
           50302
          ],
          [
           50303
          ],
          [
           50304
          ],
          [
           50401
          ],
          [
           50403
          ],
          [
           50801
          ],
          [
           50802
          ],
          [
           60701
          ],
          [
           61501
          ],
          [
           61502
          ],
          [
           62701
          ],
          [
           80411
          ],
          [
           80412
          ],
          [
           80425
          ],
          [
           80504
          ],
          [
           80509
          ],
          [
           80510
          ],
          [
           81404
          ],
          [
           81601
          ],
          [
           81702
          ],
          [
           82402
          ],
          [
           82403
          ],
          [
           82404
          ],
          [
           82405
          ],
          [
           82501
          ],
          [
           82502
          ],
          [
           82503
          ],
          [
           82506
          ]
         ],
         "hovertemplate": "MinTemp=%{x}<br>MaxTemp=%{y}<br>STA=%{customdata[0]}<extra></extra>",
         "legendgroup": "",
         "marker": {
          "color": "#636efa",
          "symbol": "circle"
         },
         "mode": "markers",
         "name": "",
         "orientation": "v",
         "showlegend": false,
         "textposition": "top center",
         "type": "scatter",
         "x": [
          22.061365600691442,
          23.06524064171123,
          21.89291101055807,
          21.73779527559055,
          21.030124426981008,
          20.474898236092265,
          22.668649885583523,
          23.16,
          21.921832884097036,
          19.09159159159159,
          22.56707818930041,
          22.81980906921241,
          22.524,
          20.939283101682516,
          10.895152198421647,
          19.543820224719102,
          20.346604215456676,
          22.0896309314587,
          22.67464114832536,
          23.84850374064838,
          23.253632760898284,
          24.177339901477833,
          21.506437768240342,
          20.251192368839426,
          21.024049650892163,
          19.78110129163834,
          21.565656565656564,
          10.596323529411764,
          19.860847018150388,
          14.048899755501223,
          21.551369863013697,
          19.387677725118483,
          23.314569536423843,
          21.63855421686747,
          19.184738955823292,
          12.778364116094988,
          11.729128014842301,
          9.719444444444445,
          13.829787234042554,
          14.41405082212257,
          18.83860121049092,
          6.96271186440678,
          1.053921568627451,
          2.1183013144590497,
          2.0192813321647676,
          -2.6023427866831073,
          -2.055389221556886,
          -8.989276139410189,
          23.643954575818302,
          24.07807807807808,
          17.818181818181817,
          18.744196843082637,
          20.047214353163362,
          18.745830023828436,
          17.96167883211679,
          19.750798722044728,
          22.662835249042146,
          19.23728813559322,
          18.776470588235295,
          9.08187134502924,
          22.78343949044586,
          20.988173455978973,
          17.613559322033897,
          14.895595432300164,
          21.421750663129973,
          23.490015360983104,
          20.19622641509434,
          19.96093163035312,
          22.211764705882352,
          22.605072463768117,
          17.207346938775512,
          18.52601809954751,
          20.653225806451612,
          19.369195922989807,
          18.066079295154186,
          18.39541547277937,
          20.834920634920636,
          18.96685082872928,
          17.6375,
          18.320905459387482,
          11.249438202247191,
          10.514360313315926,
          9.933121019108281,
          10.901694915254238,
          12.029116465863455,
          11.168599464763604,
          6.862549800796812,
          13.165903890160184,
          5.865384615384615,
          14.40668202764977,
          19.23076923076923,
          9.72340425531915,
          13.147757255936675,
          12.008130081300813,
          14.887626262626263,
          9.494845360824742,
          13.228136882129277,
          17.15026595744681,
          14.828125,
          0.803125,
          9.481912144702843,
          11.670731707317072,
          13.91304347826087,
          11.3984375,
          6.12015503875969,
          4.0602409638554215,
          16.21904761904762,
          11.377272727272727,
          5.813519813519814,
          1.6774193548387097,
          9.603085553997195,
          9.901639344262295,
          10.873065015479876,
          10.016949152542374,
          11.793939393939393,
          7.9957805907173,
          9,
          9.879310344827585,
          9.38031914893617,
          24.63049853372434,
          22.814545454545456,
          21.98442367601246,
          22.80808080808081,
          15.32,
          22.114864864864863,
          1.5869565217391304,
          2.5081967213114753,
          8.43956043956044,
          0.6086956521739131,
          -5.19672131147541,
          23.167213114754098,
          22.427125506072876,
          22.153846153846153,
          21.634615384615383,
          21.762626262626263,
          22.364476386036962,
          20.74521354933726,
          18.635231316725978,
          24.847165160230073,
          22.77601809954751,
          23.20403022670025,
          19.195530726256983,
          22.6432,
          22.191358024691358,
          21.81219512195122,
          23.312910284463896,
          21.450467289719626,
          23.111888111888113,
          22.322207958921695,
          22.042357274401475,
          19.895434462444772,
          14.703947368421053,
          17.266331658291456,
          14.3672131147541,
          15.86919315403423,
          11.019354838709678,
          11.807783018867925,
          15.628458498023715,
          15.219277108433735
         ],
         "xaxis": "x",
         "y": [
          30.0561797752809,
          28.29197860962567,
          29.552036199095024,
          29.93228346456693,
          30.459070072036674,
          30.37042062415197,
          31.25080091533181,
          29.38888888888889,
          28.98787061994609,
          26.565315315315317,
          30.760493827160495,
          29.386634844868734,
          30.66057142857143,
          31.339429407461594,
          19.189402480270576,
          30.41797752808989,
          27.915690866510538,
          27.94903339191564,
          29.148325358851675,
          29.632793017456358,
          28.121532364597094,
          29.715927750410508,
          29.68424279583078,
          29.37201907790143,
          32.18619084561676,
          30.784500339904827,
          31.386363636363637,
          19.878676470588236,
          30.817631806395852,
          30.711491442542787,
          35.544520547945204,
          30.679620853080568,
          28.162251655629138,
          27.783132530120483,
          30.127510040160644,
          21.71503957783641,
          27.434137291280148,
          22.865277777777777,
          27.73191489361702,
          19.895366218236173,
          23.490248823133825,
          14.44406779661017,
          7.622549019607843,
          7.0333670374115265,
          7.36897458369851,
          5.382244143033292,
          2.87874251497006,
          -0.5435656836461126,
          29.668002672010687,
          28.41741741741742,
          27.16507177033493,
          27.20427112349118,
          27.774787535410766,
          28.383637807783956,
          25.708029197080293,
          27.65335463258786,
          28.490421455938698,
          33.30638852672751,
          34.67581699346405,
          23.56140350877193,
          32.21146496815287,
          29.490144546649145,
          29.301694915254238,
          32.1810766721044,
          30.145888594164457,
          30.19969278033794,
          32.90943396226415,
          31.098422238918108,
          30.111764705882354,
          36.84782608695652,
          32.14775510204082,
          32.009049773755656,
          32.316820276497694,
          30.2876557191393,
          31.93215859030837,
          31.501432664756447,
          31.693650793650793,
          29.005524861878452,
          27.693055555555556,
          29.11051930758988,
          22.314606741573034,
          22.642297650130548,
          21.401273885350317,
          19.56271186440678,
          23.76104417670683,
          22.54772524531668,
          19.99601593625498,
          23.36842105263158,
          15.801282051282051,
          21.6889400921659,
          34.61538461538461,
          20.23404255319149,
          23.633245382585752,
          22.536585365853657,
          26.876262626262626,
          24.62680412371134,
          28.802281368821294,
          31.94148936170213,
          31.963541666666668,
          16.89375,
          21.981912144702843,
          16.975609756097562,
          26.231884057971016,
          18.7734375,
          15.329457364341085,
          13.602409638554217,
          27.428571428571427,
          20.84090909090909,
          15.114219114219114,
          11.935483870967742,
          19.99719495091164,
          21.868852459016395,
          20.506191950464395,
          20.2590799031477,
          21.275757575757577,
          20.063291139240505,
          20.54591836734694,
          20.186781609195403,
          20.882978723404257,
          30.664222873900293,
          31.70909090909091,
          31.246105919003114,
          28.7979797979798,
          21.56,
          27.408783783783782,
          11.326086956521738,
          12.229508196721312,
          18.395604395604394,
          11.41304347826087,
          3,
          28.742622950819673,
          30.08400809716599,
          28.695701357466064,
          28.65158371040724,
          31.0016835016835,
          30.79671457905544,
          24.628129602356406,
          27.42437722419929,
          30.963845521774857,
          28.052036199095024,
          28.7455919395466,
          27.134078212290504,
          30.1568,
          29.381172839506174,
          30.746341463414634,
          29.72647702407002,
          30.24859813084112,
          30.198135198135198,
          28.554557124518613,
          28.2255985267035,
          29.593519882179677,
          28.70394736842105,
          31.809045226130653,
          30.904918032786885,
          26.260391198044008,
          24.30752688172043,
          26.13443396226415,
          28.658761528326746,
          26.426506024096387
         ],
         "yaxis": "y"
        }
       ],
       "layout": {
        "autosize": false,
        "height": 700,
        "legend": {
         "tracegroupgap": 0
        },
        "margin": {
         "t": 60
        },
        "template": {
         "data": {
          "bar": [
           {
            "error_x": {
             "color": "#2a3f5f"
            },
            "error_y": {
             "color": "#2a3f5f"
            },
            "marker": {
             "line": {
              "color": "#E5ECF6",
              "width": 0.5
             }
            },
            "type": "bar"
           }
          ],
          "barpolar": [
           {
            "marker": {
             "line": {
              "color": "#E5ECF6",
              "width": 0.5
             }
            },
            "type": "barpolar"
           }
          ],
          "carpet": [
           {
            "aaxis": {
             "endlinecolor": "#2a3f5f",
             "gridcolor": "white",
             "linecolor": "white",
             "minorgridcolor": "white",
             "startlinecolor": "#2a3f5f"
            },
            "baxis": {
             "endlinecolor": "#2a3f5f",
             "gridcolor": "white",
             "linecolor": "white",
             "minorgridcolor": "white",
             "startlinecolor": "#2a3f5f"
            },
            "type": "carpet"
           }
          ],
          "choropleth": [
           {
            "colorbar": {
             "outlinewidth": 0,
             "ticks": ""
            },
            "type": "choropleth"
           }
          ],
          "contour": [
           {
            "colorbar": {
             "outlinewidth": 0,
             "ticks": ""
            },
            "colorscale": [
             [
              0,
              "#0d0887"
             ],
             [
              0.1111111111111111,
              "#46039f"
             ],
             [
              0.2222222222222222,
              "#7201a8"
             ],
             [
              0.3333333333333333,
              "#9c179e"
             ],
             [
              0.4444444444444444,
              "#bd3786"
             ],
             [
              0.5555555555555556,
              "#d8576b"
             ],
             [
              0.6666666666666666,
              "#ed7953"
             ],
             [
              0.7777777777777778,
              "#fb9f3a"
             ],
             [
              0.8888888888888888,
              "#fdca26"
             ],
             [
              1,
              "#f0f921"
             ]
            ],
            "type": "contour"
           }
          ],
          "contourcarpet": [
           {
            "colorbar": {
             "outlinewidth": 0,
             "ticks": ""
            },
            "type": "contourcarpet"
           }
          ],
          "heatmap": [
           {
            "colorbar": {
             "outlinewidth": 0,
             "ticks": ""
            },
            "colorscale": [
             [
              0,
              "#0d0887"
             ],
             [
              0.1111111111111111,
              "#46039f"
             ],
             [
              0.2222222222222222,
              "#7201a8"
             ],
             [
              0.3333333333333333,
              "#9c179e"
             ],
             [
              0.4444444444444444,
              "#bd3786"
             ],
             [
              0.5555555555555556,
              "#d8576b"
             ],
             [
              0.6666666666666666,
              "#ed7953"
             ],
             [
              0.7777777777777778,
              "#fb9f3a"
             ],
             [
              0.8888888888888888,
              "#fdca26"
             ],
             [
              1,
              "#f0f921"
             ]
            ],
            "type": "heatmap"
           }
          ],
          "heatmapgl": [
           {
            "colorbar": {
             "outlinewidth": 0,
             "ticks": ""
            },
            "colorscale": [
             [
              0,
              "#0d0887"
             ],
             [
              0.1111111111111111,
              "#46039f"
             ],
             [
              0.2222222222222222,
              "#7201a8"
             ],
             [
              0.3333333333333333,
              "#9c179e"
             ],
             [
              0.4444444444444444,
              "#bd3786"
             ],
             [
              0.5555555555555556,
              "#d8576b"
             ],
             [
              0.6666666666666666,
              "#ed7953"
             ],
             [
              0.7777777777777778,
              "#fb9f3a"
             ],
             [
              0.8888888888888888,
              "#fdca26"
             ],
             [
              1,
              "#f0f921"
             ]
            ],
            "type": "heatmapgl"
           }
          ],
          "histogram": [
           {
            "marker": {
             "colorbar": {
              "outlinewidth": 0,
              "ticks": ""
             }
            },
            "type": "histogram"
           }
          ],
          "histogram2d": [
           {
            "colorbar": {
             "outlinewidth": 0,
             "ticks": ""
            },
            "colorscale": [
             [
              0,
              "#0d0887"
             ],
             [
              0.1111111111111111,
              "#46039f"
             ],
             [
              0.2222222222222222,
              "#7201a8"
             ],
             [
              0.3333333333333333,
              "#9c179e"
             ],
             [
              0.4444444444444444,
              "#bd3786"
             ],
             [
              0.5555555555555556,
              "#d8576b"
             ],
             [
              0.6666666666666666,
              "#ed7953"
             ],
             [
              0.7777777777777778,
              "#fb9f3a"
             ],
             [
              0.8888888888888888,
              "#fdca26"
             ],
             [
              1,
              "#f0f921"
             ]
            ],
            "type": "histogram2d"
           }
          ],
          "histogram2dcontour": [
           {
            "colorbar": {
             "outlinewidth": 0,
             "ticks": ""
            },
            "colorscale": [
             [
              0,
              "#0d0887"
             ],
             [
              0.1111111111111111,
              "#46039f"
             ],
             [
              0.2222222222222222,
              "#7201a8"
             ],
             [
              0.3333333333333333,
              "#9c179e"
             ],
             [
              0.4444444444444444,
              "#bd3786"
             ],
             [
              0.5555555555555556,
              "#d8576b"
             ],
             [
              0.6666666666666666,
              "#ed7953"
             ],
             [
              0.7777777777777778,
              "#fb9f3a"
             ],
             [
              0.8888888888888888,
              "#fdca26"
             ],
             [
              1,
              "#f0f921"
             ]
            ],
            "type": "histogram2dcontour"
           }
          ],
          "mesh3d": [
           {
            "colorbar": {
             "outlinewidth": 0,
             "ticks": ""
            },
            "type": "mesh3d"
           }
          ],
          "parcoords": [
           {
            "line": {
             "colorbar": {
              "outlinewidth": 0,
              "ticks": ""
             }
            },
            "type": "parcoords"
           }
          ],
          "pie": [
           {
            "automargin": true,
            "type": "pie"
           }
          ],
          "scatter": [
           {
            "marker": {
             "colorbar": {
              "outlinewidth": 0,
              "ticks": ""
             }
            },
            "type": "scatter"
           }
          ],
          "scatter3d": [
           {
            "line": {
             "colorbar": {
              "outlinewidth": 0,
              "ticks": ""
             }
            },
            "marker": {
             "colorbar": {
              "outlinewidth": 0,
              "ticks": ""
             }
            },
            "type": "scatter3d"
           }
          ],
          "scattercarpet": [
           {
            "marker": {
             "colorbar": {
              "outlinewidth": 0,
              "ticks": ""
             }
            },
            "type": "scattercarpet"
           }
          ],
          "scattergeo": [
           {
            "marker": {
             "colorbar": {
              "outlinewidth": 0,
              "ticks": ""
             }
            },
            "type": "scattergeo"
           }
          ],
          "scattergl": [
           {
            "marker": {
             "colorbar": {
              "outlinewidth": 0,
              "ticks": ""
             }
            },
            "type": "scattergl"
           }
          ],
          "scattermapbox": [
           {
            "marker": {
             "colorbar": {
              "outlinewidth": 0,
              "ticks": ""
             }
            },
            "type": "scattermapbox"
           }
          ],
          "scatterpolar": [
           {
            "marker": {
             "colorbar": {
              "outlinewidth": 0,
              "ticks": ""
             }
            },
            "type": "scatterpolar"
           }
          ],
          "scatterpolargl": [
           {
            "marker": {
             "colorbar": {
              "outlinewidth": 0,
              "ticks": ""
             }
            },
            "type": "scatterpolargl"
           }
          ],
          "scatterternary": [
           {
            "marker": {
             "colorbar": {
              "outlinewidth": 0,
              "ticks": ""
             }
            },
            "type": "scatterternary"
           }
          ],
          "surface": [
           {
            "colorbar": {
             "outlinewidth": 0,
             "ticks": ""
            },
            "colorscale": [
             [
              0,
              "#0d0887"
             ],
             [
              0.1111111111111111,
              "#46039f"
             ],
             [
              0.2222222222222222,
              "#7201a8"
             ],
             [
              0.3333333333333333,
              "#9c179e"
             ],
             [
              0.4444444444444444,
              "#bd3786"
             ],
             [
              0.5555555555555556,
              "#d8576b"
             ],
             [
              0.6666666666666666,
              "#ed7953"
             ],
             [
              0.7777777777777778,
              "#fb9f3a"
             ],
             [
              0.8888888888888888,
              "#fdca26"
             ],
             [
              1,
              "#f0f921"
             ]
            ],
            "type": "surface"
           }
          ],
          "table": [
           {
            "cells": {
             "fill": {
              "color": "#EBF0F8"
             },
             "line": {
              "color": "white"
             }
            },
            "header": {
             "fill": {
              "color": "#C8D4E3"
             },
             "line": {
              "color": "white"
             }
            },
            "type": "table"
           }
          ]
         },
         "layout": {
          "annotationdefaults": {
           "arrowcolor": "#2a3f5f",
           "arrowhead": 0,
           "arrowwidth": 1
          },
          "coloraxis": {
           "colorbar": {
            "outlinewidth": 0,
            "ticks": ""
           }
          },
          "colorscale": {
           "diverging": [
            [
             0,
             "#8e0152"
            ],
            [
             0.1,
             "#c51b7d"
            ],
            [
             0.2,
             "#de77ae"
            ],
            [
             0.3,
             "#f1b6da"
            ],
            [
             0.4,
             "#fde0ef"
            ],
            [
             0.5,
             "#f7f7f7"
            ],
            [
             0.6,
             "#e6f5d0"
            ],
            [
             0.7,
             "#b8e186"
            ],
            [
             0.8,
             "#7fbc41"
            ],
            [
             0.9,
             "#4d9221"
            ],
            [
             1,
             "#276419"
            ]
           ],
           "sequential": [
            [
             0,
             "#0d0887"
            ],
            [
             0.1111111111111111,
             "#46039f"
            ],
            [
             0.2222222222222222,
             "#7201a8"
            ],
            [
             0.3333333333333333,
             "#9c179e"
            ],
            [
             0.4444444444444444,
             "#bd3786"
            ],
            [
             0.5555555555555556,
             "#d8576b"
            ],
            [
             0.6666666666666666,
             "#ed7953"
            ],
            [
             0.7777777777777778,
             "#fb9f3a"
            ],
            [
             0.8888888888888888,
             "#fdca26"
            ],
            [
             1,
             "#f0f921"
            ]
           ],
           "sequentialminus": [
            [
             0,
             "#0d0887"
            ],
            [
             0.1111111111111111,
             "#46039f"
            ],
            [
             0.2222222222222222,
             "#7201a8"
            ],
            [
             0.3333333333333333,
             "#9c179e"
            ],
            [
             0.4444444444444444,
             "#bd3786"
            ],
            [
             0.5555555555555556,
             "#d8576b"
            ],
            [
             0.6666666666666666,
             "#ed7953"
            ],
            [
             0.7777777777777778,
             "#fb9f3a"
            ],
            [
             0.8888888888888888,
             "#fdca26"
            ],
            [
             1,
             "#f0f921"
            ]
           ]
          },
          "colorway": [
           "#636efa",
           "#EF553B",
           "#00cc96",
           "#ab63fa",
           "#FFA15A",
           "#19d3f3",
           "#FF6692",
           "#B6E880",
           "#FF97FF",
           "#FECB52"
          ],
          "font": {
           "color": "#2a3f5f"
          },
          "geo": {
           "bgcolor": "white",
           "lakecolor": "white",
           "landcolor": "#E5ECF6",
           "showlakes": true,
           "showland": true,
           "subunitcolor": "white"
          },
          "hoverlabel": {
           "align": "left"
          },
          "hovermode": "closest",
          "mapbox": {
           "style": "light"
          },
          "paper_bgcolor": "white",
          "plot_bgcolor": "#E5ECF6",
          "polar": {
           "angularaxis": {
            "gridcolor": "white",
            "linecolor": "white",
            "ticks": ""
           },
           "bgcolor": "#E5ECF6",
           "radialaxis": {
            "gridcolor": "white",
            "linecolor": "white",
            "ticks": ""
           }
          },
          "scene": {
           "xaxis": {
            "backgroundcolor": "#E5ECF6",
            "gridcolor": "white",
            "gridwidth": 2,
            "linecolor": "white",
            "showbackground": true,
            "ticks": "",
            "zerolinecolor": "white"
           },
           "yaxis": {
            "backgroundcolor": "#E5ECF6",
            "gridcolor": "white",
            "gridwidth": 2,
            "linecolor": "white",
            "showbackground": true,
            "ticks": "",
            "zerolinecolor": "white"
           },
           "zaxis": {
            "backgroundcolor": "#E5ECF6",
            "gridcolor": "white",
            "gridwidth": 2,
            "linecolor": "white",
            "showbackground": true,
            "ticks": "",
            "zerolinecolor": "white"
           }
          },
          "shapedefaults": {
           "line": {
            "color": "#2a3f5f"
           }
          },
          "ternary": {
           "aaxis": {
            "gridcolor": "white",
            "linecolor": "white",
            "ticks": ""
           },
           "baxis": {
            "gridcolor": "white",
            "linecolor": "white",
            "ticks": ""
           },
           "bgcolor": "#E5ECF6",
           "caxis": {
            "gridcolor": "white",
            "linecolor": "white",
            "ticks": ""
           }
          },
          "title": {
           "x": 0.05
          },
          "xaxis": {
           "automargin": true,
           "gridcolor": "white",
           "linecolor": "white",
           "ticks": "",
           "title": {
            "standoff": 15
           },
           "zerolinecolor": "white",
           "zerolinewidth": 2
          },
          "yaxis": {
           "automargin": true,
           "gridcolor": "white",
           "linecolor": "white",
           "ticks": "",
           "title": {
            "standoff": 15
           },
           "zerolinecolor": "white",
           "zerolinewidth": 2
          }
         }
        },
        "title": {
         "text": "Minimum and maximum temperature at the STAs (1942-1948)"
        },
        "width": 1000,
        "xaxis": {
         "anchor": "y",
         "domain": [
          0,
          1
         ],
         "showgrid": false,
         "showticklabels": false,
         "title": {
          "text": "MinTemp"
         }
        },
        "yaxis": {
         "anchor": "x",
         "domain": [
          0,
          1
         ],
         "showgrid": false,
         "title": {
          "text": "MaxTemp"
         }
        }
       }
      },
      "text/html": [
       "<div>\n",
       "        \n",
       "        \n",
       "            <div id=\"965d5ffb-ddd8-4e62-a6de-86826b6d10e8\" class=\"plotly-graph-div\" style=\"height:700px; width:1000px;\"></div>\n",
       "            <script type=\"text/javascript\">\n",
       "                require([\"plotly\"], function(Plotly) {\n",
       "                    window.PLOTLYENV=window.PLOTLYENV || {};\n",
       "                    \n",
       "                if (document.getElementById(\"965d5ffb-ddd8-4e62-a6de-86826b6d10e8\")) {\n",
       "                    Plotly.newPlot(\n",
       "                        '965d5ffb-ddd8-4e62-a6de-86826b6d10e8',\n",
       "                        [{\"customdata\": [[10001], [10002], [10101], [10102], [10502], [10505], [10701], [10703], [10704], [10705], [10718], [10802], [10803], [10804], [10806], [10807], [11101], [11103], [11501], [11601], [11604], [11606], [11610], [11615], [11701], [11704], [11801], [11901], [11902], [12001], [12101], [12701], [12702], [12706], [12801], [13002], [13005], [13007], [13013], [13201], [13601], [15027], [16101], [16201], [16202], [16405], [16407], [16504], [20501], [20602], [21501], [22502], [22504], [22507], [22508], [22509], [30001], [31001], [31101], [31302], [31401], [31501], [31701], [32301], [32501], [32503], [32504], [32601], [32602], [32603], [32701], [32702], [32801], [32803], [32805], [32812], [32815], [32904], [32906], [32907], [33003], [33013], [33014], [33019], [33023], [33031], [33044], [33109], [33111], [33117], [33121], [33123], [33205], [33206], [33303], [33305], [33307], [33401], [33405], [33406], [33501], [34002], [34003], [34005], [34012], [34013], [34017], [34018], [34022], [34101], [34104], [34105], [34109], [34111], [34113], [34123], [34139], [34147], [34150], [40601], [41204], [41207], [42204], [42206], [42401], [43201], [43302], [43305], [43307], [44401], [50301], [50302], [50303], [50304], [50401], [50403], [50801], [50802], [60701], [61501], [61502], [62701], [80411], [80412], [80425], [80504], [80509], [80510], [81404], [81601], [81702], [82402], [82403], [82404], [82405], [82501], [82502], [82503], [82506]], \"hovertemplate\": \"MinTemp=%{x}<br>MaxTemp=%{y}<br>STA=%{customdata[0]}<extra></extra>\", \"legendgroup\": \"\", \"marker\": {\"color\": \"#636efa\", \"symbol\": \"circle\"}, \"mode\": \"markers\", \"name\": \"\", \"orientation\": \"v\", \"showlegend\": false, \"textposition\": \"top center\", \"type\": \"scatter\", \"x\": [22.061365600691442, 23.06524064171123, 21.89291101055807, 21.73779527559055, 21.030124426981008, 20.474898236092265, 22.668649885583523, 23.16, 21.921832884097036, 19.09159159159159, 22.56707818930041, 22.81980906921241, 22.524, 20.939283101682516, 10.895152198421647, 19.543820224719102, 20.346604215456676, 22.0896309314587, 22.67464114832536, 23.84850374064838, 23.253632760898284, 24.177339901477833, 21.506437768240342, 20.251192368839426, 21.024049650892163, 19.78110129163834, 21.565656565656564, 10.596323529411764, 19.860847018150388, 14.048899755501223, 21.551369863013697, 19.387677725118483, 23.314569536423843, 21.63855421686747, 19.184738955823292, 12.778364116094988, 11.729128014842301, 9.719444444444445, 13.829787234042554, 14.41405082212257, 18.83860121049092, 6.96271186440678, 1.053921568627451, 2.1183013144590497, 2.0192813321647676, -2.6023427866831073, -2.055389221556886, -8.989276139410189, 23.643954575818302, 24.07807807807808, 17.818181818181817, 18.744196843082637, 20.047214353163362, 18.745830023828436, 17.96167883211679, 19.750798722044728, 22.662835249042146, 19.23728813559322, 18.776470588235295, 9.08187134502924, 22.78343949044586, 20.988173455978973, 17.613559322033897, 14.895595432300164, 21.421750663129973, 23.490015360983104, 20.19622641509434, 19.96093163035312, 22.211764705882352, 22.605072463768117, 17.207346938775512, 18.52601809954751, 20.653225806451612, 19.369195922989807, 18.066079295154186, 18.39541547277937, 20.834920634920636, 18.96685082872928, 17.6375, 18.320905459387482, 11.249438202247191, 10.514360313315926, 9.933121019108281, 10.901694915254238, 12.029116465863455, 11.168599464763604, 6.862549800796812, 13.165903890160184, 5.865384615384615, 14.40668202764977, 19.23076923076923, 9.72340425531915, 13.147757255936675, 12.008130081300813, 14.887626262626263, 9.494845360824742, 13.228136882129277, 17.15026595744681, 14.828125, 0.803125, 9.481912144702843, 11.670731707317072, 13.91304347826087, 11.3984375, 6.12015503875969, 4.0602409638554215, 16.21904761904762, 11.377272727272727, 5.813519813519814, 1.6774193548387097, 9.603085553997195, 9.901639344262295, 10.873065015479876, 10.016949152542374, 11.793939393939393, 7.9957805907173, 9.0, 9.879310344827585, 9.38031914893617, 24.63049853372434, 22.814545454545456, 21.98442367601246, 22.80808080808081, 15.32, 22.114864864864863, 1.5869565217391304, 2.5081967213114753, 8.43956043956044, 0.6086956521739131, -5.19672131147541, 23.167213114754098, 22.427125506072876, 22.153846153846153, 21.634615384615383, 21.762626262626263, 22.364476386036962, 20.74521354933726, 18.635231316725978, 24.847165160230073, 22.77601809954751, 23.20403022670025, 19.195530726256983, 22.6432, 22.191358024691358, 21.81219512195122, 23.312910284463896, 21.450467289719626, 23.111888111888113, 22.322207958921695, 22.042357274401475, 19.895434462444772, 14.703947368421053, 17.266331658291456, 14.3672131147541, 15.86919315403423, 11.019354838709678, 11.807783018867925, 15.628458498023715, 15.219277108433735], \"xaxis\": \"x\", \"y\": [30.0561797752809, 28.29197860962567, 29.552036199095024, 29.93228346456693, 30.459070072036674, 30.37042062415197, 31.25080091533181, 29.38888888888889, 28.98787061994609, 26.565315315315317, 30.760493827160495, 29.386634844868734, 30.66057142857143, 31.339429407461594, 19.189402480270576, 30.41797752808989, 27.915690866510538, 27.94903339191564, 29.148325358851675, 29.632793017456358, 28.121532364597094, 29.715927750410508, 29.68424279583078, 29.37201907790143, 32.18619084561676, 30.784500339904827, 31.386363636363637, 19.878676470588236, 30.817631806395852, 30.711491442542787, 35.544520547945204, 30.679620853080568, 28.162251655629138, 27.783132530120483, 30.127510040160644, 21.71503957783641, 27.434137291280148, 22.865277777777777, 27.73191489361702, 19.895366218236173, 23.490248823133825, 14.44406779661017, 7.622549019607843, 7.0333670374115265, 7.36897458369851, 5.382244143033292, 2.87874251497006, -0.5435656836461126, 29.668002672010687, 28.41741741741742, 27.16507177033493, 27.20427112349118, 27.774787535410766, 28.383637807783956, 25.708029197080293, 27.65335463258786, 28.490421455938698, 33.30638852672751, 34.67581699346405, 23.56140350877193, 32.21146496815287, 29.490144546649145, 29.301694915254238, 32.1810766721044, 30.145888594164457, 30.19969278033794, 32.90943396226415, 31.098422238918108, 30.111764705882354, 36.84782608695652, 32.14775510204082, 32.009049773755656, 32.316820276497694, 30.2876557191393, 31.93215859030837, 31.501432664756447, 31.693650793650793, 29.005524861878452, 27.693055555555556, 29.11051930758988, 22.314606741573034, 22.642297650130548, 21.401273885350317, 19.56271186440678, 23.76104417670683, 22.54772524531668, 19.99601593625498, 23.36842105263158, 15.801282051282051, 21.6889400921659, 34.61538461538461, 20.23404255319149, 23.633245382585752, 22.536585365853657, 26.876262626262626, 24.62680412371134, 28.802281368821294, 31.94148936170213, 31.963541666666668, 16.89375, 21.981912144702843, 16.975609756097562, 26.231884057971016, 18.7734375, 15.329457364341085, 13.602409638554217, 27.428571428571427, 20.84090909090909, 15.114219114219114, 11.935483870967742, 19.99719495091164, 21.868852459016395, 20.506191950464395, 20.2590799031477, 21.275757575757577, 20.063291139240505, 20.54591836734694, 20.186781609195403, 20.882978723404257, 30.664222873900293, 31.70909090909091, 31.246105919003114, 28.7979797979798, 21.56, 27.408783783783782, 11.326086956521738, 12.229508196721312, 18.395604395604394, 11.41304347826087, 3.0, 28.742622950819673, 30.08400809716599, 28.695701357466064, 28.65158371040724, 31.0016835016835, 30.79671457905544, 24.628129602356406, 27.42437722419929, 30.963845521774857, 28.052036199095024, 28.7455919395466, 27.134078212290504, 30.1568, 29.381172839506174, 30.746341463414634, 29.72647702407002, 30.24859813084112, 30.198135198135198, 28.554557124518613, 28.2255985267035, 29.593519882179677, 28.70394736842105, 31.809045226130653, 30.904918032786885, 26.260391198044008, 24.30752688172043, 26.13443396226415, 28.658761528326746, 26.426506024096387], \"yaxis\": \"y\"}],\n",
       "                        {\"autosize\": false, \"height\": 700, \"legend\": {\"tracegroupgap\": 0}, \"margin\": {\"t\": 60}, \"template\": {\"data\": {\"bar\": [{\"error_x\": {\"color\": \"#2a3f5f\"}, \"error_y\": {\"color\": \"#2a3f5f\"}, \"marker\": {\"line\": {\"color\": \"#E5ECF6\", \"width\": 0.5}}, \"type\": \"bar\"}], \"barpolar\": [{\"marker\": {\"line\": {\"color\": \"#E5ECF6\", \"width\": 0.5}}, \"type\": \"barpolar\"}], \"carpet\": [{\"aaxis\": {\"endlinecolor\": \"#2a3f5f\", \"gridcolor\": \"white\", \"linecolor\": \"white\", \"minorgridcolor\": \"white\", \"startlinecolor\": \"#2a3f5f\"}, \"baxis\": {\"endlinecolor\": \"#2a3f5f\", \"gridcolor\": \"white\", \"linecolor\": \"white\", \"minorgridcolor\": \"white\", \"startlinecolor\": \"#2a3f5f\"}, \"type\": \"carpet\"}], \"choropleth\": [{\"colorbar\": {\"outlinewidth\": 0, \"ticks\": \"\"}, \"type\": \"choropleth\"}], \"contour\": [{\"colorbar\": {\"outlinewidth\": 0, \"ticks\": \"\"}, \"colorscale\": [[0.0, \"#0d0887\"], [0.1111111111111111, \"#46039f\"], [0.2222222222222222, \"#7201a8\"], [0.3333333333333333, \"#9c179e\"], [0.4444444444444444, \"#bd3786\"], [0.5555555555555556, \"#d8576b\"], [0.6666666666666666, \"#ed7953\"], [0.7777777777777778, \"#fb9f3a\"], [0.8888888888888888, \"#fdca26\"], [1.0, \"#f0f921\"]], \"type\": \"contour\"}], \"contourcarpet\": [{\"colorbar\": {\"outlinewidth\": 0, \"ticks\": \"\"}, \"type\": \"contourcarpet\"}], \"heatmap\": [{\"colorbar\": {\"outlinewidth\": 0, \"ticks\": \"\"}, \"colorscale\": [[0.0, \"#0d0887\"], [0.1111111111111111, \"#46039f\"], [0.2222222222222222, \"#7201a8\"], [0.3333333333333333, \"#9c179e\"], [0.4444444444444444, \"#bd3786\"], [0.5555555555555556, \"#d8576b\"], [0.6666666666666666, \"#ed7953\"], [0.7777777777777778, \"#fb9f3a\"], [0.8888888888888888, \"#fdca26\"], [1.0, \"#f0f921\"]], \"type\": \"heatmap\"}], \"heatmapgl\": [{\"colorbar\": {\"outlinewidth\": 0, \"ticks\": \"\"}, \"colorscale\": [[0.0, \"#0d0887\"], [0.1111111111111111, \"#46039f\"], [0.2222222222222222, \"#7201a8\"], [0.3333333333333333, \"#9c179e\"], [0.4444444444444444, \"#bd3786\"], [0.5555555555555556, \"#d8576b\"], [0.6666666666666666, \"#ed7953\"], [0.7777777777777778, \"#fb9f3a\"], [0.8888888888888888, \"#fdca26\"], [1.0, \"#f0f921\"]], \"type\": \"heatmapgl\"}], \"histogram\": [{\"marker\": {\"colorbar\": {\"outlinewidth\": 0, \"ticks\": \"\"}}, \"type\": \"histogram\"}], \"histogram2d\": [{\"colorbar\": {\"outlinewidth\": 0, \"ticks\": \"\"}, \"colorscale\": [[0.0, \"#0d0887\"], [0.1111111111111111, \"#46039f\"], [0.2222222222222222, \"#7201a8\"], [0.3333333333333333, \"#9c179e\"], [0.4444444444444444, \"#bd3786\"], [0.5555555555555556, \"#d8576b\"], [0.6666666666666666, \"#ed7953\"], [0.7777777777777778, \"#fb9f3a\"], [0.8888888888888888, \"#fdca26\"], [1.0, \"#f0f921\"]], \"type\": \"histogram2d\"}], \"histogram2dcontour\": [{\"colorbar\": {\"outlinewidth\": 0, \"ticks\": \"\"}, \"colorscale\": [[0.0, \"#0d0887\"], [0.1111111111111111, \"#46039f\"], [0.2222222222222222, \"#7201a8\"], [0.3333333333333333, \"#9c179e\"], [0.4444444444444444, \"#bd3786\"], [0.5555555555555556, \"#d8576b\"], [0.6666666666666666, \"#ed7953\"], [0.7777777777777778, \"#fb9f3a\"], [0.8888888888888888, \"#fdca26\"], [1.0, \"#f0f921\"]], \"type\": \"histogram2dcontour\"}], \"mesh3d\": [{\"colorbar\": {\"outlinewidth\": 0, \"ticks\": \"\"}, \"type\": \"mesh3d\"}], \"parcoords\": [{\"line\": {\"colorbar\": {\"outlinewidth\": 0, \"ticks\": \"\"}}, \"type\": \"parcoords\"}], \"pie\": [{\"automargin\": true, \"type\": \"pie\"}], \"scatter\": [{\"marker\": {\"colorbar\": {\"outlinewidth\": 0, \"ticks\": \"\"}}, \"type\": \"scatter\"}], \"scatter3d\": [{\"line\": {\"colorbar\": {\"outlinewidth\": 0, \"ticks\": \"\"}}, \"marker\": {\"colorbar\": {\"outlinewidth\": 0, \"ticks\": \"\"}}, \"type\": \"scatter3d\"}], \"scattercarpet\": [{\"marker\": {\"colorbar\": {\"outlinewidth\": 0, \"ticks\": \"\"}}, \"type\": \"scattercarpet\"}], \"scattergeo\": [{\"marker\": {\"colorbar\": {\"outlinewidth\": 0, \"ticks\": \"\"}}, \"type\": \"scattergeo\"}], \"scattergl\": [{\"marker\": {\"colorbar\": {\"outlinewidth\": 0, \"ticks\": \"\"}}, \"type\": \"scattergl\"}], \"scattermapbox\": [{\"marker\": {\"colorbar\": {\"outlinewidth\": 0, \"ticks\": \"\"}}, \"type\": \"scattermapbox\"}], \"scatterpolar\": [{\"marker\": {\"colorbar\": {\"outlinewidth\": 0, \"ticks\": \"\"}}, \"type\": \"scatterpolar\"}], \"scatterpolargl\": [{\"marker\": {\"colorbar\": {\"outlinewidth\": 0, \"ticks\": \"\"}}, \"type\": \"scatterpolargl\"}], \"scatterternary\": [{\"marker\": {\"colorbar\": {\"outlinewidth\": 0, \"ticks\": \"\"}}, \"type\": \"scatterternary\"}], \"surface\": [{\"colorbar\": {\"outlinewidth\": 0, \"ticks\": \"\"}, \"colorscale\": [[0.0, \"#0d0887\"], [0.1111111111111111, \"#46039f\"], [0.2222222222222222, \"#7201a8\"], [0.3333333333333333, \"#9c179e\"], [0.4444444444444444, \"#bd3786\"], [0.5555555555555556, \"#d8576b\"], [0.6666666666666666, \"#ed7953\"], [0.7777777777777778, \"#fb9f3a\"], [0.8888888888888888, \"#fdca26\"], [1.0, \"#f0f921\"]], \"type\": \"surface\"}], \"table\": [{\"cells\": {\"fill\": {\"color\": \"#EBF0F8\"}, \"line\": {\"color\": \"white\"}}, \"header\": {\"fill\": {\"color\": \"#C8D4E3\"}, \"line\": {\"color\": \"white\"}}, \"type\": \"table\"}]}, \"layout\": {\"annotationdefaults\": {\"arrowcolor\": \"#2a3f5f\", \"arrowhead\": 0, \"arrowwidth\": 1}, \"coloraxis\": {\"colorbar\": {\"outlinewidth\": 0, \"ticks\": \"\"}}, \"colorscale\": {\"diverging\": [[0, \"#8e0152\"], [0.1, \"#c51b7d\"], [0.2, \"#de77ae\"], [0.3, \"#f1b6da\"], [0.4, \"#fde0ef\"], [0.5, \"#f7f7f7\"], [0.6, \"#e6f5d0\"], [0.7, \"#b8e186\"], [0.8, \"#7fbc41\"], [0.9, \"#4d9221\"], [1, \"#276419\"]], \"sequential\": [[0.0, \"#0d0887\"], [0.1111111111111111, \"#46039f\"], [0.2222222222222222, \"#7201a8\"], [0.3333333333333333, \"#9c179e\"], [0.4444444444444444, \"#bd3786\"], [0.5555555555555556, \"#d8576b\"], [0.6666666666666666, \"#ed7953\"], [0.7777777777777778, \"#fb9f3a\"], [0.8888888888888888, \"#fdca26\"], [1.0, \"#f0f921\"]], \"sequentialminus\": [[0.0, \"#0d0887\"], [0.1111111111111111, \"#46039f\"], [0.2222222222222222, \"#7201a8\"], [0.3333333333333333, \"#9c179e\"], [0.4444444444444444, \"#bd3786\"], [0.5555555555555556, \"#d8576b\"], [0.6666666666666666, \"#ed7953\"], [0.7777777777777778, \"#fb9f3a\"], [0.8888888888888888, \"#fdca26\"], [1.0, \"#f0f921\"]]}, \"colorway\": [\"#636efa\", \"#EF553B\", \"#00cc96\", \"#ab63fa\", \"#FFA15A\", \"#19d3f3\", \"#FF6692\", \"#B6E880\", \"#FF97FF\", \"#FECB52\"], \"font\": {\"color\": \"#2a3f5f\"}, \"geo\": {\"bgcolor\": \"white\", \"lakecolor\": \"white\", \"landcolor\": \"#E5ECF6\", \"showlakes\": true, \"showland\": true, \"subunitcolor\": \"white\"}, \"hoverlabel\": {\"align\": \"left\"}, \"hovermode\": \"closest\", \"mapbox\": {\"style\": \"light\"}, \"paper_bgcolor\": \"white\", \"plot_bgcolor\": \"#E5ECF6\", \"polar\": {\"angularaxis\": {\"gridcolor\": \"white\", \"linecolor\": \"white\", \"ticks\": \"\"}, \"bgcolor\": \"#E5ECF6\", \"radialaxis\": {\"gridcolor\": \"white\", \"linecolor\": \"white\", \"ticks\": \"\"}}, \"scene\": {\"xaxis\": {\"backgroundcolor\": \"#E5ECF6\", \"gridcolor\": \"white\", \"gridwidth\": 2, \"linecolor\": \"white\", \"showbackground\": true, \"ticks\": \"\", \"zerolinecolor\": \"white\"}, \"yaxis\": {\"backgroundcolor\": \"#E5ECF6\", \"gridcolor\": \"white\", \"gridwidth\": 2, \"linecolor\": \"white\", \"showbackground\": true, \"ticks\": \"\", \"zerolinecolor\": \"white\"}, \"zaxis\": {\"backgroundcolor\": \"#E5ECF6\", \"gridcolor\": \"white\", \"gridwidth\": 2, \"linecolor\": \"white\", \"showbackground\": true, \"ticks\": \"\", \"zerolinecolor\": \"white\"}}, \"shapedefaults\": {\"line\": {\"color\": \"#2a3f5f\"}}, \"ternary\": {\"aaxis\": {\"gridcolor\": \"white\", \"linecolor\": \"white\", \"ticks\": \"\"}, \"baxis\": {\"gridcolor\": \"white\", \"linecolor\": \"white\", \"ticks\": \"\"}, \"bgcolor\": \"#E5ECF6\", \"caxis\": {\"gridcolor\": \"white\", \"linecolor\": \"white\", \"ticks\": \"\"}}, \"title\": {\"x\": 0.05}, \"xaxis\": {\"automargin\": true, \"gridcolor\": \"white\", \"linecolor\": \"white\", \"ticks\": \"\", \"title\": {\"standoff\": 15}, \"zerolinecolor\": \"white\", \"zerolinewidth\": 2}, \"yaxis\": {\"automargin\": true, \"gridcolor\": \"white\", \"linecolor\": \"white\", \"ticks\": \"\", \"title\": {\"standoff\": 15}, \"zerolinecolor\": \"white\", \"zerolinewidth\": 2}}}, \"title\": {\"text\": \"Minimum and maximum temperature at the STAs (1942-1948)\"}, \"width\": 1000, \"xaxis\": {\"anchor\": \"y\", \"domain\": [0.0, 1.0], \"showgrid\": false, \"showticklabels\": false, \"title\": {\"text\": \"MinTemp\"}}, \"yaxis\": {\"anchor\": \"x\", \"domain\": [0.0, 1.0], \"showgrid\": false, \"title\": {\"text\": \"MaxTemp\"}}},\n",
       "                        {\"responsive\": true}\n",
       "                    ).then(function(){\n",
       "                            \n",
       "var gd = document.getElementById('965d5ffb-ddd8-4e62-a6de-86826b6d10e8');\n",
       "var x = new MutationObserver(function (mutations, observer) {{\n",
       "        var display = window.getComputedStyle(gd).display;\n",
       "        if (!display || display === 'none') {{\n",
       "            console.log([gd, 'removed!']);\n",
       "            Plotly.purge(gd);\n",
       "            observer.disconnect();\n",
       "        }}\n",
       "}});\n",
       "\n",
       "// Listen for the removal of the full notebook cells\n",
       "var notebookContainer = gd.closest('#notebook-container');\n",
       "if (notebookContainer) {{\n",
       "    x.observe(notebookContainer, {childList: true});\n",
       "}}\n",
       "\n",
       "// Listen for the clearing of the current output cell\n",
       "var outputEl = gd.closest('.output');\n",
       "if (outputEl) {{\n",
       "    x.observe(outputEl, {childList: true});\n",
       "}}\n",
       "\n",
       "                        })\n",
       "                };\n",
       "                });\n",
       "            </script>\n",
       "        </div>"
      ]
     },
     "metadata": {},
     "output_type": "display_data"
    }
   ],
   "source": [
    "fig=px.scatter(df_Sta,x=\"MinTemp\" ,y=\"MaxTemp\", hover_data=[\"STA\"])\n",
    "#adding lines to show mean, median, Q3 and Q1\n",
    "fig.update_layout(width=1000,\n",
    "                  height=700,\n",
    "                  xaxis_showgrid=False,\n",
    "                  yaxis_showgrid=False,\n",
    "                  autosize=False,\n",
    "                  title_text='Mean minimum and maximum temperature at the STAs (1940-1945)',\n",
    "                 )\n",
    "fig.update_xaxes(showticklabels=False)\n",
    "fig.show()"
   ]
  },
  {
   "cell_type": "code",
   "execution_count": 38,
   "metadata": {},
   "outputs": [
    {
     "name": "stderr",
     "output_type": "stream",
     "text": [
      "<ipython-input-38-b77e680226e1>:1: FutureWarning:\n",
      "\n",
      "Indexing with multiple keys (implicitly converted to a tuple of keys) will be deprecated, use a list instead.\n",
      "\n"
     ]
    },
    {
     "data": {
      "text/html": [
       "<div>\n",
       "<style scoped>\n",
       "    .dataframe tbody tr th:only-of-type {\n",
       "        vertical-align: middle;\n",
       "    }\n",
       "\n",
       "    .dataframe tbody tr th {\n",
       "        vertical-align: top;\n",
       "    }\n",
       "\n",
       "    .dataframe thead th {\n",
       "        text-align: right;\n",
       "    }\n",
       "</style>\n",
       "<table border=\"1\" class=\"dataframe\">\n",
       "  <thead>\n",
       "    <tr style=\"text-align: right;\">\n",
       "      <th></th>\n",
       "      <th>MO</th>\n",
       "      <th>YR</th>\n",
       "      <th>MaxTemp</th>\n",
       "      <th>MeanTemp</th>\n",
       "      <th>MinTemp</th>\n",
       "      <th>Snowfall</th>\n",
       "      <th>Precip</th>\n",
       "    </tr>\n",
       "  </thead>\n",
       "  <tbody>\n",
       "    <tr>\n",
       "      <th>0</th>\n",
       "      <td>1</td>\n",
       "      <td>40</td>\n",
       "      <td>26.731183</td>\n",
       "      <td>22.268817</td>\n",
       "      <td>17.817204</td>\n",
       "      <td>0.000000</td>\n",
       "      <td>3.215054</td>\n",
       "    </tr>\n",
       "    <tr>\n",
       "      <th>1</th>\n",
       "      <td>1</td>\n",
       "      <td>41</td>\n",
       "      <td>27.303371</td>\n",
       "      <td>23.056180</td>\n",
       "      <td>18.769663</td>\n",
       "      <td>0.000000</td>\n",
       "      <td>0.882022</td>\n",
       "    </tr>\n",
       "    <tr>\n",
       "      <th>2</th>\n",
       "      <td>1</td>\n",
       "      <td>42</td>\n",
       "      <td>19.476793</td>\n",
       "      <td>15.514768</td>\n",
       "      <td>11.567511</td>\n",
       "      <td>0.738397</td>\n",
       "      <td>1.128692</td>\n",
       "    </tr>\n",
       "    <tr>\n",
       "      <th>3</th>\n",
       "      <td>1</td>\n",
       "      <td>43</td>\n",
       "      <td>25.498645</td>\n",
       "      <td>20.987127</td>\n",
       "      <td>16.504743</td>\n",
       "      <td>0.160569</td>\n",
       "      <td>2.821816</td>\n",
       "    </tr>\n",
       "    <tr>\n",
       "      <th>4</th>\n",
       "      <td>1</td>\n",
       "      <td>44</td>\n",
       "      <td>23.576336</td>\n",
       "      <td>18.732824</td>\n",
       "      <td>13.940522</td>\n",
       "      <td>0.810433</td>\n",
       "      <td>1.992366</td>\n",
       "    </tr>\n",
       "  </tbody>\n",
       "</table>\n",
       "</div>"
      ],
      "text/plain": [
       "   MO  YR    MaxTemp   MeanTemp    MinTemp  Snowfall    Precip\n",
       "0   1  40  26.731183  22.268817  17.817204  0.000000  3.215054\n",
       "1   1  41  27.303371  23.056180  18.769663  0.000000  0.882022\n",
       "2   1  42  19.476793  15.514768  11.567511  0.738397  1.128692\n",
       "3   1  43  25.498645  20.987127  16.504743  0.160569  2.821816\n",
       "4   1  44  23.576336  18.732824  13.940522  0.810433  1.992366"
      ]
     },
     "execution_count": 38,
     "metadata": {},
     "output_type": "execute_result"
    }
   ],
   "source": [
    "df_mo=df1.groupby([\"MO\",\"YR\"])[\"MaxTemp\", \"MeanTemp\",\"MinTemp\", \"Snowfall\", \"Precip\"].mean().reset_index()\n",
    "df_mo.head()"
   ]
  },
  {
   "cell_type": "code",
   "execution_count": 49,
   "metadata": {
    "scrolled": false
   },
   "outputs": [
    {
     "data": {
      "application/vnd.plotly.v1+json": {
       "config": {
        "plotlyServerURL": "https://plot.ly"
       },
       "data": [
        {
         "alignmentgroup": "True",
         "hovertemplate": "variable=Snowfall<br>YR=40<br>MO=%{x}<br>value=%{y}<extra></extra>",
         "legendgroup": "Snowfall",
         "marker": {
          "color": "#636efa"
         },
         "name": "Snowfall",
         "offsetgroup": "Snowfall",
         "orientation": "v",
         "showlegend": true,
         "textposition": "auto",
         "type": "bar",
         "x": [
          1,
          2,
          3,
          4,
          5,
          6,
          7,
          8,
          9,
          10,
          11,
          12
         ],
         "xaxis": "x",
         "y": [
          0,
          0,
          0,
          0,
          0,
          0,
          0,
          0,
          0,
          0,
          0,
          0
         ],
         "yaxis": "y"
        },
        {
         "alignmentgroup": "True",
         "hovertemplate": "variable=Precip<br>YR=40<br>MO=%{x}<br>value=%{y}<extra></extra>",
         "legendgroup": "Precip",
         "marker": {
          "color": "#EF553B"
         },
         "name": "Precip",
         "offsetgroup": "Precip",
         "orientation": "v",
         "showlegend": true,
         "textposition": "auto",
         "type": "bar",
         "x": [
          1,
          2,
          3,
          4,
          5,
          6,
          7,
          8,
          9,
          10,
          11,
          12
         ],
         "xaxis": "x",
         "y": [
          3.21505376344086,
          0.4861111111111111,
          2.0258064516129033,
          1,
          2.7483870967741937,
          1.46,
          2.5806451612903225,
          1.4838709677419355,
          2.32,
          2.890322580645161,
          5,
          1.0753424657534247
         ],
         "yaxis": "y"
        },
        {
         "alignmentgroup": "True",
         "hovertemplate": "variable=MinTemp<br>YR=40<br>MO=%{x}<br>value=%{y}<extra></extra>",
         "legendgroup": "MinTemp",
         "marker": {
          "color": "#00cc96"
         },
         "name": "MinTemp",
         "offsetgroup": "MinTemp",
         "orientation": "v",
         "showlegend": true,
         "textposition": "auto",
         "type": "bar",
         "x": [
          1,
          2,
          3,
          4,
          5,
          6,
          7,
          8,
          9,
          10,
          11,
          12
         ],
         "xaxis": "x",
         "y": [
          17.817204301075268,
          17.4375,
          17.34193548387097,
          19.293333333333333,
          20.348387096774193,
          20.833333333333332,
          22.045161290322582,
          22.580645161290324,
          21.42,
          21.096774193548388,
          20.312101910828027,
          19.993150684931507
         ],
         "yaxis": "y"
        },
        {
         "alignmentgroup": "True",
         "hovertemplate": "variable=MeanTemp<br>YR=40<br>MO=%{x}<br>value=%{y}<extra></extra>",
         "legendgroup": "MeanTemp",
         "marker": {
          "color": "#ab63fa"
         },
         "name": "MeanTemp",
         "offsetgroup": "MeanTemp",
         "orientation": "v",
         "showlegend": true,
         "textposition": "auto",
         "type": "bar",
         "x": [
          1,
          2,
          3,
          4,
          5,
          6,
          7,
          8,
          9,
          10,
          11,
          12
         ],
         "xaxis": "x",
         "y": [
          22.268817204301076,
          22.083333333333332,
          22.27741935483871,
          23.62,
          24.283870967741937,
          24.80666666666667,
          25.683870967741935,
          25.787096774193547,
          25.2,
          24.883870967741935,
          24.159235668789808,
          23.773972602739725
         ],
         "yaxis": "y"
        },
        {
         "alignmentgroup": "True",
         "hovertemplate": "variable=MaxTemp<br>YR=40<br>MO=%{x}<br>value=%{y}<extra></extra>",
         "legendgroup": "MaxTemp",
         "marker": {
          "color": "#FFA15A"
         },
         "name": "MaxTemp",
         "offsetgroup": "MaxTemp",
         "orientation": "v",
         "showlegend": true,
         "textposition": "auto",
         "type": "bar",
         "x": [
          1,
          2,
          3,
          4,
          5,
          6,
          7,
          8,
          9,
          10,
          11,
          12
         ],
         "xaxis": "x",
         "y": [
          26.731182795698924,
          26.78472222222222,
          27.283870967741937,
          27.886666666666667,
          28.206451612903226,
          28.773333333333333,
          29.393548387096775,
          29.135483870967743,
          29.02,
          28.690322580645162,
          27.94904458598726,
          27.664383561643834
         ],
         "yaxis": "y"
        }
       ],
       "frames": [
        {
         "data": [
          {
           "alignmentgroup": "True",
           "hovertemplate": "variable=Snowfall<br>YR=40<br>MO=%{x}<br>value=%{y}<extra></extra>",
           "legendgroup": "Snowfall",
           "marker": {
            "color": "#636efa"
           },
           "name": "Snowfall",
           "offsetgroup": "Snowfall",
           "orientation": "v",
           "showlegend": true,
           "textposition": "auto",
           "type": "bar",
           "x": [
            1,
            2,
            3,
            4,
            5,
            6,
            7,
            8,
            9,
            10,
            11,
            12
           ],
           "xaxis": "x",
           "y": [
            0,
            0,
            0,
            0,
            0,
            0,
            0,
            0,
            0,
            0,
            0,
            0
           ],
           "yaxis": "y"
          },
          {
           "alignmentgroup": "True",
           "hovertemplate": "variable=Precip<br>YR=40<br>MO=%{x}<br>value=%{y}<extra></extra>",
           "legendgroup": "Precip",
           "marker": {
            "color": "#EF553B"
           },
           "name": "Precip",
           "offsetgroup": "Precip",
           "orientation": "v",
           "showlegend": true,
           "textposition": "auto",
           "type": "bar",
           "x": [
            1,
            2,
            3,
            4,
            5,
            6,
            7,
            8,
            9,
            10,
            11,
            12
           ],
           "xaxis": "x",
           "y": [
            3.21505376344086,
            0.4861111111111111,
            2.0258064516129033,
            1,
            2.7483870967741937,
            1.46,
            2.5806451612903225,
            1.4838709677419355,
            2.32,
            2.890322580645161,
            5,
            1.0753424657534247
           ],
           "yaxis": "y"
          },
          {
           "alignmentgroup": "True",
           "hovertemplate": "variable=MinTemp<br>YR=40<br>MO=%{x}<br>value=%{y}<extra></extra>",
           "legendgroup": "MinTemp",
           "marker": {
            "color": "#00cc96"
           },
           "name": "MinTemp",
           "offsetgroup": "MinTemp",
           "orientation": "v",
           "showlegend": true,
           "textposition": "auto",
           "type": "bar",
           "x": [
            1,
            2,
            3,
            4,
            5,
            6,
            7,
            8,
            9,
            10,
            11,
            12
           ],
           "xaxis": "x",
           "y": [
            17.817204301075268,
            17.4375,
            17.34193548387097,
            19.293333333333333,
            20.348387096774193,
            20.833333333333332,
            22.045161290322582,
            22.580645161290324,
            21.42,
            21.096774193548388,
            20.312101910828027,
            19.993150684931507
           ],
           "yaxis": "y"
          },
          {
           "alignmentgroup": "True",
           "hovertemplate": "variable=MeanTemp<br>YR=40<br>MO=%{x}<br>value=%{y}<extra></extra>",
           "legendgroup": "MeanTemp",
           "marker": {
            "color": "#ab63fa"
           },
           "name": "MeanTemp",
           "offsetgroup": "MeanTemp",
           "orientation": "v",
           "showlegend": true,
           "textposition": "auto",
           "type": "bar",
           "x": [
            1,
            2,
            3,
            4,
            5,
            6,
            7,
            8,
            9,
            10,
            11,
            12
           ],
           "xaxis": "x",
           "y": [
            22.268817204301076,
            22.083333333333332,
            22.27741935483871,
            23.62,
            24.283870967741937,
            24.80666666666667,
            25.683870967741935,
            25.787096774193547,
            25.2,
            24.883870967741935,
            24.159235668789808,
            23.773972602739725
           ],
           "yaxis": "y"
          },
          {
           "alignmentgroup": "True",
           "hovertemplate": "variable=MaxTemp<br>YR=40<br>MO=%{x}<br>value=%{y}<extra></extra>",
           "legendgroup": "MaxTemp",
           "marker": {
            "color": "#FFA15A"
           },
           "name": "MaxTemp",
           "offsetgroup": "MaxTemp",
           "orientation": "v",
           "showlegend": true,
           "textposition": "auto",
           "type": "bar",
           "x": [
            1,
            2,
            3,
            4,
            5,
            6,
            7,
            8,
            9,
            10,
            11,
            12
           ],
           "xaxis": "x",
           "y": [
            26.731182795698924,
            26.78472222222222,
            27.283870967741937,
            27.886666666666667,
            28.206451612903226,
            28.773333333333333,
            29.393548387096775,
            29.135483870967743,
            29.02,
            28.690322580645162,
            27.94904458598726,
            27.664383561643834
           ],
           "yaxis": "y"
          }
         ],
         "name": "40"
        },
        {
         "data": [
          {
           "alignmentgroup": "True",
           "hovertemplate": "variable=Snowfall<br>YR=41<br>MO=%{x}<br>value=%{y}<extra></extra>",
           "legendgroup": "Snowfall",
           "marker": {
            "color": "#636efa"
           },
           "name": "Snowfall",
           "offsetgroup": "Snowfall",
           "orientation": "v",
           "showlegend": true,
           "textposition": "auto",
           "type": "bar",
           "x": [
            1,
            2,
            3,
            4,
            5,
            6,
            7,
            8,
            9,
            10,
            11,
            12
           ],
           "xaxis": "x",
           "y": [
            0,
            0,
            0,
            0,
            0,
            0,
            0,
            0,
            0,
            0,
            0.04314720812182741,
            0.734065934065934
           ],
           "yaxis": "y"
          },
          {
           "alignmentgroup": "True",
           "hovertemplate": "variable=Precip<br>YR=41<br>MO=%{x}<br>value=%{y}<extra></extra>",
           "legendgroup": "Precip",
           "marker": {
            "color": "#EF553B"
           },
           "name": "Precip",
           "offsetgroup": "Precip",
           "orientation": "v",
           "showlegend": true,
           "textposition": "auto",
           "type": "bar",
           "x": [
            1,
            2,
            3,
            4,
            5,
            6,
            7,
            8,
            9,
            10,
            11,
            12
           ],
           "xaxis": "x",
           "y": [
            0.8820224719101124,
            0.3619631901840491,
            0.6408839779005525,
            0.5888888888888889,
            2.2066666666666666,
            1.6598639455782314,
            1.1032608695652173,
            4.206521739130435,
            3.6605504587155964,
            5.155172413793103,
            4.16751269035533,
            2.2527472527472527
           ],
           "yaxis": "y"
          },
          {
           "alignmentgroup": "True",
           "hovertemplate": "variable=MinTemp<br>YR=41<br>MO=%{x}<br>value=%{y}<extra></extra>",
           "legendgroup": "MinTemp",
           "marker": {
            "color": "#00cc96"
           },
           "name": "MinTemp",
           "offsetgroup": "MinTemp",
           "orientation": "v",
           "showlegend": true,
           "textposition": "auto",
           "type": "bar",
           "x": [
            1,
            2,
            3,
            4,
            5,
            6,
            7,
            8,
            9,
            10,
            11,
            12
           ],
           "xaxis": "x",
           "y": [
            18.769662921348313,
            18.226993865030675,
            19.502762430939228,
            20.4,
            19.773333333333333,
            21.312925170068027,
            21.02173913043478,
            20.53985507246377,
            19.40978593272171,
            17.64367816091954,
            17.309644670050762,
            13.241758241758241
           ],
           "yaxis": "y"
          },
          {
           "alignmentgroup": "True",
           "hovertemplate": "variable=MeanTemp<br>YR=41<br>MO=%{x}<br>value=%{y}<extra></extra>",
           "legendgroup": "MeanTemp",
           "marker": {
            "color": "#ab63fa"
           },
           "name": "MeanTemp",
           "offsetgroup": "MeanTemp",
           "orientation": "v",
           "showlegend": true,
           "textposition": "auto",
           "type": "bar",
           "x": [
            1,
            2,
            3,
            4,
            5,
            6,
            7,
            8,
            9,
            10,
            11,
            12
           ],
           "xaxis": "x",
           "y": [
            23.0561797752809,
            22.49079754601227,
            23.19889502762431,
            24.405555555555555,
            23.766666666666666,
            25.05442176870748,
            24.71195652173913,
            24.27536231884058,
            23.1131498470948,
            21.103448275862068,
            20.66497461928934,
            16.564835164835166
           ],
           "yaxis": "y"
          },
          {
           "alignmentgroup": "True",
           "hovertemplate": "variable=MaxTemp<br>YR=41<br>MO=%{x}<br>value=%{y}<extra></extra>",
           "legendgroup": "MaxTemp",
           "marker": {
            "color": "#FFA15A"
           },
           "name": "MaxTemp",
           "offsetgroup": "MaxTemp",
           "orientation": "v",
           "showlegend": true,
           "textposition": "auto",
           "type": "bar",
           "x": [
            1,
            2,
            3,
            4,
            5,
            6,
            7,
            8,
            9,
            10,
            11,
            12
           ],
           "xaxis": "x",
           "y": [
            27.303370786516854,
            26.76073619631902,
            26.900552486187845,
            28.322222222222223,
            27.58,
            28.79591836734694,
            28.516304347826086,
            28.134057971014492,
            26.862385321100916,
            24.597701149425287,
            24.071065989847718,
            19.85054945054945
           ],
           "yaxis": "y"
          }
         ],
         "name": "41"
        },
        {
         "data": [
          {
           "alignmentgroup": "True",
           "hovertemplate": "variable=Snowfall<br>YR=42<br>MO=%{x}<br>value=%{y}<extra></extra>",
           "legendgroup": "Snowfall",
           "marker": {
            "color": "#636efa"
           },
           "name": "Snowfall",
           "offsetgroup": "Snowfall",
           "orientation": "v",
           "showlegend": true,
           "textposition": "auto",
           "type": "bar",
           "x": [
            1,
            2,
            3,
            4,
            5,
            6,
            7,
            8,
            9,
            10,
            11,
            12
           ],
           "xaxis": "x",
           "y": [
            0.7383966244725738,
            0.4662004662004662,
            0.6129707112970711,
            0.3374340949033392,
            0,
            0,
            0,
            0,
            0,
            0.18340611353711792,
            0.40490278951817416,
            0.23659074210139602
           ],
           "yaxis": "y"
          },
          {
           "alignmentgroup": "True",
           "hovertemplate": "variable=Precip<br>YR=42<br>MO=%{x}<br>value=%{y}<extra></extra>",
           "legendgroup": "Precip",
           "marker": {
            "color": "#EF553B"
           },
           "name": "Precip",
           "offsetgroup": "Precip",
           "orientation": "v",
           "showlegend": true,
           "textposition": "auto",
           "type": "bar",
           "x": [
            1,
            2,
            3,
            4,
            5,
            6,
            7,
            8,
            9,
            10,
            11,
            12
           ],
           "xaxis": "x",
           "y": [
            1.128691983122363,
            2.6013986013986012,
            1.7196652719665273,
            2.5641476274165202,
            3.7597014925373133,
            4.256060606060606,
            4.783691959229898,
            4.065677966101695,
            3.8979591836734695,
            4.123144104803494,
            2.8689771766694845,
            3.526818515797208
           ],
           "yaxis": "y"
          },
          {
           "alignmentgroup": "True",
           "hovertemplate": "variable=MinTemp<br>YR=42<br>MO=%{x}<br>value=%{y}<extra></extra>",
           "legendgroup": "MinTemp",
           "marker": {
            "color": "#00cc96"
           },
           "name": "MinTemp",
           "offsetgroup": "MinTemp",
           "orientation": "v",
           "showlegend": true,
           "textposition": "auto",
           "type": "bar",
           "x": [
            1,
            2,
            3,
            4,
            5,
            6,
            7,
            8,
            9,
            10,
            11,
            12
           ],
           "xaxis": "x",
           "y": [
            11.567510548523206,
            12.85081585081585,
            13.673640167364017,
            14.13884007029877,
            16.217910447761195,
            15.787878787878787,
            16.985277463193658,
            16.6875,
            18.511175898931,
            17.98864628820961,
            17.729501267962807,
            16.040411462160176
           ],
           "yaxis": "y"
          },
          {
           "alignmentgroup": "True",
           "hovertemplate": "variable=MeanTemp<br>YR=42<br>MO=%{x}<br>value=%{y}<extra></extra>",
           "legendgroup": "MeanTemp",
           "marker": {
            "color": "#ab63fa"
           },
           "name": "MeanTemp",
           "offsetgroup": "MeanTemp",
           "orientation": "v",
           "showlegend": true,
           "textposition": "auto",
           "type": "bar",
           "x": [
            1,
            2,
            3,
            4,
            5,
            6,
            7,
            8,
            9,
            10,
            11,
            12
           ],
           "xaxis": "x",
           "y": [
            15.514767932489452,
            16.655011655011656,
            17.317991631799163,
            17.66432337434095,
            19.686567164179106,
            18.919696969696968,
            20.576443941109854,
            20.366525423728813,
            22.058309037900873,
            21.975545851528384,
            21.356720202874047,
            20.282145481263775
           ],
           "yaxis": "y"
          },
          {
           "alignmentgroup": "True",
           "hovertemplate": "variable=MaxTemp<br>YR=42<br>MO=%{x}<br>value=%{y}<extra></extra>",
           "legendgroup": "MaxTemp",
           "marker": {
            "color": "#FFA15A"
           },
           "name": "MaxTemp",
           "offsetgroup": "MaxTemp",
           "orientation": "v",
           "showlegend": true,
           "textposition": "auto",
           "type": "bar",
           "x": [
            1,
            2,
            3,
            4,
            5,
            6,
            7,
            8,
            9,
            10,
            11,
            12
           ],
           "xaxis": "x",
           "y": [
            19.476793248945146,
            20.48018648018648,
            21.014644351464437,
            21.25659050966608,
            23.344776119402987,
            22.163636363636364,
            24.22083805209513,
            24.135593220338983,
            25.7667638483965,
            26.097816593886463,
            25.624683009298394,
            24.550330639235856
           ],
           "yaxis": "y"
          }
         ],
         "name": "42"
        },
        {
         "data": [
          {
           "alignmentgroup": "True",
           "hovertemplate": "variable=Snowfall<br>YR=43<br>MO=%{x}<br>value=%{y}<extra></extra>",
           "legendgroup": "Snowfall",
           "marker": {
            "color": "#636efa"
           },
           "name": "Snowfall",
           "offsetgroup": "Snowfall",
           "orientation": "v",
           "showlegend": true,
           "textposition": "auto",
           "type": "bar",
           "x": [
            1,
            2,
            3,
            4,
            5,
            6,
            7,
            8,
            9,
            10,
            11,
            12
           ],
           "xaxis": "x",
           "y": [
            0.16056910569105692,
            0.7913931436907367,
            1.4950124688279303,
            1.0202380952380952,
            0.280039234919078,
            0.0009541984732824427,
            0,
            0,
            0.009368635437881873,
            0.1933028919330289,
            0.3454951600893522,
            0.414544235924933
           ],
           "yaxis": "y"
          },
          {
           "alignmentgroup": "True",
           "hovertemplate": "variable=Precip<br>YR=43<br>MO=%{x}<br>value=%{y}<extra></extra>",
           "legendgroup": "Precip",
           "marker": {
            "color": "#EF553B"
           },
           "name": "Precip",
           "offsetgroup": "Precip",
           "orientation": "v",
           "showlegend": true,
           "textposition": "auto",
           "type": "bar",
           "x": [
            1,
            2,
            3,
            4,
            5,
            6,
            7,
            8,
            9,
            10,
            11,
            12
           ],
           "xaxis": "x",
           "y": [
            2.8218157181571817,
            2.6017505470459517,
            2.995635910224439,
            3.1172619047619046,
            3.4100049043648846,
            3.5701335877862594,
            3.608299133606931,
            4.568308181096108,
            4.436659877800407,
            4.940639269406392,
            3.1023827252419953,
            3.5030160857908847
           ],
           "yaxis": "y"
          },
          {
           "alignmentgroup": "True",
           "hovertemplate": "variable=MinTemp<br>YR=43<br>MO=%{x}<br>value=%{y}<extra></extra>",
           "legendgroup": "MinTemp",
           "marker": {
            "color": "#00cc96"
           },
           "name": "MinTemp",
           "offsetgroup": "MinTemp",
           "orientation": "v",
           "showlegend": true,
           "textposition": "auto",
           "type": "bar",
           "x": [
            1,
            2,
            3,
            4,
            5,
            6,
            7,
            8,
            9,
            10,
            11,
            12
           ],
           "xaxis": "x",
           "y": [
            16.504742547425476,
            15.49015317286652,
            15.905860349127183,
            17.276190476190475,
            18.49534085335949,
            19.356393129770993,
            19.477884176926583,
            19.687847498014296,
            19.622810590631364,
            18.54337899543379,
            16.697319434102756,
            15.460790884718499
           ],
           "yaxis": "y"
          },
          {
           "alignmentgroup": "True",
           "hovertemplate": "variable=MeanTemp<br>YR=43<br>MO=%{x}<br>value=%{y}<extra></extra>",
           "legendgroup": "MeanTemp",
           "marker": {
            "color": "#ab63fa"
           },
           "name": "MeanTemp",
           "offsetgroup": "MeanTemp",
           "orientation": "v",
           "showlegend": true,
           "textposition": "auto",
           "type": "bar",
           "x": [
            1,
            2,
            3,
            4,
            5,
            6,
            7,
            8,
            9,
            10,
            11,
            12
           ],
           "xaxis": "x",
           "y": [
            20.98712737127371,
            20.2654996353027,
            20.93640897755611,
            22.063690476190477,
            23.23786169691025,
            23.954198473282442,
            23.909256725946193,
            24.005559968228752,
            23.920977596741345,
            23.006088280060883,
            21.413998510796723,
            20.08210455764075
           ],
           "yaxis": "y"
          },
          {
           "alignmentgroup": "True",
           "hovertemplate": "variable=MaxTemp<br>YR=43<br>MO=%{x}<br>value=%{y}<extra></extra>",
           "legendgroup": "MaxTemp",
           "marker": {
            "color": "#FFA15A"
           },
           "name": "MaxTemp",
           "offsetgroup": "MaxTemp",
           "orientation": "v",
           "showlegend": true,
           "textposition": "auto",
           "type": "bar",
           "x": [
            1,
            2,
            3,
            4,
            5,
            6,
            7,
            8,
            9,
            10,
            11,
            12
           ],
           "xaxis": "x",
           "y": [
            25.498644986449865,
            25.048869438366157,
            25.99002493765586,
            26.980357142857144,
            28.069151544874938,
            28.668893129770993,
            28.469676242590058,
            28.420571882446385,
            28.363747454175154,
            27.597031963470318,
            26.211839166046165,
            24.798927613941018
           ],
           "yaxis": "y"
          }
         ],
         "name": "43"
        },
        {
         "data": [
          {
           "alignmentgroup": "True",
           "hovertemplate": "variable=Snowfall<br>YR=44<br>MO=%{x}<br>value=%{y}<extra></extra>",
           "legendgroup": "Snowfall",
           "marker": {
            "color": "#636efa"
           },
           "name": "Snowfall",
           "offsetgroup": "Snowfall",
           "orientation": "v",
           "showlegend": true,
           "textposition": "auto",
           "type": "bar",
           "x": [
            1,
            2,
            3,
            4,
            5,
            6,
            7,
            8,
            9,
            10,
            11,
            12
           ],
           "xaxis": "x",
           "y": [
            0.8104325699745547,
            0.8945655711031565,
            0.5105358217941,
            0.17440097057931453,
            0.3532846715328467,
            0.021643755484059668,
            0.0005635390250774866,
            0,
            0.003592814371257485,
            0.09220261809903244,
            0.23517322372284205,
            0.3523404255319149
           ],
           "yaxis": "y"
          },
          {
           "alignmentgroup": "True",
           "hovertemplate": "variable=Precip<br>YR=44<br>MO=%{x}<br>value=%{y}<extra></extra>",
           "legendgroup": "Precip",
           "marker": {
            "color": "#EF553B"
           },
           "name": "Precip",
           "offsetgroup": "Precip",
           "orientation": "v",
           "showlegend": true,
           "textposition": "auto",
           "type": "bar",
           "x": [
            1,
            2,
            3,
            4,
            5,
            6,
            7,
            8,
            9,
            10,
            11,
            12
           ],
           "xaxis": "x",
           "y": [
            1.9923664122137406,
            2.498861047835991,
            2.7534617700180615,
            2.9332726721261753,
            4.3591240875912405,
            4.694940040947645,
            4.9461820231051,
            4.9296897238827215,
            4.654790419161676,
            4.341491178144564,
            2.7043452730475632,
            2.715744680851064
           ],
           "yaxis": "y"
          },
          {
           "alignmentgroup": "True",
           "hovertemplate": "variable=MinTemp<br>YR=44<br>MO=%{x}<br>value=%{y}<extra></extra>",
           "legendgroup": "MinTemp",
           "marker": {
            "color": "#00cc96"
           },
           "name": "MinTemp",
           "offsetgroup": "MinTemp",
           "orientation": "v",
           "showlegend": true,
           "textposition": "auto",
           "type": "bar",
           "x": [
            1,
            2,
            3,
            4,
            5,
            6,
            7,
            8,
            9,
            10,
            11,
            12
           ],
           "xaxis": "x",
           "y": [
            13.940521628498727,
            14.199153921249593,
            15.521974714027694,
            17.341219290263876,
            18.64788321167883,
            19.850248610704885,
            20.34995773457312,
            20.367207514944493,
            19.70179640718563,
            17.74843483210017,
            15.7190252495596,
            14.146099290780143
           ],
           "yaxis": "y"
          },
          {
           "alignmentgroup": "True",
           "hovertemplate": "variable=MeanTemp<br>YR=44<br>MO=%{x}<br>value=%{y}<extra></extra>",
           "legendgroup": "MeanTemp",
           "marker": {
            "color": "#ab63fa"
           },
           "name": "MeanTemp",
           "offsetgroup": "MeanTemp",
           "orientation": "v",
           "showlegend": true,
           "textposition": "auto",
           "type": "bar",
           "x": [
            1,
            2,
            3,
            4,
            5,
            6,
            7,
            8,
            9,
            10,
            11,
            12
           ],
           "xaxis": "x",
           "y": [
            18.732824427480917,
            18.95509274324764,
            20.394039735099337,
            22.26296633303003,
            23.583065693430658,
            24.49195671248903,
            24.83009298393914,
            24.86934244235696,
            24.302994011976047,
            22.50512236767217,
            20.521432765707576,
            18.708936170212766
           ],
           "yaxis": "y"
          },
          {
           "alignmentgroup": "True",
           "hovertemplate": "variable=MaxTemp<br>YR=44<br>MO=%{x}<br>value=%{y}<extra></extra>",
           "legendgroup": "MaxTemp",
           "marker": {
            "color": "#FFA15A"
           },
           "name": "MaxTemp",
           "offsetgroup": "MaxTemp",
           "orientation": "v",
           "showlegend": true,
           "textposition": "auto",
           "type": "bar",
           "x": [
            1,
            2,
            3,
            4,
            5,
            6,
            7,
            8,
            9,
            10,
            11,
            12
           ],
           "xaxis": "x",
           "y": [
            23.576335877862597,
            23.812235600390498,
            25.349488260084286,
            27.289960570215346,
            28.637080291970804,
            29.17958467388125,
            29.395886165116934,
            29.468830059777968,
            28.973053892215567,
            27.37279453614115,
            25.38960657662948,
            23.34014184397163
           ],
           "yaxis": "y"
          }
         ],
         "name": "44"
        },
        {
         "data": [
          {
           "alignmentgroup": "True",
           "hovertemplate": "variable=Snowfall<br>YR=45<br>MO=%{x}<br>value=%{y}<extra></extra>",
           "legendgroup": "Snowfall",
           "marker": {
            "color": "#636efa"
           },
           "name": "Snowfall",
           "offsetgroup": "Snowfall",
           "orientation": "v",
           "showlegend": true,
           "textposition": "auto",
           "type": "bar",
           "x": [
            1,
            2,
            3,
            4,
            5,
            6,
            7,
            8,
            9,
            10,
            11,
            12
           ],
           "xaxis": "x",
           "y": [
            0.42613318410744266,
            0.34603274559193953,
            0.3261397356352846,
            0.35968052877995044,
            0.05493304181470347,
            0,
            0,
            0,
            0.005671747607231478,
            0.043895241608262636,
            0.2300542215336948,
            0.702954898911353
           ],
           "yaxis": "y"
          },
          {
           "alignmentgroup": "True",
           "hovertemplate": "variable=Precip<br>YR=45<br>MO=%{x}<br>value=%{y}<extra></extra>",
           "legendgroup": "Precip",
           "marker": {
            "color": "#EF553B"
           },
           "name": "Precip",
           "offsetgroup": "Precip",
           "orientation": "v",
           "showlegend": true,
           "textposition": "auto",
           "type": "bar",
           "x": [
            1,
            2,
            3,
            4,
            5,
            6,
            7,
            8,
            9,
            10,
            11,
            12
           ],
           "xaxis": "x",
           "y": [
            2.5176273083379965,
            2.218198992443325,
            2.102778527110871,
            2.947122004957312,
            3.83930035528833,
            4.362555720653789,
            4.4555181901559155,
            3.8933460681311685,
            4.660404112017015,
            4.067502766506824,
            4.053059643687065,
            3.0174961119751167
           ],
           "yaxis": "y"
          },
          {
           "alignmentgroup": "True",
           "hovertemplate": "variable=MinTemp<br>YR=45<br>MO=%{x}<br>value=%{y}<extra></extra>",
           "legendgroup": "MinTemp",
           "marker": {
            "color": "#00cc96"
           },
           "name": "MinTemp",
           "offsetgroup": "MinTemp",
           "orientation": "v",
           "showlegend": true,
           "textposition": "auto",
           "type": "bar",
           "x": [
            1,
            2,
            3,
            4,
            5,
            6,
            7,
            8,
            9,
            10,
            11,
            12
           ],
           "xaxis": "x",
           "y": [
            12.977336317851147,
            14.120906801007557,
            15.181548421904505,
            17.108234646103003,
            18.63514621481279,
            20.269836552748885,
            20.639865484561295,
            20.725246736708055,
            19.78199220134704,
            17.280708225746956,
            15.587529047250193,
            13.713452566096423
           ],
           "yaxis": "y"
          },
          {
           "alignmentgroup": "True",
           "hovertemplate": "variable=MeanTemp<br>YR=45<br>MO=%{x}<br>value=%{y}<extra></extra>",
           "legendgroup": "MeanTemp",
           "marker": {
            "color": "#ab63fa"
           },
           "name": "MeanTemp",
           "offsetgroup": "MeanTemp",
           "orientation": "v",
           "showlegend": true,
           "textposition": "auto",
           "type": "bar",
           "x": [
            1,
            2,
            3,
            4,
            5,
            6,
            7,
            8,
            9,
            10,
            11,
            12
           ],
           "xaxis": "x",
           "y": [
            17.59065472859541,
            19.097607052896727,
            20.40571891016995,
            22.282291379785182,
            23.77589505329325,
            25.033580980683507,
            25.21400183430144,
            25.212989493791785,
            24.17476072314782,
            21.795278495020288,
            19.96243222308288,
            17.975894245723172
           ],
           "yaxis": "y"
          },
          {
           "alignmentgroup": "True",
           "hovertemplate": "variable=MaxTemp<br>YR=45<br>MO=%{x}<br>value=%{y}<extra></extra>",
           "legendgroup": "MaxTemp",
           "marker": {
            "color": "#FFA15A"
           },
           "name": "MaxTemp",
           "offsetgroup": "MaxTemp",
           "orientation": "v",
           "showlegend": true,
           "textposition": "auto",
           "type": "bar",
           "x": [
            1,
            2,
            3,
            4,
            5,
            6,
            7,
            8,
            9,
            10,
            11,
            12
           ],
           "xaxis": "x",
           "y": [
            22.364297705651932,
            24.1316120906801,
            25.681413541947666,
            27.564307353346187,
            28.966384257993987,
            29.878751857355127,
            29.901253439315195,
            29.81056988220312,
            28.792626728110598,
            26.396901512357065,
            24.421766072811774,
            22.311819595645414
           ],
           "yaxis": "y"
          }
         ],
         "name": "45"
        }
       ],
       "layout": {
        "barmode": "group",
        "legend": {
         "title": {
          "text": "variable"
         },
         "tracegroupgap": 0
        },
        "margin": {
         "t": 60
        },
        "sliders": [
         {
          "active": 0,
          "currentvalue": {
           "prefix": "YR="
          },
          "len": 0.9,
          "pad": {
           "b": 10,
           "t": 60
          },
          "steps": [
           {
            "args": [
             [
              "40"
             ],
             {
              "frame": {
               "duration": 0,
               "redraw": true
              },
              "fromcurrent": true,
              "mode": "immediate",
              "transition": {
               "duration": 0,
               "easing": "linear"
              }
             }
            ],
            "label": "40",
            "method": "animate"
           },
           {
            "args": [
             [
              "41"
             ],
             {
              "frame": {
               "duration": 0,
               "redraw": true
              },
              "fromcurrent": true,
              "mode": "immediate",
              "transition": {
               "duration": 0,
               "easing": "linear"
              }
             }
            ],
            "label": "41",
            "method": "animate"
           },
           {
            "args": [
             [
              "42"
             ],
             {
              "frame": {
               "duration": 0,
               "redraw": true
              },
              "fromcurrent": true,
              "mode": "immediate",
              "transition": {
               "duration": 0,
               "easing": "linear"
              }
             }
            ],
            "label": "42",
            "method": "animate"
           },
           {
            "args": [
             [
              "43"
             ],
             {
              "frame": {
               "duration": 0,
               "redraw": true
              },
              "fromcurrent": true,
              "mode": "immediate",
              "transition": {
               "duration": 0,
               "easing": "linear"
              }
             }
            ],
            "label": "43",
            "method": "animate"
           },
           {
            "args": [
             [
              "44"
             ],
             {
              "frame": {
               "duration": 0,
               "redraw": true
              },
              "fromcurrent": true,
              "mode": "immediate",
              "transition": {
               "duration": 0,
               "easing": "linear"
              }
             }
            ],
            "label": "44",
            "method": "animate"
           },
           {
            "args": [
             [
              "45"
             ],
             {
              "frame": {
               "duration": 0,
               "redraw": true
              },
              "fromcurrent": true,
              "mode": "immediate",
              "transition": {
               "duration": 0,
               "easing": "linear"
              }
             }
            ],
            "label": "45",
            "method": "animate"
           }
          ],
          "x": 0.1,
          "xanchor": "left",
          "y": 0,
          "yanchor": "top"
         }
        ],
        "template": {
         "data": {
          "bar": [
           {
            "error_x": {
             "color": "#2a3f5f"
            },
            "error_y": {
             "color": "#2a3f5f"
            },
            "marker": {
             "line": {
              "color": "#E5ECF6",
              "width": 0.5
             }
            },
            "type": "bar"
           }
          ],
          "barpolar": [
           {
            "marker": {
             "line": {
              "color": "#E5ECF6",
              "width": 0.5
             }
            },
            "type": "barpolar"
           }
          ],
          "carpet": [
           {
            "aaxis": {
             "endlinecolor": "#2a3f5f",
             "gridcolor": "white",
             "linecolor": "white",
             "minorgridcolor": "white",
             "startlinecolor": "#2a3f5f"
            },
            "baxis": {
             "endlinecolor": "#2a3f5f",
             "gridcolor": "white",
             "linecolor": "white",
             "minorgridcolor": "white",
             "startlinecolor": "#2a3f5f"
            },
            "type": "carpet"
           }
          ],
          "choropleth": [
           {
            "colorbar": {
             "outlinewidth": 0,
             "ticks": ""
            },
            "type": "choropleth"
           }
          ],
          "contour": [
           {
            "colorbar": {
             "outlinewidth": 0,
             "ticks": ""
            },
            "colorscale": [
             [
              0,
              "#0d0887"
             ],
             [
              0.1111111111111111,
              "#46039f"
             ],
             [
              0.2222222222222222,
              "#7201a8"
             ],
             [
              0.3333333333333333,
              "#9c179e"
             ],
             [
              0.4444444444444444,
              "#bd3786"
             ],
             [
              0.5555555555555556,
              "#d8576b"
             ],
             [
              0.6666666666666666,
              "#ed7953"
             ],
             [
              0.7777777777777778,
              "#fb9f3a"
             ],
             [
              0.8888888888888888,
              "#fdca26"
             ],
             [
              1,
              "#f0f921"
             ]
            ],
            "type": "contour"
           }
          ],
          "contourcarpet": [
           {
            "colorbar": {
             "outlinewidth": 0,
             "ticks": ""
            },
            "type": "contourcarpet"
           }
          ],
          "heatmap": [
           {
            "colorbar": {
             "outlinewidth": 0,
             "ticks": ""
            },
            "colorscale": [
             [
              0,
              "#0d0887"
             ],
             [
              0.1111111111111111,
              "#46039f"
             ],
             [
              0.2222222222222222,
              "#7201a8"
             ],
             [
              0.3333333333333333,
              "#9c179e"
             ],
             [
              0.4444444444444444,
              "#bd3786"
             ],
             [
              0.5555555555555556,
              "#d8576b"
             ],
             [
              0.6666666666666666,
              "#ed7953"
             ],
             [
              0.7777777777777778,
              "#fb9f3a"
             ],
             [
              0.8888888888888888,
              "#fdca26"
             ],
             [
              1,
              "#f0f921"
             ]
            ],
            "type": "heatmap"
           }
          ],
          "heatmapgl": [
           {
            "colorbar": {
             "outlinewidth": 0,
             "ticks": ""
            },
            "colorscale": [
             [
              0,
              "#0d0887"
             ],
             [
              0.1111111111111111,
              "#46039f"
             ],
             [
              0.2222222222222222,
              "#7201a8"
             ],
             [
              0.3333333333333333,
              "#9c179e"
             ],
             [
              0.4444444444444444,
              "#bd3786"
             ],
             [
              0.5555555555555556,
              "#d8576b"
             ],
             [
              0.6666666666666666,
              "#ed7953"
             ],
             [
              0.7777777777777778,
              "#fb9f3a"
             ],
             [
              0.8888888888888888,
              "#fdca26"
             ],
             [
              1,
              "#f0f921"
             ]
            ],
            "type": "heatmapgl"
           }
          ],
          "histogram": [
           {
            "marker": {
             "colorbar": {
              "outlinewidth": 0,
              "ticks": ""
             }
            },
            "type": "histogram"
           }
          ],
          "histogram2d": [
           {
            "colorbar": {
             "outlinewidth": 0,
             "ticks": ""
            },
            "colorscale": [
             [
              0,
              "#0d0887"
             ],
             [
              0.1111111111111111,
              "#46039f"
             ],
             [
              0.2222222222222222,
              "#7201a8"
             ],
             [
              0.3333333333333333,
              "#9c179e"
             ],
             [
              0.4444444444444444,
              "#bd3786"
             ],
             [
              0.5555555555555556,
              "#d8576b"
             ],
             [
              0.6666666666666666,
              "#ed7953"
             ],
             [
              0.7777777777777778,
              "#fb9f3a"
             ],
             [
              0.8888888888888888,
              "#fdca26"
             ],
             [
              1,
              "#f0f921"
             ]
            ],
            "type": "histogram2d"
           }
          ],
          "histogram2dcontour": [
           {
            "colorbar": {
             "outlinewidth": 0,
             "ticks": ""
            },
            "colorscale": [
             [
              0,
              "#0d0887"
             ],
             [
              0.1111111111111111,
              "#46039f"
             ],
             [
              0.2222222222222222,
              "#7201a8"
             ],
             [
              0.3333333333333333,
              "#9c179e"
             ],
             [
              0.4444444444444444,
              "#bd3786"
             ],
             [
              0.5555555555555556,
              "#d8576b"
             ],
             [
              0.6666666666666666,
              "#ed7953"
             ],
             [
              0.7777777777777778,
              "#fb9f3a"
             ],
             [
              0.8888888888888888,
              "#fdca26"
             ],
             [
              1,
              "#f0f921"
             ]
            ],
            "type": "histogram2dcontour"
           }
          ],
          "mesh3d": [
           {
            "colorbar": {
             "outlinewidth": 0,
             "ticks": ""
            },
            "type": "mesh3d"
           }
          ],
          "parcoords": [
           {
            "line": {
             "colorbar": {
              "outlinewidth": 0,
              "ticks": ""
             }
            },
            "type": "parcoords"
           }
          ],
          "pie": [
           {
            "automargin": true,
            "type": "pie"
           }
          ],
          "scatter": [
           {
            "marker": {
             "colorbar": {
              "outlinewidth": 0,
              "ticks": ""
             }
            },
            "type": "scatter"
           }
          ],
          "scatter3d": [
           {
            "line": {
             "colorbar": {
              "outlinewidth": 0,
              "ticks": ""
             }
            },
            "marker": {
             "colorbar": {
              "outlinewidth": 0,
              "ticks": ""
             }
            },
            "type": "scatter3d"
           }
          ],
          "scattercarpet": [
           {
            "marker": {
             "colorbar": {
              "outlinewidth": 0,
              "ticks": ""
             }
            },
            "type": "scattercarpet"
           }
          ],
          "scattergeo": [
           {
            "marker": {
             "colorbar": {
              "outlinewidth": 0,
              "ticks": ""
             }
            },
            "type": "scattergeo"
           }
          ],
          "scattergl": [
           {
            "marker": {
             "colorbar": {
              "outlinewidth": 0,
              "ticks": ""
             }
            },
            "type": "scattergl"
           }
          ],
          "scattermapbox": [
           {
            "marker": {
             "colorbar": {
              "outlinewidth": 0,
              "ticks": ""
             }
            },
            "type": "scattermapbox"
           }
          ],
          "scatterpolar": [
           {
            "marker": {
             "colorbar": {
              "outlinewidth": 0,
              "ticks": ""
             }
            },
            "type": "scatterpolar"
           }
          ],
          "scatterpolargl": [
           {
            "marker": {
             "colorbar": {
              "outlinewidth": 0,
              "ticks": ""
             }
            },
            "type": "scatterpolargl"
           }
          ],
          "scatterternary": [
           {
            "marker": {
             "colorbar": {
              "outlinewidth": 0,
              "ticks": ""
             }
            },
            "type": "scatterternary"
           }
          ],
          "surface": [
           {
            "colorbar": {
             "outlinewidth": 0,
             "ticks": ""
            },
            "colorscale": [
             [
              0,
              "#0d0887"
             ],
             [
              0.1111111111111111,
              "#46039f"
             ],
             [
              0.2222222222222222,
              "#7201a8"
             ],
             [
              0.3333333333333333,
              "#9c179e"
             ],
             [
              0.4444444444444444,
              "#bd3786"
             ],
             [
              0.5555555555555556,
              "#d8576b"
             ],
             [
              0.6666666666666666,
              "#ed7953"
             ],
             [
              0.7777777777777778,
              "#fb9f3a"
             ],
             [
              0.8888888888888888,
              "#fdca26"
             ],
             [
              1,
              "#f0f921"
             ]
            ],
            "type": "surface"
           }
          ],
          "table": [
           {
            "cells": {
             "fill": {
              "color": "#EBF0F8"
             },
             "line": {
              "color": "white"
             }
            },
            "header": {
             "fill": {
              "color": "#C8D4E3"
             },
             "line": {
              "color": "white"
             }
            },
            "type": "table"
           }
          ]
         },
         "layout": {
          "annotationdefaults": {
           "arrowcolor": "#2a3f5f",
           "arrowhead": 0,
           "arrowwidth": 1
          },
          "coloraxis": {
           "colorbar": {
            "outlinewidth": 0,
            "ticks": ""
           }
          },
          "colorscale": {
           "diverging": [
            [
             0,
             "#8e0152"
            ],
            [
             0.1,
             "#c51b7d"
            ],
            [
             0.2,
             "#de77ae"
            ],
            [
             0.3,
             "#f1b6da"
            ],
            [
             0.4,
             "#fde0ef"
            ],
            [
             0.5,
             "#f7f7f7"
            ],
            [
             0.6,
             "#e6f5d0"
            ],
            [
             0.7,
             "#b8e186"
            ],
            [
             0.8,
             "#7fbc41"
            ],
            [
             0.9,
             "#4d9221"
            ],
            [
             1,
             "#276419"
            ]
           ],
           "sequential": [
            [
             0,
             "#0d0887"
            ],
            [
             0.1111111111111111,
             "#46039f"
            ],
            [
             0.2222222222222222,
             "#7201a8"
            ],
            [
             0.3333333333333333,
             "#9c179e"
            ],
            [
             0.4444444444444444,
             "#bd3786"
            ],
            [
             0.5555555555555556,
             "#d8576b"
            ],
            [
             0.6666666666666666,
             "#ed7953"
            ],
            [
             0.7777777777777778,
             "#fb9f3a"
            ],
            [
             0.8888888888888888,
             "#fdca26"
            ],
            [
             1,
             "#f0f921"
            ]
           ],
           "sequentialminus": [
            [
             0,
             "#0d0887"
            ],
            [
             0.1111111111111111,
             "#46039f"
            ],
            [
             0.2222222222222222,
             "#7201a8"
            ],
            [
             0.3333333333333333,
             "#9c179e"
            ],
            [
             0.4444444444444444,
             "#bd3786"
            ],
            [
             0.5555555555555556,
             "#d8576b"
            ],
            [
             0.6666666666666666,
             "#ed7953"
            ],
            [
             0.7777777777777778,
             "#fb9f3a"
            ],
            [
             0.8888888888888888,
             "#fdca26"
            ],
            [
             1,
             "#f0f921"
            ]
           ]
          },
          "colorway": [
           "#636efa",
           "#EF553B",
           "#00cc96",
           "#ab63fa",
           "#FFA15A",
           "#19d3f3",
           "#FF6692",
           "#B6E880",
           "#FF97FF",
           "#FECB52"
          ],
          "font": {
           "color": "#2a3f5f"
          },
          "geo": {
           "bgcolor": "white",
           "lakecolor": "white",
           "landcolor": "#E5ECF6",
           "showlakes": true,
           "showland": true,
           "subunitcolor": "white"
          },
          "hoverlabel": {
           "align": "left"
          },
          "hovermode": "closest",
          "mapbox": {
           "style": "light"
          },
          "paper_bgcolor": "white",
          "plot_bgcolor": "#E5ECF6",
          "polar": {
           "angularaxis": {
            "gridcolor": "white",
            "linecolor": "white",
            "ticks": ""
           },
           "bgcolor": "#E5ECF6",
           "radialaxis": {
            "gridcolor": "white",
            "linecolor": "white",
            "ticks": ""
           }
          },
          "scene": {
           "xaxis": {
            "backgroundcolor": "#E5ECF6",
            "gridcolor": "white",
            "gridwidth": 2,
            "linecolor": "white",
            "showbackground": true,
            "ticks": "",
            "zerolinecolor": "white"
           },
           "yaxis": {
            "backgroundcolor": "#E5ECF6",
            "gridcolor": "white",
            "gridwidth": 2,
            "linecolor": "white",
            "showbackground": true,
            "ticks": "",
            "zerolinecolor": "white"
           },
           "zaxis": {
            "backgroundcolor": "#E5ECF6",
            "gridcolor": "white",
            "gridwidth": 2,
            "linecolor": "white",
            "showbackground": true,
            "ticks": "",
            "zerolinecolor": "white"
           }
          },
          "shapedefaults": {
           "line": {
            "color": "#2a3f5f"
           }
          },
          "ternary": {
           "aaxis": {
            "gridcolor": "white",
            "linecolor": "white",
            "ticks": ""
           },
           "baxis": {
            "gridcolor": "white",
            "linecolor": "white",
            "ticks": ""
           },
           "bgcolor": "#E5ECF6",
           "caxis": {
            "gridcolor": "white",
            "linecolor": "white",
            "ticks": ""
           }
          },
          "title": {
           "x": 0.05
          },
          "xaxis": {
           "automargin": true,
           "gridcolor": "white",
           "linecolor": "white",
           "ticks": "",
           "title": {
            "standoff": 15
           },
           "zerolinecolor": "white",
           "zerolinewidth": 2
          },
          "yaxis": {
           "automargin": true,
           "gridcolor": "white",
           "linecolor": "white",
           "ticks": "",
           "title": {
            "standoff": 15
           },
           "zerolinecolor": "white",
           "zerolinewidth": 2
          }
         }
        },
        "title": {
         "text": "Plot showing the relationship between min, mean, max temperature, snowfall and precipitation by month."
        },
        "updatemenus": [
         {
          "buttons": [
           {
            "args": [
             null,
             {
              "frame": {
               "duration": 500,
               "redraw": true
              },
              "fromcurrent": true,
              "mode": "immediate",
              "transition": {
               "duration": 500,
               "easing": "linear"
              }
             }
            ],
            "label": "&#9654;",
            "method": "animate"
           },
           {
            "args": [
             [
              null
             ],
             {
              "frame": {
               "duration": 0,
               "redraw": true
              },
              "fromcurrent": true,
              "mode": "immediate",
              "transition": {
               "duration": 0,
               "easing": "linear"
              }
             }
            ],
            "label": "&#9724;",
            "method": "animate"
           }
          ],
          "direction": "left",
          "pad": {
           "r": 10,
           "t": 70
          },
          "showactive": false,
          "type": "buttons",
          "x": 0.1,
          "xanchor": "right",
          "y": 0,
          "yanchor": "top"
         }
        ],
        "xaxis": {
         "anchor": "y",
         "domain": [
          0,
          1
         ],
         "showgrid": false,
         "title": {
          "text": "MO"
         }
        },
        "yaxis": {
         "anchor": "x",
         "domain": [
          0,
          1
         ],
         "showgrid": false,
         "title": {
          "text": "value"
         }
        }
       }
      },
      "text/html": [
       "<div>\n",
       "        \n",
       "        \n",
       "            <div id=\"816a1662-10cb-40bb-adfc-801b235ca300\" class=\"plotly-graph-div\" style=\"height:525px; width:100%;\"></div>\n",
       "            <script type=\"text/javascript\">\n",
       "                require([\"plotly\"], function(Plotly) {\n",
       "                    window.PLOTLYENV=window.PLOTLYENV || {};\n",
       "                    \n",
       "                if (document.getElementById(\"816a1662-10cb-40bb-adfc-801b235ca300\")) {\n",
       "                    Plotly.newPlot(\n",
       "                        '816a1662-10cb-40bb-adfc-801b235ca300',\n",
       "                        [{\"alignmentgroup\": \"True\", \"hovertemplate\": \"variable=Snowfall<br>YR=40<br>MO=%{x}<br>value=%{y}<extra></extra>\", \"legendgroup\": \"Snowfall\", \"marker\": {\"color\": \"#636efa\"}, \"name\": \"Snowfall\", \"offsetgroup\": \"Snowfall\", \"orientation\": \"v\", \"showlegend\": true, \"textposition\": \"auto\", \"type\": \"bar\", \"x\": [1, 2, 3, 4, 5, 6, 7, 8, 9, 10, 11, 12], \"xaxis\": \"x\", \"y\": [0.0, 0.0, 0.0, 0.0, 0.0, 0.0, 0.0, 0.0, 0.0, 0.0, 0.0, 0.0], \"yaxis\": \"y\"}, {\"alignmentgroup\": \"True\", \"hovertemplate\": \"variable=Precip<br>YR=40<br>MO=%{x}<br>value=%{y}<extra></extra>\", \"legendgroup\": \"Precip\", \"marker\": {\"color\": \"#EF553B\"}, \"name\": \"Precip\", \"offsetgroup\": \"Precip\", \"orientation\": \"v\", \"showlegend\": true, \"textposition\": \"auto\", \"type\": \"bar\", \"x\": [1, 2, 3, 4, 5, 6, 7, 8, 9, 10, 11, 12], \"xaxis\": \"x\", \"y\": [3.21505376344086, 0.4861111111111111, 2.0258064516129033, 1.0, 2.7483870967741937, 1.46, 2.5806451612903225, 1.4838709677419355, 2.32, 2.890322580645161, 5.0, 1.0753424657534247], \"yaxis\": \"y\"}, {\"alignmentgroup\": \"True\", \"hovertemplate\": \"variable=MinTemp<br>YR=40<br>MO=%{x}<br>value=%{y}<extra></extra>\", \"legendgroup\": \"MinTemp\", \"marker\": {\"color\": \"#00cc96\"}, \"name\": \"MinTemp\", \"offsetgroup\": \"MinTemp\", \"orientation\": \"v\", \"showlegend\": true, \"textposition\": \"auto\", \"type\": \"bar\", \"x\": [1, 2, 3, 4, 5, 6, 7, 8, 9, 10, 11, 12], \"xaxis\": \"x\", \"y\": [17.817204301075268, 17.4375, 17.34193548387097, 19.293333333333333, 20.348387096774193, 20.833333333333332, 22.045161290322582, 22.580645161290324, 21.42, 21.096774193548388, 20.312101910828027, 19.993150684931507], \"yaxis\": \"y\"}, {\"alignmentgroup\": \"True\", \"hovertemplate\": \"variable=MeanTemp<br>YR=40<br>MO=%{x}<br>value=%{y}<extra></extra>\", \"legendgroup\": \"MeanTemp\", \"marker\": {\"color\": \"#ab63fa\"}, \"name\": \"MeanTemp\", \"offsetgroup\": \"MeanTemp\", \"orientation\": \"v\", \"showlegend\": true, \"textposition\": \"auto\", \"type\": \"bar\", \"x\": [1, 2, 3, 4, 5, 6, 7, 8, 9, 10, 11, 12], \"xaxis\": \"x\", \"y\": [22.268817204301076, 22.083333333333332, 22.27741935483871, 23.62, 24.283870967741937, 24.80666666666667, 25.683870967741935, 25.787096774193547, 25.2, 24.883870967741935, 24.159235668789808, 23.773972602739725], \"yaxis\": \"y\"}, {\"alignmentgroup\": \"True\", \"hovertemplate\": \"variable=MaxTemp<br>YR=40<br>MO=%{x}<br>value=%{y}<extra></extra>\", \"legendgroup\": \"MaxTemp\", \"marker\": {\"color\": \"#FFA15A\"}, \"name\": \"MaxTemp\", \"offsetgroup\": \"MaxTemp\", \"orientation\": \"v\", \"showlegend\": true, \"textposition\": \"auto\", \"type\": \"bar\", \"x\": [1, 2, 3, 4, 5, 6, 7, 8, 9, 10, 11, 12], \"xaxis\": \"x\", \"y\": [26.731182795698924, 26.78472222222222, 27.283870967741937, 27.886666666666667, 28.206451612903226, 28.773333333333333, 29.393548387096775, 29.135483870967743, 29.02, 28.690322580645162, 27.94904458598726, 27.664383561643834], \"yaxis\": \"y\"}],\n",
       "                        {\"barmode\": \"group\", \"legend\": {\"title\": {\"text\": \"variable\"}, \"tracegroupgap\": 0}, \"margin\": {\"t\": 60}, \"sliders\": [{\"active\": 0, \"currentvalue\": {\"prefix\": \"YR=\"}, \"len\": 0.9, \"pad\": {\"b\": 10, \"t\": 60}, \"steps\": [{\"args\": [[\"40\"], {\"frame\": {\"duration\": 0, \"redraw\": true}, \"fromcurrent\": true, \"mode\": \"immediate\", \"transition\": {\"duration\": 0, \"easing\": \"linear\"}}], \"label\": \"40\", \"method\": \"animate\"}, {\"args\": [[\"41\"], {\"frame\": {\"duration\": 0, \"redraw\": true}, \"fromcurrent\": true, \"mode\": \"immediate\", \"transition\": {\"duration\": 0, \"easing\": \"linear\"}}], \"label\": \"41\", \"method\": \"animate\"}, {\"args\": [[\"42\"], {\"frame\": {\"duration\": 0, \"redraw\": true}, \"fromcurrent\": true, \"mode\": \"immediate\", \"transition\": {\"duration\": 0, \"easing\": \"linear\"}}], \"label\": \"42\", \"method\": \"animate\"}, {\"args\": [[\"43\"], {\"frame\": {\"duration\": 0, \"redraw\": true}, \"fromcurrent\": true, \"mode\": \"immediate\", \"transition\": {\"duration\": 0, \"easing\": \"linear\"}}], \"label\": \"43\", \"method\": \"animate\"}, {\"args\": [[\"44\"], {\"frame\": {\"duration\": 0, \"redraw\": true}, \"fromcurrent\": true, \"mode\": \"immediate\", \"transition\": {\"duration\": 0, \"easing\": \"linear\"}}], \"label\": \"44\", \"method\": \"animate\"}, {\"args\": [[\"45\"], {\"frame\": {\"duration\": 0, \"redraw\": true}, \"fromcurrent\": true, \"mode\": \"immediate\", \"transition\": {\"duration\": 0, \"easing\": \"linear\"}}], \"label\": \"45\", \"method\": \"animate\"}], \"x\": 0.1, \"xanchor\": \"left\", \"y\": 0, \"yanchor\": \"top\"}], \"template\": {\"data\": {\"bar\": [{\"error_x\": {\"color\": \"#2a3f5f\"}, \"error_y\": {\"color\": \"#2a3f5f\"}, \"marker\": {\"line\": {\"color\": \"#E5ECF6\", \"width\": 0.5}}, \"type\": \"bar\"}], \"barpolar\": [{\"marker\": {\"line\": {\"color\": \"#E5ECF6\", \"width\": 0.5}}, \"type\": \"barpolar\"}], \"carpet\": [{\"aaxis\": {\"endlinecolor\": \"#2a3f5f\", \"gridcolor\": \"white\", \"linecolor\": \"white\", \"minorgridcolor\": \"white\", \"startlinecolor\": \"#2a3f5f\"}, \"baxis\": {\"endlinecolor\": \"#2a3f5f\", \"gridcolor\": \"white\", \"linecolor\": \"white\", \"minorgridcolor\": \"white\", \"startlinecolor\": \"#2a3f5f\"}, \"type\": \"carpet\"}], \"choropleth\": [{\"colorbar\": {\"outlinewidth\": 0, \"ticks\": \"\"}, \"type\": \"choropleth\"}], \"contour\": [{\"colorbar\": {\"outlinewidth\": 0, \"ticks\": \"\"}, \"colorscale\": [[0.0, \"#0d0887\"], [0.1111111111111111, \"#46039f\"], [0.2222222222222222, \"#7201a8\"], [0.3333333333333333, \"#9c179e\"], [0.4444444444444444, \"#bd3786\"], [0.5555555555555556, \"#d8576b\"], [0.6666666666666666, \"#ed7953\"], [0.7777777777777778, \"#fb9f3a\"], [0.8888888888888888, \"#fdca26\"], [1.0, \"#f0f921\"]], \"type\": \"contour\"}], \"contourcarpet\": [{\"colorbar\": {\"outlinewidth\": 0, \"ticks\": \"\"}, \"type\": \"contourcarpet\"}], \"heatmap\": [{\"colorbar\": {\"outlinewidth\": 0, \"ticks\": \"\"}, \"colorscale\": [[0.0, \"#0d0887\"], [0.1111111111111111, \"#46039f\"], [0.2222222222222222, \"#7201a8\"], [0.3333333333333333, \"#9c179e\"], [0.4444444444444444, \"#bd3786\"], [0.5555555555555556, \"#d8576b\"], [0.6666666666666666, \"#ed7953\"], [0.7777777777777778, \"#fb9f3a\"], [0.8888888888888888, \"#fdca26\"], [1.0, \"#f0f921\"]], \"type\": \"heatmap\"}], \"heatmapgl\": [{\"colorbar\": {\"outlinewidth\": 0, \"ticks\": \"\"}, \"colorscale\": [[0.0, \"#0d0887\"], [0.1111111111111111, \"#46039f\"], [0.2222222222222222, \"#7201a8\"], [0.3333333333333333, \"#9c179e\"], [0.4444444444444444, \"#bd3786\"], [0.5555555555555556, \"#d8576b\"], [0.6666666666666666, \"#ed7953\"], [0.7777777777777778, \"#fb9f3a\"], [0.8888888888888888, \"#fdca26\"], [1.0, \"#f0f921\"]], \"type\": \"heatmapgl\"}], \"histogram\": [{\"marker\": {\"colorbar\": {\"outlinewidth\": 0, \"ticks\": \"\"}}, \"type\": \"histogram\"}], \"histogram2d\": [{\"colorbar\": {\"outlinewidth\": 0, \"ticks\": \"\"}, \"colorscale\": [[0.0, \"#0d0887\"], [0.1111111111111111, \"#46039f\"], [0.2222222222222222, \"#7201a8\"], [0.3333333333333333, \"#9c179e\"], [0.4444444444444444, \"#bd3786\"], [0.5555555555555556, \"#d8576b\"], [0.6666666666666666, \"#ed7953\"], [0.7777777777777778, \"#fb9f3a\"], [0.8888888888888888, \"#fdca26\"], [1.0, \"#f0f921\"]], \"type\": \"histogram2d\"}], \"histogram2dcontour\": [{\"colorbar\": {\"outlinewidth\": 0, \"ticks\": \"\"}, \"colorscale\": [[0.0, \"#0d0887\"], [0.1111111111111111, \"#46039f\"], [0.2222222222222222, \"#7201a8\"], [0.3333333333333333, \"#9c179e\"], [0.4444444444444444, \"#bd3786\"], [0.5555555555555556, \"#d8576b\"], [0.6666666666666666, \"#ed7953\"], [0.7777777777777778, \"#fb9f3a\"], [0.8888888888888888, \"#fdca26\"], [1.0, \"#f0f921\"]], \"type\": \"histogram2dcontour\"}], \"mesh3d\": [{\"colorbar\": {\"outlinewidth\": 0, \"ticks\": \"\"}, \"type\": \"mesh3d\"}], \"parcoords\": [{\"line\": {\"colorbar\": {\"outlinewidth\": 0, \"ticks\": \"\"}}, \"type\": \"parcoords\"}], \"pie\": [{\"automargin\": true, \"type\": \"pie\"}], \"scatter\": [{\"marker\": {\"colorbar\": {\"outlinewidth\": 0, \"ticks\": \"\"}}, \"type\": \"scatter\"}], \"scatter3d\": [{\"line\": {\"colorbar\": {\"outlinewidth\": 0, \"ticks\": \"\"}}, \"marker\": {\"colorbar\": {\"outlinewidth\": 0, \"ticks\": \"\"}}, \"type\": \"scatter3d\"}], \"scattercarpet\": [{\"marker\": {\"colorbar\": {\"outlinewidth\": 0, \"ticks\": \"\"}}, \"type\": \"scattercarpet\"}], \"scattergeo\": [{\"marker\": {\"colorbar\": {\"outlinewidth\": 0, \"ticks\": \"\"}}, \"type\": \"scattergeo\"}], \"scattergl\": [{\"marker\": {\"colorbar\": {\"outlinewidth\": 0, \"ticks\": \"\"}}, \"type\": \"scattergl\"}], \"scattermapbox\": [{\"marker\": {\"colorbar\": {\"outlinewidth\": 0, \"ticks\": \"\"}}, \"type\": \"scattermapbox\"}], \"scatterpolar\": [{\"marker\": {\"colorbar\": {\"outlinewidth\": 0, \"ticks\": \"\"}}, \"type\": \"scatterpolar\"}], \"scatterpolargl\": [{\"marker\": {\"colorbar\": {\"outlinewidth\": 0, \"ticks\": \"\"}}, \"type\": \"scatterpolargl\"}], \"scatterternary\": [{\"marker\": {\"colorbar\": {\"outlinewidth\": 0, \"ticks\": \"\"}}, \"type\": \"scatterternary\"}], \"surface\": [{\"colorbar\": {\"outlinewidth\": 0, \"ticks\": \"\"}, \"colorscale\": [[0.0, \"#0d0887\"], [0.1111111111111111, \"#46039f\"], [0.2222222222222222, \"#7201a8\"], [0.3333333333333333, \"#9c179e\"], [0.4444444444444444, \"#bd3786\"], [0.5555555555555556, \"#d8576b\"], [0.6666666666666666, \"#ed7953\"], [0.7777777777777778, \"#fb9f3a\"], [0.8888888888888888, \"#fdca26\"], [1.0, \"#f0f921\"]], \"type\": \"surface\"}], \"table\": [{\"cells\": {\"fill\": {\"color\": \"#EBF0F8\"}, \"line\": {\"color\": \"white\"}}, \"header\": {\"fill\": {\"color\": \"#C8D4E3\"}, \"line\": {\"color\": \"white\"}}, \"type\": \"table\"}]}, \"layout\": {\"annotationdefaults\": {\"arrowcolor\": \"#2a3f5f\", \"arrowhead\": 0, \"arrowwidth\": 1}, \"coloraxis\": {\"colorbar\": {\"outlinewidth\": 0, \"ticks\": \"\"}}, \"colorscale\": {\"diverging\": [[0, \"#8e0152\"], [0.1, \"#c51b7d\"], [0.2, \"#de77ae\"], [0.3, \"#f1b6da\"], [0.4, \"#fde0ef\"], [0.5, \"#f7f7f7\"], [0.6, \"#e6f5d0\"], [0.7, \"#b8e186\"], [0.8, \"#7fbc41\"], [0.9, \"#4d9221\"], [1, \"#276419\"]], \"sequential\": [[0.0, \"#0d0887\"], [0.1111111111111111, \"#46039f\"], [0.2222222222222222, \"#7201a8\"], [0.3333333333333333, \"#9c179e\"], [0.4444444444444444, \"#bd3786\"], [0.5555555555555556, \"#d8576b\"], [0.6666666666666666, \"#ed7953\"], [0.7777777777777778, \"#fb9f3a\"], [0.8888888888888888, \"#fdca26\"], [1.0, \"#f0f921\"]], \"sequentialminus\": [[0.0, \"#0d0887\"], [0.1111111111111111, \"#46039f\"], [0.2222222222222222, \"#7201a8\"], [0.3333333333333333, \"#9c179e\"], [0.4444444444444444, \"#bd3786\"], [0.5555555555555556, \"#d8576b\"], [0.6666666666666666, \"#ed7953\"], [0.7777777777777778, \"#fb9f3a\"], [0.8888888888888888, \"#fdca26\"], [1.0, \"#f0f921\"]]}, \"colorway\": [\"#636efa\", \"#EF553B\", \"#00cc96\", \"#ab63fa\", \"#FFA15A\", \"#19d3f3\", \"#FF6692\", \"#B6E880\", \"#FF97FF\", \"#FECB52\"], \"font\": {\"color\": \"#2a3f5f\"}, \"geo\": {\"bgcolor\": \"white\", \"lakecolor\": \"white\", \"landcolor\": \"#E5ECF6\", \"showlakes\": true, \"showland\": true, \"subunitcolor\": \"white\"}, \"hoverlabel\": {\"align\": \"left\"}, \"hovermode\": \"closest\", \"mapbox\": {\"style\": \"light\"}, \"paper_bgcolor\": \"white\", \"plot_bgcolor\": \"#E5ECF6\", \"polar\": {\"angularaxis\": {\"gridcolor\": \"white\", \"linecolor\": \"white\", \"ticks\": \"\"}, \"bgcolor\": \"#E5ECF6\", \"radialaxis\": {\"gridcolor\": \"white\", \"linecolor\": \"white\", \"ticks\": \"\"}}, \"scene\": {\"xaxis\": {\"backgroundcolor\": \"#E5ECF6\", \"gridcolor\": \"white\", \"gridwidth\": 2, \"linecolor\": \"white\", \"showbackground\": true, \"ticks\": \"\", \"zerolinecolor\": \"white\"}, \"yaxis\": {\"backgroundcolor\": \"#E5ECF6\", \"gridcolor\": \"white\", \"gridwidth\": 2, \"linecolor\": \"white\", \"showbackground\": true, \"ticks\": \"\", \"zerolinecolor\": \"white\"}, \"zaxis\": {\"backgroundcolor\": \"#E5ECF6\", \"gridcolor\": \"white\", \"gridwidth\": 2, \"linecolor\": \"white\", \"showbackground\": true, \"ticks\": \"\", \"zerolinecolor\": \"white\"}}, \"shapedefaults\": {\"line\": {\"color\": \"#2a3f5f\"}}, \"ternary\": {\"aaxis\": {\"gridcolor\": \"white\", \"linecolor\": \"white\", \"ticks\": \"\"}, \"baxis\": {\"gridcolor\": \"white\", \"linecolor\": \"white\", \"ticks\": \"\"}, \"bgcolor\": \"#E5ECF6\", \"caxis\": {\"gridcolor\": \"white\", \"linecolor\": \"white\", \"ticks\": \"\"}}, \"title\": {\"x\": 0.05}, \"xaxis\": {\"automargin\": true, \"gridcolor\": \"white\", \"linecolor\": \"white\", \"ticks\": \"\", \"title\": {\"standoff\": 15}, \"zerolinecolor\": \"white\", \"zerolinewidth\": 2}, \"yaxis\": {\"automargin\": true, \"gridcolor\": \"white\", \"linecolor\": \"white\", \"ticks\": \"\", \"title\": {\"standoff\": 15}, \"zerolinecolor\": \"white\", \"zerolinewidth\": 2}}}, \"title\": {\"text\": \"Plot showing the relationship between min, mean, max temperature, snowfall and precipitation by month.\"}, \"updatemenus\": [{\"buttons\": [{\"args\": [null, {\"frame\": {\"duration\": 500, \"redraw\": true}, \"fromcurrent\": true, \"mode\": \"immediate\", \"transition\": {\"duration\": 500, \"easing\": \"linear\"}}], \"label\": \"&#9654;\", \"method\": \"animate\"}, {\"args\": [[null], {\"frame\": {\"duration\": 0, \"redraw\": true}, \"fromcurrent\": true, \"mode\": \"immediate\", \"transition\": {\"duration\": 0, \"easing\": \"linear\"}}], \"label\": \"&#9724;\", \"method\": \"animate\"}], \"direction\": \"left\", \"pad\": {\"r\": 10, \"t\": 70}, \"showactive\": false, \"type\": \"buttons\", \"x\": 0.1, \"xanchor\": \"right\", \"y\": 0, \"yanchor\": \"top\"}], \"xaxis\": {\"anchor\": \"y\", \"domain\": [0.0, 1.0], \"showgrid\": false, \"title\": {\"text\": \"MO\"}}, \"yaxis\": {\"anchor\": \"x\", \"domain\": [0.0, 1.0], \"showgrid\": false, \"title\": {\"text\": \"value\"}}},\n",
       "                        {\"responsive\": true}\n",
       "                    ).then(function(){\n",
       "                            Plotly.addFrames('816a1662-10cb-40bb-adfc-801b235ca300', [{\"data\": [{\"alignmentgroup\": \"True\", \"hovertemplate\": \"variable=Snowfall<br>YR=40<br>MO=%{x}<br>value=%{y}<extra></extra>\", \"legendgroup\": \"Snowfall\", \"marker\": {\"color\": \"#636efa\"}, \"name\": \"Snowfall\", \"offsetgroup\": \"Snowfall\", \"orientation\": \"v\", \"showlegend\": true, \"textposition\": \"auto\", \"x\": [1, 2, 3, 4, 5, 6, 7, 8, 9, 10, 11, 12], \"xaxis\": \"x\", \"y\": [0.0, 0.0, 0.0, 0.0, 0.0, 0.0, 0.0, 0.0, 0.0, 0.0, 0.0, 0.0], \"yaxis\": \"y\", \"type\": \"bar\"}, {\"alignmentgroup\": \"True\", \"hovertemplate\": \"variable=Precip<br>YR=40<br>MO=%{x}<br>value=%{y}<extra></extra>\", \"legendgroup\": \"Precip\", \"marker\": {\"color\": \"#EF553B\"}, \"name\": \"Precip\", \"offsetgroup\": \"Precip\", \"orientation\": \"v\", \"showlegend\": true, \"textposition\": \"auto\", \"x\": [1, 2, 3, 4, 5, 6, 7, 8, 9, 10, 11, 12], \"xaxis\": \"x\", \"y\": [3.21505376344086, 0.4861111111111111, 2.0258064516129033, 1.0, 2.7483870967741937, 1.46, 2.5806451612903225, 1.4838709677419355, 2.32, 2.890322580645161, 5.0, 1.0753424657534247], \"yaxis\": \"y\", \"type\": \"bar\"}, {\"alignmentgroup\": \"True\", \"hovertemplate\": \"variable=MinTemp<br>YR=40<br>MO=%{x}<br>value=%{y}<extra></extra>\", \"legendgroup\": \"MinTemp\", \"marker\": {\"color\": \"#00cc96\"}, \"name\": \"MinTemp\", \"offsetgroup\": \"MinTemp\", \"orientation\": \"v\", \"showlegend\": true, \"textposition\": \"auto\", \"x\": [1, 2, 3, 4, 5, 6, 7, 8, 9, 10, 11, 12], \"xaxis\": \"x\", \"y\": [17.817204301075268, 17.4375, 17.34193548387097, 19.293333333333333, 20.348387096774193, 20.833333333333332, 22.045161290322582, 22.580645161290324, 21.42, 21.096774193548388, 20.312101910828027, 19.993150684931507], \"yaxis\": \"y\", \"type\": \"bar\"}, {\"alignmentgroup\": \"True\", \"hovertemplate\": \"variable=MeanTemp<br>YR=40<br>MO=%{x}<br>value=%{y}<extra></extra>\", \"legendgroup\": \"MeanTemp\", \"marker\": {\"color\": \"#ab63fa\"}, \"name\": \"MeanTemp\", \"offsetgroup\": \"MeanTemp\", \"orientation\": \"v\", \"showlegend\": true, \"textposition\": \"auto\", \"x\": [1, 2, 3, 4, 5, 6, 7, 8, 9, 10, 11, 12], \"xaxis\": \"x\", \"y\": [22.268817204301076, 22.083333333333332, 22.27741935483871, 23.62, 24.283870967741937, 24.80666666666667, 25.683870967741935, 25.787096774193547, 25.2, 24.883870967741935, 24.159235668789808, 23.773972602739725], \"yaxis\": \"y\", \"type\": \"bar\"}, {\"alignmentgroup\": \"True\", \"hovertemplate\": \"variable=MaxTemp<br>YR=40<br>MO=%{x}<br>value=%{y}<extra></extra>\", \"legendgroup\": \"MaxTemp\", \"marker\": {\"color\": \"#FFA15A\"}, \"name\": \"MaxTemp\", \"offsetgroup\": \"MaxTemp\", \"orientation\": \"v\", \"showlegend\": true, \"textposition\": \"auto\", \"x\": [1, 2, 3, 4, 5, 6, 7, 8, 9, 10, 11, 12], \"xaxis\": \"x\", \"y\": [26.731182795698924, 26.78472222222222, 27.283870967741937, 27.886666666666667, 28.206451612903226, 28.773333333333333, 29.393548387096775, 29.135483870967743, 29.02, 28.690322580645162, 27.94904458598726, 27.664383561643834], \"yaxis\": \"y\", \"type\": \"bar\"}], \"name\": \"40\"}, {\"data\": [{\"alignmentgroup\": \"True\", \"hovertemplate\": \"variable=Snowfall<br>YR=41<br>MO=%{x}<br>value=%{y}<extra></extra>\", \"legendgroup\": \"Snowfall\", \"marker\": {\"color\": \"#636efa\"}, \"name\": \"Snowfall\", \"offsetgroup\": \"Snowfall\", \"orientation\": \"v\", \"showlegend\": true, \"textposition\": \"auto\", \"x\": [1, 2, 3, 4, 5, 6, 7, 8, 9, 10, 11, 12], \"xaxis\": \"x\", \"y\": [0.0, 0.0, 0.0, 0.0, 0.0, 0.0, 0.0, 0.0, 0.0, 0.0, 0.04314720812182741, 0.734065934065934], \"yaxis\": \"y\", \"type\": \"bar\"}, {\"alignmentgroup\": \"True\", \"hovertemplate\": \"variable=Precip<br>YR=41<br>MO=%{x}<br>value=%{y}<extra></extra>\", \"legendgroup\": \"Precip\", \"marker\": {\"color\": \"#EF553B\"}, \"name\": \"Precip\", \"offsetgroup\": \"Precip\", \"orientation\": \"v\", \"showlegend\": true, \"textposition\": \"auto\", \"x\": [1, 2, 3, 4, 5, 6, 7, 8, 9, 10, 11, 12], \"xaxis\": \"x\", \"y\": [0.8820224719101124, 0.3619631901840491, 0.6408839779005525, 0.5888888888888889, 2.2066666666666666, 1.6598639455782314, 1.1032608695652173, 4.206521739130435, 3.6605504587155964, 5.155172413793103, 4.16751269035533, 2.2527472527472527], \"yaxis\": \"y\", \"type\": \"bar\"}, {\"alignmentgroup\": \"True\", \"hovertemplate\": \"variable=MinTemp<br>YR=41<br>MO=%{x}<br>value=%{y}<extra></extra>\", \"legendgroup\": \"MinTemp\", \"marker\": {\"color\": \"#00cc96\"}, \"name\": \"MinTemp\", \"offsetgroup\": \"MinTemp\", \"orientation\": \"v\", \"showlegend\": true, \"textposition\": \"auto\", \"x\": [1, 2, 3, 4, 5, 6, 7, 8, 9, 10, 11, 12], \"xaxis\": \"x\", \"y\": [18.769662921348313, 18.226993865030675, 19.502762430939228, 20.4, 19.773333333333333, 21.312925170068027, 21.02173913043478, 20.53985507246377, 19.40978593272171, 17.64367816091954, 17.309644670050762, 13.241758241758241], \"yaxis\": \"y\", \"type\": \"bar\"}, {\"alignmentgroup\": \"True\", \"hovertemplate\": \"variable=MeanTemp<br>YR=41<br>MO=%{x}<br>value=%{y}<extra></extra>\", \"legendgroup\": \"MeanTemp\", \"marker\": {\"color\": \"#ab63fa\"}, \"name\": \"MeanTemp\", \"offsetgroup\": \"MeanTemp\", \"orientation\": \"v\", \"showlegend\": true, \"textposition\": \"auto\", \"x\": [1, 2, 3, 4, 5, 6, 7, 8, 9, 10, 11, 12], \"xaxis\": \"x\", \"y\": [23.0561797752809, 22.49079754601227, 23.19889502762431, 24.405555555555555, 23.766666666666666, 25.05442176870748, 24.71195652173913, 24.27536231884058, 23.1131498470948, 21.103448275862068, 20.66497461928934, 16.564835164835166], \"yaxis\": \"y\", \"type\": \"bar\"}, {\"alignmentgroup\": \"True\", \"hovertemplate\": \"variable=MaxTemp<br>YR=41<br>MO=%{x}<br>value=%{y}<extra></extra>\", \"legendgroup\": \"MaxTemp\", \"marker\": {\"color\": \"#FFA15A\"}, \"name\": \"MaxTemp\", \"offsetgroup\": \"MaxTemp\", \"orientation\": \"v\", \"showlegend\": true, \"textposition\": \"auto\", \"x\": [1, 2, 3, 4, 5, 6, 7, 8, 9, 10, 11, 12], \"xaxis\": \"x\", \"y\": [27.303370786516854, 26.76073619631902, 26.900552486187845, 28.322222222222223, 27.58, 28.79591836734694, 28.516304347826086, 28.134057971014492, 26.862385321100916, 24.597701149425287, 24.071065989847718, 19.85054945054945], \"yaxis\": \"y\", \"type\": \"bar\"}], \"name\": \"41\"}, {\"data\": [{\"alignmentgroup\": \"True\", \"hovertemplate\": \"variable=Snowfall<br>YR=42<br>MO=%{x}<br>value=%{y}<extra></extra>\", \"legendgroup\": \"Snowfall\", \"marker\": {\"color\": \"#636efa\"}, \"name\": \"Snowfall\", \"offsetgroup\": \"Snowfall\", \"orientation\": \"v\", \"showlegend\": true, \"textposition\": \"auto\", \"x\": [1, 2, 3, 4, 5, 6, 7, 8, 9, 10, 11, 12], \"xaxis\": \"x\", \"y\": [0.7383966244725738, 0.4662004662004662, 0.6129707112970711, 0.3374340949033392, 0.0, 0.0, 0.0, 0.0, 0.0, 0.18340611353711792, 0.40490278951817416, 0.23659074210139602], \"yaxis\": \"y\", \"type\": \"bar\"}, {\"alignmentgroup\": \"True\", \"hovertemplate\": \"variable=Precip<br>YR=42<br>MO=%{x}<br>value=%{y}<extra></extra>\", \"legendgroup\": \"Precip\", \"marker\": {\"color\": \"#EF553B\"}, \"name\": \"Precip\", \"offsetgroup\": \"Precip\", \"orientation\": \"v\", \"showlegend\": true, \"textposition\": \"auto\", \"x\": [1, 2, 3, 4, 5, 6, 7, 8, 9, 10, 11, 12], \"xaxis\": \"x\", \"y\": [1.128691983122363, 2.6013986013986012, 1.7196652719665273, 2.5641476274165202, 3.7597014925373133, 4.256060606060606, 4.783691959229898, 4.065677966101695, 3.8979591836734695, 4.123144104803494, 2.8689771766694845, 3.526818515797208], \"yaxis\": \"y\", \"type\": \"bar\"}, {\"alignmentgroup\": \"True\", \"hovertemplate\": \"variable=MinTemp<br>YR=42<br>MO=%{x}<br>value=%{y}<extra></extra>\", \"legendgroup\": \"MinTemp\", \"marker\": {\"color\": \"#00cc96\"}, \"name\": \"MinTemp\", \"offsetgroup\": \"MinTemp\", \"orientation\": \"v\", \"showlegend\": true, \"textposition\": \"auto\", \"x\": [1, 2, 3, 4, 5, 6, 7, 8, 9, 10, 11, 12], \"xaxis\": \"x\", \"y\": [11.567510548523206, 12.85081585081585, 13.673640167364017, 14.13884007029877, 16.217910447761195, 15.787878787878787, 16.985277463193658, 16.6875, 18.511175898931, 17.98864628820961, 17.729501267962807, 16.040411462160176], \"yaxis\": \"y\", \"type\": \"bar\"}, {\"alignmentgroup\": \"True\", \"hovertemplate\": \"variable=MeanTemp<br>YR=42<br>MO=%{x}<br>value=%{y}<extra></extra>\", \"legendgroup\": \"MeanTemp\", \"marker\": {\"color\": \"#ab63fa\"}, \"name\": \"MeanTemp\", \"offsetgroup\": \"MeanTemp\", \"orientation\": \"v\", \"showlegend\": true, \"textposition\": \"auto\", \"x\": [1, 2, 3, 4, 5, 6, 7, 8, 9, 10, 11, 12], \"xaxis\": \"x\", \"y\": [15.514767932489452, 16.655011655011656, 17.317991631799163, 17.66432337434095, 19.686567164179106, 18.919696969696968, 20.576443941109854, 20.366525423728813, 22.058309037900873, 21.975545851528384, 21.356720202874047, 20.282145481263775], \"yaxis\": \"y\", \"type\": \"bar\"}, {\"alignmentgroup\": \"True\", \"hovertemplate\": \"variable=MaxTemp<br>YR=42<br>MO=%{x}<br>value=%{y}<extra></extra>\", \"legendgroup\": \"MaxTemp\", \"marker\": {\"color\": \"#FFA15A\"}, \"name\": \"MaxTemp\", \"offsetgroup\": \"MaxTemp\", \"orientation\": \"v\", \"showlegend\": true, \"textposition\": \"auto\", \"x\": [1, 2, 3, 4, 5, 6, 7, 8, 9, 10, 11, 12], \"xaxis\": \"x\", \"y\": [19.476793248945146, 20.48018648018648, 21.014644351464437, 21.25659050966608, 23.344776119402987, 22.163636363636364, 24.22083805209513, 24.135593220338983, 25.7667638483965, 26.097816593886463, 25.624683009298394, 24.550330639235856], \"yaxis\": \"y\", \"type\": \"bar\"}], \"name\": \"42\"}, {\"data\": [{\"alignmentgroup\": \"True\", \"hovertemplate\": \"variable=Snowfall<br>YR=43<br>MO=%{x}<br>value=%{y}<extra></extra>\", \"legendgroup\": \"Snowfall\", \"marker\": {\"color\": \"#636efa\"}, \"name\": \"Snowfall\", \"offsetgroup\": \"Snowfall\", \"orientation\": \"v\", \"showlegend\": true, \"textposition\": \"auto\", \"x\": [1, 2, 3, 4, 5, 6, 7, 8, 9, 10, 11, 12], \"xaxis\": \"x\", \"y\": [0.16056910569105692, 0.7913931436907367, 1.4950124688279303, 1.0202380952380952, 0.280039234919078, 0.0009541984732824427, 0.0, 0.0, 0.009368635437881873, 0.1933028919330289, 0.3454951600893522, 0.414544235924933], \"yaxis\": \"y\", \"type\": \"bar\"}, {\"alignmentgroup\": \"True\", \"hovertemplate\": \"variable=Precip<br>YR=43<br>MO=%{x}<br>value=%{y}<extra></extra>\", \"legendgroup\": \"Precip\", \"marker\": {\"color\": \"#EF553B\"}, \"name\": \"Precip\", \"offsetgroup\": \"Precip\", \"orientation\": \"v\", \"showlegend\": true, \"textposition\": \"auto\", \"x\": [1, 2, 3, 4, 5, 6, 7, 8, 9, 10, 11, 12], \"xaxis\": \"x\", \"y\": [2.8218157181571817, 2.6017505470459517, 2.995635910224439, 3.1172619047619046, 3.4100049043648846, 3.5701335877862594, 3.608299133606931, 4.568308181096108, 4.436659877800407, 4.940639269406392, 3.1023827252419953, 3.5030160857908847], \"yaxis\": \"y\", \"type\": \"bar\"}, {\"alignmentgroup\": \"True\", \"hovertemplate\": \"variable=MinTemp<br>YR=43<br>MO=%{x}<br>value=%{y}<extra></extra>\", \"legendgroup\": \"MinTemp\", \"marker\": {\"color\": \"#00cc96\"}, \"name\": \"MinTemp\", \"offsetgroup\": \"MinTemp\", \"orientation\": \"v\", \"showlegend\": true, \"textposition\": \"auto\", \"x\": [1, 2, 3, 4, 5, 6, 7, 8, 9, 10, 11, 12], \"xaxis\": \"x\", \"y\": [16.504742547425476, 15.49015317286652, 15.905860349127183, 17.276190476190475, 18.49534085335949, 19.356393129770993, 19.477884176926583, 19.687847498014296, 19.622810590631364, 18.54337899543379, 16.697319434102756, 15.460790884718499], \"yaxis\": \"y\", \"type\": \"bar\"}, {\"alignmentgroup\": \"True\", \"hovertemplate\": \"variable=MeanTemp<br>YR=43<br>MO=%{x}<br>value=%{y}<extra></extra>\", \"legendgroup\": \"MeanTemp\", \"marker\": {\"color\": \"#ab63fa\"}, \"name\": \"MeanTemp\", \"offsetgroup\": \"MeanTemp\", \"orientation\": \"v\", \"showlegend\": true, \"textposition\": \"auto\", \"x\": [1, 2, 3, 4, 5, 6, 7, 8, 9, 10, 11, 12], \"xaxis\": \"x\", \"y\": [20.98712737127371, 20.2654996353027, 20.93640897755611, 22.063690476190477, 23.23786169691025, 23.954198473282442, 23.909256725946193, 24.005559968228752, 23.920977596741345, 23.006088280060883, 21.413998510796723, 20.08210455764075], \"yaxis\": \"y\", \"type\": \"bar\"}, {\"alignmentgroup\": \"True\", \"hovertemplate\": \"variable=MaxTemp<br>YR=43<br>MO=%{x}<br>value=%{y}<extra></extra>\", \"legendgroup\": \"MaxTemp\", \"marker\": {\"color\": \"#FFA15A\"}, \"name\": \"MaxTemp\", \"offsetgroup\": \"MaxTemp\", \"orientation\": \"v\", \"showlegend\": true, \"textposition\": \"auto\", \"x\": [1, 2, 3, 4, 5, 6, 7, 8, 9, 10, 11, 12], \"xaxis\": \"x\", \"y\": [25.498644986449865, 25.048869438366157, 25.99002493765586, 26.980357142857144, 28.069151544874938, 28.668893129770993, 28.469676242590058, 28.420571882446385, 28.363747454175154, 27.597031963470318, 26.211839166046165, 24.798927613941018], \"yaxis\": \"y\", \"type\": \"bar\"}], \"name\": \"43\"}, {\"data\": [{\"alignmentgroup\": \"True\", \"hovertemplate\": \"variable=Snowfall<br>YR=44<br>MO=%{x}<br>value=%{y}<extra></extra>\", \"legendgroup\": \"Snowfall\", \"marker\": {\"color\": \"#636efa\"}, \"name\": \"Snowfall\", \"offsetgroup\": \"Snowfall\", \"orientation\": \"v\", \"showlegend\": true, \"textposition\": \"auto\", \"x\": [1, 2, 3, 4, 5, 6, 7, 8, 9, 10, 11, 12], \"xaxis\": \"x\", \"y\": [0.8104325699745547, 0.8945655711031565, 0.5105358217941, 0.17440097057931453, 0.3532846715328467, 0.021643755484059668, 0.0005635390250774866, 0.0, 0.003592814371257485, 0.09220261809903244, 0.23517322372284205, 0.3523404255319149], \"yaxis\": \"y\", \"type\": \"bar\"}, {\"alignmentgroup\": \"True\", \"hovertemplate\": \"variable=Precip<br>YR=44<br>MO=%{x}<br>value=%{y}<extra></extra>\", \"legendgroup\": \"Precip\", \"marker\": {\"color\": \"#EF553B\"}, \"name\": \"Precip\", \"offsetgroup\": \"Precip\", \"orientation\": \"v\", \"showlegend\": true, \"textposition\": \"auto\", \"x\": [1, 2, 3, 4, 5, 6, 7, 8, 9, 10, 11, 12], \"xaxis\": \"x\", \"y\": [1.9923664122137406, 2.498861047835991, 2.7534617700180615, 2.9332726721261753, 4.3591240875912405, 4.694940040947645, 4.9461820231051, 4.9296897238827215, 4.654790419161676, 4.341491178144564, 2.7043452730475632, 2.715744680851064], \"yaxis\": \"y\", \"type\": \"bar\"}, {\"alignmentgroup\": \"True\", \"hovertemplate\": \"variable=MinTemp<br>YR=44<br>MO=%{x}<br>value=%{y}<extra></extra>\", \"legendgroup\": \"MinTemp\", \"marker\": {\"color\": \"#00cc96\"}, \"name\": \"MinTemp\", \"offsetgroup\": \"MinTemp\", \"orientation\": \"v\", \"showlegend\": true, \"textposition\": \"auto\", \"x\": [1, 2, 3, 4, 5, 6, 7, 8, 9, 10, 11, 12], \"xaxis\": \"x\", \"y\": [13.940521628498727, 14.199153921249593, 15.521974714027694, 17.341219290263876, 18.64788321167883, 19.850248610704885, 20.34995773457312, 20.367207514944493, 19.70179640718563, 17.74843483210017, 15.7190252495596, 14.146099290780143], \"yaxis\": \"y\", \"type\": \"bar\"}, {\"alignmentgroup\": \"True\", \"hovertemplate\": \"variable=MeanTemp<br>YR=44<br>MO=%{x}<br>value=%{y}<extra></extra>\", \"legendgroup\": \"MeanTemp\", \"marker\": {\"color\": \"#ab63fa\"}, \"name\": \"MeanTemp\", \"offsetgroup\": \"MeanTemp\", \"orientation\": \"v\", \"showlegend\": true, \"textposition\": \"auto\", \"x\": [1, 2, 3, 4, 5, 6, 7, 8, 9, 10, 11, 12], \"xaxis\": \"x\", \"y\": [18.732824427480917, 18.95509274324764, 20.394039735099337, 22.26296633303003, 23.583065693430658, 24.49195671248903, 24.83009298393914, 24.86934244235696, 24.302994011976047, 22.50512236767217, 20.521432765707576, 18.708936170212766], \"yaxis\": \"y\", \"type\": \"bar\"}, {\"alignmentgroup\": \"True\", \"hovertemplate\": \"variable=MaxTemp<br>YR=44<br>MO=%{x}<br>value=%{y}<extra></extra>\", \"legendgroup\": \"MaxTemp\", \"marker\": {\"color\": \"#FFA15A\"}, \"name\": \"MaxTemp\", \"offsetgroup\": \"MaxTemp\", \"orientation\": \"v\", \"showlegend\": true, \"textposition\": \"auto\", \"x\": [1, 2, 3, 4, 5, 6, 7, 8, 9, 10, 11, 12], \"xaxis\": \"x\", \"y\": [23.576335877862597, 23.812235600390498, 25.349488260084286, 27.289960570215346, 28.637080291970804, 29.17958467388125, 29.395886165116934, 29.468830059777968, 28.973053892215567, 27.37279453614115, 25.38960657662948, 23.34014184397163], \"yaxis\": \"y\", \"type\": \"bar\"}], \"name\": \"44\"}, {\"data\": [{\"alignmentgroup\": \"True\", \"hovertemplate\": \"variable=Snowfall<br>YR=45<br>MO=%{x}<br>value=%{y}<extra></extra>\", \"legendgroup\": \"Snowfall\", \"marker\": {\"color\": \"#636efa\"}, \"name\": \"Snowfall\", \"offsetgroup\": \"Snowfall\", \"orientation\": \"v\", \"showlegend\": true, \"textposition\": \"auto\", \"x\": [1, 2, 3, 4, 5, 6, 7, 8, 9, 10, 11, 12], \"xaxis\": \"x\", \"y\": [0.42613318410744266, 0.34603274559193953, 0.3261397356352846, 0.35968052877995044, 0.05493304181470347, 0.0, 0.0, 0.0, 0.005671747607231478, 0.043895241608262636, 0.2300542215336948, 0.702954898911353], \"yaxis\": \"y\", \"type\": \"bar\"}, {\"alignmentgroup\": \"True\", \"hovertemplate\": \"variable=Precip<br>YR=45<br>MO=%{x}<br>value=%{y}<extra></extra>\", \"legendgroup\": \"Precip\", \"marker\": {\"color\": \"#EF553B\"}, \"name\": \"Precip\", \"offsetgroup\": \"Precip\", \"orientation\": \"v\", \"showlegend\": true, \"textposition\": \"auto\", \"x\": [1, 2, 3, 4, 5, 6, 7, 8, 9, 10, 11, 12], \"xaxis\": \"x\", \"y\": [2.5176273083379965, 2.218198992443325, 2.102778527110871, 2.947122004957312, 3.83930035528833, 4.362555720653789, 4.4555181901559155, 3.8933460681311685, 4.660404112017015, 4.067502766506824, 4.053059643687065, 3.0174961119751167], \"yaxis\": \"y\", \"type\": \"bar\"}, {\"alignmentgroup\": \"True\", \"hovertemplate\": \"variable=MinTemp<br>YR=45<br>MO=%{x}<br>value=%{y}<extra></extra>\", \"legendgroup\": \"MinTemp\", \"marker\": {\"color\": \"#00cc96\"}, \"name\": \"MinTemp\", \"offsetgroup\": \"MinTemp\", \"orientation\": \"v\", \"showlegend\": true, \"textposition\": \"auto\", \"x\": [1, 2, 3, 4, 5, 6, 7, 8, 9, 10, 11, 12], \"xaxis\": \"x\", \"y\": [12.977336317851147, 14.120906801007557, 15.181548421904505, 17.108234646103003, 18.63514621481279, 20.269836552748885, 20.639865484561295, 20.725246736708055, 19.78199220134704, 17.280708225746956, 15.587529047250193, 13.713452566096423], \"yaxis\": \"y\", \"type\": \"bar\"}, {\"alignmentgroup\": \"True\", \"hovertemplate\": \"variable=MeanTemp<br>YR=45<br>MO=%{x}<br>value=%{y}<extra></extra>\", \"legendgroup\": \"MeanTemp\", \"marker\": {\"color\": \"#ab63fa\"}, \"name\": \"MeanTemp\", \"offsetgroup\": \"MeanTemp\", \"orientation\": \"v\", \"showlegend\": true, \"textposition\": \"auto\", \"x\": [1, 2, 3, 4, 5, 6, 7, 8, 9, 10, 11, 12], \"xaxis\": \"x\", \"y\": [17.59065472859541, 19.097607052896727, 20.40571891016995, 22.282291379785182, 23.77589505329325, 25.033580980683507, 25.21400183430144, 25.212989493791785, 24.17476072314782, 21.795278495020288, 19.96243222308288, 17.975894245723172], \"yaxis\": \"y\", \"type\": \"bar\"}, {\"alignmentgroup\": \"True\", \"hovertemplate\": \"variable=MaxTemp<br>YR=45<br>MO=%{x}<br>value=%{y}<extra></extra>\", \"legendgroup\": \"MaxTemp\", \"marker\": {\"color\": \"#FFA15A\"}, \"name\": \"MaxTemp\", \"offsetgroup\": \"MaxTemp\", \"orientation\": \"v\", \"showlegend\": true, \"textposition\": \"auto\", \"x\": [1, 2, 3, 4, 5, 6, 7, 8, 9, 10, 11, 12], \"xaxis\": \"x\", \"y\": [22.364297705651932, 24.1316120906801, 25.681413541947666, 27.564307353346187, 28.966384257993987, 29.878751857355127, 29.901253439315195, 29.81056988220312, 28.792626728110598, 26.396901512357065, 24.421766072811774, 22.311819595645414], \"yaxis\": \"y\", \"type\": \"bar\"}], \"name\": \"45\"}]);\n",
       "                        }).then(function(){\n",
       "                            \n",
       "var gd = document.getElementById('816a1662-10cb-40bb-adfc-801b235ca300');\n",
       "var x = new MutationObserver(function (mutations, observer) {{\n",
       "        var display = window.getComputedStyle(gd).display;\n",
       "        if (!display || display === 'none') {{\n",
       "            console.log([gd, 'removed!']);\n",
       "            Plotly.purge(gd);\n",
       "            observer.disconnect();\n",
       "        }}\n",
       "}});\n",
       "\n",
       "// Listen for the removal of the full notebook cells\n",
       "var notebookContainer = gd.closest('#notebook-container');\n",
       "if (notebookContainer) {{\n",
       "    x.observe(notebookContainer, {childList: true});\n",
       "}}\n",
       "\n",
       "// Listen for the clearing of the current output cell\n",
       "var outputEl = gd.closest('.output');\n",
       "if (outputEl) {{\n",
       "    x.observe(outputEl, {childList: true});\n",
       "}}\n",
       "\n",
       "                        })\n",
       "                };\n",
       "                });\n",
       "            </script>\n",
       "        </div>"
      ]
     },
     "metadata": {},
     "output_type": "display_data"
    }
   ],
   "source": [
    "fig=px.bar(df_mo, x=\"MO\", y=[\"Snowfall\", \"Precip\", \"MinTemp\", \"MeanTemp\", \"MaxTemp\"], animation_frame=\"YR\")\n",
    "fig.update_layout(barmode=\"group\",xaxis_showgrid=False,\n",
    "                  yaxis_showgrid=False, \n",
    "                  title=\"Plot showing the relationship between min, mean, max temperature, snowfall and precipitation by month.\")\n",
    "fig.show()"
   ]
  },
  {
   "cell_type": "code",
   "execution_count": 41,
   "metadata": {},
   "outputs": [
    {
     "name": "stderr",
     "output_type": "stream",
     "text": [
      "<ipython-input-41-2b95699e8018>:1: FutureWarning:\n",
      "\n",
      "Indexing with multiple keys (implicitly converted to a tuple of keys) will be deprecated, use a list instead.\n",
      "\n"
     ]
    },
    {
     "data": {
      "text/html": [
       "<div>\n",
       "<style scoped>\n",
       "    .dataframe tbody tr th:only-of-type {\n",
       "        vertical-align: middle;\n",
       "    }\n",
       "\n",
       "    .dataframe tbody tr th {\n",
       "        vertical-align: top;\n",
       "    }\n",
       "\n",
       "    .dataframe thead th {\n",
       "        text-align: right;\n",
       "    }\n",
       "</style>\n",
       "<table border=\"1\" class=\"dataframe\">\n",
       "  <thead>\n",
       "    <tr style=\"text-align: right;\">\n",
       "      <th></th>\n",
       "      <th>YR</th>\n",
       "      <th>MaxTemp</th>\n",
       "      <th>MinTemp</th>\n",
       "      <th>MeanTemp</th>\n",
       "      <th>Snowfall</th>\n",
       "      <th>Precip</th>\n",
       "    </tr>\n",
       "  </thead>\n",
       "  <tbody>\n",
       "    <tr>\n",
       "      <th>0</th>\n",
       "      <td>40</td>\n",
       "      <td>28.182436</td>\n",
       "      <td>20.134278</td>\n",
       "      <td>24.142210</td>\n",
       "      <td>0.000000</td>\n",
       "      <td>2.179037</td>\n",
       "    </tr>\n",
       "    <tr>\n",
       "      <th>1</th>\n",
       "      <td>41</td>\n",
       "      <td>25.622192</td>\n",
       "      <td>18.264164</td>\n",
       "      <td>21.936976</td>\n",
       "      <td>0.117667</td>\n",
       "      <td>2.693597</td>\n",
       "    </tr>\n",
       "    <tr>\n",
       "      <th>2</th>\n",
       "      <td>42</td>\n",
       "      <td>23.890178</td>\n",
       "      <td>16.291501</td>\n",
       "      <td>20.013130</td>\n",
       "      <td>0.208244</td>\n",
       "      <td>3.485802</td>\n",
       "    </tr>\n",
       "    <tr>\n",
       "      <th>3</th>\n",
       "      <td>43</td>\n",
       "      <td>27.084182</td>\n",
       "      <td>17.823436</td>\n",
       "      <td>22.406063</td>\n",
       "      <td>0.338243</td>\n",
       "      <td>3.664516</td>\n",
       "    </tr>\n",
       "    <tr>\n",
       "      <th>4</th>\n",
       "      <td>44</td>\n",
       "      <td>26.868285</td>\n",
       "      <td>17.353517</td>\n",
       "      <td>22.069065</td>\n",
       "      <td>0.277173</td>\n",
       "      <td>3.656871</td>\n",
       "    </tr>\n",
       "  </tbody>\n",
       "</table>\n",
       "</div>"
      ],
      "text/plain": [
       "   YR    MaxTemp    MinTemp   MeanTemp  Snowfall    Precip\n",
       "0  40  28.182436  20.134278  24.142210  0.000000  2.179037\n",
       "1  41  25.622192  18.264164  21.936976  0.117667  2.693597\n",
       "2  42  23.890178  16.291501  20.013130  0.208244  3.485802\n",
       "3  43  27.084182  17.823436  22.406063  0.338243  3.664516\n",
       "4  44  26.868285  17.353517  22.069065  0.277173  3.656871"
      ]
     },
     "execution_count": 41,
     "metadata": {},
     "output_type": "execute_result"
    }
   ],
   "source": [
    "df_yr=df1.groupby([\"YR\"])[\"MaxTemp\", \"MinTemp\", \"MeanTemp\", \"Snowfall\", \"Precip\"].mean().reset_index()\n",
    "df_yr.head()"
   ]
  },
  {
   "cell_type": "code",
   "execution_count": 45,
   "metadata": {},
   "outputs": [
    {
     "data": {
      "application/vnd.plotly.v1+json": {
       "config": {
        "plotlyServerURL": "https://plot.ly"
       },
       "data": [
        {
         "alignmentgroup": "True",
         "hovertemplate": "variable=Snowfall<br>YR=%{x}<br>value=%{y}<extra></extra>",
         "legendgroup": "Snowfall",
         "marker": {
          "color": "#636efa"
         },
         "name": "Snowfall",
         "offsetgroup": "Snowfall",
         "orientation": "v",
         "showlegend": true,
         "textposition": "auto",
         "type": "bar",
         "x": [
          40,
          41,
          42,
          43,
          44,
          45
         ],
         "xaxis": "x",
         "y": [
          0,
          0.11766677841099564,
          0.2082442748091603,
          0.33824329576369994,
          0.27717324252967157,
          0.20609788013609004
         ],
         "yaxis": "y"
        },
        {
         "alignmentgroup": "True",
         "hovertemplate": "variable=Precip<br>YR=%{x}<br>value=%{y}<extra></extra>",
         "legendgroup": "Precip",
         "marker": {
          "color": "#EF553B"
         },
         "name": "Precip",
         "offsetgroup": "Precip",
         "orientation": "v",
         "showlegend": true,
         "textposition": "auto",
         "type": "bar",
         "x": [
          40,
          41,
          42,
          43,
          44,
          45
         ],
         "xaxis": "x",
         "y": [
          2.179036827195467,
          2.693597049949715,
          3.485801526717557,
          3.664516129032258,
          3.656870728156538,
          3.466893483381314
         ],
         "yaxis": "y"
        },
        {
         "alignmentgroup": "True",
         "hovertemplate": "variable=MinTemp<br>YR=%{x}<br>value=%{y}<extra></extra>",
         "legendgroup": "MinTemp",
         "marker": {
          "color": "#00cc96"
         },
         "name": "MinTemp",
         "offsetgroup": "MinTemp",
         "orientation": "v",
         "showlegend": true,
         "textposition": "auto",
         "type": "bar",
         "x": [
          40,
          41,
          42,
          43,
          44,
          45
         ],
         "xaxis": "x",
         "y": [
          20.1342776203966,
          18.26416359369762,
          16.291501272264632,
          17.823435678196656,
          17.353517408147656,
          17.189295995812614
         ],
         "yaxis": "y"
        },
        {
         "alignmentgroup": "True",
         "hovertemplate": "variable=MeanTemp<br>YR=%{x}<br>value=%{y}<extra></extra>",
         "legendgroup": "MeanTemp",
         "marker": {
          "color": "#ab63fa"
         },
         "name": "MeanTemp",
         "offsetgroup": "MeanTemp",
         "orientation": "v",
         "showlegend": true,
         "textposition": "auto",
         "type": "bar",
         "x": [
          40,
          41,
          42,
          43,
          44,
          45
         ],
         "xaxis": "x",
         "y": [
          24.142209631728047,
          21.936976198457927,
          20.013129770992368,
          22.406062961523514,
          22.069065067732623,
          21.932426066474743
         ],
         "yaxis": "y"
        },
        {
         "alignmentgroup": "True",
         "hovertemplate": "variable=MaxTemp<br>YR=%{x}<br>value=%{y}<extra></extra>",
         "legendgroup": "MaxTemp",
         "marker": {
          "color": "#FFA15A"
         },
         "name": "MaxTemp",
         "offsetgroup": "MaxTemp",
         "orientation": "v",
         "showlegend": true,
         "textposition": "auto",
         "type": "bar",
         "x": [
          40,
          41,
          42,
          43,
          44,
          45
         ],
         "xaxis": "x",
         "y": [
          28.18243626062323,
          25.622192423734496,
          23.890178117048347,
          27.084181888845706,
          26.868285340637104,
          26.774666317717873
         ],
         "yaxis": "y"
        }
       ],
       "layout": {
        "barmode": "group",
        "legend": {
         "title": {
          "text": "variable"
         },
         "tracegroupgap": 0
        },
        "margin": {
         "t": 60
        },
        "template": {
         "data": {
          "bar": [
           {
            "error_x": {
             "color": "#2a3f5f"
            },
            "error_y": {
             "color": "#2a3f5f"
            },
            "marker": {
             "line": {
              "color": "#E5ECF6",
              "width": 0.5
             }
            },
            "type": "bar"
           }
          ],
          "barpolar": [
           {
            "marker": {
             "line": {
              "color": "#E5ECF6",
              "width": 0.5
             }
            },
            "type": "barpolar"
           }
          ],
          "carpet": [
           {
            "aaxis": {
             "endlinecolor": "#2a3f5f",
             "gridcolor": "white",
             "linecolor": "white",
             "minorgridcolor": "white",
             "startlinecolor": "#2a3f5f"
            },
            "baxis": {
             "endlinecolor": "#2a3f5f",
             "gridcolor": "white",
             "linecolor": "white",
             "minorgridcolor": "white",
             "startlinecolor": "#2a3f5f"
            },
            "type": "carpet"
           }
          ],
          "choropleth": [
           {
            "colorbar": {
             "outlinewidth": 0,
             "ticks": ""
            },
            "type": "choropleth"
           }
          ],
          "contour": [
           {
            "colorbar": {
             "outlinewidth": 0,
             "ticks": ""
            },
            "colorscale": [
             [
              0,
              "#0d0887"
             ],
             [
              0.1111111111111111,
              "#46039f"
             ],
             [
              0.2222222222222222,
              "#7201a8"
             ],
             [
              0.3333333333333333,
              "#9c179e"
             ],
             [
              0.4444444444444444,
              "#bd3786"
             ],
             [
              0.5555555555555556,
              "#d8576b"
             ],
             [
              0.6666666666666666,
              "#ed7953"
             ],
             [
              0.7777777777777778,
              "#fb9f3a"
             ],
             [
              0.8888888888888888,
              "#fdca26"
             ],
             [
              1,
              "#f0f921"
             ]
            ],
            "type": "contour"
           }
          ],
          "contourcarpet": [
           {
            "colorbar": {
             "outlinewidth": 0,
             "ticks": ""
            },
            "type": "contourcarpet"
           }
          ],
          "heatmap": [
           {
            "colorbar": {
             "outlinewidth": 0,
             "ticks": ""
            },
            "colorscale": [
             [
              0,
              "#0d0887"
             ],
             [
              0.1111111111111111,
              "#46039f"
             ],
             [
              0.2222222222222222,
              "#7201a8"
             ],
             [
              0.3333333333333333,
              "#9c179e"
             ],
             [
              0.4444444444444444,
              "#bd3786"
             ],
             [
              0.5555555555555556,
              "#d8576b"
             ],
             [
              0.6666666666666666,
              "#ed7953"
             ],
             [
              0.7777777777777778,
              "#fb9f3a"
             ],
             [
              0.8888888888888888,
              "#fdca26"
             ],
             [
              1,
              "#f0f921"
             ]
            ],
            "type": "heatmap"
           }
          ],
          "heatmapgl": [
           {
            "colorbar": {
             "outlinewidth": 0,
             "ticks": ""
            },
            "colorscale": [
             [
              0,
              "#0d0887"
             ],
             [
              0.1111111111111111,
              "#46039f"
             ],
             [
              0.2222222222222222,
              "#7201a8"
             ],
             [
              0.3333333333333333,
              "#9c179e"
             ],
             [
              0.4444444444444444,
              "#bd3786"
             ],
             [
              0.5555555555555556,
              "#d8576b"
             ],
             [
              0.6666666666666666,
              "#ed7953"
             ],
             [
              0.7777777777777778,
              "#fb9f3a"
             ],
             [
              0.8888888888888888,
              "#fdca26"
             ],
             [
              1,
              "#f0f921"
             ]
            ],
            "type": "heatmapgl"
           }
          ],
          "histogram": [
           {
            "marker": {
             "colorbar": {
              "outlinewidth": 0,
              "ticks": ""
             }
            },
            "type": "histogram"
           }
          ],
          "histogram2d": [
           {
            "colorbar": {
             "outlinewidth": 0,
             "ticks": ""
            },
            "colorscale": [
             [
              0,
              "#0d0887"
             ],
             [
              0.1111111111111111,
              "#46039f"
             ],
             [
              0.2222222222222222,
              "#7201a8"
             ],
             [
              0.3333333333333333,
              "#9c179e"
             ],
             [
              0.4444444444444444,
              "#bd3786"
             ],
             [
              0.5555555555555556,
              "#d8576b"
             ],
             [
              0.6666666666666666,
              "#ed7953"
             ],
             [
              0.7777777777777778,
              "#fb9f3a"
             ],
             [
              0.8888888888888888,
              "#fdca26"
             ],
             [
              1,
              "#f0f921"
             ]
            ],
            "type": "histogram2d"
           }
          ],
          "histogram2dcontour": [
           {
            "colorbar": {
             "outlinewidth": 0,
             "ticks": ""
            },
            "colorscale": [
             [
              0,
              "#0d0887"
             ],
             [
              0.1111111111111111,
              "#46039f"
             ],
             [
              0.2222222222222222,
              "#7201a8"
             ],
             [
              0.3333333333333333,
              "#9c179e"
             ],
             [
              0.4444444444444444,
              "#bd3786"
             ],
             [
              0.5555555555555556,
              "#d8576b"
             ],
             [
              0.6666666666666666,
              "#ed7953"
             ],
             [
              0.7777777777777778,
              "#fb9f3a"
             ],
             [
              0.8888888888888888,
              "#fdca26"
             ],
             [
              1,
              "#f0f921"
             ]
            ],
            "type": "histogram2dcontour"
           }
          ],
          "mesh3d": [
           {
            "colorbar": {
             "outlinewidth": 0,
             "ticks": ""
            },
            "type": "mesh3d"
           }
          ],
          "parcoords": [
           {
            "line": {
             "colorbar": {
              "outlinewidth": 0,
              "ticks": ""
             }
            },
            "type": "parcoords"
           }
          ],
          "pie": [
           {
            "automargin": true,
            "type": "pie"
           }
          ],
          "scatter": [
           {
            "marker": {
             "colorbar": {
              "outlinewidth": 0,
              "ticks": ""
             }
            },
            "type": "scatter"
           }
          ],
          "scatter3d": [
           {
            "line": {
             "colorbar": {
              "outlinewidth": 0,
              "ticks": ""
             }
            },
            "marker": {
             "colorbar": {
              "outlinewidth": 0,
              "ticks": ""
             }
            },
            "type": "scatter3d"
           }
          ],
          "scattercarpet": [
           {
            "marker": {
             "colorbar": {
              "outlinewidth": 0,
              "ticks": ""
             }
            },
            "type": "scattercarpet"
           }
          ],
          "scattergeo": [
           {
            "marker": {
             "colorbar": {
              "outlinewidth": 0,
              "ticks": ""
             }
            },
            "type": "scattergeo"
           }
          ],
          "scattergl": [
           {
            "marker": {
             "colorbar": {
              "outlinewidth": 0,
              "ticks": ""
             }
            },
            "type": "scattergl"
           }
          ],
          "scattermapbox": [
           {
            "marker": {
             "colorbar": {
              "outlinewidth": 0,
              "ticks": ""
             }
            },
            "type": "scattermapbox"
           }
          ],
          "scatterpolar": [
           {
            "marker": {
             "colorbar": {
              "outlinewidth": 0,
              "ticks": ""
             }
            },
            "type": "scatterpolar"
           }
          ],
          "scatterpolargl": [
           {
            "marker": {
             "colorbar": {
              "outlinewidth": 0,
              "ticks": ""
             }
            },
            "type": "scatterpolargl"
           }
          ],
          "scatterternary": [
           {
            "marker": {
             "colorbar": {
              "outlinewidth": 0,
              "ticks": ""
             }
            },
            "type": "scatterternary"
           }
          ],
          "surface": [
           {
            "colorbar": {
             "outlinewidth": 0,
             "ticks": ""
            },
            "colorscale": [
             [
              0,
              "#0d0887"
             ],
             [
              0.1111111111111111,
              "#46039f"
             ],
             [
              0.2222222222222222,
              "#7201a8"
             ],
             [
              0.3333333333333333,
              "#9c179e"
             ],
             [
              0.4444444444444444,
              "#bd3786"
             ],
             [
              0.5555555555555556,
              "#d8576b"
             ],
             [
              0.6666666666666666,
              "#ed7953"
             ],
             [
              0.7777777777777778,
              "#fb9f3a"
             ],
             [
              0.8888888888888888,
              "#fdca26"
             ],
             [
              1,
              "#f0f921"
             ]
            ],
            "type": "surface"
           }
          ],
          "table": [
           {
            "cells": {
             "fill": {
              "color": "#EBF0F8"
             },
             "line": {
              "color": "white"
             }
            },
            "header": {
             "fill": {
              "color": "#C8D4E3"
             },
             "line": {
              "color": "white"
             }
            },
            "type": "table"
           }
          ]
         },
         "layout": {
          "annotationdefaults": {
           "arrowcolor": "#2a3f5f",
           "arrowhead": 0,
           "arrowwidth": 1
          },
          "coloraxis": {
           "colorbar": {
            "outlinewidth": 0,
            "ticks": ""
           }
          },
          "colorscale": {
           "diverging": [
            [
             0,
             "#8e0152"
            ],
            [
             0.1,
             "#c51b7d"
            ],
            [
             0.2,
             "#de77ae"
            ],
            [
             0.3,
             "#f1b6da"
            ],
            [
             0.4,
             "#fde0ef"
            ],
            [
             0.5,
             "#f7f7f7"
            ],
            [
             0.6,
             "#e6f5d0"
            ],
            [
             0.7,
             "#b8e186"
            ],
            [
             0.8,
             "#7fbc41"
            ],
            [
             0.9,
             "#4d9221"
            ],
            [
             1,
             "#276419"
            ]
           ],
           "sequential": [
            [
             0,
             "#0d0887"
            ],
            [
             0.1111111111111111,
             "#46039f"
            ],
            [
             0.2222222222222222,
             "#7201a8"
            ],
            [
             0.3333333333333333,
             "#9c179e"
            ],
            [
             0.4444444444444444,
             "#bd3786"
            ],
            [
             0.5555555555555556,
             "#d8576b"
            ],
            [
             0.6666666666666666,
             "#ed7953"
            ],
            [
             0.7777777777777778,
             "#fb9f3a"
            ],
            [
             0.8888888888888888,
             "#fdca26"
            ],
            [
             1,
             "#f0f921"
            ]
           ],
           "sequentialminus": [
            [
             0,
             "#0d0887"
            ],
            [
             0.1111111111111111,
             "#46039f"
            ],
            [
             0.2222222222222222,
             "#7201a8"
            ],
            [
             0.3333333333333333,
             "#9c179e"
            ],
            [
             0.4444444444444444,
             "#bd3786"
            ],
            [
             0.5555555555555556,
             "#d8576b"
            ],
            [
             0.6666666666666666,
             "#ed7953"
            ],
            [
             0.7777777777777778,
             "#fb9f3a"
            ],
            [
             0.8888888888888888,
             "#fdca26"
            ],
            [
             1,
             "#f0f921"
            ]
           ]
          },
          "colorway": [
           "#636efa",
           "#EF553B",
           "#00cc96",
           "#ab63fa",
           "#FFA15A",
           "#19d3f3",
           "#FF6692",
           "#B6E880",
           "#FF97FF",
           "#FECB52"
          ],
          "font": {
           "color": "#2a3f5f"
          },
          "geo": {
           "bgcolor": "white",
           "lakecolor": "white",
           "landcolor": "#E5ECF6",
           "showlakes": true,
           "showland": true,
           "subunitcolor": "white"
          },
          "hoverlabel": {
           "align": "left"
          },
          "hovermode": "closest",
          "mapbox": {
           "style": "light"
          },
          "paper_bgcolor": "white",
          "plot_bgcolor": "#E5ECF6",
          "polar": {
           "angularaxis": {
            "gridcolor": "white",
            "linecolor": "white",
            "ticks": ""
           },
           "bgcolor": "#E5ECF6",
           "radialaxis": {
            "gridcolor": "white",
            "linecolor": "white",
            "ticks": ""
           }
          },
          "scene": {
           "xaxis": {
            "backgroundcolor": "#E5ECF6",
            "gridcolor": "white",
            "gridwidth": 2,
            "linecolor": "white",
            "showbackground": true,
            "ticks": "",
            "zerolinecolor": "white"
           },
           "yaxis": {
            "backgroundcolor": "#E5ECF6",
            "gridcolor": "white",
            "gridwidth": 2,
            "linecolor": "white",
            "showbackground": true,
            "ticks": "",
            "zerolinecolor": "white"
           },
           "zaxis": {
            "backgroundcolor": "#E5ECF6",
            "gridcolor": "white",
            "gridwidth": 2,
            "linecolor": "white",
            "showbackground": true,
            "ticks": "",
            "zerolinecolor": "white"
           }
          },
          "shapedefaults": {
           "line": {
            "color": "#2a3f5f"
           }
          },
          "ternary": {
           "aaxis": {
            "gridcolor": "white",
            "linecolor": "white",
            "ticks": ""
           },
           "baxis": {
            "gridcolor": "white",
            "linecolor": "white",
            "ticks": ""
           },
           "bgcolor": "#E5ECF6",
           "caxis": {
            "gridcolor": "white",
            "linecolor": "white",
            "ticks": ""
           }
          },
          "title": {
           "x": 0.05
          },
          "xaxis": {
           "automargin": true,
           "gridcolor": "white",
           "linecolor": "white",
           "ticks": "",
           "title": {
            "standoff": 15
           },
           "zerolinecolor": "white",
           "zerolinewidth": 2
          },
          "yaxis": {
           "automargin": true,
           "gridcolor": "white",
           "linecolor": "white",
           "ticks": "",
           "title": {
            "standoff": 15
           },
           "zerolinecolor": "white",
           "zerolinewidth": 2
          }
         }
        },
        "title": {
         "text": "A plot showing the relationship between min, mean, max temperature, snowfall and precipitation by year."
        },
        "xaxis": {
         "anchor": "y",
         "domain": [
          0,
          1
         ],
         "showgrid": false,
         "title": {
          "text": "YR"
         }
        },
        "yaxis": {
         "anchor": "x",
         "domain": [
          0,
          1
         ],
         "showgrid": false,
         "title": {
          "text": "value"
         }
        }
       }
      },
      "text/html": [
       "<div>\n",
       "        \n",
       "        \n",
       "            <div id=\"89b3678c-bf3f-4a03-bcb3-0a6b18b7db55\" class=\"plotly-graph-div\" style=\"height:525px; width:100%;\"></div>\n",
       "            <script type=\"text/javascript\">\n",
       "                require([\"plotly\"], function(Plotly) {\n",
       "                    window.PLOTLYENV=window.PLOTLYENV || {};\n",
       "                    \n",
       "                if (document.getElementById(\"89b3678c-bf3f-4a03-bcb3-0a6b18b7db55\")) {\n",
       "                    Plotly.newPlot(\n",
       "                        '89b3678c-bf3f-4a03-bcb3-0a6b18b7db55',\n",
       "                        [{\"alignmentgroup\": \"True\", \"hovertemplate\": \"variable=Snowfall<br>YR=%{x}<br>value=%{y}<extra></extra>\", \"legendgroup\": \"Snowfall\", \"marker\": {\"color\": \"#636efa\"}, \"name\": \"Snowfall\", \"offsetgroup\": \"Snowfall\", \"orientation\": \"v\", \"showlegend\": true, \"textposition\": \"auto\", \"type\": \"bar\", \"x\": [40, 41, 42, 43, 44, 45], \"xaxis\": \"x\", \"y\": [0.0, 0.11766677841099564, 0.2082442748091603, 0.33824329576369994, 0.27717324252967157, 0.20609788013609004], \"yaxis\": \"y\"}, {\"alignmentgroup\": \"True\", \"hovertemplate\": \"variable=Precip<br>YR=%{x}<br>value=%{y}<extra></extra>\", \"legendgroup\": \"Precip\", \"marker\": {\"color\": \"#EF553B\"}, \"name\": \"Precip\", \"offsetgroup\": \"Precip\", \"orientation\": \"v\", \"showlegend\": true, \"textposition\": \"auto\", \"type\": \"bar\", \"x\": [40, 41, 42, 43, 44, 45], \"xaxis\": \"x\", \"y\": [2.179036827195467, 2.693597049949715, 3.485801526717557, 3.664516129032258, 3.656870728156538, 3.466893483381314], \"yaxis\": \"y\"}, {\"alignmentgroup\": \"True\", \"hovertemplate\": \"variable=MinTemp<br>YR=%{x}<br>value=%{y}<extra></extra>\", \"legendgroup\": \"MinTemp\", \"marker\": {\"color\": \"#00cc96\"}, \"name\": \"MinTemp\", \"offsetgroup\": \"MinTemp\", \"orientation\": \"v\", \"showlegend\": true, \"textposition\": \"auto\", \"type\": \"bar\", \"x\": [40, 41, 42, 43, 44, 45], \"xaxis\": \"x\", \"y\": [20.1342776203966, 18.26416359369762, 16.291501272264632, 17.823435678196656, 17.353517408147656, 17.189295995812614], \"yaxis\": \"y\"}, {\"alignmentgroup\": \"True\", \"hovertemplate\": \"variable=MeanTemp<br>YR=%{x}<br>value=%{y}<extra></extra>\", \"legendgroup\": \"MeanTemp\", \"marker\": {\"color\": \"#ab63fa\"}, \"name\": \"MeanTemp\", \"offsetgroup\": \"MeanTemp\", \"orientation\": \"v\", \"showlegend\": true, \"textposition\": \"auto\", \"type\": \"bar\", \"x\": [40, 41, 42, 43, 44, 45], \"xaxis\": \"x\", \"y\": [24.142209631728047, 21.936976198457927, 20.013129770992368, 22.406062961523514, 22.069065067732623, 21.932426066474743], \"yaxis\": \"y\"}, {\"alignmentgroup\": \"True\", \"hovertemplate\": \"variable=MaxTemp<br>YR=%{x}<br>value=%{y}<extra></extra>\", \"legendgroup\": \"MaxTemp\", \"marker\": {\"color\": \"#FFA15A\"}, \"name\": \"MaxTemp\", \"offsetgroup\": \"MaxTemp\", \"orientation\": \"v\", \"showlegend\": true, \"textposition\": \"auto\", \"type\": \"bar\", \"x\": [40, 41, 42, 43, 44, 45], \"xaxis\": \"x\", \"y\": [28.18243626062323, 25.622192423734496, 23.890178117048347, 27.084181888845706, 26.868285340637104, 26.774666317717873], \"yaxis\": \"y\"}],\n",
       "                        {\"barmode\": \"group\", \"legend\": {\"title\": {\"text\": \"variable\"}, \"tracegroupgap\": 0}, \"margin\": {\"t\": 60}, \"template\": {\"data\": {\"bar\": [{\"error_x\": {\"color\": \"#2a3f5f\"}, \"error_y\": {\"color\": \"#2a3f5f\"}, \"marker\": {\"line\": {\"color\": \"#E5ECF6\", \"width\": 0.5}}, \"type\": \"bar\"}], \"barpolar\": [{\"marker\": {\"line\": {\"color\": \"#E5ECF6\", \"width\": 0.5}}, \"type\": \"barpolar\"}], \"carpet\": [{\"aaxis\": {\"endlinecolor\": \"#2a3f5f\", \"gridcolor\": \"white\", \"linecolor\": \"white\", \"minorgridcolor\": \"white\", \"startlinecolor\": \"#2a3f5f\"}, \"baxis\": {\"endlinecolor\": \"#2a3f5f\", \"gridcolor\": \"white\", \"linecolor\": \"white\", \"minorgridcolor\": \"white\", \"startlinecolor\": \"#2a3f5f\"}, \"type\": \"carpet\"}], \"choropleth\": [{\"colorbar\": {\"outlinewidth\": 0, \"ticks\": \"\"}, \"type\": \"choropleth\"}], \"contour\": [{\"colorbar\": {\"outlinewidth\": 0, \"ticks\": \"\"}, \"colorscale\": [[0.0, \"#0d0887\"], [0.1111111111111111, \"#46039f\"], [0.2222222222222222, \"#7201a8\"], [0.3333333333333333, \"#9c179e\"], [0.4444444444444444, \"#bd3786\"], [0.5555555555555556, \"#d8576b\"], [0.6666666666666666, \"#ed7953\"], [0.7777777777777778, \"#fb9f3a\"], [0.8888888888888888, \"#fdca26\"], [1.0, \"#f0f921\"]], \"type\": \"contour\"}], \"contourcarpet\": [{\"colorbar\": {\"outlinewidth\": 0, \"ticks\": \"\"}, \"type\": \"contourcarpet\"}], \"heatmap\": [{\"colorbar\": {\"outlinewidth\": 0, \"ticks\": \"\"}, \"colorscale\": [[0.0, \"#0d0887\"], [0.1111111111111111, \"#46039f\"], [0.2222222222222222, \"#7201a8\"], [0.3333333333333333, \"#9c179e\"], [0.4444444444444444, \"#bd3786\"], [0.5555555555555556, \"#d8576b\"], [0.6666666666666666, \"#ed7953\"], [0.7777777777777778, \"#fb9f3a\"], [0.8888888888888888, \"#fdca26\"], [1.0, \"#f0f921\"]], \"type\": \"heatmap\"}], \"heatmapgl\": [{\"colorbar\": {\"outlinewidth\": 0, \"ticks\": \"\"}, \"colorscale\": [[0.0, \"#0d0887\"], [0.1111111111111111, \"#46039f\"], [0.2222222222222222, \"#7201a8\"], [0.3333333333333333, \"#9c179e\"], [0.4444444444444444, \"#bd3786\"], [0.5555555555555556, \"#d8576b\"], [0.6666666666666666, \"#ed7953\"], [0.7777777777777778, \"#fb9f3a\"], [0.8888888888888888, \"#fdca26\"], [1.0, \"#f0f921\"]], \"type\": \"heatmapgl\"}], \"histogram\": [{\"marker\": {\"colorbar\": {\"outlinewidth\": 0, \"ticks\": \"\"}}, \"type\": \"histogram\"}], \"histogram2d\": [{\"colorbar\": {\"outlinewidth\": 0, \"ticks\": \"\"}, \"colorscale\": [[0.0, \"#0d0887\"], [0.1111111111111111, \"#46039f\"], [0.2222222222222222, \"#7201a8\"], [0.3333333333333333, \"#9c179e\"], [0.4444444444444444, \"#bd3786\"], [0.5555555555555556, \"#d8576b\"], [0.6666666666666666, \"#ed7953\"], [0.7777777777777778, \"#fb9f3a\"], [0.8888888888888888, \"#fdca26\"], [1.0, \"#f0f921\"]], \"type\": \"histogram2d\"}], \"histogram2dcontour\": [{\"colorbar\": {\"outlinewidth\": 0, \"ticks\": \"\"}, \"colorscale\": [[0.0, \"#0d0887\"], [0.1111111111111111, \"#46039f\"], [0.2222222222222222, \"#7201a8\"], [0.3333333333333333, \"#9c179e\"], [0.4444444444444444, \"#bd3786\"], [0.5555555555555556, \"#d8576b\"], [0.6666666666666666, \"#ed7953\"], [0.7777777777777778, \"#fb9f3a\"], [0.8888888888888888, \"#fdca26\"], [1.0, \"#f0f921\"]], \"type\": \"histogram2dcontour\"}], \"mesh3d\": [{\"colorbar\": {\"outlinewidth\": 0, \"ticks\": \"\"}, \"type\": \"mesh3d\"}], \"parcoords\": [{\"line\": {\"colorbar\": {\"outlinewidth\": 0, \"ticks\": \"\"}}, \"type\": \"parcoords\"}], \"pie\": [{\"automargin\": true, \"type\": \"pie\"}], \"scatter\": [{\"marker\": {\"colorbar\": {\"outlinewidth\": 0, \"ticks\": \"\"}}, \"type\": \"scatter\"}], \"scatter3d\": [{\"line\": {\"colorbar\": {\"outlinewidth\": 0, \"ticks\": \"\"}}, \"marker\": {\"colorbar\": {\"outlinewidth\": 0, \"ticks\": \"\"}}, \"type\": \"scatter3d\"}], \"scattercarpet\": [{\"marker\": {\"colorbar\": {\"outlinewidth\": 0, \"ticks\": \"\"}}, \"type\": \"scattercarpet\"}], \"scattergeo\": [{\"marker\": {\"colorbar\": {\"outlinewidth\": 0, \"ticks\": \"\"}}, \"type\": \"scattergeo\"}], \"scattergl\": [{\"marker\": {\"colorbar\": {\"outlinewidth\": 0, \"ticks\": \"\"}}, \"type\": \"scattergl\"}], \"scattermapbox\": [{\"marker\": {\"colorbar\": {\"outlinewidth\": 0, \"ticks\": \"\"}}, \"type\": \"scattermapbox\"}], \"scatterpolar\": [{\"marker\": {\"colorbar\": {\"outlinewidth\": 0, \"ticks\": \"\"}}, \"type\": \"scatterpolar\"}], \"scatterpolargl\": [{\"marker\": {\"colorbar\": {\"outlinewidth\": 0, \"ticks\": \"\"}}, \"type\": \"scatterpolargl\"}], \"scatterternary\": [{\"marker\": {\"colorbar\": {\"outlinewidth\": 0, \"ticks\": \"\"}}, \"type\": \"scatterternary\"}], \"surface\": [{\"colorbar\": {\"outlinewidth\": 0, \"ticks\": \"\"}, \"colorscale\": [[0.0, \"#0d0887\"], [0.1111111111111111, \"#46039f\"], [0.2222222222222222, \"#7201a8\"], [0.3333333333333333, \"#9c179e\"], [0.4444444444444444, \"#bd3786\"], [0.5555555555555556, \"#d8576b\"], [0.6666666666666666, \"#ed7953\"], [0.7777777777777778, \"#fb9f3a\"], [0.8888888888888888, \"#fdca26\"], [1.0, \"#f0f921\"]], \"type\": \"surface\"}], \"table\": [{\"cells\": {\"fill\": {\"color\": \"#EBF0F8\"}, \"line\": {\"color\": \"white\"}}, \"header\": {\"fill\": {\"color\": \"#C8D4E3\"}, \"line\": {\"color\": \"white\"}}, \"type\": \"table\"}]}, \"layout\": {\"annotationdefaults\": {\"arrowcolor\": \"#2a3f5f\", \"arrowhead\": 0, \"arrowwidth\": 1}, \"coloraxis\": {\"colorbar\": {\"outlinewidth\": 0, \"ticks\": \"\"}}, \"colorscale\": {\"diverging\": [[0, \"#8e0152\"], [0.1, \"#c51b7d\"], [0.2, \"#de77ae\"], [0.3, \"#f1b6da\"], [0.4, \"#fde0ef\"], [0.5, \"#f7f7f7\"], [0.6, \"#e6f5d0\"], [0.7, \"#b8e186\"], [0.8, \"#7fbc41\"], [0.9, \"#4d9221\"], [1, \"#276419\"]], \"sequential\": [[0.0, \"#0d0887\"], [0.1111111111111111, \"#46039f\"], [0.2222222222222222, \"#7201a8\"], [0.3333333333333333, \"#9c179e\"], [0.4444444444444444, \"#bd3786\"], [0.5555555555555556, \"#d8576b\"], [0.6666666666666666, \"#ed7953\"], [0.7777777777777778, \"#fb9f3a\"], [0.8888888888888888, \"#fdca26\"], [1.0, \"#f0f921\"]], \"sequentialminus\": [[0.0, \"#0d0887\"], [0.1111111111111111, \"#46039f\"], [0.2222222222222222, \"#7201a8\"], [0.3333333333333333, \"#9c179e\"], [0.4444444444444444, \"#bd3786\"], [0.5555555555555556, \"#d8576b\"], [0.6666666666666666, \"#ed7953\"], [0.7777777777777778, \"#fb9f3a\"], [0.8888888888888888, \"#fdca26\"], [1.0, \"#f0f921\"]]}, \"colorway\": [\"#636efa\", \"#EF553B\", \"#00cc96\", \"#ab63fa\", \"#FFA15A\", \"#19d3f3\", \"#FF6692\", \"#B6E880\", \"#FF97FF\", \"#FECB52\"], \"font\": {\"color\": \"#2a3f5f\"}, \"geo\": {\"bgcolor\": \"white\", \"lakecolor\": \"white\", \"landcolor\": \"#E5ECF6\", \"showlakes\": true, \"showland\": true, \"subunitcolor\": \"white\"}, \"hoverlabel\": {\"align\": \"left\"}, \"hovermode\": \"closest\", \"mapbox\": {\"style\": \"light\"}, \"paper_bgcolor\": \"white\", \"plot_bgcolor\": \"#E5ECF6\", \"polar\": {\"angularaxis\": {\"gridcolor\": \"white\", \"linecolor\": \"white\", \"ticks\": \"\"}, \"bgcolor\": \"#E5ECF6\", \"radialaxis\": {\"gridcolor\": \"white\", \"linecolor\": \"white\", \"ticks\": \"\"}}, \"scene\": {\"xaxis\": {\"backgroundcolor\": \"#E5ECF6\", \"gridcolor\": \"white\", \"gridwidth\": 2, \"linecolor\": \"white\", \"showbackground\": true, \"ticks\": \"\", \"zerolinecolor\": \"white\"}, \"yaxis\": {\"backgroundcolor\": \"#E5ECF6\", \"gridcolor\": \"white\", \"gridwidth\": 2, \"linecolor\": \"white\", \"showbackground\": true, \"ticks\": \"\", \"zerolinecolor\": \"white\"}, \"zaxis\": {\"backgroundcolor\": \"#E5ECF6\", \"gridcolor\": \"white\", \"gridwidth\": 2, \"linecolor\": \"white\", \"showbackground\": true, \"ticks\": \"\", \"zerolinecolor\": \"white\"}}, \"shapedefaults\": {\"line\": {\"color\": \"#2a3f5f\"}}, \"ternary\": {\"aaxis\": {\"gridcolor\": \"white\", \"linecolor\": \"white\", \"ticks\": \"\"}, \"baxis\": {\"gridcolor\": \"white\", \"linecolor\": \"white\", \"ticks\": \"\"}, \"bgcolor\": \"#E5ECF6\", \"caxis\": {\"gridcolor\": \"white\", \"linecolor\": \"white\", \"ticks\": \"\"}}, \"title\": {\"x\": 0.05}, \"xaxis\": {\"automargin\": true, \"gridcolor\": \"white\", \"linecolor\": \"white\", \"ticks\": \"\", \"title\": {\"standoff\": 15}, \"zerolinecolor\": \"white\", \"zerolinewidth\": 2}, \"yaxis\": {\"automargin\": true, \"gridcolor\": \"white\", \"linecolor\": \"white\", \"ticks\": \"\", \"title\": {\"standoff\": 15}, \"zerolinecolor\": \"white\", \"zerolinewidth\": 2}}}, \"title\": {\"text\": \"A plot showing the relationship between min, mean, max temperature, snowfall and precipitation by year.\"}, \"xaxis\": {\"anchor\": \"y\", \"domain\": [0.0, 1.0], \"showgrid\": false, \"title\": {\"text\": \"YR\"}}, \"yaxis\": {\"anchor\": \"x\", \"domain\": [0.0, 1.0], \"showgrid\": false, \"title\": {\"text\": \"value\"}}},\n",
       "                        {\"responsive\": true}\n",
       "                    ).then(function(){\n",
       "                            \n",
       "var gd = document.getElementById('89b3678c-bf3f-4a03-bcb3-0a6b18b7db55');\n",
       "var x = new MutationObserver(function (mutations, observer) {{\n",
       "        var display = window.getComputedStyle(gd).display;\n",
       "        if (!display || display === 'none') {{\n",
       "            console.log([gd, 'removed!']);\n",
       "            Plotly.purge(gd);\n",
       "            observer.disconnect();\n",
       "        }}\n",
       "}});\n",
       "\n",
       "// Listen for the removal of the full notebook cells\n",
       "var notebookContainer = gd.closest('#notebook-container');\n",
       "if (notebookContainer) {{\n",
       "    x.observe(notebookContainer, {childList: true});\n",
       "}}\n",
       "\n",
       "// Listen for the clearing of the current output cell\n",
       "var outputEl = gd.closest('.output');\n",
       "if (outputEl) {{\n",
       "    x.observe(outputEl, {childList: true});\n",
       "}}\n",
       "\n",
       "                        })\n",
       "                };\n",
       "                });\n",
       "            </script>\n",
       "        </div>"
      ]
     },
     "metadata": {},
     "output_type": "display_data"
    }
   ],
   "source": [
    "fig=px.bar(df_yr, x=\"YR\", y=[\"Snowfall\", \"Precip\", \"MinTemp\", \"MeanTemp\",\"MaxTemp\"])\n",
    "fig.update_layout(barmode=\"group\",xaxis_showgrid=False,\n",
    "                  yaxis_showgrid=False, \n",
    "                  title=\"A plot showing the relationship between min, mean, max temperature, snowfall and precipitation by year.\")\n",
    "fig.show()"
   ]
  },
  {
   "cell_type": "code",
   "execution_count": 43,
   "metadata": {},
   "outputs": [
    {
     "data": {
      "application/vnd.plotly.v1+json": {
       "config": {
        "plotlyServerURL": "https://plot.ly"
       },
       "data": [
        {
         "customdata": [
          [
           "AL",
           33013
          ],
          [
           "AL",
           33031
          ],
          [
           "AL",
           33023
          ],
          [
           "AL",
           33044
          ],
          [
           "AL",
           12001
          ],
          [
           "AT",
           11604
          ],
          [
           "AU",
           82502
          ],
          [
           "AU",
           82501
          ],
          [
           "AU",
           82506
          ],
          [
           "AU",
           82402
          ],
          [
           "AU",
           82403
          ],
          [
           "AU",
           81404
          ],
          [
           "AU",
           82404
          ],
          [
           "AU",
           82405
          ],
          [
           "AU",
           82503
          ],
          [
           "AZ",
           13201
          ],
          [
           "BA",
           12706
          ],
          [
           "BE",
           13601
          ],
          [
           "BN",
           32503
          ],
          [
           "BR",
           11501
          ],
          [
           "BZ",
           10505
          ],
          [
           "BZ",
           50301
          ],
          [
           "BZ",
           50302
          ],
          [
           "BZ",
           50304
          ],
          [
           "BZ",
           50303
          ],
          [
           "BZ",
           50403
          ],
          [
           "BZ",
           50401
          ],
          [
           "CS",
           10807
          ],
          [
           "CS",
           10806
          ],
          [
           "CT",
           60701
          ],
          [
           "CU",
           12701
          ],
          [
           "CU",
           12801
          ],
          [
           "DR",
           11615
          ],
          [
           "DY",
           31401
          ],
          [
           "EG",
           32301
          ],
          [
           "EG",
           33205
          ],
          [
           "EG",
           33303
          ],
          [
           "EQ",
           50801
          ],
          [
           "ER",
           32504
          ],
          [
           "ET",
           31302
          ],
          [
           "FJ",
           81702
          ],
          [
           "FR",
           34017
          ],
          [
           "FR",
           34002
          ],
          [
           "FR",
           34003
          ],
          [
           "FR",
           34012
          ],
          [
           "FR",
           34013
          ],
          [
           "FR",
           34022
          ],
          [
           "FR",
           34005
          ],
          [
           "GH",
           10001
          ],
          [
           "GL",
           16405
          ],
          [
           "GL",
           16407
          ],
          [
           "GL",
           16504
          ],
          [
           "GR",
           33206
          ],
          [
           "GU",
           11901
          ],
          [
           "GU",
           11902
          ],
          [
           "GY",
           10502
          ],
          [
           "HA",
           11701
          ],
          [
           "HI",
           22509
          ],
          [
           "HI",
           22504
          ],
          [
           "HI",
           21501
          ],
          [
           "HI",
           22507
          ],
          [
           "HI",
           22502
          ],
          [
           "HI",
           22508
          ],
          [
           "IL",
           16101
          ],
          [
           "IL",
           16201
          ],
          [
           "IL",
           16202
          ],
          [
           "IN",
           32701
          ],
          [
           "IN",
           32801
          ],
          [
           "IN",
           31701
          ],
          [
           "IN",
           32815
          ],
          [
           "IN",
           32907
          ],
          [
           "IN",
           32803
          ],
          [
           "IN",
           32805
          ],
          [
           "IN",
           32702
          ],
          [
           "IN",
           32904
          ],
          [
           "IN",
           32812
          ],
          [
           "IN",
           32906
          ],
          [
           "IQ",
           33405
          ],
          [
           "IQ",
           33305
          ],
          [
           "IR",
           33401
          ],
          [
           "IR",
           33501
          ],
          [
           "IR",
           33406
          ],
          [
           "IY",
           34123
          ],
          [
           "IY",
           34101
          ],
          [
           "IY",
           34109
          ],
          [
           "IY",
           33019
          ],
          [
           "IY",
           34150
          ],
          [
           "IY",
           33014
          ],
          [
           "IY",
           34139
          ],
          [
           "IY",
           34104
          ],
          [
           "IY",
           34105
          ],
          [
           "IY",
           33111
          ],
          [
           "IY",
           34111
          ],
          [
           "IY",
           34113
          ],
          [
           "IY",
           33117
          ],
          [
           "IY",
           34147
          ],
          [
           "JM",
           11704
          ],
          [
           "JP",
           44401
          ],
          [
           "JP",
           42204
          ],
          [
           "JP",
           43305
          ],
          [
           "JP",
           42206
          ],
          [
           "JP",
           43302
          ],
          [
           "JP",
           43307
          ],
          [
           "KO",
           43201
          ],
          [
           "KU",
           61501
          ],
          [
           "LC",
           11601
          ],
          [
           "LI",
           10002
          ],
          [
           "LI",
           10101
          ],
          [
           "LI",
           10102
          ],
          [
           "LY",
           33123
          ],
          [
           "MC",
           13002
          ],
          [
           "MC",
           13005
          ],
          [
           "MC",
           13007
          ],
          [
           "MC",
           13013
          ],
          [
           "MT",
           12101
          ],
          [
           "NG",
           80509
          ],
          [
           "NG",
           80412
          ],
          [
           "NG",
           80425
          ],
          [
           "NG",
           80411
          ],
          [
           "NH",
           81601
          ],
          [
           "NI",
           30001
          ],
          [
           "NI",
           31001
          ],
          [
           "NI",
           31101
          ],
          [
           "NK",
           11801
          ],
          [
           "NU",
           11606
          ],
          [
           "NZ",
           20501
          ],
          [
           "OM",
           32501
          ],
          [
           "OM",
           31501
          ],
          [
           "PF",
           61502
          ],
          [
           "PH",
           41207
          ],
          [
           "PH",
           41204
          ],
          [
           "PI",
           42401
          ],
          [
           "PI",
           40601
          ],
          [
           "PI",
           20602
          ],
          [
           "PK",
           32603
          ],
          [
           "PK",
           32602
          ],
          [
           "PK",
           32601
          ],
          [
           "PM",
           10701
          ],
          [
           "PM",
           10804
          ],
          [
           "PM",
           10718
          ],
          [
           "PM",
           10705
          ],
          [
           "PM",
           10704
          ],
          [
           "PM",
           10802
          ],
          [
           "PM",
           10703
          ],
          [
           "PM",
           10803
          ],
          [
           "PQ",
           15605
          ],
          [
           "PQ",
           15604
          ],
          [
           "PR",
           50802
          ],
          [
           "SG",
           11101
          ],
          [
           "SG",
           11103
          ],
          [
           "SO",
           80510
          ],
          [
           "SO",
           80504
          ],
          [
           "SP",
           34018
          ],
          [
           "TD",
           11610
          ],
          [
           "TI",
           12702
          ],
          [
           "TO",
           62701
          ],
          [
           "TS",
           33109
          ],
          [
           "TS",
           33121
          ],
          [
           "TS",
           33003
          ],
          [
           "TU",
           33307
          ],
          [
           "UK",
           15027
          ]
         ],
         "geo": "geo",
         "hovertemplate": "<b>%{hovertext}</b><br><br>Latitude=%{lat}<br>Longitude=%{lon}<br>STATE/COUNTRY ID=%{customdata[0]}<br>WBAN=%{customdata[1]}<extra></extra>",
         "hovertext": [
          "AIN EL",
          "LA SENIA",
          "MAISON BLANCHE",
          "TELERGMA",
          "TINDOUF",
          "ST JOHNS/COOLIDGE FIELD",
          "AMBERLY",
          "ARCHER",
          "BRISBANE",
          "CHARLEVILLE",
          "CLONCURRY",
          "HORN ISLAND",
          "LONGREACH",
          "MACKAY",
          "ROCKHAMPTON",
          "LAJES",
          "GREAT EXUMA ISLAND",
          "BERMUDA",
          "BAHREIN ISLAND",
          "CHRISTS CHURCH",
          "CLEVELANDIA",
          "FERNANDO DE NORONHA",
          "FORTALEZA",
          "PARNAMIRIM",
          "RECIFE",
          "SAO LUIZ",
          "VAL DE CANS",
          "PARRITA",
          "SAN JOSE",
          "CANTON ISLAND",
          "CAMAGUEY",
          "SAN ANTONIO",
          "CIUDAD TRUJILLO",
          "SHEIKH OTHMAN",
          "LUXOR",
          "MERSA MATRUH",
          "PAYNE",
          "SALINAS",
          "SHARJAH",
          "ERITREA",
          "NANDI/AAF",
          "BASTIA/CORSICA",
          "BASTIA/CORSICA",
          "C DELORO/CORSICA",
          "MARSEILLE",
          "MIGLIACCIARO/CORSICA",
          "PARIS/ORLY",
          "PORTETTA/CORSICA",
          "ACCRA",
          "NARSARSSUAK",
          "SIMIUTAK",
          "SONDRESTROM",
          "ATHENS",
          "GUATEMALA CITY",
          "SAN JOSE",
          "GEORGETOWN",
          "PORT AU PRINCE",
          "BURNS FIELD/AAF",
          "HICKAM/AFB",
          "LYMAN FIELD/AAF",
          "MOKULEIA FIELD/AAF",
          "MOLOKAI/AP 524",
          "WHEELER/AFB 810.1",
          "CAMP DELTA",
          "KEFLAVIK",
          "REYKJAVIK",
          "AGRA",
          "BAMRAULI",
          "BANGALORE",
          "BARRACKPORE",
          "BINDUKURI",
          "CHAKULIA",
          "GAYA",
          "JODHPUR",
          "JORHAT",
          "KALAIKUNDA",
          "MOHANBERI",
          "HABBANIYA",
          "RUTBA",
          "ABADAN",
          "AMIRABAD POST",
          "CAMP PARKS",
          "AMENDOLA",
          "AMENDOLA/MU 9",
          "BARI",
          "CAGLIARI/SARDINIA",
          "CIAMPINO",
          "DECIMOMANNO",
          "FLORENCE/MU 1+4+10",
          "FOGGIA",
          "FOGGIA/MU 18",
          "FONTANA",
          "LECCE/MU 2",
          "NAPLES",
          "PALERMO/MU 10",
          "PISA",
          "KINGSTON",
          "CHITOSE HOKKAIDO",
          "KADENA/AB",
          "KANOYA",
          "OKINAWA/RYUKYU ISLANDS",
          "OSAKA",
          "TACHIKAWA",
          "SEOUL/ROK K-14",
          "AMURI/FIELD AAF",
          "ST LUCIA/ISLAND",
          "CAPE PALMAS",
          "FISHERMANS LAKE",
          "MARSHALL/ROBERTS FIELD",
          "WHEELUS",
          "CASABLANCA/CAZES FIELD",
          "MARRAKECH",
          "OUJDA",
          "TOUAHAR",
          "ATAR",
          "BOUGAINVILLE/AAF",
          "FINSCHHAFEN/AAF",
          "JACKSON",
          "LAE/AAF",
          "ESPIRITU SANTO/AAF",
          "APAPA",
          "KANO",
          "MAIDUGURI",
          "MERCEDES",
          "WILLEMSTAD",
          "CHRISTMAS ISLAND/AAF",
          "MASIRAH ISLAND",
          "SALALAH",
          "BORA BORA/AAF",
          "CLARK",
          "MANILA/AAF",
          "IWO JIMA/AB",
          "KWAJALEIN/AFB",
          "PALMYRA ISLAND/LINE ISLANDS",
          "BHOLARI",
          "JIWANI",
          "KARACHI",
          "BALBOA/ALBROOK",
          "DAVID",
          "FORT KOBBE",
          "HOWARD",
          "JAQUE",
          "POCRI",
          "REY ISLAND",
          "RIO HATO",
          "KUUJJAUQ/AIRPORT",
          "MINGAN",
          "TALARA",
          "DAKAR/EKNES FIELD",
          "DAKAR/MALLARD FIELD",
          "BANIKA/AAF",
          "MUNDA/AAF",
          "ISTRES",
          "WALLER/BWI",
          "SOUTH CAICOS ISLAND",
          "TONGATABU ISLAND",
          "EL AQUINA",
          "EL DJEM",
          "SISI AHMED",
          "ADANA",
          "WARRINGTON"
         ],
         "lat": [
          36.38333333,
          35.61666667,
          36.71666667,
          36.11666667,
          27.68333333,
          17.11666667,
          -27.6,
          -27.58333333,
          -27.43333333,
          -26.41666667,
          -20.68333333,
          -10.6,
          -23.45,
          -21.16666667,
          -23.4,
          38.76666667,
          23.51666667,
          32.36666667,
          26.26666667,
          13.06666667,
          3.866666667,
          -3.833333333,
          -3.766666667,
          -5.9,
          -8.116666667,
          -2.583333333,
          -1.3833333330000002,
          9.516666667,
          9.9,
          -2.766666667,
          21.4,
          22.88333333,
          18.48333333,
          12.86666667,
          25.7,
          31.45,
          30.13333333,
          -2.2,
          25.35,
          15.28333333,
          -17.75,
          42.55,
          42.7,
          41.91666667,
          43.43333333,
          42,
          48.73333333,
          42.56666667,
          5.6,
          61.18333333,
          60.68333333,
          67.01666667,
          37.96666667,
          14.58333333,
          13.91666667,
          6.5,
          18.55,
          21.9,
          21.33333333,
          19.71666667,
          21.58333333,
          21.15,
          21.48333333,
          65.66666667,
          63.96666667,
          64.13333333,
          27.16666667,
          25.43333333,
          12.95,
          22.76666667,
          26.71666667,
          22.45,
          24.75,
          26.26666667,
          26.71666667,
          22.33333333,
          27.48333333,
          33.36666667,
          32.93333333,
          30.36666667,
          35.71666667,
          34.85,
          41.55,
          41.71666667,
          41.13333333,
          39.25,
          41.8,
          39.3,
          43.76666667,
          41.43333333,
          41.45,
          37.45,
          40.23333333,
          40.9,
          38.11666667,
          43.68333333,
          17.9,
          42.8,
          26.35,
          31.36666667,
          26.2,
          34.8,
          35.7,
          37.55,
          -18.83333333,
          13.73333333,
          4.366666667,
          6.75,
          6.233333332999999,
          32.9,
          33.58333333,
          31.65,
          34.75,
          34.2,
          20.46666667,
          -6.233333332999999,
          -6.6166666670000005,
          -9.45,
          -6.75,
          -15.5,
          6.45,
          12.05,
          11.85,
          12.13333333,
          12.18333333,
          1.983333333,
          20.65,
          17.05,
          -16.45,
          15.18333333,
          14.5,
          24.78333333,
          8.716666667,
          5.883333333,
          25.31666667,
          25.06666667,
          24.9,
          8.966666667,
          8.383333333,
          8.916666667000001,
          8.916666667000001,
          7.5,
          7.733333332999999,
          8.233333333,
          8.366666667,
          58.1,
          50.28333333,
          -4.533333333,
          14.71666667,
          14.75,
          -9.066666667,
          -8.333333332999999,
          43.5,
          10.61666667,
          21.48333333,
          -21.25,
          36.85,
          35.33333333,
          37.2,
          36.98333333,
          53.38333333
         ],
         "legendgroup": "",
         "lon": [
          6.65,
          0.583333333,
          3.216666667,
          6.416666667,
          -8.083333332999999,
          -61.73333333,
          152.81666669999996,
          153,
          153.1333333,
          146.2166667,
          140.58333330000002,
          142.16666669999995,
          144.06666669999996,
          149.3,
          150.5333333,
          -27.03333333,
          -75.73333333,
          -64.66666667,
          50.56666667,
          -59.58333333,
          -51.75,
          -32.48333333,
          -38.61666667,
          -35.3,
          -34.88333333,
          -44.23333333,
          -48.36666667,
          -84.45,
          -84,
          -171.75,
          -77.86666667,
          -82.63333333,
          -69.88333333,
          44.86666667,
          32.66666667,
          27.25,
          31.35,
          -81.08333333,
          55.45,
          38.9,
          177.3666667,
          9.433333333,
          9.366666667,
          8.75,
          5.266666667,
          9.45,
          2.366666667,
          9.333333332999999,
          -0.3,
          -45.36666667,
          -46.63333333,
          -50.7,
          23.78333333,
          -90.55,
          -90.83333333,
          -58.21666667,
          -72.35,
          -159.56666669999996,
          -157.9,
          -155.06666669999996,
          -158.2166667,
          -157.0333333,
          -158.05,
          -18.03333333,
          -22.61666667,
          -21.91666667,
          78.1,
          81.83333333,
          77.58333333,
          88.36666667,
          92.71666667,
          86.71666667,
          84.96666667,
          73.13333333,
          94.16666667,
          87.23333333,
          95.11666667,
          43.65,
          39.76666667,
          48.25,
          51.48333333,
          48.6,
          15.73333333,
          15.46666667,
          16.81666667,
          9.116666667,
          12.51666667,
          9.25,
          11.2,
          15.61666667,
          15.65,
          15.01666667,
          18.08333333,
          14.18333333,
          13.36666667,
          10.45,
          -77.18333333,
          141.55,
          127.8166667,
          130.9166667,
          127.5666667,
          135.3666667,
          139.41666669999998,
          126.7,
          -159.7833333,
          -60.85,
          -7.733333332999999,
          -11.26666667,
          -10.43333333,
          13.21666667,
          -7.5,
          -8.15,
          -1.9,
          -4.25,
          -13.03333333,
          155.1333333,
          147.85,
          147.2166667,
          146.93333330000004,
          167.2666667,
          3.433333333,
          8.5,
          13.13333333,
          -86.23333333,
          -68.96666667,
          -157.41666669999995,
          58.83333333,
          54.06666667,
          -151.7333333,
          120.5,
          121.0666667,
          141.2666667,
          167.7833333,
          -162.05,
          68.18333333,
          61.8,
          67.25,
          -79.5,
          -82.33333333,
          -79.63333333,
          -79.65,
          -78.01666667,
          -80,
          -78.08333333,
          -80,
          -68.03333333,
          -64.01666667,
          -81.01666667,
          -17.01666667,
          -17.05,
          159.0166667,
          157.0166667,
          4.083333333,
          -61.01666667,
          -71.05,
          -175,
          10.01666667,
          10.06666667,
          9.083333332999999,
          35.01666667,
          -2.05
         ],
         "marker": {
          "color": "#636efa"
         },
         "name": "",
         "showlegend": false,
         "type": "scattergeo"
        }
       ],
       "layout": {
        "geo": {
         "center": {},
         "domain": {
          "x": [
           0,
           1
          ],
          "y": [
           0,
           1
          ]
         }
        },
        "legend": {
         "tracegroupgap": 0
        },
        "template": {
         "data": {
          "bar": [
           {
            "error_x": {
             "color": "#2a3f5f"
            },
            "error_y": {
             "color": "#2a3f5f"
            },
            "marker": {
             "line": {
              "color": "#E5ECF6",
              "width": 0.5
             }
            },
            "type": "bar"
           }
          ],
          "barpolar": [
           {
            "marker": {
             "line": {
              "color": "#E5ECF6",
              "width": 0.5
             }
            },
            "type": "barpolar"
           }
          ],
          "carpet": [
           {
            "aaxis": {
             "endlinecolor": "#2a3f5f",
             "gridcolor": "white",
             "linecolor": "white",
             "minorgridcolor": "white",
             "startlinecolor": "#2a3f5f"
            },
            "baxis": {
             "endlinecolor": "#2a3f5f",
             "gridcolor": "white",
             "linecolor": "white",
             "minorgridcolor": "white",
             "startlinecolor": "#2a3f5f"
            },
            "type": "carpet"
           }
          ],
          "choropleth": [
           {
            "colorbar": {
             "outlinewidth": 0,
             "ticks": ""
            },
            "type": "choropleth"
           }
          ],
          "contour": [
           {
            "colorbar": {
             "outlinewidth": 0,
             "ticks": ""
            },
            "colorscale": [
             [
              0,
              "#0d0887"
             ],
             [
              0.1111111111111111,
              "#46039f"
             ],
             [
              0.2222222222222222,
              "#7201a8"
             ],
             [
              0.3333333333333333,
              "#9c179e"
             ],
             [
              0.4444444444444444,
              "#bd3786"
             ],
             [
              0.5555555555555556,
              "#d8576b"
             ],
             [
              0.6666666666666666,
              "#ed7953"
             ],
             [
              0.7777777777777778,
              "#fb9f3a"
             ],
             [
              0.8888888888888888,
              "#fdca26"
             ],
             [
              1,
              "#f0f921"
             ]
            ],
            "type": "contour"
           }
          ],
          "contourcarpet": [
           {
            "colorbar": {
             "outlinewidth": 0,
             "ticks": ""
            },
            "type": "contourcarpet"
           }
          ],
          "heatmap": [
           {
            "colorbar": {
             "outlinewidth": 0,
             "ticks": ""
            },
            "colorscale": [
             [
              0,
              "#0d0887"
             ],
             [
              0.1111111111111111,
              "#46039f"
             ],
             [
              0.2222222222222222,
              "#7201a8"
             ],
             [
              0.3333333333333333,
              "#9c179e"
             ],
             [
              0.4444444444444444,
              "#bd3786"
             ],
             [
              0.5555555555555556,
              "#d8576b"
             ],
             [
              0.6666666666666666,
              "#ed7953"
             ],
             [
              0.7777777777777778,
              "#fb9f3a"
             ],
             [
              0.8888888888888888,
              "#fdca26"
             ],
             [
              1,
              "#f0f921"
             ]
            ],
            "type": "heatmap"
           }
          ],
          "heatmapgl": [
           {
            "colorbar": {
             "outlinewidth": 0,
             "ticks": ""
            },
            "colorscale": [
             [
              0,
              "#0d0887"
             ],
             [
              0.1111111111111111,
              "#46039f"
             ],
             [
              0.2222222222222222,
              "#7201a8"
             ],
             [
              0.3333333333333333,
              "#9c179e"
             ],
             [
              0.4444444444444444,
              "#bd3786"
             ],
             [
              0.5555555555555556,
              "#d8576b"
             ],
             [
              0.6666666666666666,
              "#ed7953"
             ],
             [
              0.7777777777777778,
              "#fb9f3a"
             ],
             [
              0.8888888888888888,
              "#fdca26"
             ],
             [
              1,
              "#f0f921"
             ]
            ],
            "type": "heatmapgl"
           }
          ],
          "histogram": [
           {
            "marker": {
             "colorbar": {
              "outlinewidth": 0,
              "ticks": ""
             }
            },
            "type": "histogram"
           }
          ],
          "histogram2d": [
           {
            "colorbar": {
             "outlinewidth": 0,
             "ticks": ""
            },
            "colorscale": [
             [
              0,
              "#0d0887"
             ],
             [
              0.1111111111111111,
              "#46039f"
             ],
             [
              0.2222222222222222,
              "#7201a8"
             ],
             [
              0.3333333333333333,
              "#9c179e"
             ],
             [
              0.4444444444444444,
              "#bd3786"
             ],
             [
              0.5555555555555556,
              "#d8576b"
             ],
             [
              0.6666666666666666,
              "#ed7953"
             ],
             [
              0.7777777777777778,
              "#fb9f3a"
             ],
             [
              0.8888888888888888,
              "#fdca26"
             ],
             [
              1,
              "#f0f921"
             ]
            ],
            "type": "histogram2d"
           }
          ],
          "histogram2dcontour": [
           {
            "colorbar": {
             "outlinewidth": 0,
             "ticks": ""
            },
            "colorscale": [
             [
              0,
              "#0d0887"
             ],
             [
              0.1111111111111111,
              "#46039f"
             ],
             [
              0.2222222222222222,
              "#7201a8"
             ],
             [
              0.3333333333333333,
              "#9c179e"
             ],
             [
              0.4444444444444444,
              "#bd3786"
             ],
             [
              0.5555555555555556,
              "#d8576b"
             ],
             [
              0.6666666666666666,
              "#ed7953"
             ],
             [
              0.7777777777777778,
              "#fb9f3a"
             ],
             [
              0.8888888888888888,
              "#fdca26"
             ],
             [
              1,
              "#f0f921"
             ]
            ],
            "type": "histogram2dcontour"
           }
          ],
          "mesh3d": [
           {
            "colorbar": {
             "outlinewidth": 0,
             "ticks": ""
            },
            "type": "mesh3d"
           }
          ],
          "parcoords": [
           {
            "line": {
             "colorbar": {
              "outlinewidth": 0,
              "ticks": ""
             }
            },
            "type": "parcoords"
           }
          ],
          "pie": [
           {
            "automargin": true,
            "type": "pie"
           }
          ],
          "scatter": [
           {
            "marker": {
             "colorbar": {
              "outlinewidth": 0,
              "ticks": ""
             }
            },
            "type": "scatter"
           }
          ],
          "scatter3d": [
           {
            "line": {
             "colorbar": {
              "outlinewidth": 0,
              "ticks": ""
             }
            },
            "marker": {
             "colorbar": {
              "outlinewidth": 0,
              "ticks": ""
             }
            },
            "type": "scatter3d"
           }
          ],
          "scattercarpet": [
           {
            "marker": {
             "colorbar": {
              "outlinewidth": 0,
              "ticks": ""
             }
            },
            "type": "scattercarpet"
           }
          ],
          "scattergeo": [
           {
            "marker": {
             "colorbar": {
              "outlinewidth": 0,
              "ticks": ""
             }
            },
            "type": "scattergeo"
           }
          ],
          "scattergl": [
           {
            "marker": {
             "colorbar": {
              "outlinewidth": 0,
              "ticks": ""
             }
            },
            "type": "scattergl"
           }
          ],
          "scattermapbox": [
           {
            "marker": {
             "colorbar": {
              "outlinewidth": 0,
              "ticks": ""
             }
            },
            "type": "scattermapbox"
           }
          ],
          "scatterpolar": [
           {
            "marker": {
             "colorbar": {
              "outlinewidth": 0,
              "ticks": ""
             }
            },
            "type": "scatterpolar"
           }
          ],
          "scatterpolargl": [
           {
            "marker": {
             "colorbar": {
              "outlinewidth": 0,
              "ticks": ""
             }
            },
            "type": "scatterpolargl"
           }
          ],
          "scatterternary": [
           {
            "marker": {
             "colorbar": {
              "outlinewidth": 0,
              "ticks": ""
             }
            },
            "type": "scatterternary"
           }
          ],
          "surface": [
           {
            "colorbar": {
             "outlinewidth": 0,
             "ticks": ""
            },
            "colorscale": [
             [
              0,
              "#0d0887"
             ],
             [
              0.1111111111111111,
              "#46039f"
             ],
             [
              0.2222222222222222,
              "#7201a8"
             ],
             [
              0.3333333333333333,
              "#9c179e"
             ],
             [
              0.4444444444444444,
              "#bd3786"
             ],
             [
              0.5555555555555556,
              "#d8576b"
             ],
             [
              0.6666666666666666,
              "#ed7953"
             ],
             [
              0.7777777777777778,
              "#fb9f3a"
             ],
             [
              0.8888888888888888,
              "#fdca26"
             ],
             [
              1,
              "#f0f921"
             ]
            ],
            "type": "surface"
           }
          ],
          "table": [
           {
            "cells": {
             "fill": {
              "color": "#EBF0F8"
             },
             "line": {
              "color": "white"
             }
            },
            "header": {
             "fill": {
              "color": "#C8D4E3"
             },
             "line": {
              "color": "white"
             }
            },
            "type": "table"
           }
          ]
         },
         "layout": {
          "annotationdefaults": {
           "arrowcolor": "#2a3f5f",
           "arrowhead": 0,
           "arrowwidth": 1
          },
          "coloraxis": {
           "colorbar": {
            "outlinewidth": 0,
            "ticks": ""
           }
          },
          "colorscale": {
           "diverging": [
            [
             0,
             "#8e0152"
            ],
            [
             0.1,
             "#c51b7d"
            ],
            [
             0.2,
             "#de77ae"
            ],
            [
             0.3,
             "#f1b6da"
            ],
            [
             0.4,
             "#fde0ef"
            ],
            [
             0.5,
             "#f7f7f7"
            ],
            [
             0.6,
             "#e6f5d0"
            ],
            [
             0.7,
             "#b8e186"
            ],
            [
             0.8,
             "#7fbc41"
            ],
            [
             0.9,
             "#4d9221"
            ],
            [
             1,
             "#276419"
            ]
           ],
           "sequential": [
            [
             0,
             "#0d0887"
            ],
            [
             0.1111111111111111,
             "#46039f"
            ],
            [
             0.2222222222222222,
             "#7201a8"
            ],
            [
             0.3333333333333333,
             "#9c179e"
            ],
            [
             0.4444444444444444,
             "#bd3786"
            ],
            [
             0.5555555555555556,
             "#d8576b"
            ],
            [
             0.6666666666666666,
             "#ed7953"
            ],
            [
             0.7777777777777778,
             "#fb9f3a"
            ],
            [
             0.8888888888888888,
             "#fdca26"
            ],
            [
             1,
             "#f0f921"
            ]
           ],
           "sequentialminus": [
            [
             0,
             "#0d0887"
            ],
            [
             0.1111111111111111,
             "#46039f"
            ],
            [
             0.2222222222222222,
             "#7201a8"
            ],
            [
             0.3333333333333333,
             "#9c179e"
            ],
            [
             0.4444444444444444,
             "#bd3786"
            ],
            [
             0.5555555555555556,
             "#d8576b"
            ],
            [
             0.6666666666666666,
             "#ed7953"
            ],
            [
             0.7777777777777778,
             "#fb9f3a"
            ],
            [
             0.8888888888888888,
             "#fdca26"
            ],
            [
             1,
             "#f0f921"
            ]
           ]
          },
          "colorway": [
           "#636efa",
           "#EF553B",
           "#00cc96",
           "#ab63fa",
           "#FFA15A",
           "#19d3f3",
           "#FF6692",
           "#B6E880",
           "#FF97FF",
           "#FECB52"
          ],
          "font": {
           "color": "#2a3f5f"
          },
          "geo": {
           "bgcolor": "white",
           "lakecolor": "white",
           "landcolor": "#E5ECF6",
           "showlakes": true,
           "showland": true,
           "subunitcolor": "white"
          },
          "hoverlabel": {
           "align": "left"
          },
          "hovermode": "closest",
          "mapbox": {
           "style": "light"
          },
          "paper_bgcolor": "white",
          "plot_bgcolor": "#E5ECF6",
          "polar": {
           "angularaxis": {
            "gridcolor": "white",
            "linecolor": "white",
            "ticks": ""
           },
           "bgcolor": "#E5ECF6",
           "radialaxis": {
            "gridcolor": "white",
            "linecolor": "white",
            "ticks": ""
           }
          },
          "scene": {
           "xaxis": {
            "backgroundcolor": "#E5ECF6",
            "gridcolor": "white",
            "gridwidth": 2,
            "linecolor": "white",
            "showbackground": true,
            "ticks": "",
            "zerolinecolor": "white"
           },
           "yaxis": {
            "backgroundcolor": "#E5ECF6",
            "gridcolor": "white",
            "gridwidth": 2,
            "linecolor": "white",
            "showbackground": true,
            "ticks": "",
            "zerolinecolor": "white"
           },
           "zaxis": {
            "backgroundcolor": "#E5ECF6",
            "gridcolor": "white",
            "gridwidth": 2,
            "linecolor": "white",
            "showbackground": true,
            "ticks": "",
            "zerolinecolor": "white"
           }
          },
          "shapedefaults": {
           "line": {
            "color": "#2a3f5f"
           }
          },
          "ternary": {
           "aaxis": {
            "gridcolor": "white",
            "linecolor": "white",
            "ticks": ""
           },
           "baxis": {
            "gridcolor": "white",
            "linecolor": "white",
            "ticks": ""
           },
           "bgcolor": "#E5ECF6",
           "caxis": {
            "gridcolor": "white",
            "linecolor": "white",
            "ticks": ""
           }
          },
          "title": {
           "x": 0.05
          },
          "xaxis": {
           "automargin": true,
           "gridcolor": "white",
           "linecolor": "white",
           "ticks": "",
           "title": {
            "standoff": 15
           },
           "zerolinecolor": "white",
           "zerolinewidth": 2
          },
          "yaxis": {
           "automargin": true,
           "gridcolor": "white",
           "linecolor": "white",
           "ticks": "",
           "title": {
            "standoff": 15
           },
           "zerolinecolor": "white",
           "zerolinewidth": 2
          }
         }
        },
        "title": {
         "text": "A map showing location of weather stations."
        }
       }
      },
      "text/html": [
       "<div>\n",
       "        \n",
       "        \n",
       "            <div id=\"e9926643-f8cf-4d53-95d0-4973a54b97f5\" class=\"plotly-graph-div\" style=\"height:525px; width:100%;\"></div>\n",
       "            <script type=\"text/javascript\">\n",
       "                require([\"plotly\"], function(Plotly) {\n",
       "                    window.PLOTLYENV=window.PLOTLYENV || {};\n",
       "                    \n",
       "                if (document.getElementById(\"e9926643-f8cf-4d53-95d0-4973a54b97f5\")) {\n",
       "                    Plotly.newPlot(\n",
       "                        'e9926643-f8cf-4d53-95d0-4973a54b97f5',\n",
       "                        [{\"customdata\": [[\"AL\", 33013], [\"AL\", 33031], [\"AL\", 33023], [\"AL\", 33044], [\"AL\", 12001], [\"AT\", 11604], [\"AU\", 82502], [\"AU\", 82501], [\"AU\", 82506], [\"AU\", 82402], [\"AU\", 82403], [\"AU\", 81404], [\"AU\", 82404], [\"AU\", 82405], [\"AU\", 82503], [\"AZ\", 13201], [\"BA\", 12706], [\"BE\", 13601], [\"BN\", 32503], [\"BR\", 11501], [\"BZ\", 10505], [\"BZ\", 50301], [\"BZ\", 50302], [\"BZ\", 50304], [\"BZ\", 50303], [\"BZ\", 50403], [\"BZ\", 50401], [\"CS\", 10807], [\"CS\", 10806], [\"CT\", 60701], [\"CU\", 12701], [\"CU\", 12801], [\"DR\", 11615], [\"DY\", 31401], [\"EG\", 32301], [\"EG\", 33205], [\"EG\", 33303], [\"EQ\", 50801], [\"ER\", 32504], [\"ET\", 31302], [\"FJ\", 81702], [\"FR\", 34017], [\"FR\", 34002], [\"FR\", 34003], [\"FR\", 34012], [\"FR\", 34013], [\"FR\", 34022], [\"FR\", 34005], [\"GH\", 10001], [\"GL\", 16405], [\"GL\", 16407], [\"GL\", 16504], [\"GR\", 33206], [\"GU\", 11901], [\"GU\", 11902], [\"GY\", 10502], [\"HA\", 11701], [\"HI\", 22509], [\"HI\", 22504], [\"HI\", 21501], [\"HI\", 22507], [\"HI\", 22502], [\"HI\", 22508], [\"IL\", 16101], [\"IL\", 16201], [\"IL\", 16202], [\"IN\", 32701], [\"IN\", 32801], [\"IN\", 31701], [\"IN\", 32815], [\"IN\", 32907], [\"IN\", 32803], [\"IN\", 32805], [\"IN\", 32702], [\"IN\", 32904], [\"IN\", 32812], [\"IN\", 32906], [\"IQ\", 33405], [\"IQ\", 33305], [\"IR\", 33401], [\"IR\", 33501], [\"IR\", 33406], [\"IY\", 34123], [\"IY\", 34101], [\"IY\", 34109], [\"IY\", 33019], [\"IY\", 34150], [\"IY\", 33014], [\"IY\", 34139], [\"IY\", 34104], [\"IY\", 34105], [\"IY\", 33111], [\"IY\", 34111], [\"IY\", 34113], [\"IY\", 33117], [\"IY\", 34147], [\"JM\", 11704], [\"JP\", 44401], [\"JP\", 42204], [\"JP\", 43305], [\"JP\", 42206], [\"JP\", 43302], [\"JP\", 43307], [\"KO\", 43201], [\"KU\", 61501], [\"LC\", 11601], [\"LI\", 10002], [\"LI\", 10101], [\"LI\", 10102], [\"LY\", 33123], [\"MC\", 13002], [\"MC\", 13005], [\"MC\", 13007], [\"MC\", 13013], [\"MT\", 12101], [\"NG\", 80509], [\"NG\", 80412], [\"NG\", 80425], [\"NG\", 80411], [\"NH\", 81601], [\"NI\", 30001], [\"NI\", 31001], [\"NI\", 31101], [\"NK\", 11801], [\"NU\", 11606], [\"NZ\", 20501], [\"OM\", 32501], [\"OM\", 31501], [\"PF\", 61502], [\"PH\", 41207], [\"PH\", 41204], [\"PI\", 42401], [\"PI\", 40601], [\"PI\", 20602], [\"PK\", 32603], [\"PK\", 32602], [\"PK\", 32601], [\"PM\", 10701], [\"PM\", 10804], [\"PM\", 10718], [\"PM\", 10705], [\"PM\", 10704], [\"PM\", 10802], [\"PM\", 10703], [\"PM\", 10803], [\"PQ\", 15605], [\"PQ\", 15604], [\"PR\", 50802], [\"SG\", 11101], [\"SG\", 11103], [\"SO\", 80510], [\"SO\", 80504], [\"SP\", 34018], [\"TD\", 11610], [\"TI\", 12702], [\"TO\", 62701], [\"TS\", 33109], [\"TS\", 33121], [\"TS\", 33003], [\"TU\", 33307], [\"UK\", 15027]], \"geo\": \"geo\", \"hovertemplate\": \"<b>%{hovertext}</b><br><br>Latitude=%{lat}<br>Longitude=%{lon}<br>STATE/COUNTRY ID=%{customdata[0]}<br>WBAN=%{customdata[1]}<extra></extra>\", \"hovertext\": [\"AIN EL\", \"LA SENIA\", \"MAISON BLANCHE\", \"TELERGMA\", \"TINDOUF\", \"ST JOHNS/COOLIDGE FIELD\", \"AMBERLY\", \"ARCHER\", \"BRISBANE\", \"CHARLEVILLE\", \"CLONCURRY\", \"HORN ISLAND\", \"LONGREACH\", \"MACKAY\", \"ROCKHAMPTON\", \"LAJES\", \"GREAT EXUMA ISLAND\", \"BERMUDA\", \"BAHREIN ISLAND\", \"CHRISTS CHURCH\", \"CLEVELANDIA\", \"FERNANDO DE NORONHA\", \"FORTALEZA\", \"PARNAMIRIM\", \"RECIFE\", \"SAO LUIZ\", \"VAL DE CANS\", \"PARRITA\", \"SAN JOSE\", \"CANTON ISLAND\", \"CAMAGUEY\", \"SAN ANTONIO\", \"CIUDAD TRUJILLO\", \"SHEIKH OTHMAN\", \"LUXOR\", \"MERSA MATRUH\", \"PAYNE\", \"SALINAS\", \"SHARJAH\", \"ERITREA\", \"NANDI/AAF\", \"BASTIA/CORSICA\", \"BASTIA/CORSICA\", \"C DELORO/CORSICA\", \"MARSEILLE\", \"MIGLIACCIARO/CORSICA\", \"PARIS/ORLY\", \"PORTETTA/CORSICA\", \"ACCRA\", \"NARSARSSUAK\", \"SIMIUTAK\", \"SONDRESTROM\", \"ATHENS\", \"GUATEMALA CITY\", \"SAN JOSE\", \"GEORGETOWN\", \"PORT AU PRINCE\", \"BURNS FIELD/AAF\", \"HICKAM/AFB\", \"LYMAN FIELD/AAF\", \"MOKULEIA FIELD/AAF\", \"MOLOKAI/AP 524\", \"WHEELER/AFB 810.1\", \"CAMP DELTA\", \"KEFLAVIK\", \"REYKJAVIK\", \"AGRA\", \"BAMRAULI\", \"BANGALORE\", \"BARRACKPORE\", \"BINDUKURI\", \"CHAKULIA\", \"GAYA\", \"JODHPUR\", \"JORHAT\", \"KALAIKUNDA\", \"MOHANBERI\", \"HABBANIYA\", \"RUTBA\", \"ABADAN\", \"AMIRABAD POST\", \"CAMP PARKS\", \"AMENDOLA\", \"AMENDOLA/MU 9\", \"BARI\", \"CAGLIARI/SARDINIA\", \"CIAMPINO\", \"DECIMOMANNO\", \"FLORENCE/MU 1+4+10\", \"FOGGIA\", \"FOGGIA/MU 18\", \"FONTANA\", \"LECCE/MU 2\", \"NAPLES\", \"PALERMO/MU 10\", \"PISA\", \"KINGSTON\", \"CHITOSE HOKKAIDO\", \"KADENA/AB\", \"KANOYA\", \"OKINAWA/RYUKYU ISLANDS\", \"OSAKA\", \"TACHIKAWA\", \"SEOUL/ROK K-14\", \"AMURI/FIELD AAF\", \"ST LUCIA/ISLAND\", \"CAPE PALMAS\", \"FISHERMANS LAKE\", \"MARSHALL/ROBERTS FIELD\", \"WHEELUS\", \"CASABLANCA/CAZES FIELD\", \"MARRAKECH\", \"OUJDA\", \"TOUAHAR\", \"ATAR\", \"BOUGAINVILLE/AAF\", \"FINSCHHAFEN/AAF\", \"JACKSON\", \"LAE/AAF\", \"ESPIRITU SANTO/AAF\", \"APAPA\", \"KANO\", \"MAIDUGURI\", \"MERCEDES\", \"WILLEMSTAD\", \"CHRISTMAS ISLAND/AAF\", \"MASIRAH ISLAND\", \"SALALAH\", \"BORA BORA/AAF\", \"CLARK\", \"MANILA/AAF\", \"IWO JIMA/AB\", \"KWAJALEIN/AFB\", \"PALMYRA ISLAND/LINE ISLANDS\", \"BHOLARI\", \"JIWANI\", \"KARACHI\", \"BALBOA/ALBROOK\", \"DAVID\", \"FORT KOBBE\", \"HOWARD\", \"JAQUE\", \"POCRI\", \"REY ISLAND\", \"RIO HATO\", \"KUUJJAUQ/AIRPORT\", \"MINGAN\", \"TALARA\", \"DAKAR/EKNES FIELD\", \"DAKAR/MALLARD FIELD\", \"BANIKA/AAF\", \"MUNDA/AAF\", \"ISTRES\", \"WALLER/BWI\", \"SOUTH CAICOS ISLAND\", \"TONGATABU ISLAND\", \"EL AQUINA\", \"EL DJEM\", \"SISI AHMED\", \"ADANA\", \"WARRINGTON\"], \"lat\": [36.38333333, 35.61666667, 36.71666667, 36.11666667, 27.68333333, 17.11666667, -27.6, -27.58333333, -27.43333333, -26.41666667, -20.68333333, -10.6, -23.45, -21.16666667, -23.4, 38.76666667, 23.51666667, 32.36666667, 26.26666667, 13.06666667, 3.866666667, -3.833333333, -3.766666667, -5.9, -8.116666667, -2.583333333, -1.3833333330000002, 9.516666667, 9.9, -2.766666667, 21.4, 22.88333333, 18.48333333, 12.86666667, 25.7, 31.45, 30.13333333, -2.2, 25.35, 15.28333333, -17.75, 42.55, 42.7, 41.91666667, 43.43333333, 42.0, 48.73333333, 42.56666667, 5.6, 61.18333333, 60.68333333, 67.01666667, 37.96666667, 14.58333333, 13.91666667, 6.5, 18.55, 21.9, 21.33333333, 19.71666667, 21.58333333, 21.15, 21.48333333, 65.66666667, 63.96666667, 64.13333333, 27.16666667, 25.43333333, 12.95, 22.76666667, 26.71666667, 22.45, 24.75, 26.26666667, 26.71666667, 22.33333333, 27.48333333, 33.36666667, 32.93333333, 30.36666667, 35.71666667, 34.85, 41.55, 41.71666667, 41.13333333, 39.25, 41.8, 39.3, 43.76666667, 41.43333333, 41.45, 37.45, 40.23333333, 40.9, 38.11666667, 43.68333333, 17.9, 42.8, 26.35, 31.36666667, 26.2, 34.8, 35.7, 37.55, -18.83333333, 13.73333333, 4.366666667, 6.75, 6.233333332999999, 32.9, 33.58333333, 31.65, 34.75, 34.2, 20.46666667, -6.233333332999999, -6.6166666670000005, -9.45, -6.75, -15.5, 6.45, 12.05, 11.85, 12.13333333, 12.18333333, 1.983333333, 20.65, 17.05, -16.45, 15.18333333, 14.5, 24.78333333, 8.716666667, 5.883333333, 25.31666667, 25.06666667, 24.9, 8.966666667, 8.383333333, 8.916666667000001, 8.916666667000001, 7.5, 7.733333332999999, 8.233333333, 8.366666667, 58.1, 50.28333333, -4.533333333, 14.71666667, 14.75, -9.066666667, -8.333333332999999, 43.5, 10.61666667, 21.48333333, -21.25, 36.85, 35.33333333, 37.2, 36.98333333, 53.38333333], \"legendgroup\": \"\", \"lon\": [6.65, 0.583333333, 3.216666667, 6.416666667, -8.083333332999999, -61.73333333, 152.81666669999996, 153.0, 153.1333333, 146.2166667, 140.58333330000002, 142.16666669999995, 144.06666669999996, 149.3, 150.5333333, -27.03333333, -75.73333333, -64.66666667, 50.56666667, -59.58333333, -51.75, -32.48333333, -38.61666667, -35.3, -34.88333333, -44.23333333, -48.36666667, -84.45, -84.0, -171.75, -77.86666667, -82.63333333, -69.88333333, 44.86666667, 32.66666667, 27.25, 31.35, -81.08333333, 55.45, 38.9, 177.3666667, 9.433333333, 9.366666667, 8.75, 5.266666667, 9.45, 2.366666667, 9.333333332999999, -0.3, -45.36666667, -46.63333333, -50.7, 23.78333333, -90.55, -90.83333333, -58.21666667, -72.35, -159.56666669999996, -157.9, -155.06666669999996, -158.2166667, -157.0333333, -158.05, -18.03333333, -22.61666667, -21.91666667, 78.1, 81.83333333, 77.58333333, 88.36666667, 92.71666667, 86.71666667, 84.96666667, 73.13333333, 94.16666667, 87.23333333, 95.11666667, 43.65, 39.76666667, 48.25, 51.48333333, 48.6, 15.73333333, 15.46666667, 16.81666667, 9.116666667, 12.51666667, 9.25, 11.2, 15.61666667, 15.65, 15.01666667, 18.08333333, 14.18333333, 13.36666667, 10.45, -77.18333333, 141.55, 127.8166667, 130.9166667, 127.5666667, 135.3666667, 139.41666669999998, 126.7, -159.7833333, -60.85, -7.733333332999999, -11.26666667, -10.43333333, 13.21666667, -7.5, -8.15, -1.9, -4.25, -13.03333333, 155.1333333, 147.85, 147.2166667, 146.93333330000004, 167.2666667, 3.433333333, 8.5, 13.13333333, -86.23333333, -68.96666667, -157.41666669999995, 58.83333333, 54.06666667, -151.7333333, 120.5, 121.0666667, 141.2666667, 167.7833333, -162.05, 68.18333333, 61.8, 67.25, -79.5, -82.33333333, -79.63333333, -79.65, -78.01666667, -80.0, -78.08333333, -80.0, -68.03333333, -64.01666667, -81.01666667, -17.01666667, -17.05, 159.0166667, 157.0166667, 4.083333333, -61.01666667, -71.05, -175.0, 10.01666667, 10.06666667, 9.083333332999999, 35.01666667, -2.05], \"marker\": {\"color\": \"#636efa\"}, \"name\": \"\", \"showlegend\": false, \"type\": \"scattergeo\"}],\n",
       "                        {\"geo\": {\"center\": {}, \"domain\": {\"x\": [0.0, 1.0], \"y\": [0.0, 1.0]}}, \"legend\": {\"tracegroupgap\": 0}, \"template\": {\"data\": {\"bar\": [{\"error_x\": {\"color\": \"#2a3f5f\"}, \"error_y\": {\"color\": \"#2a3f5f\"}, \"marker\": {\"line\": {\"color\": \"#E5ECF6\", \"width\": 0.5}}, \"type\": \"bar\"}], \"barpolar\": [{\"marker\": {\"line\": {\"color\": \"#E5ECF6\", \"width\": 0.5}}, \"type\": \"barpolar\"}], \"carpet\": [{\"aaxis\": {\"endlinecolor\": \"#2a3f5f\", \"gridcolor\": \"white\", \"linecolor\": \"white\", \"minorgridcolor\": \"white\", \"startlinecolor\": \"#2a3f5f\"}, \"baxis\": {\"endlinecolor\": \"#2a3f5f\", \"gridcolor\": \"white\", \"linecolor\": \"white\", \"minorgridcolor\": \"white\", \"startlinecolor\": \"#2a3f5f\"}, \"type\": \"carpet\"}], \"choropleth\": [{\"colorbar\": {\"outlinewidth\": 0, \"ticks\": \"\"}, \"type\": \"choropleth\"}], \"contour\": [{\"colorbar\": {\"outlinewidth\": 0, \"ticks\": \"\"}, \"colorscale\": [[0.0, \"#0d0887\"], [0.1111111111111111, \"#46039f\"], [0.2222222222222222, \"#7201a8\"], [0.3333333333333333, \"#9c179e\"], [0.4444444444444444, \"#bd3786\"], [0.5555555555555556, \"#d8576b\"], [0.6666666666666666, \"#ed7953\"], [0.7777777777777778, \"#fb9f3a\"], [0.8888888888888888, \"#fdca26\"], [1.0, \"#f0f921\"]], \"type\": \"contour\"}], \"contourcarpet\": [{\"colorbar\": {\"outlinewidth\": 0, \"ticks\": \"\"}, \"type\": \"contourcarpet\"}], \"heatmap\": [{\"colorbar\": {\"outlinewidth\": 0, \"ticks\": \"\"}, \"colorscale\": [[0.0, \"#0d0887\"], [0.1111111111111111, \"#46039f\"], [0.2222222222222222, \"#7201a8\"], [0.3333333333333333, \"#9c179e\"], [0.4444444444444444, \"#bd3786\"], [0.5555555555555556, \"#d8576b\"], [0.6666666666666666, \"#ed7953\"], [0.7777777777777778, \"#fb9f3a\"], [0.8888888888888888, \"#fdca26\"], [1.0, \"#f0f921\"]], \"type\": \"heatmap\"}], \"heatmapgl\": [{\"colorbar\": {\"outlinewidth\": 0, \"ticks\": \"\"}, \"colorscale\": [[0.0, \"#0d0887\"], [0.1111111111111111, \"#46039f\"], [0.2222222222222222, \"#7201a8\"], [0.3333333333333333, \"#9c179e\"], [0.4444444444444444, \"#bd3786\"], [0.5555555555555556, \"#d8576b\"], [0.6666666666666666, \"#ed7953\"], [0.7777777777777778, \"#fb9f3a\"], [0.8888888888888888, \"#fdca26\"], [1.0, \"#f0f921\"]], \"type\": \"heatmapgl\"}], \"histogram\": [{\"marker\": {\"colorbar\": {\"outlinewidth\": 0, \"ticks\": \"\"}}, \"type\": \"histogram\"}], \"histogram2d\": [{\"colorbar\": {\"outlinewidth\": 0, \"ticks\": \"\"}, \"colorscale\": [[0.0, \"#0d0887\"], [0.1111111111111111, \"#46039f\"], [0.2222222222222222, \"#7201a8\"], [0.3333333333333333, \"#9c179e\"], [0.4444444444444444, \"#bd3786\"], [0.5555555555555556, \"#d8576b\"], [0.6666666666666666, \"#ed7953\"], [0.7777777777777778, \"#fb9f3a\"], [0.8888888888888888, \"#fdca26\"], [1.0, \"#f0f921\"]], \"type\": \"histogram2d\"}], \"histogram2dcontour\": [{\"colorbar\": {\"outlinewidth\": 0, \"ticks\": \"\"}, \"colorscale\": [[0.0, \"#0d0887\"], [0.1111111111111111, \"#46039f\"], [0.2222222222222222, \"#7201a8\"], [0.3333333333333333, \"#9c179e\"], [0.4444444444444444, \"#bd3786\"], [0.5555555555555556, \"#d8576b\"], [0.6666666666666666, \"#ed7953\"], [0.7777777777777778, \"#fb9f3a\"], [0.8888888888888888, \"#fdca26\"], [1.0, \"#f0f921\"]], \"type\": \"histogram2dcontour\"}], \"mesh3d\": [{\"colorbar\": {\"outlinewidth\": 0, \"ticks\": \"\"}, \"type\": \"mesh3d\"}], \"parcoords\": [{\"line\": {\"colorbar\": {\"outlinewidth\": 0, \"ticks\": \"\"}}, \"type\": \"parcoords\"}], \"pie\": [{\"automargin\": true, \"type\": \"pie\"}], \"scatter\": [{\"marker\": {\"colorbar\": {\"outlinewidth\": 0, \"ticks\": \"\"}}, \"type\": \"scatter\"}], \"scatter3d\": [{\"line\": {\"colorbar\": {\"outlinewidth\": 0, \"ticks\": \"\"}}, \"marker\": {\"colorbar\": {\"outlinewidth\": 0, \"ticks\": \"\"}}, \"type\": \"scatter3d\"}], \"scattercarpet\": [{\"marker\": {\"colorbar\": {\"outlinewidth\": 0, \"ticks\": \"\"}}, \"type\": \"scattercarpet\"}], \"scattergeo\": [{\"marker\": {\"colorbar\": {\"outlinewidth\": 0, \"ticks\": \"\"}}, \"type\": \"scattergeo\"}], \"scattergl\": [{\"marker\": {\"colorbar\": {\"outlinewidth\": 0, \"ticks\": \"\"}}, \"type\": \"scattergl\"}], \"scattermapbox\": [{\"marker\": {\"colorbar\": {\"outlinewidth\": 0, \"ticks\": \"\"}}, \"type\": \"scattermapbox\"}], \"scatterpolar\": [{\"marker\": {\"colorbar\": {\"outlinewidth\": 0, \"ticks\": \"\"}}, \"type\": \"scatterpolar\"}], \"scatterpolargl\": [{\"marker\": {\"colorbar\": {\"outlinewidth\": 0, \"ticks\": \"\"}}, \"type\": \"scatterpolargl\"}], \"scatterternary\": [{\"marker\": {\"colorbar\": {\"outlinewidth\": 0, \"ticks\": \"\"}}, \"type\": \"scatterternary\"}], \"surface\": [{\"colorbar\": {\"outlinewidth\": 0, \"ticks\": \"\"}, \"colorscale\": [[0.0, \"#0d0887\"], [0.1111111111111111, \"#46039f\"], [0.2222222222222222, \"#7201a8\"], [0.3333333333333333, \"#9c179e\"], [0.4444444444444444, \"#bd3786\"], [0.5555555555555556, \"#d8576b\"], [0.6666666666666666, \"#ed7953\"], [0.7777777777777778, \"#fb9f3a\"], [0.8888888888888888, \"#fdca26\"], [1.0, \"#f0f921\"]], \"type\": \"surface\"}], \"table\": [{\"cells\": {\"fill\": {\"color\": \"#EBF0F8\"}, \"line\": {\"color\": \"white\"}}, \"header\": {\"fill\": {\"color\": \"#C8D4E3\"}, \"line\": {\"color\": \"white\"}}, \"type\": \"table\"}]}, \"layout\": {\"annotationdefaults\": {\"arrowcolor\": \"#2a3f5f\", \"arrowhead\": 0, \"arrowwidth\": 1}, \"coloraxis\": {\"colorbar\": {\"outlinewidth\": 0, \"ticks\": \"\"}}, \"colorscale\": {\"diverging\": [[0, \"#8e0152\"], [0.1, \"#c51b7d\"], [0.2, \"#de77ae\"], [0.3, \"#f1b6da\"], [0.4, \"#fde0ef\"], [0.5, \"#f7f7f7\"], [0.6, \"#e6f5d0\"], [0.7, \"#b8e186\"], [0.8, \"#7fbc41\"], [0.9, \"#4d9221\"], [1, \"#276419\"]], \"sequential\": [[0.0, \"#0d0887\"], [0.1111111111111111, \"#46039f\"], [0.2222222222222222, \"#7201a8\"], [0.3333333333333333, \"#9c179e\"], [0.4444444444444444, \"#bd3786\"], [0.5555555555555556, \"#d8576b\"], [0.6666666666666666, \"#ed7953\"], [0.7777777777777778, \"#fb9f3a\"], [0.8888888888888888, \"#fdca26\"], [1.0, \"#f0f921\"]], \"sequentialminus\": [[0.0, \"#0d0887\"], [0.1111111111111111, \"#46039f\"], [0.2222222222222222, \"#7201a8\"], [0.3333333333333333, \"#9c179e\"], [0.4444444444444444, \"#bd3786\"], [0.5555555555555556, \"#d8576b\"], [0.6666666666666666, \"#ed7953\"], [0.7777777777777778, \"#fb9f3a\"], [0.8888888888888888, \"#fdca26\"], [1.0, \"#f0f921\"]]}, \"colorway\": [\"#636efa\", \"#EF553B\", \"#00cc96\", \"#ab63fa\", \"#FFA15A\", \"#19d3f3\", \"#FF6692\", \"#B6E880\", \"#FF97FF\", \"#FECB52\"], \"font\": {\"color\": \"#2a3f5f\"}, \"geo\": {\"bgcolor\": \"white\", \"lakecolor\": \"white\", \"landcolor\": \"#E5ECF6\", \"showlakes\": true, \"showland\": true, \"subunitcolor\": \"white\"}, \"hoverlabel\": {\"align\": \"left\"}, \"hovermode\": \"closest\", \"mapbox\": {\"style\": \"light\"}, \"paper_bgcolor\": \"white\", \"plot_bgcolor\": \"#E5ECF6\", \"polar\": {\"angularaxis\": {\"gridcolor\": \"white\", \"linecolor\": \"white\", \"ticks\": \"\"}, \"bgcolor\": \"#E5ECF6\", \"radialaxis\": {\"gridcolor\": \"white\", \"linecolor\": \"white\", \"ticks\": \"\"}}, \"scene\": {\"xaxis\": {\"backgroundcolor\": \"#E5ECF6\", \"gridcolor\": \"white\", \"gridwidth\": 2, \"linecolor\": \"white\", \"showbackground\": true, \"ticks\": \"\", \"zerolinecolor\": \"white\"}, \"yaxis\": {\"backgroundcolor\": \"#E5ECF6\", \"gridcolor\": \"white\", \"gridwidth\": 2, \"linecolor\": \"white\", \"showbackground\": true, \"ticks\": \"\", \"zerolinecolor\": \"white\"}, \"zaxis\": {\"backgroundcolor\": \"#E5ECF6\", \"gridcolor\": \"white\", \"gridwidth\": 2, \"linecolor\": \"white\", \"showbackground\": true, \"ticks\": \"\", \"zerolinecolor\": \"white\"}}, \"shapedefaults\": {\"line\": {\"color\": \"#2a3f5f\"}}, \"ternary\": {\"aaxis\": {\"gridcolor\": \"white\", \"linecolor\": \"white\", \"ticks\": \"\"}, \"baxis\": {\"gridcolor\": \"white\", \"linecolor\": \"white\", \"ticks\": \"\"}, \"bgcolor\": \"#E5ECF6\", \"caxis\": {\"gridcolor\": \"white\", \"linecolor\": \"white\", \"ticks\": \"\"}}, \"title\": {\"x\": 0.05}, \"xaxis\": {\"automargin\": true, \"gridcolor\": \"white\", \"linecolor\": \"white\", \"ticks\": \"\", \"title\": {\"standoff\": 15}, \"zerolinecolor\": \"white\", \"zerolinewidth\": 2}, \"yaxis\": {\"automargin\": true, \"gridcolor\": \"white\", \"linecolor\": \"white\", \"ticks\": \"\", \"title\": {\"standoff\": 15}, \"zerolinecolor\": \"white\", \"zerolinewidth\": 2}}}, \"title\": {\"text\": \"A map showing location of weather stations.\"}},\n",
       "                        {\"responsive\": true}\n",
       "                    ).then(function(){\n",
       "                            \n",
       "var gd = document.getElementById('e9926643-f8cf-4d53-95d0-4973a54b97f5');\n",
       "var x = new MutationObserver(function (mutations, observer) {{\n",
       "        var display = window.getComputedStyle(gd).display;\n",
       "        if (!display || display === 'none') {{\n",
       "            console.log([gd, 'removed!']);\n",
       "            Plotly.purge(gd);\n",
       "            observer.disconnect();\n",
       "        }}\n",
       "}});\n",
       "\n",
       "// Listen for the removal of the full notebook cells\n",
       "var notebookContainer = gd.closest('#notebook-container');\n",
       "if (notebookContainer) {{\n",
       "    x.observe(notebookContainer, {childList: true});\n",
       "}}\n",
       "\n",
       "// Listen for the clearing of the current output cell\n",
       "var outputEl = gd.closest('.output');\n",
       "if (outputEl) {{\n",
       "    x.observe(outputEl, {childList: true});\n",
       "}}\n",
       "\n",
       "                        })\n",
       "                };\n",
       "                });\n",
       "            </script>\n",
       "        </div>"
      ]
     },
     "metadata": {},
     "output_type": "display_data"
    }
   ],
   "source": [
    "px.scatter_geo(data_frame=df2, lat=df2.Latitude, lon=df2.Longitude, hover_name=\"NAME\",\n",
    "               hover_data=[\"STATE/COUNTRY ID\",\"WBAN\"], title=\"A map showing location of weather stations.\")"
   ]
  },
  {
   "cell_type": "code",
   "execution_count": null,
   "metadata": {},
   "outputs": [],
   "source": []
  }
 ],
 "metadata": {
  "kernelspec": {
   "display_name": "Python 3",
   "language": "python",
   "name": "python3"
  },
  "language_info": {
   "codemirror_mode": {
    "name": "ipython",
    "version": 3
   },
   "file_extension": ".py",
   "mimetype": "text/x-python",
   "name": "python",
   "nbconvert_exporter": "python",
   "pygments_lexer": "ipython3",
   "version": "3.8.3"
  }
 },
 "nbformat": 4,
 "nbformat_minor": 4
}
